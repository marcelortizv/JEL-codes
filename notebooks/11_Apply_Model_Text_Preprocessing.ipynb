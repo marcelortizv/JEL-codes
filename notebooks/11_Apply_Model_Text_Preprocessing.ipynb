{
 "cells": [
  {
   "cell_type": "markdown",
   "metadata": {
    "collapsed": true,
    "pycharm": {
     "name": "#%% md\n"
    }
   },
   "source": [
    "### Import Libraries\n"
   ]
  },
  {
   "cell_type": "code",
   "execution_count": 1,
   "outputs": [
    {
     "name": "stderr",
     "output_type": "stream",
     "text": [
      "[nltk_data] Downloading package stopwords to\n",
      "[nltk_data]     C:\\Users\\marce\\AppData\\Roaming\\nltk_data...\n",
      "[nltk_data]   Package stopwords is already up-to-date!\n",
      "[nltk_data] Downloading package wordnet to\n",
      "[nltk_data]     C:\\Users\\marce\\AppData\\Roaming\\nltk_data...\n",
      "[nltk_data]   Package wordnet is already up-to-date!\n"
     ]
    }
   ],
   "source": [
    "import pandas as pd\n",
    "import numpy as np\n",
    "import ast\n",
    "import nltk\n",
    "from nltk.corpus import stopwords\n",
    "nltk.download('stopwords')\n",
    "nltk.download('wordnet')\n",
    "from nltk.tokenize import word_tokenize\n",
    "from nltk.stem import WordNetLemmatizer\n",
    "import re\n",
    "import warnings\n",
    "warnings.filterwarnings(\"ignore\")"
   ],
   "metadata": {
    "collapsed": false,
    "pycharm": {
     "name": "#%%\n"
    }
   }
  },
  {
   "cell_type": "markdown",
   "source": [
    "### Functions"
   ],
   "metadata": {
    "collapsed": false,
    "pycharm": {
     "name": "#%% md\n"
    }
   }
  },
  {
   "cell_type": "code",
   "execution_count": 7,
   "outputs": [],
   "source": [
    "wnl = WordNetLemmatizer()\n",
    "def clean_text(text_series):\n",
    "    econ_stopwords = ['model', 'using', 'paper']\n",
    "    text_tokens = word_tokenize(text_series)\n",
    "    tokens_without_sw = [word for word in text_tokens if not word in stopwords.words()]\n",
    "    tokens_without_sw = [word for word in tokens_without_sw if not word in econ_stopwords]\n",
    "    tokens_without_sw_lemma = [wnl.lemmatize(word, pos=\"v\") for word in tokens_without_sw if not word in econ_stopwords]\n",
    "\n",
    "    # removing stopwords and econ stopwords\n",
    "    text_series = \" \".join(tokens_without_sw_lemma)\n",
    "    # removing double quotes from text\n",
    "    text_series = text_series.replace('\"', '')\n",
    "    # removing single quotes from text\n",
    "    text_series = text_series.replace(\"'\", '')\n",
    "    # removing comma from text\n",
    "    text_series = text_series.replace(',', '')\n",
    "    # removing dot from text\n",
    "    text_series = text_series.replace('.', '')\n",
    "    # removing double dot from text\n",
    "    text_series = text_series.replace(':', '')\n",
    "    # removing percentage from text\n",
    "    text_series = text_series.replace('%', '')\n",
    "    # remove numbers from text\n",
    "    text_series = re.sub(r'[0-9]+', '', text_series)\n",
    "\n",
    "    return text_series\n",
    "\n",
    "def split(word):\n",
    "    return [char for char in word]"
   ],
   "metadata": {
    "collapsed": false,
    "pycharm": {
     "name": "#%%\n"
    }
   }
  },
  {
   "cell_type": "code",
   "execution_count": 3,
   "outputs": [],
   "source": [
    "# Notebook parameters\n",
    "data_name = 'papers_wo_JELcode.csv'\n",
    "data_path = '../data/'\n",
    "output_data = 'test_data_cleaned'\n",
    "version = '_v01'"
   ],
   "metadata": {
    "collapsed": false,
    "pycharm": {
     "name": "#%%\n"
    }
   }
  },
  {
   "cell_type": "code",
   "execution_count": 11,
   "outputs": [
    {
     "name": "stdout",
     "output_type": "stream",
     "text": [
      "(1862, 70)\n"
     ]
    }
   ],
   "source": [
    "df = pd.read_csv(data_path + data_name)\n",
    "\n",
    "print(df.shape)"
   ],
   "metadata": {
    "collapsed": false,
    "pycharm": {
     "name": "#%%\n"
    }
   }
  },
  {
   "cell_type": "code",
   "execution_count": 12,
   "outputs": [
    {
     "name": "stdout",
     "output_type": "stream",
     "text": [
      "Index(['title_x', 'idpaper_2', 'journal', 'journal_num', 'year', 'month',\n",
      "       'volume', 'issue', 'idpaper', 'jelcodes', 'keywords', 'abstract',\n",
      "       'start_page', 'end_page', 'num_words', 'num_words_90_flag', 'idauthor',\n",
      "       'author', 'prop_women', 'num_authors', 'gender_group_type',\n",
      "       'sole_or_coauthors', 'num_pages', 'num_pages_dmean',\n",
      "       'flesch_kincaid_grade_level', 'log_flesch_kincaid_grade_level',\n",
      "       'flesch_kincaid_reading_ease', 'log_flesch_kincaid_reading_ease',\n",
      "       'dale_chall', 'log_dale_chall', 'coleman_liau_index',\n",
      "       'log_coleman_liau_index', 'automated_readability_index',\n",
      "       'log_automated_readability_index', 'american_economic_review',\n",
      "       'econometrica', 'journal_of_pol_economy',\n",
      "       'quarterly_journal_of_economics', 'review_of_economic_studies',\n",
      "       'coauthors', 'single_author', 'both_genders', 'only_females',\n",
      "       'only_males', 'num_sentences', 'num_syllables', 'observation',\n",
      "       'authors', 'jelcodes_letter', 'jelcodes_text', 'jel_dummy_A',\n",
      "       'jel_dummy_B', 'jel_dummy_C', 'jel_dummy_D', 'jel_dummy_E',\n",
      "       'jel_dummy_F', 'jel_dummy_G', 'jel_dummy_H', 'jel_dummy_I',\n",
      "       'jel_dummy_J', 'jel_dummy_K', 'jel_dummy_L', 'jel_dummy_M',\n",
      "       'jel_dummy_N', 'jel_dummy_O', 'jel_dummy_P', 'jel_dummy_Q',\n",
      "       'jel_dummy_R', 'jel_dummy_Y', 'jel_dummy_Z'],\n",
      "      dtype='object')\n"
     ]
    },
    {
     "data": {
      "text/plain": "                                                title_x         idpaper_2  \\\n1012  the cyclically of sales, regular and effective...  1201510539931029   \n1500      the econometrics of ultra-high-frequency data       22000681122   \n1501  a three-step method for choosing the number of...      220006812351   \n1502  latent separability: grouping goods without we...      220006815384   \n1503                          bargaining and reputation     2200068185117   \n\n                       journal  journal_num  year  month  volume  issue  \\\n1012  American Economic Review            1  2015  March     105      3   \n1500              Econometrica            2  2000    NaN      68      1   \n1501              Econometrica            2  2000    NaN      68      1   \n1502              Econometrica            2  2000    NaN      68      1   \n1503              Econometrica            2  2000    NaN      68      1   \n\n           idpaper  jelcodes  ... jel_dummy_K jel_dummy_L  jel_dummy_M  \\\n1012  1.200000e+11       NaN  ...           0           0            0   \n1500  2.200068e+08       NaN  ...           0           0            0   \n1501  2.200068e+09       NaN  ...           0           0            0   \n1502  2.200068e+09       NaN  ...           0           0            0   \n1503  2.200068e+09       NaN  ...           0           0            0   \n\n      jel_dummy_N  jel_dummy_O  jel_dummy_P jel_dummy_Q jel_dummy_R  \\\n1012            0            0            0           0           0   \n1500            0            0            0           0           0   \n1501            0            0            0           0           0   \n1502            0            0            0           0           0   \n1503            0            0            0           0           0   \n\n      jel_dummy_Y  jel_dummy_Z  \n1012            0            0  \n1500            0            0  \n1501            0            0  \n1502            0            0  \n1503            0            0  \n\n[5 rows x 70 columns]",
      "text/html": "<div>\n<style scoped>\n    .dataframe tbody tr th:only-of-type {\n        vertical-align: middle;\n    }\n\n    .dataframe tbody tr th {\n        vertical-align: top;\n    }\n\n    .dataframe thead th {\n        text-align: right;\n    }\n</style>\n<table border=\"1\" class=\"dataframe\">\n  <thead>\n    <tr style=\"text-align: right;\">\n      <th></th>\n      <th>title_x</th>\n      <th>idpaper_2</th>\n      <th>journal</th>\n      <th>journal_num</th>\n      <th>year</th>\n      <th>month</th>\n      <th>volume</th>\n      <th>issue</th>\n      <th>idpaper</th>\n      <th>jelcodes</th>\n      <th>...</th>\n      <th>jel_dummy_K</th>\n      <th>jel_dummy_L</th>\n      <th>jel_dummy_M</th>\n      <th>jel_dummy_N</th>\n      <th>jel_dummy_O</th>\n      <th>jel_dummy_P</th>\n      <th>jel_dummy_Q</th>\n      <th>jel_dummy_R</th>\n      <th>jel_dummy_Y</th>\n      <th>jel_dummy_Z</th>\n    </tr>\n  </thead>\n  <tbody>\n    <tr>\n      <th>1012</th>\n      <td>the cyclically of sales, regular and effective...</td>\n      <td>1201510539931029</td>\n      <td>American Economic Review</td>\n      <td>1</td>\n      <td>2015</td>\n      <td>March</td>\n      <td>105</td>\n      <td>3</td>\n      <td>1.200000e+11</td>\n      <td>NaN</td>\n      <td>...</td>\n      <td>0</td>\n      <td>0</td>\n      <td>0</td>\n      <td>0</td>\n      <td>0</td>\n      <td>0</td>\n      <td>0</td>\n      <td>0</td>\n      <td>0</td>\n      <td>0</td>\n    </tr>\n    <tr>\n      <th>1500</th>\n      <td>the econometrics of ultra-high-frequency data</td>\n      <td>22000681122</td>\n      <td>Econometrica</td>\n      <td>2</td>\n      <td>2000</td>\n      <td>NaN</td>\n      <td>68</td>\n      <td>1</td>\n      <td>2.200068e+08</td>\n      <td>NaN</td>\n      <td>...</td>\n      <td>0</td>\n      <td>0</td>\n      <td>0</td>\n      <td>0</td>\n      <td>0</td>\n      <td>0</td>\n      <td>0</td>\n      <td>0</td>\n      <td>0</td>\n      <td>0</td>\n    </tr>\n    <tr>\n      <th>1501</th>\n      <td>a three-step method for choosing the number of...</td>\n      <td>220006812351</td>\n      <td>Econometrica</td>\n      <td>2</td>\n      <td>2000</td>\n      <td>NaN</td>\n      <td>68</td>\n      <td>1</td>\n      <td>2.200068e+09</td>\n      <td>NaN</td>\n      <td>...</td>\n      <td>0</td>\n      <td>0</td>\n      <td>0</td>\n      <td>0</td>\n      <td>0</td>\n      <td>0</td>\n      <td>0</td>\n      <td>0</td>\n      <td>0</td>\n      <td>0</td>\n    </tr>\n    <tr>\n      <th>1502</th>\n      <td>latent separability: grouping goods without we...</td>\n      <td>220006815384</td>\n      <td>Econometrica</td>\n      <td>2</td>\n      <td>2000</td>\n      <td>NaN</td>\n      <td>68</td>\n      <td>1</td>\n      <td>2.200068e+09</td>\n      <td>NaN</td>\n      <td>...</td>\n      <td>0</td>\n      <td>0</td>\n      <td>0</td>\n      <td>0</td>\n      <td>0</td>\n      <td>0</td>\n      <td>0</td>\n      <td>0</td>\n      <td>0</td>\n      <td>0</td>\n    </tr>\n    <tr>\n      <th>1503</th>\n      <td>bargaining and reputation</td>\n      <td>2200068185117</td>\n      <td>Econometrica</td>\n      <td>2</td>\n      <td>2000</td>\n      <td>NaN</td>\n      <td>68</td>\n      <td>1</td>\n      <td>2.200068e+09</td>\n      <td>NaN</td>\n      <td>...</td>\n      <td>0</td>\n      <td>0</td>\n      <td>0</td>\n      <td>0</td>\n      <td>0</td>\n      <td>0</td>\n      <td>0</td>\n      <td>0</td>\n      <td>0</td>\n      <td>0</td>\n    </tr>\n  </tbody>\n</table>\n<p>5 rows × 70 columns</p>\n</div>"
     },
     "execution_count": 12,
     "metadata": {},
     "output_type": "execute_result"
    }
   ],
   "source": [
    "print(df.columns)\n",
    "#data.drop(columns=['Column1'], inplace=True)\n",
    "df.head()\n"
   ],
   "metadata": {
    "collapsed": false,
    "pycharm": {
     "name": "#%%\n"
    }
   }
  },
  {
   "cell_type": "markdown",
   "source": [
    "## Text Preprocessing\n"
   ],
   "metadata": {
    "collapsed": false
   }
  },
  {
   "cell_type": "code",
   "execution_count": 13,
   "outputs": [],
   "source": [
    "# joining text from title and abstract in column all_text\n",
    "df['all_text'] = df.title_x.astype(str).str.cat(df.abstract.astype(str), sep=' ')"
   ],
   "metadata": {
    "collapsed": false,
    "pycharm": {
     "name": "#%%\n"
    }
   }
  },
  {
   "cell_type": "code",
   "execution_count": 14,
   "outputs": [
    {
     "data": {
      "text/plain": "                                                title_x         idpaper_2  \\\n1012  the cyclically of sales, regular and effective...  1201510539931029   \n1500      the econometrics of ultra-high-frequency data       22000681122   \n1501  a three-step method for choosing the number of...      220006812351   \n1502  latent separability: grouping goods without we...      220006815384   \n1503                          bargaining and reputation     2200068185117   \n\n                       journal  journal_num  year  month  volume  issue  \\\n1012  American Economic Review            1  2015  March     105      3   \n1500              Econometrica            2  2000    NaN      68      1   \n1501              Econometrica            2  2000    NaN      68      1   \n1502              Econometrica            2  2000    NaN      68      1   \n1503              Econometrica            2  2000    NaN      68      1   \n\n           idpaper  jelcodes  ... jel_dummy_N jel_dummy_O  jel_dummy_P  \\\n1012  1.200000e+11       NaN  ...           0           0            0   \n1500  2.200068e+08       NaN  ...           0           0            0   \n1501  2.200068e+09       NaN  ...           0           0            0   \n1502  2.200068e+09       NaN  ...           0           0            0   \n1503  2.200068e+09       NaN  ...           0           0            0   \n\n      jel_dummy_Q  jel_dummy_R  jel_dummy_Y jel_dummy_Z  \\\n1012            0            0            0           0   \n1500            0            0            0           0   \n1501            0            0            0           0   \n1502            0            0            0           0   \n1503            0            0            0           0   \n\n                                               all_text  \\\n1012  the cyclically of sales, regular and effective...   \n1500  the econometrics of ultra-high-frequency data ...   \n1501  a three-step method for choosing the number of...   \n1502  latent separability: grouping goods without we...   \n1503  bargaining and reputation The paper develops a...   \n\n                                       cleaned_abstract  \\\n1012  study cyclical properties sales  regular price...   \n1500  ultra-high-frequency data define full record t...   \n1501  consider problem choose number bootstrap repet...   \n1502  develop new concept separability overlap group...   \n1503  develop reputation base theory bargain  idea i...   \n\n                                       cleaned_all_text  \n1012  cyclically sales  regular effective price  bus...  \n1500  econometrics ultra-high-frequency data ultra-h...  \n1501  three-step method choose number bootstrap repe...  \n1502  latent separability  group goods without weak ...  \n1503  bargain reputation develop reputation base the...  \n\n[5 rows x 73 columns]",
      "text/html": "<div>\n<style scoped>\n    .dataframe tbody tr th:only-of-type {\n        vertical-align: middle;\n    }\n\n    .dataframe tbody tr th {\n        vertical-align: top;\n    }\n\n    .dataframe thead th {\n        text-align: right;\n    }\n</style>\n<table border=\"1\" class=\"dataframe\">\n  <thead>\n    <tr style=\"text-align: right;\">\n      <th></th>\n      <th>title_x</th>\n      <th>idpaper_2</th>\n      <th>journal</th>\n      <th>journal_num</th>\n      <th>year</th>\n      <th>month</th>\n      <th>volume</th>\n      <th>issue</th>\n      <th>idpaper</th>\n      <th>jelcodes</th>\n      <th>...</th>\n      <th>jel_dummy_N</th>\n      <th>jel_dummy_O</th>\n      <th>jel_dummy_P</th>\n      <th>jel_dummy_Q</th>\n      <th>jel_dummy_R</th>\n      <th>jel_dummy_Y</th>\n      <th>jel_dummy_Z</th>\n      <th>all_text</th>\n      <th>cleaned_abstract</th>\n      <th>cleaned_all_text</th>\n    </tr>\n  </thead>\n  <tbody>\n    <tr>\n      <th>1012</th>\n      <td>the cyclically of sales, regular and effective...</td>\n      <td>1201510539931029</td>\n      <td>American Economic Review</td>\n      <td>1</td>\n      <td>2015</td>\n      <td>March</td>\n      <td>105</td>\n      <td>3</td>\n      <td>1.200000e+11</td>\n      <td>NaN</td>\n      <td>...</td>\n      <td>0</td>\n      <td>0</td>\n      <td>0</td>\n      <td>0</td>\n      <td>0</td>\n      <td>0</td>\n      <td>0</td>\n      <td>the cyclically of sales, regular and effective...</td>\n      <td>study cyclical properties sales  regular price...</td>\n      <td>cyclically sales  regular effective price  bus...</td>\n    </tr>\n    <tr>\n      <th>1500</th>\n      <td>the econometrics of ultra-high-frequency data</td>\n      <td>22000681122</td>\n      <td>Econometrica</td>\n      <td>2</td>\n      <td>2000</td>\n      <td>NaN</td>\n      <td>68</td>\n      <td>1</td>\n      <td>2.200068e+08</td>\n      <td>NaN</td>\n      <td>...</td>\n      <td>0</td>\n      <td>0</td>\n      <td>0</td>\n      <td>0</td>\n      <td>0</td>\n      <td>0</td>\n      <td>0</td>\n      <td>the econometrics of ultra-high-frequency data ...</td>\n      <td>ultra-high-frequency data define full record t...</td>\n      <td>econometrics ultra-high-frequency data ultra-h...</td>\n    </tr>\n    <tr>\n      <th>1501</th>\n      <td>a three-step method for choosing the number of...</td>\n      <td>220006812351</td>\n      <td>Econometrica</td>\n      <td>2</td>\n      <td>2000</td>\n      <td>NaN</td>\n      <td>68</td>\n      <td>1</td>\n      <td>2.200068e+09</td>\n      <td>NaN</td>\n      <td>...</td>\n      <td>0</td>\n      <td>0</td>\n      <td>0</td>\n      <td>0</td>\n      <td>0</td>\n      <td>0</td>\n      <td>0</td>\n      <td>a three-step method for choosing the number of...</td>\n      <td>consider problem choose number bootstrap repet...</td>\n      <td>three-step method choose number bootstrap repe...</td>\n    </tr>\n    <tr>\n      <th>1502</th>\n      <td>latent separability: grouping goods without we...</td>\n      <td>220006815384</td>\n      <td>Econometrica</td>\n      <td>2</td>\n      <td>2000</td>\n      <td>NaN</td>\n      <td>68</td>\n      <td>1</td>\n      <td>2.200068e+09</td>\n      <td>NaN</td>\n      <td>...</td>\n      <td>0</td>\n      <td>0</td>\n      <td>0</td>\n      <td>0</td>\n      <td>0</td>\n      <td>0</td>\n      <td>0</td>\n      <td>latent separability: grouping goods without we...</td>\n      <td>develop new concept separability overlap group...</td>\n      <td>latent separability  group goods without weak ...</td>\n    </tr>\n    <tr>\n      <th>1503</th>\n      <td>bargaining and reputation</td>\n      <td>2200068185117</td>\n      <td>Econometrica</td>\n      <td>2</td>\n      <td>2000</td>\n      <td>NaN</td>\n      <td>68</td>\n      <td>1</td>\n      <td>2.200068e+09</td>\n      <td>NaN</td>\n      <td>...</td>\n      <td>0</td>\n      <td>0</td>\n      <td>0</td>\n      <td>0</td>\n      <td>0</td>\n      <td>0</td>\n      <td>0</td>\n      <td>bargaining and reputation The paper develops a...</td>\n      <td>develop reputation base theory bargain  idea i...</td>\n      <td>bargain reputation develop reputation base the...</td>\n    </tr>\n  </tbody>\n</table>\n<p>5 rows × 73 columns</p>\n</div>"
     },
     "execution_count": 14,
     "metadata": {},
     "output_type": "execute_result"
    }
   ],
   "source": [
    "# text preprocessing\n",
    "df['cleaned_abstract'] = df['abstract'].apply(lambda x: str(x).lower())\n",
    "df['cleaned_all_text'] = df['all_text'].apply(lambda x: str(x).lower())\n",
    "\n",
    "df['cleaned_abstract'] = df['cleaned_abstract'].apply(lambda x: clean_text(x))\n",
    "df['cleaned_all_text'] = df['cleaned_all_text'].apply(lambda x: clean_text(x))\n",
    "df.head()\n"
   ],
   "metadata": {
    "collapsed": false,
    "pycharm": {
     "name": "#%%\n"
    }
   }
  },
  {
   "cell_type": "code",
   "execution_count": 15,
   "outputs": [],
   "source": [
    "#save data for training set\n",
    "df.to_csv(data_path + output_data + version + '.csv', index_label=False)"
   ],
   "metadata": {
    "collapsed": false,
    "pycharm": {
     "name": "#%%\n"
    }
   }
  }
 ],
 "metadata": {
  "kernelspec": {
   "display_name": "Python 3",
   "language": "python",
   "name": "python3"
  },
  "language_info": {
   "codemirror_mode": {
    "name": "ipython",
    "version": 2
   },
   "file_extension": ".py",
   "mimetype": "text/x-python",
   "name": "python",
   "nbconvert_exporter": "python",
   "pygments_lexer": "ipython2",
   "version": "2.7.6"
  }
 },
 "nbformat": 4,
 "nbformat_minor": 0
}