{
 "cells": [
  {
   "cell_type": "markdown",
   "source": [
    "### Import libraries"
   ],
   "metadata": {
    "collapsed": true,
    "pycharm": {
     "name": "#%% md\n"
    }
   }
  },
  {
   "cell_type": "code",
   "execution_count": 59,
   "source": [
    "import pandas as pd\r\n",
    "import numpy as np\r\n",
    "import ast\r\n",
    "\r\n",
    "import scipy.stats as stats\r\n",
    "from sklearn.utils.fixes import loguniform\r\n",
    "import scipy as sp\r\n",
    "\r\n",
    "from time import time\r\n",
    "from scipy.sparse import hstack\r\n",
    "from collections import Counter\r\n",
    "\r\n",
    "from sklearn.metrics import classification_report\r\n",
    "from sklearn.model_selection import train_test_split\r\n",
    "from sklearn.model_selection import GridSearchCV, RandomizedSearchCV\r\n",
    "from sklearn.feature_extraction.text import TfidfVectorizer, CountVectorizer\r\n",
    "from sklearn.preprocessing import MultiLabelBinarizer\r\n",
    "\r\n",
    "from sklearn.linear_model import SGDClassifier\r\n",
    "from sklearn.linear_model import LogisticRegression\r\n",
    "from sklearn.ensemble import RandomForestClassifier\r\n",
    "from sklearn.svm import LinearSVC\r\n",
    "from sklearn.naive_bayes import MultinomialNB\r\n",
    "#from xgboost import XGBClassifier\r\n",
    "from sklearn.preprocessing import RobustScaler, StandardScaler\r\n",
    "from sklearn.multiclass import OneVsRestClassifier\r\n",
    "from sklearn.multioutput import MultiOutputClassifier, ClassifierChain\r\n",
    "from skmultilearn.problem_transform import LabelPowerset\r\n",
    "from sklearn.neural_network import MLPClassifier\r\n",
    "import scipy.stats as stats\r\n",
    "from sklearn.utils.fixes import loguniform\r\n",
    "from sklearn.model_selection import GridSearchCV, RandomizedSearchCV\r\n",
    "from skmultilearn.cluster import LabelCooccurrenceGraphBuilder\r\n",
    "\r\n",
    "#from utility_functions import *"
   ],
   "outputs": [],
   "metadata": {
    "collapsed": false,
    "pycharm": {
     "name": "#%%\n"
    }
   }
  },
  {
   "cell_type": "code",
   "execution_count": 60,
   "source": [
    "import nltk\r\n",
    "from nltk.corpus import stopwords\r\n",
    "nltk.download('stopwords')\r\n",
    "nltk.download('wordnet')\r\n",
    "from nltk.tokenize import word_tokenize\r\n",
    "from nltk.stem import WordNetLemmatizer\r\n",
    "import re\r\n",
    "import warnings\r\n",
    "warnings.filterwarnings(\"ignore\")"
   ],
   "outputs": [
    {
     "output_type": "stream",
     "name": "stderr",
     "text": [
      "[nltk_data] Downloading package stopwords to\n",
      "[nltk_data]     C:\\Users\\mejia\\AppData\\Roaming\\nltk_data...\n",
      "[nltk_data]   Package stopwords is already up-to-date!\n",
      "[nltk_data] Downloading package wordnet to\n",
      "[nltk_data]     C:\\Users\\mejia\\AppData\\Roaming\\nltk_data...\n",
      "[nltk_data]   Package wordnet is already up-to-date!\n"
     ]
    }
   ],
   "metadata": {
    "collapsed": false,
    "pycharm": {
     "name": "#%%\n"
    }
   }
  },
  {
   "cell_type": "code",
   "execution_count": 61,
   "source": [
    "def Accuracy(y_true, y_pred):\r\n",
    "    \"\"\"\r\n",
    "    Accuracy based on Jaccard Similarity Score\r\n",
    "    :param y_true: ground truth\r\n",
    "    :param y_pred: prediction\r\n",
    "    :return: Jaccard Similarity Score\r\n",
    "    \"\"\"\r\n",
    "    jaccard = np.minimum(y_true, y_pred).sum(axis=1) / np.maximum(y_true, y_pred).sum(axis=1)\r\n",
    "    return jaccard.mean()\r\n",
    "\r\n",
    "\r\n",
    "def print_ml_score(y_test, y_pred, clf):\r\n",
    "    print('Classifier: ', clf.__class__.__name__)\r\n",
    "    print('Accuracy Score: {}'.format(Accuracy(y_test, y_pred)))\r\n",
    "    print(\"-----------------------------------\")\r\n",
    "\r\n",
    "\r\n",
    "def train_model(classifier, feature_vector_train, label_train, feature_vector_test, label_test):\r\n",
    "    # fit the training set on the classifier\r\n",
    "    clf = MultiOutputClassifier(classifier)\r\n",
    "    clf.fit(feature_vector_train, label_train)\r\n",
    "\r\n",
    "    # predict the labels on test set\r\n",
    "    predictions = clf.predict(feature_vector_test)\r\n",
    "    #print(pd.DataFrame(predictions, columns = multilabel.classes_))\r\n",
    "    return print_ml_score(label_test, predictions, classifier)\r\n",
    "\r\n",
    "\r\n",
    "def randomSearch(baseCLF, param_dist, X, y, iters=100, splits=3):\r\n",
    "\r\n",
    "      best = dict()\r\n",
    "      bestAcc = 0\r\n",
    "\r\n",
    "      for i in tqdm(range(iters)): \r\n",
    "            \r\n",
    "            params = dict()\r\n",
    "            for param in param_dist.keys():\r\n",
    "                  params[param] = random.choice(param_dist[param])\r\n",
    "\r\n",
    "            if 'solver' in params and params['solver'] == 'liblinear':\r\n",
    "                  params['penalty'] = 'l2'\r\n",
    "            if 'loss' in params and params['loss'] == 'hinge':\r\n",
    "                  params['penalty'] = 'l2'\r\n",
    "\r\n",
    "            clf = ClassifierChain(baseCLF(class_weight='balanced', **params))\r\n",
    "            \r\n",
    "            kf = KFold(n_splits=splits)\r\n",
    "            accKF = 0\r\n",
    "\r\n",
    "            for train_index, test_index in kf.split(xtrain_tfidf_ngram):\r\n",
    "                  X_train, X_test = X[train_index], X[test_index]\r\n",
    "                  y_train, y_test = y[train_index], y[test_index]\r\n",
    "\r\n",
    "                  clf.fit(X_train, y_train)\r\n",
    "                  accKF += Accuracy(y_test, clf.predict(X_test))\r\n",
    "            accKF /= splits\r\n",
    "            \r\n",
    "            if accKF > bestAcc:\r\n",
    "                  #print(accKF)\r\n",
    "                  bestAcc = accKF\r\n",
    "                  best = params\r\n",
    "      \r\n",
    "      return bestAcc, best\r\n",
    "      "
   ],
   "outputs": [],
   "metadata": {
    "collapsed": false,
    "pycharm": {
     "name": "#%%\n"
    }
   }
  },
  {
   "cell_type": "code",
   "execution_count": 62,
   "source": [
    "# Notebook parameters\r\n",
    "data_name = 'traning_data_cleaned_v02.csv'\r\n",
    "data_path = '../data/'"
   ],
   "outputs": [],
   "metadata": {
    "collapsed": false,
    "pycharm": {
     "name": "#%%\n"
    }
   }
  },
  {
   "cell_type": "code",
   "execution_count": 63,
   "source": [
    "# load data\r\n",
    "\r\n",
    "df = pd.read_csv(data_path + data_name)\r\n",
    "#df.drop(columns=['Unnamed: 0'], inplace=True)\r\n",
    "df['tags'] = df['tags'].apply(lambda x: ast.literal_eval(x))\r\n",
    "print(df.shape)\r\n",
    "df.head()"
   ],
   "outputs": [
    {
     "output_type": "stream",
     "name": "stdout",
     "text": [
      "(3126, 6)\n"
     ]
    },
    {
     "output_type": "execute_result",
     "data": {
      "text/plain": [
       "                                            abstract          tags  \\\n",
       "0  When a production process requires two extreme...  [O, D, G, E]   \n",
       "1  The Japanese banking crisis provides a natural...        [G, E]   \n",
       "2  We consider a market with red and green worker...           [J]   \n",
       "3  This paper presents a general-equilibrium mode...        [J, R]   \n",
       "4  This paper develops a theory of inequality and...  [P, E, I, D]   \n",
       "\n",
       "                                             title_x  \\\n",
       "0     optimal adoption of complementary technologies   \n",
       "1  collateral damage: effects of the japanese ban...   \n",
       "2  endogenous inequality in integrated labor mark...   \n",
       "3  labor-market integration, investment in risky ...   \n",
       "4  unequal societies: income distribution and the...   \n",
       "\n",
       "                                            all_text  \\\n",
       "0  optimal adoption of complementary technologies...   \n",
       "1  collateral damage: effects of the japanese ban...   \n",
       "2  endogenous inequality in integrated labor mark...   \n",
       "3  labor-market integration, investment in risky ...   \n",
       "4  unequal societies: income distribution and the...   \n",
       "\n",
       "                                    cleaned_abstract  \\\n",
       "0  production process require two extremely compl...   \n",
       "1  japanese bank crisis provide natural experimen...   \n",
       "2  consider market red green workers  label payof...   \n",
       "3  present general-equilibrium human capital inve...   \n",
       "4  develop theory inequality social contract aim ...   \n",
       "\n",
       "                                    cleaned_all_text  \n",
       "0  optimal adoption complementary technologies pr...  \n",
       "1  collateral damage  effect japanese bank crisis...  \n",
       "2  endogenous inequality integrate labor market t...  \n",
       "3  labor-market integration  investment risky hum...  \n",
       "4  unequal societies  income distribution social ...  "
      ],
      "text/html": [
       "<div>\n",
       "<style scoped>\n",
       "    .dataframe tbody tr th:only-of-type {\n",
       "        vertical-align: middle;\n",
       "    }\n",
       "\n",
       "    .dataframe tbody tr th {\n",
       "        vertical-align: top;\n",
       "    }\n",
       "\n",
       "    .dataframe thead th {\n",
       "        text-align: right;\n",
       "    }\n",
       "</style>\n",
       "<table border=\"1\" class=\"dataframe\">\n",
       "  <thead>\n",
       "    <tr style=\"text-align: right;\">\n",
       "      <th></th>\n",
       "      <th>abstract</th>\n",
       "      <th>tags</th>\n",
       "      <th>title_x</th>\n",
       "      <th>all_text</th>\n",
       "      <th>cleaned_abstract</th>\n",
       "      <th>cleaned_all_text</th>\n",
       "    </tr>\n",
       "  </thead>\n",
       "  <tbody>\n",
       "    <tr>\n",
       "      <th>0</th>\n",
       "      <td>When a production process requires two extreme...</td>\n",
       "      <td>[O, D, G, E]</td>\n",
       "      <td>optimal adoption of complementary technologies</td>\n",
       "      <td>optimal adoption of complementary technologies...</td>\n",
       "      <td>production process require two extremely compl...</td>\n",
       "      <td>optimal adoption complementary technologies pr...</td>\n",
       "    </tr>\n",
       "    <tr>\n",
       "      <th>1</th>\n",
       "      <td>The Japanese banking crisis provides a natural...</td>\n",
       "      <td>[G, E]</td>\n",
       "      <td>collateral damage: effects of the japanese ban...</td>\n",
       "      <td>collateral damage: effects of the japanese ban...</td>\n",
       "      <td>japanese bank crisis provide natural experimen...</td>\n",
       "      <td>collateral damage  effect japanese bank crisis...</td>\n",
       "    </tr>\n",
       "    <tr>\n",
       "      <th>2</th>\n",
       "      <td>We consider a market with red and green worker...</td>\n",
       "      <td>[J]</td>\n",
       "      <td>endogenous inequality in integrated labor mark...</td>\n",
       "      <td>endogenous inequality in integrated labor mark...</td>\n",
       "      <td>consider market red green workers  label payof...</td>\n",
       "      <td>endogenous inequality integrate labor market t...</td>\n",
       "    </tr>\n",
       "    <tr>\n",
       "      <th>3</th>\n",
       "      <td>This paper presents a general-equilibrium mode...</td>\n",
       "      <td>[J, R]</td>\n",
       "      <td>labor-market integration, investment in risky ...</td>\n",
       "      <td>labor-market integration, investment in risky ...</td>\n",
       "      <td>present general-equilibrium human capital inve...</td>\n",
       "      <td>labor-market integration  investment risky hum...</td>\n",
       "    </tr>\n",
       "    <tr>\n",
       "      <th>4</th>\n",
       "      <td>This paper develops a theory of inequality and...</td>\n",
       "      <td>[P, E, I, D]</td>\n",
       "      <td>unequal societies: income distribution and the...</td>\n",
       "      <td>unequal societies: income distribution and the...</td>\n",
       "      <td>develop theory inequality social contract aim ...</td>\n",
       "      <td>unequal societies  income distribution social ...</td>\n",
       "    </tr>\n",
       "  </tbody>\n",
       "</table>\n",
       "</div>"
      ]
     },
     "metadata": {},
     "execution_count": 63
    }
   ],
   "metadata": {
    "collapsed": false,
    "pycharm": {
     "name": "#%%\n"
    }
   }
  },
  {
   "cell_type": "code",
   "execution_count": null,
   "source": [
    "df.groupby(\"\")"
   ],
   "outputs": [],
   "metadata": {}
  },
  {
   "cell_type": "code",
   "execution_count": 10,
   "source": [
    "df['keep'] = df.tags.apply(lambda tags: 'Y' not in tags)\r\n",
    "df = df[df.keep == True]\r\n",
    "\r\n",
    "df.head()"
   ],
   "outputs": [
    {
     "output_type": "execute_result",
     "data": {
      "text/plain": [
       "                                            abstract          tags  \\\n",
       "0  When a production process requires two extreme...  [O, D, G, E]   \n",
       "1  The Japanese banking crisis provides a natural...        [G, E]   \n",
       "2  We consider a market with red and green worker...           [J]   \n",
       "3  This paper presents a general-equilibrium mode...        [J, R]   \n",
       "4  This paper develops a theory of inequality and...  [P, E, I, D]   \n",
       "\n",
       "                                             title_x  \\\n",
       "0     optimal adoption of complementary technologies   \n",
       "1  collateral damage: effects of the japanese ban...   \n",
       "2  endogenous inequality in integrated labor mark...   \n",
       "3  labor-market integration, investment in risky ...   \n",
       "4  unequal societies: income distribution and the...   \n",
       "\n",
       "                                            all_text  \\\n",
       "0  optimal adoption of complementary technologies...   \n",
       "1  collateral damage: effects of the japanese ban...   \n",
       "2  endogenous inequality in integrated labor mark...   \n",
       "3  labor-market integration, investment in risky ...   \n",
       "4  unequal societies: income distribution and the...   \n",
       "\n",
       "                                    cleaned_abstract  \\\n",
       "0  production process require two extremely compl...   \n",
       "1  japanese bank crisis provide natural experimen...   \n",
       "2  consider market red green workers  label payof...   \n",
       "3  present general-equilibrium human capital inve...   \n",
       "4  develop theory inequality social contract aim ...   \n",
       "\n",
       "                                    cleaned_all_text  keep  \n",
       "0  optimal adoption complementary technologies pr...  True  \n",
       "1  collateral damage  effect japanese bank crisis...  True  \n",
       "2  endogenous inequality integrate labor market t...  True  \n",
       "3  labor-market integration  investment risky hum...  True  \n",
       "4  unequal societies  income distribution social ...  True  "
      ],
      "text/html": [
       "<div>\n",
       "<style scoped>\n",
       "    .dataframe tbody tr th:only-of-type {\n",
       "        vertical-align: middle;\n",
       "    }\n",
       "\n",
       "    .dataframe tbody tr th {\n",
       "        vertical-align: top;\n",
       "    }\n",
       "\n",
       "    .dataframe thead th {\n",
       "        text-align: right;\n",
       "    }\n",
       "</style>\n",
       "<table border=\"1\" class=\"dataframe\">\n",
       "  <thead>\n",
       "    <tr style=\"text-align: right;\">\n",
       "      <th></th>\n",
       "      <th>abstract</th>\n",
       "      <th>tags</th>\n",
       "      <th>title_x</th>\n",
       "      <th>all_text</th>\n",
       "      <th>cleaned_abstract</th>\n",
       "      <th>cleaned_all_text</th>\n",
       "      <th>keep</th>\n",
       "    </tr>\n",
       "  </thead>\n",
       "  <tbody>\n",
       "    <tr>\n",
       "      <th>0</th>\n",
       "      <td>When a production process requires two extreme...</td>\n",
       "      <td>[O, D, G, E]</td>\n",
       "      <td>optimal adoption of complementary technologies</td>\n",
       "      <td>optimal adoption of complementary technologies...</td>\n",
       "      <td>production process require two extremely compl...</td>\n",
       "      <td>optimal adoption complementary technologies pr...</td>\n",
       "      <td>True</td>\n",
       "    </tr>\n",
       "    <tr>\n",
       "      <th>1</th>\n",
       "      <td>The Japanese banking crisis provides a natural...</td>\n",
       "      <td>[G, E]</td>\n",
       "      <td>collateral damage: effects of the japanese ban...</td>\n",
       "      <td>collateral damage: effects of the japanese ban...</td>\n",
       "      <td>japanese bank crisis provide natural experimen...</td>\n",
       "      <td>collateral damage  effect japanese bank crisis...</td>\n",
       "      <td>True</td>\n",
       "    </tr>\n",
       "    <tr>\n",
       "      <th>2</th>\n",
       "      <td>We consider a market with red and green worker...</td>\n",
       "      <td>[J]</td>\n",
       "      <td>endogenous inequality in integrated labor mark...</td>\n",
       "      <td>endogenous inequality in integrated labor mark...</td>\n",
       "      <td>consider market red green workers  label payof...</td>\n",
       "      <td>endogenous inequality integrate labor market t...</td>\n",
       "      <td>True</td>\n",
       "    </tr>\n",
       "    <tr>\n",
       "      <th>3</th>\n",
       "      <td>This paper presents a general-equilibrium mode...</td>\n",
       "      <td>[J, R]</td>\n",
       "      <td>labor-market integration, investment in risky ...</td>\n",
       "      <td>labor-market integration, investment in risky ...</td>\n",
       "      <td>present general-equilibrium human capital inve...</td>\n",
       "      <td>labor-market integration  investment risky hum...</td>\n",
       "      <td>True</td>\n",
       "    </tr>\n",
       "    <tr>\n",
       "      <th>4</th>\n",
       "      <td>This paper develops a theory of inequality and...</td>\n",
       "      <td>[P, E, I, D]</td>\n",
       "      <td>unequal societies: income distribution and the...</td>\n",
       "      <td>unequal societies: income distribution and the...</td>\n",
       "      <td>develop theory inequality social contract aim ...</td>\n",
       "      <td>unequal societies  income distribution social ...</td>\n",
       "      <td>True</td>\n",
       "    </tr>\n",
       "  </tbody>\n",
       "</table>\n",
       "</div>"
      ]
     },
     "metadata": {},
     "execution_count": 10
    }
   ],
   "metadata": {}
  },
  {
   "cell_type": "markdown",
   "source": [
    "## Machine Learning: Abstract"
   ],
   "metadata": {
    "collapsed": false,
    "pycharm": {
     "name": "#%% md\n"
    }
   }
  },
  {
   "cell_type": "markdown",
   "source": [
    "### Feature Engineering\n",
    "In this step, raw text data will be transformed into feature vectors using different\n",
    "text representation."
   ],
   "metadata": {
    "collapsed": false,
    "pycharm": {
     "name": "#%% md\n"
    }
   }
  },
  {
   "cell_type": "code",
   "execution_count": 11,
   "source": [
    "# Convert outcome variable to one-hot encoding type\r\n",
    "multilabel = MultiLabelBinarizer()\r\n",
    "y = multilabel.fit_transform(df['tags'])\r\n",
    "pd.DataFrame(y, columns = multilabel.classes_)"
   ],
   "outputs": [
    {
     "output_type": "execute_result",
     "data": {
      "text/plain": [
       "      A  B  C  D  E  F  G  H  I  J  K  L  M  N  O  P  Q  R  Z\n",
       "0     0  0  0  1  1  0  1  0  0  0  0  0  0  0  1  0  0  0  0\n",
       "1     0  0  0  0  1  0  1  0  0  0  0  0  0  0  0  0  0  0  0\n",
       "2     0  0  0  0  0  0  0  0  0  1  0  0  0  0  0  0  0  0  0\n",
       "3     0  0  0  0  0  0  0  0  0  1  0  0  0  0  0  0  0  1  0\n",
       "4     0  0  0  1  1  0  0  0  1  0  0  0  0  0  0  1  0  0  0\n",
       "...  .. .. .. .. .. .. .. .. .. .. .. .. .. .. .. .. .. .. ..\n",
       "3120  0  0  1  1  0  0  0  0  0  0  0  0  0  0  0  0  0  0  0\n",
       "3121  0  0  0  0  1  0  1  0  0  1  0  0  0  0  0  0  0  0  0\n",
       "3122  0  0  1  1  1  0  0  0  0  0  0  0  0  0  0  0  0  0  0\n",
       "3123  0  0  0  0  0  1  0  0  0  0  0  1  0  0  0  0  0  0  0\n",
       "3124  0  0  0  0  0  0  0  0  0  0  0  1  0  0  0  0  1  0  0\n",
       "\n",
       "[3125 rows x 19 columns]"
      ],
      "text/html": [
       "<div>\n",
       "<style scoped>\n",
       "    .dataframe tbody tr th:only-of-type {\n",
       "        vertical-align: middle;\n",
       "    }\n",
       "\n",
       "    .dataframe tbody tr th {\n",
       "        vertical-align: top;\n",
       "    }\n",
       "\n",
       "    .dataframe thead th {\n",
       "        text-align: right;\n",
       "    }\n",
       "</style>\n",
       "<table border=\"1\" class=\"dataframe\">\n",
       "  <thead>\n",
       "    <tr style=\"text-align: right;\">\n",
       "      <th></th>\n",
       "      <th>A</th>\n",
       "      <th>B</th>\n",
       "      <th>C</th>\n",
       "      <th>D</th>\n",
       "      <th>E</th>\n",
       "      <th>F</th>\n",
       "      <th>G</th>\n",
       "      <th>H</th>\n",
       "      <th>I</th>\n",
       "      <th>J</th>\n",
       "      <th>K</th>\n",
       "      <th>L</th>\n",
       "      <th>M</th>\n",
       "      <th>N</th>\n",
       "      <th>O</th>\n",
       "      <th>P</th>\n",
       "      <th>Q</th>\n",
       "      <th>R</th>\n",
       "      <th>Z</th>\n",
       "    </tr>\n",
       "  </thead>\n",
       "  <tbody>\n",
       "    <tr>\n",
       "      <th>0</th>\n",
       "      <td>0</td>\n",
       "      <td>0</td>\n",
       "      <td>0</td>\n",
       "      <td>1</td>\n",
       "      <td>1</td>\n",
       "      <td>0</td>\n",
       "      <td>1</td>\n",
       "      <td>0</td>\n",
       "      <td>0</td>\n",
       "      <td>0</td>\n",
       "      <td>0</td>\n",
       "      <td>0</td>\n",
       "      <td>0</td>\n",
       "      <td>0</td>\n",
       "      <td>1</td>\n",
       "      <td>0</td>\n",
       "      <td>0</td>\n",
       "      <td>0</td>\n",
       "      <td>0</td>\n",
       "    </tr>\n",
       "    <tr>\n",
       "      <th>1</th>\n",
       "      <td>0</td>\n",
       "      <td>0</td>\n",
       "      <td>0</td>\n",
       "      <td>0</td>\n",
       "      <td>1</td>\n",
       "      <td>0</td>\n",
       "      <td>1</td>\n",
       "      <td>0</td>\n",
       "      <td>0</td>\n",
       "      <td>0</td>\n",
       "      <td>0</td>\n",
       "      <td>0</td>\n",
       "      <td>0</td>\n",
       "      <td>0</td>\n",
       "      <td>0</td>\n",
       "      <td>0</td>\n",
       "      <td>0</td>\n",
       "      <td>0</td>\n",
       "      <td>0</td>\n",
       "    </tr>\n",
       "    <tr>\n",
       "      <th>2</th>\n",
       "      <td>0</td>\n",
       "      <td>0</td>\n",
       "      <td>0</td>\n",
       "      <td>0</td>\n",
       "      <td>0</td>\n",
       "      <td>0</td>\n",
       "      <td>0</td>\n",
       "      <td>0</td>\n",
       "      <td>0</td>\n",
       "      <td>1</td>\n",
       "      <td>0</td>\n",
       "      <td>0</td>\n",
       "      <td>0</td>\n",
       "      <td>0</td>\n",
       "      <td>0</td>\n",
       "      <td>0</td>\n",
       "      <td>0</td>\n",
       "      <td>0</td>\n",
       "      <td>0</td>\n",
       "    </tr>\n",
       "    <tr>\n",
       "      <th>3</th>\n",
       "      <td>0</td>\n",
       "      <td>0</td>\n",
       "      <td>0</td>\n",
       "      <td>0</td>\n",
       "      <td>0</td>\n",
       "      <td>0</td>\n",
       "      <td>0</td>\n",
       "      <td>0</td>\n",
       "      <td>0</td>\n",
       "      <td>1</td>\n",
       "      <td>0</td>\n",
       "      <td>0</td>\n",
       "      <td>0</td>\n",
       "      <td>0</td>\n",
       "      <td>0</td>\n",
       "      <td>0</td>\n",
       "      <td>0</td>\n",
       "      <td>1</td>\n",
       "      <td>0</td>\n",
       "    </tr>\n",
       "    <tr>\n",
       "      <th>4</th>\n",
       "      <td>0</td>\n",
       "      <td>0</td>\n",
       "      <td>0</td>\n",
       "      <td>1</td>\n",
       "      <td>1</td>\n",
       "      <td>0</td>\n",
       "      <td>0</td>\n",
       "      <td>0</td>\n",
       "      <td>1</td>\n",
       "      <td>0</td>\n",
       "      <td>0</td>\n",
       "      <td>0</td>\n",
       "      <td>0</td>\n",
       "      <td>0</td>\n",
       "      <td>0</td>\n",
       "      <td>1</td>\n",
       "      <td>0</td>\n",
       "      <td>0</td>\n",
       "      <td>0</td>\n",
       "    </tr>\n",
       "    <tr>\n",
       "      <th>...</th>\n",
       "      <td>...</td>\n",
       "      <td>...</td>\n",
       "      <td>...</td>\n",
       "      <td>...</td>\n",
       "      <td>...</td>\n",
       "      <td>...</td>\n",
       "      <td>...</td>\n",
       "      <td>...</td>\n",
       "      <td>...</td>\n",
       "      <td>...</td>\n",
       "      <td>...</td>\n",
       "      <td>...</td>\n",
       "      <td>...</td>\n",
       "      <td>...</td>\n",
       "      <td>...</td>\n",
       "      <td>...</td>\n",
       "      <td>...</td>\n",
       "      <td>...</td>\n",
       "      <td>...</td>\n",
       "    </tr>\n",
       "    <tr>\n",
       "      <th>3120</th>\n",
       "      <td>0</td>\n",
       "      <td>0</td>\n",
       "      <td>1</td>\n",
       "      <td>1</td>\n",
       "      <td>0</td>\n",
       "      <td>0</td>\n",
       "      <td>0</td>\n",
       "      <td>0</td>\n",
       "      <td>0</td>\n",
       "      <td>0</td>\n",
       "      <td>0</td>\n",
       "      <td>0</td>\n",
       "      <td>0</td>\n",
       "      <td>0</td>\n",
       "      <td>0</td>\n",
       "      <td>0</td>\n",
       "      <td>0</td>\n",
       "      <td>0</td>\n",
       "      <td>0</td>\n",
       "    </tr>\n",
       "    <tr>\n",
       "      <th>3121</th>\n",
       "      <td>0</td>\n",
       "      <td>0</td>\n",
       "      <td>0</td>\n",
       "      <td>0</td>\n",
       "      <td>1</td>\n",
       "      <td>0</td>\n",
       "      <td>1</td>\n",
       "      <td>0</td>\n",
       "      <td>0</td>\n",
       "      <td>1</td>\n",
       "      <td>0</td>\n",
       "      <td>0</td>\n",
       "      <td>0</td>\n",
       "      <td>0</td>\n",
       "      <td>0</td>\n",
       "      <td>0</td>\n",
       "      <td>0</td>\n",
       "      <td>0</td>\n",
       "      <td>0</td>\n",
       "    </tr>\n",
       "    <tr>\n",
       "      <th>3122</th>\n",
       "      <td>0</td>\n",
       "      <td>0</td>\n",
       "      <td>1</td>\n",
       "      <td>1</td>\n",
       "      <td>1</td>\n",
       "      <td>0</td>\n",
       "      <td>0</td>\n",
       "      <td>0</td>\n",
       "      <td>0</td>\n",
       "      <td>0</td>\n",
       "      <td>0</td>\n",
       "      <td>0</td>\n",
       "      <td>0</td>\n",
       "      <td>0</td>\n",
       "      <td>0</td>\n",
       "      <td>0</td>\n",
       "      <td>0</td>\n",
       "      <td>0</td>\n",
       "      <td>0</td>\n",
       "    </tr>\n",
       "    <tr>\n",
       "      <th>3123</th>\n",
       "      <td>0</td>\n",
       "      <td>0</td>\n",
       "      <td>0</td>\n",
       "      <td>0</td>\n",
       "      <td>0</td>\n",
       "      <td>1</td>\n",
       "      <td>0</td>\n",
       "      <td>0</td>\n",
       "      <td>0</td>\n",
       "      <td>0</td>\n",
       "      <td>0</td>\n",
       "      <td>1</td>\n",
       "      <td>0</td>\n",
       "      <td>0</td>\n",
       "      <td>0</td>\n",
       "      <td>0</td>\n",
       "      <td>0</td>\n",
       "      <td>0</td>\n",
       "      <td>0</td>\n",
       "    </tr>\n",
       "    <tr>\n",
       "      <th>3124</th>\n",
       "      <td>0</td>\n",
       "      <td>0</td>\n",
       "      <td>0</td>\n",
       "      <td>0</td>\n",
       "      <td>0</td>\n",
       "      <td>0</td>\n",
       "      <td>0</td>\n",
       "      <td>0</td>\n",
       "      <td>0</td>\n",
       "      <td>0</td>\n",
       "      <td>0</td>\n",
       "      <td>1</td>\n",
       "      <td>0</td>\n",
       "      <td>0</td>\n",
       "      <td>0</td>\n",
       "      <td>0</td>\n",
       "      <td>1</td>\n",
       "      <td>0</td>\n",
       "      <td>0</td>\n",
       "    </tr>\n",
       "  </tbody>\n",
       "</table>\n",
       "<p>3125 rows × 19 columns</p>\n",
       "</div>"
      ]
     },
     "metadata": {},
     "execution_count": 11
    }
   ],
   "metadata": {}
  },
  {
   "cell_type": "code",
   "execution_count": 12,
   "source": [
    "tfidf_vect_ngram = TfidfVectorizer(analyzer='word', token_pattern=r'\\w{1,}',\r\n",
    "                                   ngram_range=(1,3), max_features=3000)\r\n",
    "\r\n",
    "X_tfidf_ngram = tfidf_vect_ngram.fit_transform(df['cleaned_all_text'])\r\n",
    "\r\n",
    "print('X with TfIdf Ngram Vec Shape: ', X_tfidf_ngram.shape)"
   ],
   "outputs": [
    {
     "output_type": "stream",
     "name": "stdout",
     "text": [
      "X with TfIdf Ngram Vec Shape:  (3125, 3000)\n"
     ]
    }
   ],
   "metadata": {
    "collapsed": false,
    "pycharm": {
     "name": "#%%\n"
    }
   }
  },
  {
   "cell_type": "code",
   "execution_count": 13,
   "source": [
    "xtrain_tfidf_ngram, xtest_tfidf_ngram, ytrain_tfidf_ngram, ytest_tfidf_ngram = train_test_split(X_tfidf_ngram, y,\r\n",
    "                                                                        test_size=0.1,\r\n",
    "                                                                        random_state=123)\r\n"
   ],
   "outputs": [],
   "metadata": {
    "collapsed": false,
    "pycharm": {
     "name": "#%%\n"
    }
   }
  },
  {
   "cell_type": "markdown",
   "source": [
    "### Building Models\n",
    "\n",
    "In this section we test several machine learning models in order to get the best one."
   ],
   "metadata": {
    "collapsed": false,
    "pycharm": {
     "name": "#%% md\n"
    }
   }
  },
  {
   "cell_type": "code",
   "execution_count": 24,
   "source": [
    "import random \r\n",
    "from sklearn.model_selection import KFold\r\n",
    "from tqdm import tqdm\r\n",
    "# specify parameters and distributions to sample from\r\n",
    "\r\n",
    "param_dist = {'C': [0.001, 0.01, 0.1, 0.3, 0.5, 1],\r\n",
    "              'loss': ['hinge', 'squared_hinge'],\r\n",
    "              'multi_class': ['ovr', 'crammer_singer'],\r\n",
    "            }\r\n",
    "\r\n",
    "iters=100\r\n",
    "splits = 3\r\n",
    "\r\n",
    "best, params = randomSearch(LinearSVC, param_dist, xtrain_tfidf_ngram, ytrain_tfidf_ngram)"
   ],
   "outputs": [
    {
     "output_type": "stream",
     "name": "stderr",
     "text": [
      "100%|██████████| 100/100 [02:20<00:00,  1.41s/it]\n"
     ]
    }
   ],
   "metadata": {}
  },
  {
   "cell_type": "code",
   "execution_count": 25,
   "source": [
    "clf = ClassifierChain(LinearSVC(class_weight='balanced', **params)).fit(xtrain_tfidf_ngram, ytrain_tfidf_ngram)\r\n",
    "preds = clf.predict(xtest_tfidf_ngram)\r\n",
    "\r\n",
    "print_ml_score(ytest_tfidf_ngram, preds, clf)\r\n",
    "print(params)"
   ],
   "outputs": [
    {
     "output_type": "stream",
     "name": "stdout",
     "text": [
      "Classifier:  ClassifierChain\n",
      "Accuracy Score: 0.5404609767229576\n",
      "-----------------------------------\n",
      "{'C': 0.5, 'loss': 'hinge', 'multi_class': 'ovr', 'penalty': 'l2'}\n"
     ]
    }
   ],
   "metadata": {}
  },
  {
   "cell_type": "code",
   "execution_count": 26,
   "source": [
    "param_dist = {'C': [0.001, 0.01, 0.1, 0.3, 0.5, 1],\r\n",
    "              'penalty' : ['l2', 'none'],\r\n",
    "              'solver' : ['newton-cg', 'lbfgs', 'liblinear', 'sag', 'saga'],\r\n",
    "              'l1_ratio': [0.001, 0.01, 0.1, 0.3, 0.5, 1],\r\n",
    "            }\r\n",
    "\r\n",
    "iters=100\r\n",
    "splits = 3\r\n",
    "\r\n",
    "best, params = randomSearch(LogisticRegression, param_dist, xtrain_tfidf_ngram, ytrain_tfidf_ngram)"
   ],
   "outputs": [
    {
     "output_type": "stream",
     "name": "stderr",
     "text": [
      "100%|██████████| 100/100 [06:12<00:00,  3.73s/it]\n"
     ]
    }
   ],
   "metadata": {
    "collapsed": false,
    "pycharm": {
     "name": "#%%\n"
    }
   }
  },
  {
   "cell_type": "code",
   "execution_count": 27,
   "source": [
    "clf = ClassifierChain(LogisticRegression(class_weight='balanced', **params)).fit(xtrain_tfidf_ngram, ytrain_tfidf_ngram)\r\n",
    "preds = clf.predict(xtest_tfidf_ngram)\r\n",
    "\r\n",
    "print_ml_score(ytest_tfidf_ngram, preds, clf)\r\n",
    "print(params)"
   ],
   "outputs": [
    {
     "output_type": "stream",
     "name": "stdout",
     "text": [
      "Classifier:  ClassifierChain\n",
      "Accuracy Score: 0.5350930574572748\n",
      "-----------------------------------\n",
      "{'C': 1, 'penalty': 'l2', 'solver': 'lbfgs', 'l1_ratio': 0.1}\n"
     ]
    }
   ],
   "metadata": {}
  },
  {
   "cell_type": "code",
   "execution_count": 28,
   "source": [
    "from sklearn.metrics import classification_report\r\n",
    "print(classification_report(ytest_tfidf_ngram, preds))\r\n",
    "\r\n"
   ],
   "outputs": [
    {
     "output_type": "stream",
     "name": "stdout",
     "text": [
      "              precision    recall  f1-score   support\n",
      "\n",
      "           0       0.00      0.00      0.00         2\n",
      "           1       0.00      0.00      0.00         2\n",
      "           2       0.57      0.70      0.63        61\n",
      "           3       0.78      0.74      0.76       160\n",
      "           4       0.67      0.68      0.68        66\n",
      "           5       0.73      0.73      0.73        45\n",
      "           6       0.63      0.67      0.65        48\n",
      "           7       0.65      0.62      0.63        53\n",
      "           8       0.61      0.62      0.62        45\n",
      "           9       0.64      0.78      0.70        60\n",
      "          10       0.44      0.67      0.53        12\n",
      "          11       0.66      0.83      0.74        66\n",
      "          12       0.11      0.33      0.16        12\n",
      "          13       0.26      0.54      0.35        13\n",
      "          14       0.60      0.72      0.65        50\n",
      "          15       0.64      0.64      0.64        14\n",
      "          16       0.50      0.44      0.47        16\n",
      "          17       0.56      0.75      0.64        20\n",
      "          18       0.23      0.45      0.30        11\n",
      "\n",
      "   micro avg       0.61      0.70      0.65       756\n",
      "   macro avg       0.49      0.58      0.52       756\n",
      "weighted avg       0.64      0.70      0.66       756\n",
      " samples avg       0.65      0.74      0.66       756\n",
      "\n"
     ]
    }
   ],
   "metadata": {
    "collapsed": false,
    "pycharm": {
     "name": "#%%\n"
    }
   }
  },
  {
   "cell_type": "code",
   "execution_count": 14,
   "source": [
    "import networkx as nx\r\n",
    "from skmultilearn.cluster import IGraphLabelGraphClusterer\r\n",
    "import igraph as ig\r\n",
    "\r\n",
    "graph_builder = LabelCooccurrenceGraphBuilder(weighted=True, include_self_edges=False)\r\n",
    "edge_map = graph_builder.transform(ytrain_tfidf_ngram)\r\n",
    "\r\n",
    "def to_membership_vector(partition):\r\n",
    "    return {\r\n",
    "        member :  partition_id\r\n",
    "        for partition_id, members in enumerate(partition)\r\n",
    "        for member in members\r\n",
    "    }\r\n",
    "\r\n",
    "\r\n",
    "clusterer = IGraphLabelGraphClusterer(graph_builder=graph_builder, method='walktrap')\r\n",
    "partition = clusterer.fit_predict(xtrain_tfidf_ngram,ytrain_tfidf_ngram)\r\n",
    "membership_vector = to_membership_vector(partition)\r\n",
    "\r\n",
    "colors = ['red', 'white', 'blue']\r\n",
    "visual_style = {\r\n",
    "    \"vertex_size\" : 20,\r\n",
    "    \"vertex_label\": multilabel.classes_,\r\n",
    "    \"edge_width\" : [10*x/ytrain_tfidf_ngram.shape[0] for x in clusterer.graph_.es['weight']],\r\n",
    "    \"vertex_color\": [colors[membership_vector[i]] for i in range(ytrain_tfidf_ngram.shape[1])],\r\n",
    "    \"bbox\": (400,400),\r\n",
    "    \"margin\": 80,\r\n",
    "    \"layout\": clusterer.graph_.layout_circle()\r\n",
    "\r\n",
    "}\r\n",
    "\r\n",
    "ig.plot(clusterer.graph_, **visual_style)"
   ],
   "outputs": [
    {
     "output_type": "execute_result",
     "data": {
      "text/plain": [
       "<igraph.drawing.Plot at 0x260e812eee0>"
      ],
      "image/svg+xml": "<?xml version=\"1.0\" encoding=\"UTF-8\"?>\n<svg xmlns=\"http://www.w3.org/2000/svg\" xmlns:xlink=\"http://www.w3.org/1999/xlink\" width=\"400pt\" height=\"400pt\" viewBox=\"0 0 400 400\" version=\"1.1\">\n<defs>\n<g>\n<symbol overflow=\"visible\" id=\"glyph0-0\">\n<path style=\"stroke:none;\" d=\"M 1.75 0 L 1.75 -8.75 L 8.75 -8.75 L 8.75 0 Z M 1.96875 -0.21875 L 8.53125 -0.21875 L 8.53125 -8.53125 L 1.96875 -8.53125 Z M 1.96875 -0.21875 \"/>\n</symbol>\n<symbol overflow=\"visible\" id=\"glyph0-1\">\n<path style=\"stroke:none;\" d=\"M -0.0195313 0 L 3.828125 -10.023438 L 5.257813 -10.023438 L 9.359375 0 L 7.847656 0 L 6.679688 -3.035156 L 2.488281 -3.035156 L 1.386719 0 Z M 2.871094 -4.117188 L 6.269531 -4.117188 L 5.222656 -6.890625 C 4.898438 -7.734375 4.664063 -8.425781 4.511719 -8.96875 C 4.382813 -8.324219 4.203125 -7.6875 3.972656 -7.054688 Z M 2.871094 -4.117188 \"/>\n</symbol>\n<symbol overflow=\"visible\" id=\"glyph0-2\">\n<path style=\"stroke:none;\" d=\"M 1.023438 0 L 1.023438 -10.023438 L 4.785156 -10.023438 C 5.546875 -10.019531 6.160156 -9.917969 6.625 -9.71875 C 7.085938 -9.511719 7.449219 -9.199219 7.714844 -8.78125 C 7.976563 -8.355469 8.109375 -7.914063 8.109375 -7.457031 C 8.109375 -7.027344 7.992188 -6.625 7.757813 -6.246094 C 7.523438 -5.867188 7.171875 -5.5625 6.707031 -5.332031 C 7.3125 -5.152344 7.777344 -4.847656 8.105469 -4.421875 C 8.425781 -3.992188 8.589844 -3.488281 8.59375 -2.90625 C 8.589844 -2.4375 8.492188 -2 8.296875 -1.597656 C 8.097656 -1.191406 7.851563 -0.878906 7.5625 -0.664063 C 7.269531 -0.441406 6.902344 -0.277344 6.464844 -0.167969 C 6.019531 -0.0546875 5.480469 0 4.847656 0 Z M 2.351563 -5.8125 L 4.519531 -5.8125 C 5.101563 -5.8125 5.523438 -5.847656 5.78125 -5.925781 C 6.117188 -6.023438 6.371094 -6.191406 6.542969 -6.425781 C 6.710938 -6.65625 6.796875 -6.949219 6.800781 -7.300781 C 6.796875 -7.632813 6.71875 -7.925781 6.5625 -8.179688 C 6.402344 -8.429688 6.171875 -8.601563 5.878906 -8.699219 C 5.578125 -8.789063 5.070313 -8.835938 4.355469 -8.839844 L 2.351563 -8.839844 Z M 2.351563 -1.183594 L 4.847656 -1.183594 C 5.269531 -1.183594 5.570313 -1.199219 5.75 -1.230469 C 6.050781 -1.285156 6.304688 -1.375 6.511719 -1.503906 C 6.714844 -1.628906 6.886719 -1.8125 7.019531 -2.058594 C 7.152344 -2.300781 7.21875 -2.585938 7.21875 -2.90625 C 7.21875 -3.277344 7.121094 -3.601563 6.929688 -3.878906 C 6.738281 -4.152344 6.472656 -4.34375 6.132813 -4.460938 C 5.792969 -4.570313 5.304688 -4.628906 4.667969 -4.628906 L 2.351563 -4.628906 Z M 2.351563 -1.183594 \"/>\n</symbol>\n<symbol overflow=\"visible\" id=\"glyph0-3\">\n<path style=\"stroke:none;\" d=\"M 8.230469 -3.515625 L 9.554688 -3.179688 C 9.277344 -2.089844 8.777344 -1.257813 8.054688 -0.6875 C 7.332031 -0.113281 6.449219 0.167969 5.40625 0.171875 C 4.324219 0.167969 3.445313 -0.046875 2.773438 -0.488281 C 2.09375 -0.925781 1.578125 -1.5625 1.226563 -2.398438 C 0.867188 -3.226563 0.691406 -4.125 0.695313 -5.085938 C 0.691406 -6.128906 0.890625 -7.039063 1.292969 -7.816406 C 1.691406 -8.59375 2.257813 -9.183594 2.996094 -9.585938 C 3.730469 -9.988281 4.542969 -10.1875 5.429688 -10.191406 C 6.425781 -10.1875 7.269531 -9.933594 7.957031 -9.425781 C 8.640625 -8.914063 9.117188 -8.195313 9.386719 -7.273438 L 8.078125 -6.964844 C 7.84375 -7.691406 7.507813 -8.222656 7.066406 -8.558594 C 6.625 -8.890625 6.066406 -9.058594 5.398438 -9.058594 C 4.625 -9.058594 3.984375 -8.871094 3.46875 -8.503906 C 2.953125 -8.128906 2.589844 -7.632813 2.378906 -7.015625 C 2.167969 -6.390625 2.0625 -5.75 2.0625 -5.09375 C 2.0625 -4.234375 2.183594 -3.492188 2.433594 -2.859375 C 2.679688 -2.222656 3.066406 -1.746094 3.59375 -1.433594 C 4.117188 -1.117188 4.6875 -0.960938 5.296875 -0.964844 C 6.039063 -0.960938 6.667969 -1.175781 7.183594 -1.605469 C 7.699219 -2.035156 8.046875 -2.671875 8.230469 -3.515625 Z M 8.230469 -3.515625 \"/>\n</symbol>\n<symbol overflow=\"visible\" id=\"glyph0-4\">\n<path style=\"stroke:none;\" d=\"M 1.078125 0 L 1.078125 -10.023438 L 4.53125 -10.023438 C 5.308594 -10.019531 5.90625 -9.972656 6.316406 -9.878906 C 6.890625 -9.746094 7.378906 -9.503906 7.785156 -9.160156 C 8.3125 -8.710938 8.707031 -8.140625 8.972656 -7.449219 C 9.230469 -6.75 9.363281 -5.957031 9.367188 -5.066406 C 9.363281 -4.300781 9.273438 -3.625 9.097656 -3.039063 C 8.917969 -2.449219 8.691406 -1.964844 8.414063 -1.582031 C 8.136719 -1.195313 7.832031 -0.890625 7.503906 -0.671875 C 7.171875 -0.449219 6.773438 -0.28125 6.304688 -0.171875 C 5.835938 -0.0546875 5.296875 0 4.695313 0 Z M 2.40625 -1.183594 L 4.546875 -1.183594 C 5.207031 -1.183594 5.722656 -1.242188 6.101563 -1.367188 C 6.472656 -1.484375 6.773438 -1.660156 7 -1.886719 C 7.3125 -2.199219 7.558594 -2.621094 7.734375 -3.15625 C 7.910156 -3.683594 7.996094 -4.328125 8 -5.085938 C 7.996094 -6.132813 7.824219 -6.9375 7.480469 -7.5 C 7.132813 -8.0625 6.714844 -8.4375 6.226563 -8.632813 C 5.871094 -8.765625 5.300781 -8.835938 4.511719 -8.839844 L 2.40625 -8.839844 Z M 2.40625 -1.183594 \"/>\n</symbol>\n<symbol overflow=\"visible\" id=\"glyph0-5\">\n<path style=\"stroke:none;\" d=\"M 1.109375 0 L 1.109375 -10.023438 L 8.351563 -10.023438 L 8.351563 -8.839844 L 2.433594 -8.839844 L 2.433594 -5.769531 L 7.976563 -5.769531 L 7.976563 -4.59375 L 2.433594 -4.59375 L 2.433594 -1.183594 L 8.585938 -1.183594 L 8.585938 0 Z M 1.109375 0 \"/>\n</symbol>\n<symbol overflow=\"visible\" id=\"glyph0-6\">\n<path style=\"stroke:none;\" d=\"M 1.148438 0 L 1.148438 -10.023438 L 7.910156 -10.023438 L 7.910156 -8.839844 L 2.476563 -8.839844 L 2.476563 -5.734375 L 7.179688 -5.734375 L 7.179688 -4.554688 L 2.476563 -4.554688 L 2.476563 0 Z M 1.148438 0 \"/>\n</symbol>\n<symbol overflow=\"visible\" id=\"glyph0-7\">\n<path style=\"stroke:none;\" d=\"M 5.769531 -3.929688 L 5.769531 -5.105469 L 10.015625 -5.113281 L 10.015625 -1.394531 C 9.359375 -0.875 8.6875 -0.484375 8 -0.222656 C 7.304688 0.0390625 6.59375 0.167969 5.867188 0.171875 C 4.878906 0.167969 3.984375 -0.0390625 3.183594 -0.460938 C 2.375 -0.878906 1.769531 -1.488281 1.359375 -2.289063 C 0.949219 -3.082031 0.742188 -3.972656 0.746094 -4.960938 C 0.742188 -5.933594 0.945313 -6.84375 1.355469 -7.691406 C 1.761719 -8.535156 2.351563 -9.164063 3.117188 -9.574219 C 3.882813 -9.984375 4.761719 -10.1875 5.761719 -10.191406 C 6.484375 -10.1875 7.140625 -10.070313 7.726563 -9.839844 C 8.308594 -9.601563 8.769531 -9.277344 9.105469 -8.859375 C 9.4375 -8.4375 9.6875 -7.890625 9.863281 -7.21875 L 8.667969 -6.890625 C 8.511719 -7.398438 8.324219 -7.796875 8.105469 -8.09375 C 7.878906 -8.382813 7.5625 -8.617188 7.148438 -8.792969 C 6.734375 -8.96875 6.273438 -9.058594 5.769531 -9.058594 C 5.160156 -9.058594 4.636719 -8.964844 4.195313 -8.78125 C 3.753906 -8.59375 3.394531 -8.351563 3.125 -8.050781 C 2.851563 -7.75 2.644531 -7.417969 2.496094 -7.0625 C 2.238281 -6.4375 2.109375 -5.765625 2.113281 -5.046875 C 2.109375 -4.148438 2.261719 -3.402344 2.574219 -2.800781 C 2.878906 -2.199219 3.328125 -1.75 3.914063 -1.460938 C 4.5 -1.164063 5.125 -1.019531 5.789063 -1.023438 C 6.363281 -1.019531 6.921875 -1.128906 7.472656 -1.355469 C 8.015625 -1.574219 8.429688 -1.8125 8.714844 -2.0625 L 8.714844 -3.929688 Z M 5.769531 -3.929688 \"/>\n</symbol>\n<symbol overflow=\"visible\" id=\"glyph0-8\">\n<path style=\"stroke:none;\" d=\"M 1.121094 0 L 1.121094 -10.023438 L 2.445313 -10.023438 L 2.445313 -5.90625 L 7.65625 -5.90625 L 7.65625 -10.023438 L 8.984375 -10.023438 L 8.984375 0 L 7.65625 0 L 7.65625 -4.722656 L 2.445313 -4.722656 L 2.445313 0 Z M 1.121094 0 \"/>\n</symbol>\n<symbol overflow=\"visible\" id=\"glyph0-9\">\n<path style=\"stroke:none;\" d=\"M 1.304688 0 L 1.304688 -10.023438 L 2.632813 -10.023438 L 2.632813 0 Z M 1.304688 0 \"/>\n</symbol>\n<symbol overflow=\"visible\" id=\"glyph0-10\">\n<path style=\"stroke:none;\" d=\"M 0.402344 -2.84375 L 1.601563 -3.007813 C 1.628906 -2.238281 1.773438 -1.714844 2.03125 -1.433594 C 2.285156 -1.148438 2.636719 -1.007813 3.089844 -1.011719 C 3.417969 -1.007813 3.707031 -1.082031 3.949219 -1.238281 C 4.191406 -1.386719 4.355469 -1.597656 4.449219 -1.863281 C 4.535156 -2.125 4.582031 -2.542969 4.585938 -3.117188 L 4.585938 -10.023438 L 5.914063 -10.023438 L 5.914063 -3.191406 C 5.910156 -2.351563 5.808594 -1.703125 5.609375 -1.242188 C 5.402344 -0.78125 5.082031 -0.429688 4.644531 -0.191406 C 4.203125 0.0507813 3.6875 0.167969 3.097656 0.171875 C 2.214844 0.167969 1.539063 -0.0820313 1.074219 -0.585938 C 0.605469 -1.09375 0.382813 -1.84375 0.402344 -2.84375 Z M 0.402344 -2.84375 \"/>\n</symbol>\n<symbol overflow=\"visible\" id=\"glyph0-11\">\n<path style=\"stroke:none;\" d=\"M 1.023438 0 L 1.023438 -10.023438 L 2.351563 -10.023438 L 2.351563 -5.050781 L 7.328125 -10.023438 L 9.125 -10.023438 L 4.921875 -5.960938 L 9.3125 0 L 7.5625 0 L 3.992188 -5.070313 L 2.351563 -3.472656 L 2.351563 0 Z M 1.023438 0 \"/>\n</symbol>\n<symbol overflow=\"visible\" id=\"glyph0-12\">\n<path style=\"stroke:none;\" d=\"M 1.023438 0 L 1.023438 -10.023438 L 2.351563 -10.023438 L 2.351563 -1.183594 L 7.289063 -1.183594 L 7.289063 0 Z M 1.023438 0 \"/>\n</symbol>\n<symbol overflow=\"visible\" id=\"glyph0-13\">\n<path style=\"stroke:none;\" d=\"M 1.039063 0 L 1.039063 -10.023438 L 3.035156 -10.023438 L 5.40625 -2.925781 C 5.621094 -2.261719 5.78125 -1.769531 5.886719 -1.441406 C 5.996094 -1.804688 6.171875 -2.339844 6.417969 -3.046875 L 8.820313 -10.023438 L 10.601563 -10.023438 L 10.601563 0 L 9.324219 0 L 9.324219 -8.386719 L 6.414063 0 L 5.214844 0 L 2.316406 -8.53125 L 2.316406 0 Z M 1.039063 0 \"/>\n</symbol>\n<symbol overflow=\"visible\" id=\"glyph0-14\">\n<path style=\"stroke:none;\" d=\"M 1.066406 0 L 1.066406 -10.023438 L 2.425781 -10.023438 L 7.691406 -2.152344 L 7.691406 -10.023438 L 8.960938 -10.023438 L 8.960938 0 L 7.601563 0 L 2.335938 -7.875 L 2.335938 0 Z M 1.066406 0 \"/>\n</symbol>\n<symbol overflow=\"visible\" id=\"glyph0-15\">\n<path style=\"stroke:none;\" d=\"M 0.675781 -4.882813 C 0.671875 -6.539063 1.121094 -7.839844 2.015625 -8.785156 C 2.90625 -9.722656 4.058594 -10.195313 5.476563 -10.199219 C 6.398438 -10.195313 7.230469 -9.972656 7.976563 -9.535156 C 8.71875 -9.089844 9.285156 -8.476563 9.675781 -7.6875 C 10.0625 -6.894531 10.257813 -5.996094 10.261719 -4.996094 C 10.257813 -3.976563 10.054688 -3.066406 9.644531 -2.269531 C 9.234375 -1.464844 8.652344 -0.859375 7.902344 -0.445313 C 7.148438 -0.0351563 6.335938 0.167969 5.46875 0.171875 C 4.523438 0.167969 3.679688 -0.0546875 2.9375 -0.511719 C 2.191406 -0.964844 1.628906 -1.589844 1.25 -2.378906 C 0.863281 -3.167969 0.671875 -4 0.675781 -4.882813 Z M 2.042969 -4.859375 C 2.039063 -3.648438 2.363281 -2.699219 3.015625 -2.003906 C 3.664063 -1.308594 4.480469 -0.960938 5.460938 -0.964844 C 6.460938 -0.960938 7.28125 -1.3125 7.925781 -2.015625 C 8.570313 -2.71875 8.894531 -3.714844 8.894531 -5.003906 C 8.894531 -5.816406 8.753906 -6.527344 8.480469 -7.140625 C 8.199219 -7.746094 7.796875 -8.21875 7.269531 -8.554688 C 6.734375 -8.890625 6.140625 -9.058594 5.484375 -9.058594 C 4.542969 -9.058594 3.734375 -8.734375 3.058594 -8.089844 C 2.378906 -7.445313 2.039063 -6.367188 2.042969 -4.859375 Z M 2.042969 -4.859375 \"/>\n</symbol>\n<symbol overflow=\"visible\" id=\"glyph0-16\">\n<path style=\"stroke:none;\" d=\"M 1.078125 0 L 1.078125 -10.023438 L 4.859375 -10.023438 C 5.523438 -10.019531 6.03125 -9.988281 6.382813 -9.925781 C 6.875 -9.84375 7.289063 -9.6875 7.621094 -9.457031 C 7.953125 -9.226563 8.222656 -8.902344 8.425781 -8.488281 C 8.628906 -8.070313 8.730469 -7.617188 8.730469 -7.125 C 8.730469 -6.269531 8.457031 -5.546875 7.914063 -4.957031 C 7.371094 -4.367188 6.390625 -4.070313 4.976563 -4.074219 L 2.40625 -4.074219 L 2.40625 0 Z M 2.40625 -5.257813 L 4.996094 -5.257813 C 5.851563 -5.253906 6.460938 -5.414063 6.820313 -5.734375 C 7.179688 -6.050781 7.359375 -6.5 7.363281 -7.082031 C 7.359375 -7.5 7.253906 -7.859375 7.042969 -8.15625 C 6.832031 -8.453125 6.550781 -8.648438 6.207031 -8.75 C 5.980469 -8.804688 5.570313 -8.835938 4.96875 -8.839844 L 2.40625 -8.839844 Z M 2.40625 -5.257813 \"/>\n</symbol>\n<symbol overflow=\"visible\" id=\"glyph0-17\">\n<path style=\"stroke:none;\" d=\"M 8.675781 -1.074219 C 9.289063 -0.644531 9.855469 -0.335938 10.375 -0.144531 L 9.988281 0.78125 C 9.265625 0.515625 8.546875 0.109375 7.835938 -0.453125 C 7.085938 -0.0351563 6.265625 0.167969 5.375 0.171875 C 4.460938 0.167969 3.636719 -0.046875 2.902344 -0.484375 C 2.160156 -0.917969 1.59375 -1.53125 1.199219 -2.328125 C 0.796875 -3.117188 0.597656 -4.011719 0.601563 -5.011719 C 0.597656 -5.996094 0.796875 -6.898438 1.203125 -7.710938 C 1.601563 -8.523438 2.171875 -9.140625 2.914063 -9.5625 C 3.652344 -9.984375 4.480469 -10.195313 5.398438 -10.199219 C 6.320313 -10.195313 7.15625 -9.976563 7.902344 -9.539063 C 8.640625 -9.097656 9.207031 -8.480469 9.601563 -7.691406 C 9.988281 -6.898438 10.183594 -6.007813 10.1875 -5.015625 C 10.183594 -4.191406 10.058594 -3.449219 9.808594 -2.792969 C 9.558594 -2.132813 9.179688 -1.558594 8.675781 -1.074219 Z M 5.757813 -2.769531 C 6.519531 -2.550781 7.148438 -2.230469 7.648438 -1.8125 C 8.425781 -2.519531 8.816406 -3.589844 8.820313 -5.015625 C 8.816406 -5.828125 8.679688 -6.535156 8.40625 -7.144531 C 8.128906 -7.746094 7.726563 -8.21875 7.195313 -8.554688 C 6.664063 -8.890625 6.066406 -9.058594 5.40625 -9.058594 C 4.414063 -9.058594 3.59375 -8.71875 2.945313 -8.042969 C 2.292969 -7.363281 1.96875 -6.351563 1.96875 -5.011719 C 1.96875 -3.703125 2.289063 -2.703125 2.933594 -2.007813 C 3.578125 -1.308594 4.402344 -0.960938 5.40625 -0.964844 C 5.878906 -0.960938 6.324219 -1.050781 6.746094 -1.230469 C 6.328125 -1.496094 5.890625 -1.6875 5.433594 -1.804688 Z M 5.757813 -2.769531 \"/>\n</symbol>\n<symbol overflow=\"visible\" id=\"glyph0-18\">\n<path style=\"stroke:none;\" d=\"M 1.101563 0 L 1.101563 -10.023438 L 5.542969 -10.023438 C 6.433594 -10.019531 7.109375 -9.929688 7.578125 -9.75 C 8.039063 -9.570313 8.414063 -9.25 8.695313 -8.796875 C 8.972656 -8.335938 9.109375 -7.835938 9.113281 -7.289063 C 9.109375 -6.574219 8.878906 -5.972656 8.421875 -5.488281 C 7.957031 -5 7.246094 -4.691406 6.289063 -4.558594 C 6.636719 -4.386719 6.90625 -4.21875 7.089844 -4.0625 C 7.476563 -3.703125 7.839844 -3.257813 8.1875 -2.726563 L 9.933594 0 L 8.265625 0 L 6.9375 -2.085938 C 6.550781 -2.6875 6.230469 -3.144531 5.980469 -3.464844 C 5.726563 -3.78125 5.503906 -4.007813 5.308594 -4.136719 C 5.109375 -4.261719 4.90625 -4.347656 4.703125 -4.402344 C 4.550781 -4.429688 4.304688 -4.445313 3.964844 -4.449219 L 2.425781 -4.449219 L 2.425781 0 Z M 2.425781 -5.597656 L 5.277344 -5.597656 C 5.882813 -5.59375 6.355469 -5.65625 6.699219 -5.785156 C 7.035156 -5.910156 7.296875 -6.113281 7.476563 -6.386719 C 7.65625 -6.660156 7.746094 -6.960938 7.746094 -7.289063 C 7.746094 -7.761719 7.570313 -8.148438 7.226563 -8.457031 C 6.878906 -8.757813 6.335938 -8.910156 5.597656 -8.914063 L 2.425781 -8.914063 Z M 2.425781 -5.597656 \"/>\n</symbol>\n<symbol overflow=\"visible\" id=\"glyph0-19\">\n<path style=\"stroke:none;\" d=\"M 0.28125 0 L 0.28125 -1.230469 L 5.414063 -7.648438 C 5.777344 -8.101563 6.121094 -8.5 6.453125 -8.839844 L 0.859375 -8.839844 L 0.859375 -10.023438 L 8.039063 -10.023438 L 8.039063 -8.839844 L 2.414063 -1.886719 L 1.804688 -1.183594 L 8.203125 -1.183594 L 8.203125 0 Z M 0.28125 0 \"/>\n</symbol>\n</g>\n</defs>\n<g id=\"surface2\">\n<rect x=\"0\" y=\"0\" width=\"400\" height=\"400\" style=\"fill:rgb(100%,100%,100%);fill-opacity:1;stroke:none;\"/>\n<path style=\"fill:none;stroke-width:0.56899;stroke-linecap:butt;stroke-linejoin:miter;stroke:rgb(26.666667%,26.666667%,26.666667%);stroke-opacity:1;stroke-miterlimit:10;\" d=\"M 265.261719 300.804688 L 189.199219 80 \"/>\n<path style=\"fill:none;stroke-width:0.401849;stroke-linecap:butt;stroke-linejoin:miter;stroke:rgb(26.666667%,26.666667%,26.666667%);stroke-opacity:1;stroke-miterlimit:10;\" d=\"M 228.835938 316.726563 L 80 219.820313 \"/>\n<path style=\"fill:none;stroke-width:0.277383;stroke-linecap:butt;stroke-linejoin:miter;stroke:rgb(26.666667%,26.666667%,26.666667%);stroke-opacity:1;stroke-miterlimit:10;\" d=\"M 228.835938 316.726563 L 189.199219 320 \"/>\n<path style=\"fill:none;stroke-width:0.551209;stroke-linecap:butt;stroke-linejoin:miter;stroke:rgb(26.666667%,26.666667%,26.666667%);stroke-opacity:1;stroke-miterlimit:10;\" d=\"M 228.835938 316.726563 L 150.640625 310.269531 \"/>\n<path style=\"fill:none;stroke-width:0.188478;stroke-linecap:butt;stroke-linejoin:miter;stroke:rgb(26.666667%,26.666667%,26.666667%);stroke-opacity:1;stroke-miterlimit:10;\" d=\"M 189.199219 320 L 150.640625 310.269531 \"/>\n<path style=\"fill:none;stroke-width:0.732575;stroke-linecap:butt;stroke-linejoin:miter;stroke:rgb(26.666667%,26.666667%,26.666667%);stroke-opacity:1;stroke-miterlimit:10;\" d=\"M 265.261719 300.804688 L 228.835938 316.726563 \"/>\n<path style=\"fill:none;stroke-width:0.284495;stroke-linecap:butt;stroke-linejoin:miter;stroke:rgb(26.666667%,26.666667%,26.666667%);stroke-opacity:1;stroke-miterlimit:10;\" d=\"M 150.640625 310.269531 L 92.914063 142.691406 \"/>\n<path style=\"fill:none;stroke-width:0.977952;stroke-linecap:butt;stroke-linejoin:miter;stroke:rgb(26.666667%,26.666667%,26.666667%);stroke-opacity:1;stroke-miterlimit:10;\" d=\"M 265.261719 300.804688 L 92.914063 142.691406 \"/>\n<path style=\"fill:none;stroke-width:0.135135;stroke-linecap:butt;stroke-linejoin:miter;stroke:rgb(26.666667%,26.666667%,26.666667%);stroke-opacity:1;stroke-miterlimit:10;\" d=\"M 265.261719 300.804688 L 265.261719 99.195313 \"/>\n<path style=\"fill:none;stroke-width:0.117354;stroke-linecap:butt;stroke-linejoin:miter;stroke:rgb(26.666667%,26.666667%,26.666667%);stroke-opacity:1;stroke-miterlimit:10;\" d=\"M 189.199219 80 L 265.261719 99.195313 \"/>\n<path style=\"fill:none;stroke-width:0.184922;stroke-linecap:butt;stroke-linejoin:miter;stroke:rgb(26.666667%,26.666667%,26.666667%);stroke-opacity:1;stroke-miterlimit:10;\" d=\"M 265.261719 300.804688 L 313.453125 160.902344 \"/>\n<path style=\"fill:none;stroke-width:0.113798;stroke-linecap:butt;stroke-linejoin:miter;stroke:rgb(26.666667%,26.666667%,26.666667%);stroke-opacity:1;stroke-miterlimit:10;\" d=\"M 189.199219 80 L 313.453125 160.902344 \"/>\n<path style=\"fill:none;stroke-width:0.0106686;stroke-linecap:butt;stroke-linejoin:miter;stroke:rgb(26.666667%,26.666667%,26.666667%);stroke-opacity:1;stroke-miterlimit:10;\" d=\"M 265.261719 99.195313 L 313.453125 160.902344 \"/>\n<path style=\"fill:none;stroke-width:0.288051;stroke-linecap:butt;stroke-linejoin:miter;stroke:rgb(26.666667%,26.666667%,26.666667%);stroke-opacity:1;stroke-miterlimit:10;\" d=\"M 117.34375 288.589844 L 80 219.820313 \"/>\n<path style=\"fill:none;stroke-width:0.736131;stroke-linecap:butt;stroke-linejoin:miter;stroke:rgb(26.666667%,26.666667%,26.666667%);stroke-opacity:1;stroke-miterlimit:10;\" d=\"M 265.261719 300.804688 L 80 219.820313 \"/>\n<path style=\"fill:none;stroke-width:0.220484;stroke-linecap:butt;stroke-linejoin:miter;stroke:rgb(26.666667%,26.666667%,26.666667%);stroke-opacity:1;stroke-miterlimit:10;\" d=\"M 80 219.820313 L 92.914063 142.691406 \"/>\n<path style=\"fill:none;stroke-width:0.412518;stroke-linecap:butt;stroke-linejoin:miter;stroke:rgb(26.666667%,26.666667%,26.666667%);stroke-opacity:1;stroke-miterlimit:10;\" d=\"M 80 219.820313 L 189.199219 80 \"/>\n<path style=\"fill:none;stroke-width:0.3734;stroke-linecap:butt;stroke-linejoin:miter;stroke:rgb(26.666667%,26.666667%,26.666667%);stroke-opacity:1;stroke-miterlimit:10;\" d=\"M 92.914063 142.691406 L 189.199219 80 \"/>\n<path style=\"fill:none;stroke-width:0.0924609;stroke-linecap:butt;stroke-linejoin:miter;stroke:rgb(26.666667%,26.666667%,26.666667%);stroke-opacity:1;stroke-miterlimit:10;\" d=\"M 80 219.820313 L 313.453125 160.902344 \"/>\n<path style=\"fill:none;stroke-width:0.0320057;stroke-linecap:butt;stroke-linejoin:miter;stroke:rgb(26.666667%,26.666667%,26.666667%);stroke-opacity:1;stroke-miterlimit:10;\" d=\"M 92.914063 142.691406 L 313.453125 160.902344 \"/>\n<path style=\"fill:none;stroke-width:0.583215;stroke-linecap:butt;stroke-linejoin:miter;stroke:rgb(26.666667%,26.666667%,26.666667%);stroke-opacity:1;stroke-miterlimit:10;\" d=\"M 265.261719 300.804688 L 117.34375 288.589844 \"/>\n<path style=\"fill:none;stroke-width:0.056899;stroke-linecap:butt;stroke-linejoin:miter;stroke:rgb(26.666667%,26.666667%,26.666667%);stroke-opacity:1;stroke-miterlimit:10;\" d=\"M 117.34375 288.589844 L 265.261719 99.195313 \"/>\n<path style=\"fill:none;stroke-width:1.248222;stroke-linecap:butt;stroke-linejoin:miter;stroke:rgb(26.666667%,26.666667%,26.666667%);stroke-opacity:1;stroke-miterlimit:10;\" d=\"M 294.523438 273.957031 L 265.261719 300.804688 \"/>\n<path style=\"fill:none;stroke-width:0.241821;stroke-linecap:butt;stroke-linejoin:miter;stroke:rgb(26.666667%,26.666667%,26.666667%);stroke-opacity:1;stroke-miterlimit:10;\" d=\"M 294.523438 273.957031 L 228.835938 316.726563 \"/>\n<path style=\"fill:none;stroke-width:0.0711238;stroke-linecap:butt;stroke-linejoin:miter;stroke:rgb(26.666667%,26.666667%,26.666667%);stroke-opacity:1;stroke-miterlimit:10;\" d=\"M 294.523438 273.957031 L 313.453125 160.902344 \"/>\n<path style=\"fill:none;stroke-width:0.0177809;stroke-linecap:butt;stroke-linejoin:miter;stroke:rgb(26.666667%,26.666667%,26.666667%);stroke-opacity:1;stroke-miterlimit:10;\" d=\"M 228.835938 316.726563 L 313.453125 160.902344 \"/>\n<path style=\"fill:none;stroke-width:0.156472;stroke-linecap:butt;stroke-linejoin:miter;stroke:rgb(26.666667%,26.666667%,26.666667%);stroke-opacity:1;stroke-miterlimit:10;\" d=\"M 150.640625 310.269531 L 189.199219 80 \"/>\n<path style=\"fill:none;stroke-width:0.188478;stroke-linecap:butt;stroke-linejoin:miter;stroke:rgb(26.666667%,26.666667%,26.666667%);stroke-opacity:1;stroke-miterlimit:10;\" d=\"M 228.835938 316.726563 L 92.914063 142.691406 \"/>\n<path style=\"fill:none;stroke-width:0.14936;stroke-linecap:butt;stroke-linejoin:miter;stroke:rgb(26.666667%,26.666667%,26.666667%);stroke-opacity:1;stroke-miterlimit:10;\" d=\"M 117.34375 288.589844 L 92.914063 142.691406 \"/>\n<path style=\"fill:none;stroke-width:0.188478;stroke-linecap:butt;stroke-linejoin:miter;stroke:rgb(26.666667%,26.666667%,26.666667%);stroke-opacity:1;stroke-miterlimit:10;\" d=\"M 117.34375 288.589844 L 189.199219 80 \"/>\n<path style=\"fill:none;stroke-width:0.0320057;stroke-linecap:butt;stroke-linejoin:miter;stroke:rgb(26.666667%,26.666667%,26.666667%);stroke-opacity:1;stroke-miterlimit:10;\" d=\"M 265.261719 99.195313 L 294.523438 126.042969 \"/>\n<path style=\"fill:none;stroke-width:0.103129;stroke-linecap:butt;stroke-linejoin:miter;stroke:rgb(26.666667%,26.666667%,26.666667%);stroke-opacity:1;stroke-miterlimit:10;\" d=\"M 92.914063 142.691406 L 294.523438 126.042969 \"/>\n<path style=\"fill:none;stroke-width:0.27027;stroke-linecap:butt;stroke-linejoin:miter;stroke:rgb(26.666667%,26.666667%,26.666667%);stroke-opacity:1;stroke-miterlimit:10;\" d=\"M 228.835938 316.726563 L 189.199219 80 \"/>\n<path style=\"fill:none;stroke-width:0.288051;stroke-linecap:butt;stroke-linejoin:miter;stroke:rgb(26.666667%,26.666667%,26.666667%);stroke-opacity:1;stroke-miterlimit:10;\" d=\"M 117.34375 288.589844 L 92.914063 257.308594 \"/>\n<path style=\"fill:none;stroke-width:0.181366;stroke-linecap:butt;stroke-linejoin:miter;stroke:rgb(26.666667%,26.666667%,26.666667%);stroke-opacity:1;stroke-miterlimit:10;\" d=\"M 294.523438 273.957031 L 92.914063 257.308594 \"/>\n<path style=\"fill:none;stroke-width:0.394737;stroke-linecap:butt;stroke-linejoin:miter;stroke:rgb(26.666667%,26.666667%,26.666667%);stroke-opacity:1;stroke-miterlimit:10;\" d=\"M 265.261719 300.804688 L 92.914063 257.308594 \"/>\n<path style=\"fill:none;stroke-width:0.309388;stroke-linecap:butt;stroke-linejoin:miter;stroke:rgb(26.666667%,26.666667%,26.666667%);stroke-opacity:1;stroke-miterlimit:10;\" d=\"M 265.261719 300.804688 L 189.199219 320 \"/>\n<path style=\"fill:none;stroke-width:0.103129;stroke-linecap:butt;stroke-linejoin:miter;stroke:rgb(26.666667%,26.666667%,26.666667%);stroke-opacity:1;stroke-miterlimit:10;\" d=\"M 189.199219 320 L 117.34375 288.589844 \"/>\n<path style=\"fill:none;stroke-width:0.0213371;stroke-linecap:butt;stroke-linejoin:miter;stroke:rgb(26.666667%,26.666667%,26.666667%);stroke-opacity:1;stroke-miterlimit:10;\" d=\"M 189.199219 320 L 92.914063 257.308594 \"/>\n<path style=\"fill:none;stroke-width:0.142248;stroke-linecap:butt;stroke-linejoin:miter;stroke:rgb(26.666667%,26.666667%,26.666667%);stroke-opacity:1;stroke-miterlimit:10;\" d=\"M 265.261719 300.804688 L 294.523438 126.042969 \"/>\n<path style=\"fill:none;stroke-width:0.0675676;stroke-linecap:butt;stroke-linejoin:miter;stroke:rgb(26.666667%,26.666667%,26.666667%);stroke-opacity:1;stroke-miterlimit:10;\" d=\"M 189.199219 320 L 294.523438 126.042969 \"/>\n<path style=\"fill:none;stroke-width:0.131579;stroke-linecap:butt;stroke-linejoin:miter;stroke:rgb(26.666667%,26.666667%,26.666667%);stroke-opacity:1;stroke-miterlimit:10;\" d=\"M 117.34375 288.589844 L 294.523438 126.042969 \"/>\n<path style=\"fill:none;stroke-width:0.0817923;stroke-linecap:butt;stroke-linejoin:miter;stroke:rgb(26.666667%,26.666667%,26.666667%);stroke-opacity:1;stroke-miterlimit:10;\" d=\"M 92.914063 257.308594 L 294.523438 126.042969 \"/>\n<path style=\"fill:none;stroke-width:0.259602;stroke-linecap:butt;stroke-linejoin:miter;stroke:rgb(26.666667%,26.666667%,26.666667%);stroke-opacity:1;stroke-miterlimit:10;\" d=\"M 92.914063 257.308594 L 189.199219 80 \"/>\n<path style=\"fill:none;stroke-width:0.284495;stroke-linecap:butt;stroke-linejoin:miter;stroke:rgb(26.666667%,26.666667%,26.666667%);stroke-opacity:1;stroke-miterlimit:10;\" d=\"M 294.523438 273.957031 L 80 219.820313 \"/>\n<path style=\"fill:none;stroke-width:0.551209;stroke-linecap:butt;stroke-linejoin:miter;stroke:rgb(26.666667%,26.666667%,26.666667%);stroke-opacity:1;stroke-miterlimit:10;\" d=\"M 92.914063 257.308594 L 80 219.820313 \"/>\n<path style=\"fill:none;stroke-width:0.209815;stroke-linecap:butt;stroke-linejoin:miter;stroke:rgb(26.666667%,26.666667%,26.666667%);stroke-opacity:1;stroke-miterlimit:10;\" d=\"M 265.261719 300.804688 L 117.34375 111.410156 \"/>\n<path style=\"fill:none;stroke-width:0.152916;stroke-linecap:butt;stroke-linejoin:miter;stroke:rgb(26.666667%,26.666667%,26.666667%);stroke-opacity:1;stroke-miterlimit:10;\" d=\"M 80 219.820313 L 117.34375 111.410156 \"/>\n<path style=\"fill:none;stroke-width:0.192034;stroke-linecap:butt;stroke-linejoin:miter;stroke:rgb(26.666667%,26.666667%,26.666667%);stroke-opacity:1;stroke-miterlimit:10;\" d=\"M 92.914063 142.691406 L 117.34375 111.410156 \"/>\n<path style=\"fill:none;stroke-width:0.167141;stroke-linecap:butt;stroke-linejoin:miter;stroke:rgb(26.666667%,26.666667%,26.666667%);stroke-opacity:1;stroke-miterlimit:10;\" d=\"M 80 219.820313 L 294.523438 126.042969 \"/>\n<path style=\"fill:none;stroke-width:0.0106686;stroke-linecap:butt;stroke-linejoin:miter;stroke:rgb(26.666667%,26.666667%,26.666667%);stroke-opacity:1;stroke-miterlimit:10;\" d=\"M 117.34375 111.410156 L 294.523438 126.042969 \"/>\n<path style=\"fill:none;stroke-width:0.302276;stroke-linecap:butt;stroke-linejoin:miter;stroke:rgb(26.666667%,26.666667%,26.666667%);stroke-opacity:1;stroke-miterlimit:10;\" d=\"M 228.835938 316.726563 L 117.34375 288.589844 \"/>\n<path style=\"fill:none;stroke-width:0.234708;stroke-linecap:butt;stroke-linejoin:miter;stroke:rgb(26.666667%,26.666667%,26.666667%);stroke-opacity:1;stroke-miterlimit:10;\" d=\"M 294.523438 273.957031 L 92.914063 142.691406 \"/>\n<path style=\"fill:none;stroke-width:0.0213371;stroke-linecap:butt;stroke-linejoin:miter;stroke:rgb(26.666667%,26.666667%,26.666667%);stroke-opacity:1;stroke-miterlimit:10;\" d=\"M 294.523438 273.957031 L 228.835938 83.273438 \"/>\n<path style=\"fill:none;stroke-width:0.0960171;stroke-linecap:butt;stroke-linejoin:miter;stroke:rgb(26.666667%,26.666667%,26.666667%);stroke-opacity:1;stroke-miterlimit:10;\" d=\"M 265.261719 300.804688 L 228.835938 83.273438 \"/>\n<path style=\"fill:none;stroke-width:0.0391181;stroke-linecap:butt;stroke-linejoin:miter;stroke:rgb(26.666667%,26.666667%,26.666667%);stroke-opacity:1;stroke-miterlimit:10;\" d=\"M 92.914063 142.691406 L 228.835938 83.273438 \"/>\n<path style=\"fill:none;stroke-width:0.803698;stroke-linecap:butt;stroke-linejoin:miter;stroke:rgb(26.666667%,26.666667%,26.666667%);stroke-opacity:1;stroke-miterlimit:10;\" d=\"M 265.261719 300.804688 L 150.640625 310.269531 \"/>\n<path style=\"fill:none;stroke-width:0.0640114;stroke-linecap:butt;stroke-linejoin:miter;stroke:rgb(26.666667%,26.666667%,26.666667%);stroke-opacity:1;stroke-miterlimit:10;\" d=\"M 150.640625 310.269531 L 117.34375 111.410156 \"/>\n<path style=\"fill:none;stroke-width:0.14936;stroke-linecap:butt;stroke-linejoin:miter;stroke:rgb(26.666667%,26.666667%,26.666667%);stroke-opacity:1;stroke-miterlimit:10;\" d=\"M 294.523438 273.957031 L 117.34375 288.589844 \"/>\n<path style=\"fill:none;stroke-width:0.145804;stroke-linecap:butt;stroke-linejoin:miter;stroke:rgb(26.666667%,26.666667%,26.666667%);stroke-opacity:1;stroke-miterlimit:10;\" d=\"M 294.523438 273.957031 L 189.199219 80 \"/>\n<path style=\"fill:none;stroke-width:0.0355619;stroke-linecap:butt;stroke-linejoin:miter;stroke:rgb(26.666667%,26.666667%,26.666667%);stroke-opacity:1;stroke-miterlimit:10;\" d=\"M 117.34375 288.589844 L 228.835938 83.273438 \"/>\n<path style=\"fill:none;stroke-width:0.0960171;stroke-linecap:butt;stroke-linejoin:miter;stroke:rgb(26.666667%,26.666667%,26.666667%);stroke-opacity:1;stroke-miterlimit:10;\" d=\"M 189.199219 80 L 228.835938 83.273438 \"/>\n<path style=\"fill:none;stroke-width:0.0533428;stroke-linecap:butt;stroke-linejoin:miter;stroke:rgb(26.666667%,26.666667%,26.666667%);stroke-opacity:1;stroke-miterlimit:10;\" d=\"M 294.523438 273.957031 L 294.523438 126.042969 \"/>\n<path style=\"fill:none;stroke-width:0.110242;stroke-linecap:butt;stroke-linejoin:miter;stroke:rgb(26.666667%,26.666667%,26.666667%);stroke-opacity:1;stroke-miterlimit:10;\" d=\"M 189.199219 80 L 294.523438 126.042969 \"/>\n<path style=\"fill:none;stroke-width:0.0213371;stroke-linecap:butt;stroke-linejoin:miter;stroke:rgb(26.666667%,26.666667%,26.666667%);stroke-opacity:1;stroke-miterlimit:10;\" d=\"M 228.835938 83.273438 L 294.523438 126.042969 \"/>\n<path style=\"fill:none;stroke-width:0.124467;stroke-linecap:butt;stroke-linejoin:miter;stroke:rgb(26.666667%,26.666667%,26.666667%);stroke-opacity:1;stroke-miterlimit:10;\" d=\"M 80 219.820313 L 80 180.179688 \"/>\n<path style=\"fill:none;stroke-width:0.113798;stroke-linecap:butt;stroke-linejoin:miter;stroke:rgb(26.666667%,26.666667%,26.666667%);stroke-opacity:1;stroke-miterlimit:10;\" d=\"M 150.640625 310.269531 L 80 219.820313 \"/>\n<path style=\"fill:none;stroke-width:0.0142248;stroke-linecap:butt;stroke-linejoin:miter;stroke:rgb(26.666667%,26.666667%,26.666667%);stroke-opacity:1;stroke-miterlimit:10;\" d=\"M 150.640625 89.730469 L 228.835938 83.273438 \"/>\n<path style=\"fill:none;stroke-width:0.0640114;stroke-linecap:butt;stroke-linejoin:miter;stroke:rgb(26.666667%,26.666667%,26.666667%);stroke-opacity:1;stroke-miterlimit:10;\" d=\"M 150.640625 310.269531 L 294.523438 126.042969 \"/>\n<path style=\"fill:none;stroke-width:0.0213371;stroke-linecap:butt;stroke-linejoin:miter;stroke:rgb(26.666667%,26.666667%,26.666667%);stroke-opacity:1;stroke-miterlimit:10;\" d=\"M 150.640625 310.269531 L 313.453125 160.902344 \"/>\n<path style=\"fill:none;stroke-width:0.0142248;stroke-linecap:butt;stroke-linejoin:miter;stroke:rgb(26.666667%,26.666667%,26.666667%);stroke-opacity:1;stroke-miterlimit:10;\" d=\"M 294.523438 126.042969 L 313.453125 160.902344 \"/>\n<path style=\"fill:none;stroke-width:0.295164;stroke-linecap:butt;stroke-linejoin:miter;stroke:rgb(26.666667%,26.666667%,26.666667%);stroke-opacity:1;stroke-miterlimit:10;\" d=\"M 189.199219 320 L 92.914063 142.691406 \"/>\n<path style=\"fill:none;stroke-width:0.138691;stroke-linecap:butt;stroke-linejoin:miter;stroke:rgb(26.666667%,26.666667%,26.666667%);stroke-opacity:1;stroke-miterlimit:10;\" d=\"M 80 219.820313 L 150.640625 89.730469 \"/>\n<path style=\"fill:none;stroke-width:0.0782361;stroke-linecap:butt;stroke-linejoin:miter;stroke:rgb(26.666667%,26.666667%,26.666667%);stroke-opacity:1;stroke-miterlimit:10;\" d=\"M 92.914063 142.691406 L 150.640625 89.730469 \"/>\n<path style=\"fill:none;stroke-width:0.142248;stroke-linecap:butt;stroke-linejoin:miter;stroke:rgb(26.666667%,26.666667%,26.666667%);stroke-opacity:1;stroke-miterlimit:10;\" d=\"M 150.640625 89.730469 L 189.199219 80 \"/>\n<path style=\"fill:none;stroke-width:0.135135;stroke-linecap:butt;stroke-linejoin:miter;stroke:rgb(26.666667%,26.666667%,26.666667%);stroke-opacity:1;stroke-miterlimit:10;\" d=\"M 294.523438 273.957031 L 150.640625 310.269531 \"/>\n<path style=\"fill:none;stroke-width:0.0604552;stroke-linecap:butt;stroke-linejoin:miter;stroke:rgb(26.666667%,26.666667%,26.666667%);stroke-opacity:1;stroke-miterlimit:10;\" d=\"M 117.34375 111.410156 L 189.199219 80 \"/>\n<path style=\"fill:none;stroke-width:0.277383;stroke-linecap:butt;stroke-linejoin:miter;stroke:rgb(26.666667%,26.666667%,26.666667%);stroke-opacity:1;stroke-miterlimit:10;\" d=\"M 189.199219 320 L 189.199219 80 \"/>\n<path style=\"fill:none;stroke-width:0.0889047;stroke-linecap:butt;stroke-linejoin:miter;stroke:rgb(26.666667%,26.666667%,26.666667%);stroke-opacity:1;stroke-miterlimit:10;\" d=\"M 150.640625 310.269531 L 150.640625 89.730469 \"/>\n<path style=\"fill:none;stroke-width:0.0142248;stroke-linecap:butt;stroke-linejoin:miter;stroke:rgb(26.666667%,26.666667%,26.666667%);stroke-opacity:1;stroke-miterlimit:10;\" d=\"M 294.523438 273.957031 L 150.640625 89.730469 \"/>\n<path style=\"fill:none;stroke-width:0.117354;stroke-linecap:butt;stroke-linejoin:miter;stroke:rgb(26.666667%,26.666667%,26.666667%);stroke-opacity:1;stroke-miterlimit:10;\" d=\"M 265.261719 300.804688 L 150.640625 89.730469 \"/>\n<path style=\"fill:none;stroke-width:0.0213371;stroke-linecap:butt;stroke-linejoin:miter;stroke:rgb(26.666667%,26.666667%,26.666667%);stroke-opacity:1;stroke-miterlimit:10;\" d=\"M 228.835938 83.273438 L 265.261719 99.195313 \"/>\n<path style=\"fill:none;stroke-width:0.117354;stroke-linecap:butt;stroke-linejoin:miter;stroke:rgb(26.666667%,26.666667%,26.666667%);stroke-opacity:1;stroke-miterlimit:10;\" d=\"M 189.199219 320 L 80 219.820313 \"/>\n<path style=\"fill:none;stroke-width:0.0995733;stroke-linecap:butt;stroke-linejoin:miter;stroke:rgb(26.666667%,26.666667%,26.666667%);stroke-opacity:1;stroke-miterlimit:10;\" d=\"M 80 180.179688 L 92.914063 142.691406 \"/>\n<path style=\"fill:none;stroke-width:0.0711238;stroke-linecap:butt;stroke-linejoin:miter;stroke:rgb(26.666667%,26.666667%,26.666667%);stroke-opacity:1;stroke-miterlimit:10;\" d=\"M 80 180.179688 L 189.199219 80 \"/>\n<path style=\"fill:none;stroke-width:0.124467;stroke-linecap:butt;stroke-linejoin:miter;stroke:rgb(26.666667%,26.666667%,26.666667%);stroke-opacity:1;stroke-miterlimit:10;\" d=\"M 92.914063 142.691406 L 265.261719 99.195313 \"/>\n<path style=\"fill:none;stroke-width:0.0533428;stroke-linecap:butt;stroke-linejoin:miter;stroke:rgb(26.666667%,26.666667%,26.666667%);stroke-opacity:1;stroke-miterlimit:10;\" d=\"M 294.523438 273.957031 L 80 180.179688 \"/>\n<path style=\"fill:none;stroke-width:0.184922;stroke-linecap:butt;stroke-linejoin:miter;stroke:rgb(26.666667%,26.666667%,26.666667%);stroke-opacity:1;stroke-miterlimit:10;\" d=\"M 265.261719 300.804688 L 80 180.179688 \"/>\n<path style=\"fill:none;stroke-width:0.0462304;stroke-linecap:butt;stroke-linejoin:miter;stroke:rgb(26.666667%,26.666667%,26.666667%);stroke-opacity:1;stroke-miterlimit:10;\" d=\"M 294.523438 273.957031 L 117.34375 111.410156 \"/>\n<path style=\"fill:none;stroke-width:0.0142248;stroke-linecap:butt;stroke-linejoin:miter;stroke:rgb(26.666667%,26.666667%,26.666667%);stroke-opacity:1;stroke-miterlimit:10;\" d=\"M 80 180.179688 L 117.34375 111.410156 \"/>\n<path style=\"fill:none;stroke-width:0.0355619;stroke-linecap:butt;stroke-linejoin:miter;stroke:rgb(26.666667%,26.666667%,26.666667%);stroke-opacity:1;stroke-miterlimit:10;\" d=\"M 80 219.820313 L 228.835938 83.273438 \"/>\n<path style=\"fill:none;stroke-width:0.0462304;stroke-linecap:butt;stroke-linejoin:miter;stroke:rgb(26.666667%,26.666667%,26.666667%);stroke-opacity:1;stroke-miterlimit:10;\" d=\"M 92.914063 257.308594 L 150.640625 89.730469 \"/>\n<path style=\"fill:none;stroke-width:0.0142248;stroke-linecap:butt;stroke-linejoin:miter;stroke:rgb(26.666667%,26.666667%,26.666667%);stroke-opacity:1;stroke-miterlimit:10;\" d=\"M 92.914063 257.308594 L 228.835938 83.273438 \"/>\n<path style=\"fill:none;stroke-width:0.103129;stroke-linecap:butt;stroke-linejoin:miter;stroke:rgb(26.666667%,26.666667%,26.666667%);stroke-opacity:1;stroke-miterlimit:10;\" d=\"M 228.835938 316.726563 L 294.523438 126.042969 \"/>\n<path style=\"fill:none;stroke-width:0.0533428;stroke-linecap:butt;stroke-linejoin:miter;stroke:rgb(26.666667%,26.666667%,26.666667%);stroke-opacity:1;stroke-miterlimit:10;\" d=\"M 320 200 L 265.261719 300.804688 \"/>\n<path style=\"fill:none;stroke-width:0.00711238;stroke-linecap:butt;stroke-linejoin:miter;stroke:rgb(26.666667%,26.666667%,26.666667%);stroke-opacity:1;stroke-miterlimit:10;\" d=\"M 320 200 L 189.199219 320 \"/>\n<path style=\"fill:none;stroke-width:0.00711238;stroke-linecap:butt;stroke-linejoin:miter;stroke:rgb(26.666667%,26.666667%,26.666667%);stroke-opacity:1;stroke-miterlimit:10;\" d=\"M 320 200 L 150.640625 310.269531 \"/>\n<path style=\"fill:none;stroke-width:0.124467;stroke-linecap:butt;stroke-linejoin:miter;stroke:rgb(26.666667%,26.666667%,26.666667%);stroke-opacity:1;stroke-miterlimit:10;\" d=\"M 150.640625 310.269531 L 117.34375 288.589844 \"/>\n<path style=\"fill:none;stroke-width:0.0675676;stroke-linecap:butt;stroke-linejoin:miter;stroke:rgb(26.666667%,26.666667%,26.666667%);stroke-opacity:1;stroke-miterlimit:10;\" d=\"M 92.914063 257.308594 L 80 180.179688 \"/>\n<path style=\"fill:none;stroke-width:0.0817923;stroke-linecap:butt;stroke-linejoin:miter;stroke:rgb(26.666667%,26.666667%,26.666667%);stroke-opacity:1;stroke-miterlimit:10;\" d=\"M 92.914063 257.308594 L 92.914063 142.691406 \"/>\n<path style=\"fill:none;stroke-width:0.0106686;stroke-linecap:butt;stroke-linejoin:miter;stroke:rgb(26.666667%,26.666667%,26.666667%);stroke-opacity:1;stroke-miterlimit:10;\" d=\"M 320 200 L 92.914063 142.691406 \"/>\n<path style=\"fill:none;stroke-width:0.0320057;stroke-linecap:butt;stroke-linejoin:miter;stroke:rgb(26.666667%,26.666667%,26.666667%);stroke-opacity:1;stroke-miterlimit:10;\" d=\"M 150.640625 310.269531 L 80 180.179688 \"/>\n<path style=\"fill:none;stroke-width:0.0675676;stroke-linecap:butt;stroke-linejoin:miter;stroke:rgb(26.666667%,26.666667%,26.666667%);stroke-opacity:1;stroke-miterlimit:10;\" d=\"M 189.199219 320 L 150.640625 89.730469 \"/>\n<path style=\"fill:none;stroke-width:0.0355619;stroke-linecap:butt;stroke-linejoin:miter;stroke:rgb(26.666667%,26.666667%,26.666667%);stroke-opacity:1;stroke-miterlimit:10;\" d=\"M 294.523438 273.957031 L 265.261719 99.195313 \"/>\n<path style=\"fill:none;stroke-width:0.0497866;stroke-linecap:butt;stroke-linejoin:miter;stroke:rgb(26.666667%,26.666667%,26.666667%);stroke-opacity:1;stroke-miterlimit:10;\" d=\"M 117.34375 288.589844 L 150.640625 89.730469 \"/>\n<path style=\"fill:none;stroke-width:0.0248933;stroke-linecap:butt;stroke-linejoin:miter;stroke:rgb(26.666667%,26.666667%,26.666667%);stroke-opacity:1;stroke-miterlimit:10;\" d=\"M 150.640625 89.730469 L 313.453125 160.902344 \"/>\n<path style=\"fill:none;stroke-width:0.0284495;stroke-linecap:butt;stroke-linejoin:miter;stroke:rgb(26.666667%,26.666667%,26.666667%);stroke-opacity:1;stroke-miterlimit:10;\" d=\"M 80 180.179688 L 150.640625 89.730469 \"/>\n<path style=\"fill:none;stroke-width:0.0142248;stroke-linecap:butt;stroke-linejoin:miter;stroke:rgb(26.666667%,26.666667%,26.666667%);stroke-opacity:1;stroke-miterlimit:10;\" d=\"M 228.835938 316.726563 L 117.34375 111.410156 \"/>\n<path style=\"fill:none;stroke-width:0.0177809;stroke-linecap:butt;stroke-linejoin:miter;stroke:rgb(26.666667%,26.666667%,26.666667%);stroke-opacity:1;stroke-miterlimit:10;\" d=\"M 189.199219 320 L 117.34375 111.410156 \"/>\n<path style=\"fill:none;stroke-width:0.0284495;stroke-linecap:butt;stroke-linejoin:miter;stroke:rgb(26.666667%,26.666667%,26.666667%);stroke-opacity:1;stroke-miterlimit:10;\" d=\"M 320 200 L 80 219.820313 \"/>\n<path style=\"fill:none;stroke-width:0.056899;stroke-linecap:butt;stroke-linejoin:miter;stroke:rgb(26.666667%,26.666667%,26.666667%);stroke-opacity:1;stroke-miterlimit:10;\" d=\"M 294.523438 273.957031 L 189.199219 320 \"/>\n<path style=\"fill:none;stroke-width:0.0213371;stroke-linecap:butt;stroke-linejoin:miter;stroke:rgb(26.666667%,26.666667%,26.666667%);stroke-opacity:1;stroke-miterlimit:10;\" d=\"M 313.453125 239.097656 L 265.261719 300.804688 \"/>\n<path style=\"fill:none;stroke-width:0.0640114;stroke-linecap:butt;stroke-linejoin:miter;stroke:rgb(26.666667%,26.666667%,26.666667%);stroke-opacity:1;stroke-miterlimit:10;\" d=\"M 228.835938 316.726563 L 92.914063 257.308594 \"/>\n<path style=\"fill:none;stroke-width:0.0248933;stroke-linecap:butt;stroke-linejoin:miter;stroke:rgb(26.666667%,26.666667%,26.666667%);stroke-opacity:1;stroke-miterlimit:10;\" d=\"M 117.34375 288.589844 L 313.453125 160.902344 \"/>\n<path style=\"fill:none;stroke-width:0.0462304;stroke-linecap:butt;stroke-linejoin:miter;stroke:rgb(26.666667%,26.666667%,26.666667%);stroke-opacity:1;stroke-miterlimit:10;\" d=\"M 80 219.820313 L 265.261719 99.195313 \"/>\n<path style=\"fill:none;stroke-width:0.0248933;stroke-linecap:butt;stroke-linejoin:miter;stroke:rgb(26.666667%,26.666667%,26.666667%);stroke-opacity:1;stroke-miterlimit:10;\" d=\"M 150.640625 89.730469 L 265.261719 99.195313 \"/>\n<path style=\"fill:none;stroke-width:0.0284495;stroke-linecap:butt;stroke-linejoin:miter;stroke:rgb(26.666667%,26.666667%,26.666667%);stroke-opacity:1;stroke-miterlimit:10;\" d=\"M 92.914063 257.308594 L 117.34375 111.410156 \"/>\n<path style=\"fill:none;stroke-width:0.00355619;stroke-linecap:butt;stroke-linejoin:miter;stroke:rgb(26.666667%,26.666667%,26.666667%);stroke-opacity:1;stroke-miterlimit:10;\" d=\"M 117.34375 111.410156 L 150.640625 89.730469 \"/>\n<path style=\"fill:none;stroke-width:0.0426743;stroke-linecap:butt;stroke-linejoin:miter;stroke:rgb(26.666667%,26.666667%,26.666667%);stroke-opacity:1;stroke-miterlimit:10;\" d=\"M 92.914063 257.308594 L 265.261719 99.195313 \"/>\n<path style=\"fill:none;stroke-width:0.0995733;stroke-linecap:butt;stroke-linejoin:miter;stroke:rgb(26.666667%,26.666667%,26.666667%);stroke-opacity:1;stroke-miterlimit:10;\" d=\"M 228.835938 316.726563 L 150.640625 89.730469 \"/>\n<path style=\"fill:none;stroke-width:0.0248933;stroke-linecap:butt;stroke-linejoin:miter;stroke:rgb(26.666667%,26.666667%,26.666667%);stroke-opacity:1;stroke-miterlimit:10;\" d=\"M 189.199219 320 L 265.261719 99.195313 \"/>\n<path style=\"fill:none;stroke-width:0.113798;stroke-linecap:butt;stroke-linejoin:miter;stroke:rgb(26.666667%,26.666667%,26.666667%);stroke-opacity:1;stroke-miterlimit:10;\" d=\"M 150.640625 310.269531 L 92.914063 257.308594 \"/>\n<path style=\"fill:none;stroke-width:0.0142248;stroke-linecap:butt;stroke-linejoin:miter;stroke:rgb(26.666667%,26.666667%,26.666667%);stroke-opacity:1;stroke-miterlimit:10;\" d=\"M 150.640625 310.269531 L 228.835938 83.273438 \"/>\n<path style=\"fill:none;stroke-width:0.0355619;stroke-linecap:butt;stroke-linejoin:miter;stroke:rgb(26.666667%,26.666667%,26.666667%);stroke-opacity:1;stroke-miterlimit:10;\" d=\"M 189.199219 320 L 228.835938 83.273438 \"/>\n<path style=\"fill:none;stroke-width:0.0533428;stroke-linecap:butt;stroke-linejoin:miter;stroke:rgb(26.666667%,26.666667%,26.666667%);stroke-opacity:1;stroke-miterlimit:10;\" d=\"M 117.34375 288.589844 L 80 180.179688 \"/>\n<path style=\"fill:none;stroke-width:0.0355619;stroke-linecap:butt;stroke-linejoin:miter;stroke:rgb(26.666667%,26.666667%,26.666667%);stroke-opacity:1;stroke-miterlimit:10;\" d=\"M 92.914063 257.308594 L 313.453125 160.902344 \"/>\n<path style=\"fill:none;stroke-width:0.0391181;stroke-linecap:butt;stroke-linejoin:miter;stroke:rgb(26.666667%,26.666667%,26.666667%);stroke-opacity:1;stroke-miterlimit:10;\" d=\"M 320 200 L 294.523438 273.957031 \"/>\n<path style=\"fill:none;stroke-width:0.00711238;stroke-linecap:butt;stroke-linejoin:miter;stroke:rgb(26.666667%,26.666667%,26.666667%);stroke-opacity:1;stroke-miterlimit:10;\" d=\"M 320 200 L 92.914063 257.308594 \"/>\n<path style=\"fill:none;stroke-width:0.0320057;stroke-linecap:butt;stroke-linejoin:miter;stroke:rgb(26.666667%,26.666667%,26.666667%);stroke-opacity:1;stroke-miterlimit:10;\" d=\"M 150.640625 310.269531 L 265.261719 99.195313 \"/>\n<path style=\"fill:none;stroke-width:0.0284495;stroke-linecap:butt;stroke-linejoin:miter;stroke:rgb(26.666667%,26.666667%,26.666667%);stroke-opacity:1;stroke-miterlimit:10;\" d=\"M 228.835938 316.726563 L 265.261719 99.195313 \"/>\n<path style=\"fill:none;stroke-width:0.0355619;stroke-linecap:butt;stroke-linejoin:miter;stroke:rgb(26.666667%,26.666667%,26.666667%);stroke-opacity:1;stroke-miterlimit:10;\" d=\"M 228.835938 316.726563 L 228.835938 83.273438 \"/>\n<path style=\"fill:none;stroke-width:0.0497866;stroke-linecap:butt;stroke-linejoin:miter;stroke:rgb(26.666667%,26.666667%,26.666667%);stroke-opacity:1;stroke-miterlimit:10;\" d=\"M 150.640625 89.730469 L 294.523438 126.042969 \"/>\n<path style=\"fill:none;stroke-width:0.0106686;stroke-linecap:butt;stroke-linejoin:miter;stroke:rgb(26.666667%,26.666667%,26.666667%);stroke-opacity:1;stroke-miterlimit:10;\" d=\"M 80 180.179688 L 294.523438 126.042969 \"/>\n<path style=\"fill:none;stroke-width:0.0213371;stroke-linecap:butt;stroke-linejoin:miter;stroke:rgb(26.666667%,26.666667%,26.666667%);stroke-opacity:1;stroke-miterlimit:10;\" d=\"M 189.199219 320 L 80 180.179688 \"/>\n<path style=\"fill:none;stroke-width:0.0177809;stroke-linecap:butt;stroke-linejoin:miter;stroke:rgb(26.666667%,26.666667%,26.666667%);stroke-opacity:1;stroke-miterlimit:10;\" d=\"M 320 200 L 313.453125 239.097656 \"/>\n<path style=\"fill:none;stroke-width:0.0142248;stroke-linecap:butt;stroke-linejoin:miter;stroke:rgb(26.666667%,26.666667%,26.666667%);stroke-opacity:1;stroke-miterlimit:10;\" d=\"M 313.453125 239.097656 L 294.523438 273.957031 \"/>\n<path style=\"fill:none;stroke-width:0.00355619;stroke-linecap:butt;stroke-linejoin:miter;stroke:rgb(26.666667%,26.666667%,26.666667%);stroke-opacity:1;stroke-miterlimit:10;\" d=\"M 313.453125 239.097656 L 80 219.820313 \"/>\n<path style=\"fill:none;stroke-width:0.00711238;stroke-linecap:butt;stroke-linejoin:miter;stroke:rgb(26.666667%,26.666667%,26.666667%);stroke-opacity:1;stroke-miterlimit:10;\" d=\"M 313.453125 239.097656 L 189.199219 80 \"/>\n<path style=\"fill:none;stroke-width:0.0106686;stroke-linecap:butt;stroke-linejoin:miter;stroke:rgb(26.666667%,26.666667%,26.666667%);stroke-opacity:1;stroke-miterlimit:10;\" d=\"M 228.835938 83.273438 L 313.453125 160.902344 \"/>\n<path style=\"fill:none;stroke-width:0.0213371;stroke-linecap:butt;stroke-linejoin:miter;stroke:rgb(26.666667%,26.666667%,26.666667%);stroke-opacity:1;stroke-miterlimit:10;\" d=\"M 80 180.179688 L 313.453125 160.902344 \"/>\n<path style=\"fill:none;stroke-width:0.0106686;stroke-linecap:butt;stroke-linejoin:miter;stroke:rgb(26.666667%,26.666667%,26.666667%);stroke-opacity:1;stroke-miterlimit:10;\" d=\"M 80 180.179688 L 265.261719 99.195313 \"/>\n<path style=\"fill:none;stroke-width:0.0142248;stroke-linecap:butt;stroke-linejoin:miter;stroke:rgb(26.666667%,26.666667%,26.666667%);stroke-opacity:1;stroke-miterlimit:10;\" d=\"M 117.34375 288.589844 L 117.34375 111.410156 \"/>\n<path style=\"fill:none;stroke-width:0.00711238;stroke-linecap:butt;stroke-linejoin:miter;stroke:rgb(26.666667%,26.666667%,26.666667%);stroke-opacity:1;stroke-miterlimit:10;\" d=\"M 80 180.179688 L 228.835938 83.273438 \"/>\n<path style=\"fill:none;stroke-width:0.00711238;stroke-linecap:butt;stroke-linejoin:miter;stroke:rgb(26.666667%,26.666667%,26.666667%);stroke-opacity:1;stroke-miterlimit:10;\" d=\"M 228.835938 316.726563 L 80 180.179688 \"/>\n<path style=\"fill:none;stroke-width:0.0177809;stroke-linecap:butt;stroke-linejoin:miter;stroke:rgb(26.666667%,26.666667%,26.666667%);stroke-opacity:1;stroke-miterlimit:10;\" d=\"M 320 200 L 228.835938 316.726563 \"/>\n<path style=\"fill:none;stroke-width:0.00355619;stroke-linecap:butt;stroke-linejoin:miter;stroke:rgb(26.666667%,26.666667%,26.666667%);stroke-opacity:1;stroke-miterlimit:10;\" d=\"M 320 200 L 117.34375 288.589844 \"/>\n<path style=\"fill:none;stroke-width:0.00355619;stroke-linecap:butt;stroke-linejoin:miter;stroke:rgb(26.666667%,26.666667%,26.666667%);stroke-opacity:1;stroke-miterlimit:10;\" d=\"M 320 200 L 313.453125 160.902344 \"/>\n<path style=\"fill:none;stroke-width:0.0142248;stroke-linecap:butt;stroke-linejoin:miter;stroke:rgb(26.666667%,26.666667%,26.666667%);stroke-opacity:1;stroke-miterlimit:10;\" d=\"M 320 200 L 189.199219 80 \"/>\n<path style=\"fill:none;stroke-width:0.00355619;stroke-linecap:butt;stroke-linejoin:miter;stroke:rgb(26.666667%,26.666667%,26.666667%);stroke-opacity:1;stroke-miterlimit:10;\" d=\"M 117.34375 111.410156 L 228.835938 83.273438 \"/>\n<path style=\"fill:none;stroke-width:0.00711238;stroke-linecap:butt;stroke-linejoin:miter;stroke:rgb(26.666667%,26.666667%,26.666667%);stroke-opacity:1;stroke-miterlimit:10;\" d=\"M 313.453125 239.097656 L 228.835938 316.726563 \"/>\n<path style=\"fill:none;stroke-width:0.00711238;stroke-linecap:butt;stroke-linejoin:miter;stroke:rgb(26.666667%,26.666667%,26.666667%);stroke-opacity:1;stroke-miterlimit:10;\" d=\"M 117.34375 111.410156 L 313.453125 160.902344 \"/>\n<path style=\"fill:none;stroke-width:0.0106686;stroke-linecap:butt;stroke-linejoin:miter;stroke:rgb(26.666667%,26.666667%,26.666667%);stroke-opacity:1;stroke-miterlimit:10;\" d=\"M 189.199219 320 L 313.453125 160.902344 \"/>\n<path style=\"fill:none;stroke-width:0.00355619;stroke-linecap:butt;stroke-linejoin:miter;stroke:rgb(26.666667%,26.666667%,26.666667%);stroke-opacity:1;stroke-miterlimit:10;\" d=\"M 313.453125 239.097656 L 189.199219 320 \"/>\n<path style=\"fill-rule:nonzero;fill:rgb(100%,0%,0%);fill-opacity:1;stroke-width:1;stroke-linecap:butt;stroke-linejoin:miter;stroke:rgb(0%,0%,0%);stroke-opacity:1;stroke-miterlimit:10;\" d=\"M 330 200 C 330 205.523438 325.523438 210 320 210 C 314.476563 210 310 205.523438 310 200 C 310 194.476563 314.476563 190 320 190 C 325.523438 190 330 194.476563 330 200 \"/>\n<path style=\"fill-rule:nonzero;fill:rgb(100%,0%,0%);fill-opacity:1;stroke-width:1;stroke-linecap:butt;stroke-linejoin:miter;stroke:rgb(0%,0%,0%);stroke-opacity:1;stroke-miterlimit:10;\" d=\"M 323.453125 239.097656 C 323.453125 244.621094 318.976563 249.097656 313.453125 249.097656 C 307.929688 249.097656 303.453125 244.621094 303.453125 239.097656 C 303.453125 233.574219 307.929688 229.097656 313.453125 229.097656 C 318.976563 229.097656 323.453125 233.574219 323.453125 239.097656 \"/>\n<path style=\"fill-rule:nonzero;fill:rgb(100%,100%,100%);fill-opacity:1;stroke-width:1;stroke-linecap:butt;stroke-linejoin:miter;stroke:rgb(0%,0%,0%);stroke-opacity:1;stroke-miterlimit:10;\" d=\"M 304.523438 273.957031 C 304.523438 279.480469 300.046875 283.957031 294.523438 283.957031 C 289 283.957031 284.523438 279.480469 284.523438 273.957031 C 284.523438 268.433594 289 263.957031 294.523438 263.957031 C 300.046875 263.957031 304.523438 268.433594 304.523438 273.957031 \"/>\n<path style=\"fill-rule:nonzero;fill:rgb(100%,100%,100%);fill-opacity:1;stroke-width:1;stroke-linecap:butt;stroke-linejoin:miter;stroke:rgb(0%,0%,0%);stroke-opacity:1;stroke-miterlimit:10;\" d=\"M 275.261719 300.804688 C 275.261719 306.328125 270.785156 310.804688 265.261719 310.804688 C 259.738281 310.804688 255.261719 306.328125 255.261719 300.804688 C 255.261719 295.28125 259.738281 290.804688 265.261719 290.804688 C 270.785156 290.804688 275.261719 295.28125 275.261719 300.804688 \"/>\n<path style=\"fill-rule:nonzero;fill:rgb(100%,100%,100%);fill-opacity:1;stroke-width:1;stroke-linecap:butt;stroke-linejoin:miter;stroke:rgb(0%,0%,0%);stroke-opacity:1;stroke-miterlimit:10;\" d=\"M 238.835938 316.726563 C 238.835938 322.25 234.359375 326.726563 228.835938 326.726563 C 223.3125 326.726563 218.835938 322.25 218.835938 316.726563 C 218.835938 311.203125 223.3125 306.726563 228.835938 306.726563 C 234.359375 306.726563 238.835938 311.203125 238.835938 316.726563 \"/>\n<path style=\"fill-rule:nonzero;fill:rgb(100%,100%,100%);fill-opacity:1;stroke-width:1;stroke-linecap:butt;stroke-linejoin:miter;stroke:rgb(0%,0%,0%);stroke-opacity:1;stroke-miterlimit:10;\" d=\"M 199.199219 320 C 199.199219 325.523438 194.722656 330 189.199219 330 C 183.675781 330 179.199219 325.523438 179.199219 320 C 179.199219 314.476563 183.675781 310 189.199219 310 C 194.722656 310 199.199219 314.476563 199.199219 320 \"/>\n<path style=\"fill-rule:nonzero;fill:rgb(100%,100%,100%);fill-opacity:1;stroke-width:1;stroke-linecap:butt;stroke-linejoin:miter;stroke:rgb(0%,0%,0%);stroke-opacity:1;stroke-miterlimit:10;\" d=\"M 160.640625 310.269531 C 160.640625 315.792969 156.164063 320.269531 150.640625 320.269531 C 145.117188 320.269531 140.640625 315.792969 140.640625 310.269531 C 140.640625 304.746094 145.117188 300.269531 150.640625 300.269531 C 156.164063 300.269531 160.640625 304.746094 160.640625 310.269531 \"/>\n<path style=\"fill-rule:nonzero;fill:rgb(100%,100%,100%);fill-opacity:1;stroke-width:1;stroke-linecap:butt;stroke-linejoin:miter;stroke:rgb(0%,0%,0%);stroke-opacity:1;stroke-miterlimit:10;\" d=\"M 127.34375 288.589844 C 127.34375 294.113281 122.867188 298.589844 117.34375 298.589844 C 111.820313 298.589844 107.34375 294.113281 107.34375 288.589844 C 107.34375 283.066406 111.820313 278.589844 117.34375 278.589844 C 122.867188 278.589844 127.34375 283.066406 127.34375 288.589844 \"/>\n<path style=\"fill-rule:nonzero;fill:rgb(100%,100%,100%);fill-opacity:1;stroke-width:1;stroke-linecap:butt;stroke-linejoin:miter;stroke:rgb(0%,0%,0%);stroke-opacity:1;stroke-miterlimit:10;\" d=\"M 102.914063 257.308594 C 102.914063 262.832031 98.4375 267.308594 92.914063 267.308594 C 87.390625 267.308594 82.914063 262.832031 82.914063 257.308594 C 82.914063 251.785156 87.390625 247.308594 92.914063 247.308594 C 98.4375 247.308594 102.914063 251.785156 102.914063 257.308594 \"/>\n<path style=\"fill-rule:nonzero;fill:rgb(100%,100%,100%);fill-opacity:1;stroke-width:1;stroke-linecap:butt;stroke-linejoin:miter;stroke:rgb(0%,0%,0%);stroke-opacity:1;stroke-miterlimit:10;\" d=\"M 90 219.820313 C 90 225.34375 85.523438 229.820313 80 229.820313 C 74.476563 229.820313 70 225.34375 70 219.820313 C 70 214.296875 74.476563 209.820313 80 209.820313 C 85.523438 209.820313 90 214.296875 90 219.820313 \"/>\n<path style=\"fill-rule:nonzero;fill:rgb(100%,100%,100%);fill-opacity:1;stroke-width:1;stroke-linecap:butt;stroke-linejoin:miter;stroke:rgb(0%,0%,0%);stroke-opacity:1;stroke-miterlimit:10;\" d=\"M 90 180.179688 C 90 185.703125 85.523438 190.179688 80 190.179688 C 74.476563 190.179688 70 185.703125 70 180.179688 C 70 174.65625 74.476563 170.179688 80 170.179688 C 85.523438 170.179688 90 174.65625 90 180.179688 \"/>\n<path style=\"fill-rule:nonzero;fill:rgb(100%,100%,100%);fill-opacity:1;stroke-width:1;stroke-linecap:butt;stroke-linejoin:miter;stroke:rgb(0%,0%,0%);stroke-opacity:1;stroke-miterlimit:10;\" d=\"M 102.914063 142.691406 C 102.914063 148.214844 98.4375 152.691406 92.914063 152.691406 C 87.390625 152.691406 82.914063 148.214844 82.914063 142.691406 C 82.914063 137.167969 87.390625 132.691406 92.914063 132.691406 C 98.4375 132.691406 102.914063 137.167969 102.914063 142.691406 \"/>\n<path style=\"fill-rule:nonzero;fill:rgb(100%,100%,100%);fill-opacity:1;stroke-width:1;stroke-linecap:butt;stroke-linejoin:miter;stroke:rgb(0%,0%,0%);stroke-opacity:1;stroke-miterlimit:10;\" d=\"M 127.34375 111.410156 C 127.34375 116.933594 122.867188 121.410156 117.34375 121.410156 C 111.820313 121.410156 107.34375 116.933594 107.34375 111.410156 C 107.34375 105.886719 111.820313 101.410156 117.34375 101.410156 C 122.867188 101.410156 127.34375 105.886719 127.34375 111.410156 \"/>\n<path style=\"fill-rule:nonzero;fill:rgb(100%,100%,100%);fill-opacity:1;stroke-width:1;stroke-linecap:butt;stroke-linejoin:miter;stroke:rgb(0%,0%,0%);stroke-opacity:1;stroke-miterlimit:10;\" d=\"M 160.640625 89.730469 C 160.640625 95.253906 156.164063 99.730469 150.640625 99.730469 C 145.117188 99.730469 140.640625 95.253906 140.640625 89.730469 C 140.640625 84.207031 145.117188 79.730469 150.640625 79.730469 C 156.164063 79.730469 160.640625 84.207031 160.640625 89.730469 \"/>\n<path style=\"fill-rule:nonzero;fill:rgb(100%,100%,100%);fill-opacity:1;stroke-width:1;stroke-linecap:butt;stroke-linejoin:miter;stroke:rgb(0%,0%,0%);stroke-opacity:1;stroke-miterlimit:10;\" d=\"M 199.199219 80 C 199.199219 85.523438 194.722656 90 189.199219 90 C 183.675781 90 179.199219 85.523438 179.199219 80 C 179.199219 74.476563 183.675781 70 189.199219 70 C 194.722656 70 199.199219 74.476563 199.199219 80 \"/>\n<path style=\"fill-rule:nonzero;fill:rgb(100%,100%,100%);fill-opacity:1;stroke-width:1;stroke-linecap:butt;stroke-linejoin:miter;stroke:rgb(0%,0%,0%);stroke-opacity:1;stroke-miterlimit:10;\" d=\"M 238.835938 83.273438 C 238.835938 88.796875 234.359375 93.273438 228.835938 93.273438 C 223.3125 93.273438 218.835938 88.796875 218.835938 83.273438 C 218.835938 77.75 223.3125 73.273438 228.835938 73.273438 C 234.359375 73.273438 238.835938 77.75 238.835938 83.273438 \"/>\n<path style=\"fill-rule:nonzero;fill:rgb(100%,100%,100%);fill-opacity:1;stroke-width:1;stroke-linecap:butt;stroke-linejoin:miter;stroke:rgb(0%,0%,0%);stroke-opacity:1;stroke-miterlimit:10;\" d=\"M 275.261719 99.195313 C 275.261719 104.71875 270.785156 109.195313 265.261719 109.195313 C 259.738281 109.195313 255.261719 104.71875 255.261719 99.195313 C 255.261719 93.671875 259.738281 89.195313 265.261719 89.195313 C 270.785156 89.195313 275.261719 93.671875 275.261719 99.195313 \"/>\n<path style=\"fill-rule:nonzero;fill:rgb(100%,100%,100%);fill-opacity:1;stroke-width:1;stroke-linecap:butt;stroke-linejoin:miter;stroke:rgb(0%,0%,0%);stroke-opacity:1;stroke-miterlimit:10;\" d=\"M 304.523438 126.042969 C 304.523438 131.566406 300.046875 136.042969 294.523438 136.042969 C 289 136.042969 284.523438 131.566406 284.523438 126.042969 C 284.523438 120.519531 289 116.042969 294.523438 116.042969 C 300.046875 116.042969 304.523438 120.519531 304.523438 126.042969 \"/>\n<path style=\"fill-rule:nonzero;fill:rgb(100%,100%,100%);fill-opacity:1;stroke-width:1;stroke-linecap:butt;stroke-linejoin:miter;stroke:rgb(0%,0%,0%);stroke-opacity:1;stroke-miterlimit:10;\" d=\"M 323.453125 160.902344 C 323.453125 166.425781 318.976563 170.902344 313.453125 170.902344 C 307.929688 170.902344 303.453125 166.425781 303.453125 160.902344 C 303.453125 155.378906 307.929688 150.902344 313.453125 150.902344 C 318.976563 150.902344 323.453125 155.378906 323.453125 160.902344 \"/>\n<g style=\"fill:rgb(0%,0%,0%);fill-opacity:1;\">\n  <use xlink:href=\"#glyph0-1\" x=\"315.332031\" y=\"206.511719\"/>\n</g>\n<g style=\"fill:rgb(0%,0%,0%);fill-opacity:1;\">\n  <use xlink:href=\"#glyph0-2\" x=\"308.644531\" y=\"245.609375\"/>\n</g>\n<g style=\"fill:rgb(0%,0%,0%);fill-opacity:1;\">\n  <use xlink:href=\"#glyph0-3\" x=\"289.394531\" y=\"280.554688\"/>\n</g>\n<g style=\"fill:rgb(0%,0%,0%);fill-opacity:1;\">\n  <use xlink:href=\"#glyph0-4\" x=\"260.039063\" y=\"307.316406\"/>\n</g>\n<g style=\"fill:rgb(0%,0%,0%);fill-opacity:1;\">\n  <use xlink:href=\"#glyph0-5\" x=\"223.988281\" y=\"323.238281\"/>\n</g>\n<g style=\"fill:rgb(0%,0%,0%);fill-opacity:1;\">\n  <use xlink:href=\"#glyph0-6\" x=\"184.667969\" y=\"326.511719\"/>\n</g>\n<g style=\"fill:rgb(0%,0%,0%);fill-opacity:1;\">\n  <use xlink:href=\"#glyph0-7\" x=\"145.261719\" y=\"316.867188\"/>\n</g>\n<g style=\"fill:rgb(0%,0%,0%);fill-opacity:1;\">\n  <use xlink:href=\"#glyph0-8\" x=\"112.292969\" y=\"295.101563\"/>\n</g>\n<g style=\"fill:rgb(0%,0%,0%);fill-opacity:1;\">\n  <use xlink:href=\"#glyph0-9\" x=\"90.945313\" y=\"263.820313\"/>\n</g>\n<g style=\"fill:rgb(0%,0%,0%);fill-opacity:1;\">\n  <use xlink:href=\"#glyph0-10\" x=\"76.855469\" y=\"226.328125\"/>\n</g>\n<g style=\"fill:rgb(0%,0%,0%);fill-opacity:1;\">\n  <use xlink:href=\"#glyph0-11\" x=\"74.832031\" y=\"186.691406\"/>\n</g>\n<g style=\"fill:rgb(0%,0%,0%);fill-opacity:1;\">\n  <use xlink:href=\"#glyph0-12\" x=\"88.757813\" y=\"149.203125\"/>\n</g>\n<g style=\"fill:rgb(0%,0%,0%);fill-opacity:1;\">\n  <use xlink:href=\"#glyph0-13\" x=\"111.523438\" y=\"117.921875\"/>\n</g>\n<g style=\"fill:rgb(0%,0%,0%);fill-opacity:1;\">\n  <use xlink:href=\"#glyph0-14\" x=\"145.628906\" y=\"96.242188\"/>\n</g>\n<g style=\"fill:rgb(0%,0%,0%);fill-opacity:1;\">\n  <use xlink:href=\"#glyph0-15\" x=\"183.730469\" y=\"86.601563\"/>\n</g>\n<g style=\"fill:rgb(0%,0%,0%);fill-opacity:1;\">\n  <use xlink:href=\"#glyph0-16\" x=\"223.933594\" y=\"89.785156\"/>\n</g>\n<g style=\"fill:rgb(0%,0%,0%);fill-opacity:1;\">\n  <use xlink:href=\"#glyph0-17\" x=\"259.769531\" y=\"105.796875\"/>\n</g>\n<g style=\"fill:rgb(0%,0%,0%);fill-opacity:1;\">\n  <use xlink:href=\"#glyph0-18\" x=\"289.007813\" y=\"132.550781\"/>\n</g>\n<g style=\"fill:rgb(0%,0%,0%);fill-opacity:1;\">\n  <use xlink:href=\"#glyph0-19\" x=\"309.210938\" y=\"167.414063\"/>\n</g>\n</g>\n</svg>\n"
     },
     "metadata": {
      "image/svg+xml": {
       "isolated": true
      }
     },
     "execution_count": 14
    }
   ],
   "metadata": {}
  },
  {
   "cell_type": "code",
   "execution_count": 57,
   "source": [
    "from skmultilearn.ensemble import LabelSpacePartitioningClassifier, MajorityVotingClassifier\r\n",
    "from skmultilearn.problem_transform import ClassifierChain\r\n",
    "\r\n",
    "params = {'C': 0.5, 'loss': 'hinge', 'multi_class': 'ovr', 'penalty': 'l2', 'class_weight': 'balanced'}\r\n",
    "classifier = MajorityVotingClassifier(\r\n",
    "    classifier = ClassifierChain(LinearSVC(**params)),\r\n",
    "    clusterer = clusterer\r\n",
    ")\r\n",
    "\r\n",
    "classifier.fit(xtrain_tfidf_ngram.toarray(), ytrain_tfidf_ngram)\r\n"
   ],
   "outputs": [
    {
     "output_type": "execute_result",
     "data": {
      "text/plain": [
       "MajorityVotingClassifier(classifier=ClassifierChain(classifier=LinearSVC(C=0.5,\n",
       "                                                                         class_weight='balanced',\n",
       "                                                                         loss='hinge'),\n",
       "                                                    require_dense=[True, True]),\n",
       "                         clusterer=<skmultilearn.cluster.igraph.IGraphLabelGraphClusterer object at 0x00000260E73FC5E0>,\n",
       "                         require_dense=[False, False])"
      ]
     },
     "metadata": {},
     "execution_count": 57
    }
   ],
   "metadata": {}
  },
  {
   "cell_type": "code",
   "execution_count": 58,
   "source": [
    "prediction = classifier.predict(xtest_tfidf_ngram)\r\n",
    "print_ml_score(ytest_tfidf_ngram, prediction.toarray(), classifier)"
   ],
   "outputs": [
    {
     "output_type": "stream",
     "name": "stdout",
     "text": [
      "Classifier:  MajorityVotingClassifier\n",
      "Accuracy Score: 0.5393731933668036\n",
      "-----------------------------------\n"
     ]
    }
   ],
   "metadata": {}
  }
 ],
 "metadata": {
  "kernelspec": {
   "name": "python3",
   "display_name": "Python 3.8.8 64-bit ('base': conda)"
  },
  "language_info": {
   "name": "python",
   "version": "3.8.8",
   "mimetype": "text/x-python",
   "codemirror_mode": {
    "name": "ipython",
    "version": 3
   },
   "pygments_lexer": "ipython3",
   "nbconvert_exporter": "python",
   "file_extension": ".py"
  },
  "interpreter": {
   "hash": "b3ba2566441a7c06988d0923437866b63cedc61552a5af99d1f4fb67d367b25f"
  }
 },
 "nbformat": 4,
 "nbformat_minor": 2
}