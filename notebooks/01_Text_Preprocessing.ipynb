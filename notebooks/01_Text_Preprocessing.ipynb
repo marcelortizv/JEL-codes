{
 "cells": [
  {
   "cell_type": "markdown",
   "metadata": {
    "collapsed": true,
    "pycharm": {
     "name": "#%% md\n"
    }
   },
   "source": [
    "### Import Libraries\n"
   ]
  },
  {
   "cell_type": "code",
   "execution_count": 2,
   "outputs": [
    {
     "name": "stderr",
     "output_type": "stream",
     "text": [
      "[nltk_data] Downloading package stopwords to\n",
      "[nltk_data]     /Users/c02g40n7q05p/nltk_data...\n",
      "[nltk_data]   Unzipping corpora/stopwords.zip.\n",
      "[nltk_data] Downloading package wordnet to\n",
      "[nltk_data]     /Users/c02g40n7q05p/nltk_data...\n",
      "[nltk_data]   Unzipping corpora/wordnet.zip.\n"
     ]
    }
   ],
   "source": [
    "import pandas as pd\n",
    "import numpy as np\n",
    "import ast\n",
    "import nltk\n",
    "from nltk.corpus import stopwords\n",
    "nltk.download('stopwords')\n",
    "nltk.download('wordnet')\n",
    "from nltk.tokenize import word_tokenize\n",
    "from nltk.stem import WordNetLemmatizer\n",
    "import re\n",
    "import warnings\n",
    "warnings.filterwarnings(\"ignore\")"
   ],
   "metadata": {
    "collapsed": false,
    "pycharm": {
     "name": "#%%\n"
    }
   }
  },
  {
   "cell_type": "markdown",
   "source": [
    "### Functions"
   ],
   "metadata": {
    "collapsed": false,
    "pycharm": {
     "name": "#%% md\n"
    }
   }
  },
  {
   "cell_type": "code",
   "execution_count": 3,
   "outputs": [],
   "source": [
    "wnl = WordNetLemmatizer()\n",
    "def clean_text(text_series):\n",
    "    econ_stopwords = ['model', 'using', 'paper']\n",
    "    text_tokens = word_tokenize(text_series)\n",
    "    tokens_without_sw = [word for word in text_tokens if not word in stopwords.words()]\n",
    "    tokens_without_sw = [word for word in tokens_without_sw if not word in econ_stopwords]\n",
    "    tokens_without_sw_lemma = [wnl.lemmatize(word, pos=\"v\") for word in tokens_without_sw if not word in econ_stopwords]\n",
    "\n",
    "    # removing stopwords and econ stopwords\n",
    "    text_series = \" \".join(tokens_without_sw_lemma)\n",
    "    # removing double quotes from text\n",
    "    text_series = text_series.replace('\"', '')\n",
    "    # removing single quotes from text\n",
    "    text_series = text_series.replace(\"'\", '')\n",
    "    # removing comma from text\n",
    "    text_series = text_series.replace(',', '')\n",
    "    # removing dot from text\n",
    "    text_series = text_series.replace('.', '')\n",
    "    # removing double dot from text\n",
    "    text_series = text_series.replace(':', '')\n",
    "    # removing percentage from text\n",
    "    text_series = text_series.replace('%', '')\n",
    "    # remove numbers from text\n",
    "    text_series = re.sub(r'[0-9]+', '', text_series)\n",
    "\n",
    "    return text_series"
   ],
   "metadata": {
    "collapsed": false,
    "pycharm": {
     "name": "#%%\n"
    }
   }
  },
  {
   "cell_type": "code",
   "execution_count": 4,
   "outputs": [],
   "source": [
    "# Notebook parameters\n",
    "data_name = 'papers_w_JELcode.csv'\n",
    "data_path = '../data/'\n",
    "output_data = 'traning_data_cleaned'\n",
    "version = '_v03'"
   ],
   "metadata": {
    "collapsed": false,
    "pycharm": {
     "name": "#%%\n"
    }
   }
  },
  {
   "cell_type": "code",
   "execution_count": 5,
   "outputs": [
    {
     "name": "stdout",
     "output_type": "stream",
     "text": [
      "(3126, 71)\n"
     ]
    }
   ],
   "source": [
    "data = pd.read_csv(data_path + data_name)\n",
    "\n",
    "print(data.shape)"
   ],
   "metadata": {
    "collapsed": false,
    "pycharm": {
     "name": "#%%\n"
    }
   }
  },
  {
   "cell_type": "code",
   "execution_count": 6,
   "outputs": [
    {
     "name": "stdout",
     "output_type": "stream",
     "text": [
      "Index(['title_x', 'idpaper_2', 'journal', 'journal_num', 'year', 'month',\n",
      "       'volume', 'issue', 'idpaper', 'jelcodes', 'keywords', 'abstract',\n",
      "       'start_page', 'end_page', 'num_words', 'num_words_90_flag', 'idauthor',\n",
      "       'author', 'prop_women', 'num_authors', 'gender_group_type',\n",
      "       'sole_or_coauthors', 'num_pages', 'num_pages_dmean',\n",
      "       'flesch_kincaid_grade_level', 'log_flesch_kincaid_grade_level',\n",
      "       'flesch_kincaid_reading_ease', 'log_flesch_kincaid_reading_ease',\n",
      "       'dale_chall', 'log_dale_chall', 'coleman_liau_index',\n",
      "       'log_coleman_liau_index', 'automated_readability_index',\n",
      "       'log_automated_readability_index', 'american_economic_review',\n",
      "       'econometrica', 'journal_of_pol_economy',\n",
      "       'quarterly_journal_of_economics', 'review_of_economic_studies',\n",
      "       'coauthors', 'single_author', 'both_genders', 'only_females',\n",
      "       'only_males', 'num_sentences', 'num_syllables', 'observation',\n",
      "       'authors', 'jelcodes_letter', 'jelcodes_text', 'jel_dummy_A',\n",
      "       'jel_dummy_B', 'jel_dummy_C', 'jel_dummy_D', 'jel_dummy_E',\n",
      "       'jel_dummy_F', 'jel_dummy_G', 'jel_dummy_H', 'jel_dummy_I',\n",
      "       'jel_dummy_J', 'jel_dummy_K', 'jel_dummy_L', 'jel_dummy_M',\n",
      "       'jel_dummy_N', 'jel_dummy_O', 'jel_dummy_P', 'jel_dummy_Q',\n",
      "       'jel_dummy_R', 'jel_dummy_Y', 'jel_dummy_Z', 'tags'],\n",
      "      dtype='object')\n"
     ]
    },
    {
     "data": {
      "text/plain": "                                             title_x      idpaper_2  \\\n0     optimal adoption of complementary technologies   120009011529   \n1  collateral damage: effects of the japanese ban...   120009013045   \n2  endogenous inequality in integrated labor mark...   120009014672   \n3  labor-market integration, investment in risky ...   120009017395   \n4  unequal societies: income distribution and the...  1200090196129   \n\n                    journal  journal_num  year  month  volume  issue  \\\n0  American Economic Review            1  2000  March      90      1   \n1  American Economic Review            1  2000  March      90      1   \n2  American Economic Review            1  2000  March      90      1   \n3  American Economic Review            1  2000  March      90      1   \n4  American Economic Review            1  2000  March      90      1   \n\n        idpaper         jelcodes  ... jel_dummy_L jel_dummy_M  jel_dummy_N  \\\n0  1.200090e+09  E22|G31|O33|D24  ...           0           0            0   \n1  1.200090e+09          G21|E44  ...           0           0            0   \n2  1.200090e+09         J41| J71  ...           0           0            0   \n3  1.200090e+09  R23|J24|J31|J61  ...           0           0            0   \n4  1.200090e+09  D31|P16|I22|E62  ...           0           0            0   \n\n   jel_dummy_O  jel_dummy_P  jel_dummy_Q jel_dummy_R jel_dummy_Y  jel_dummy_Z  \\\n0            1            0            0           0           0            0   \n1            0            0            0           0           0            0   \n2            0            0            0           0           0            0   \n3            0            0            0           1           0            0   \n4            0            1            0           0           0            0   \n\n                   tags  \n0  ['O', 'D', 'G', 'E']  \n1            ['G', 'E']  \n2                 ['J']  \n3            ['J', 'R']  \n4  ['P', 'E', 'I', 'D']  \n\n[5 rows x 71 columns]",
      "text/html": "<div>\n<style scoped>\n    .dataframe tbody tr th:only-of-type {\n        vertical-align: middle;\n    }\n\n    .dataframe tbody tr th {\n        vertical-align: top;\n    }\n\n    .dataframe thead th {\n        text-align: right;\n    }\n</style>\n<table border=\"1\" class=\"dataframe\">\n  <thead>\n    <tr style=\"text-align: right;\">\n      <th></th>\n      <th>title_x</th>\n      <th>idpaper_2</th>\n      <th>journal</th>\n      <th>journal_num</th>\n      <th>year</th>\n      <th>month</th>\n      <th>volume</th>\n      <th>issue</th>\n      <th>idpaper</th>\n      <th>jelcodes</th>\n      <th>...</th>\n      <th>jel_dummy_L</th>\n      <th>jel_dummy_M</th>\n      <th>jel_dummy_N</th>\n      <th>jel_dummy_O</th>\n      <th>jel_dummy_P</th>\n      <th>jel_dummy_Q</th>\n      <th>jel_dummy_R</th>\n      <th>jel_dummy_Y</th>\n      <th>jel_dummy_Z</th>\n      <th>tags</th>\n    </tr>\n  </thead>\n  <tbody>\n    <tr>\n      <th>0</th>\n      <td>optimal adoption of complementary technologies</td>\n      <td>120009011529</td>\n      <td>American Economic Review</td>\n      <td>1</td>\n      <td>2000</td>\n      <td>March</td>\n      <td>90</td>\n      <td>1</td>\n      <td>1.200090e+09</td>\n      <td>E22|G31|O33|D24</td>\n      <td>...</td>\n      <td>0</td>\n      <td>0</td>\n      <td>0</td>\n      <td>1</td>\n      <td>0</td>\n      <td>0</td>\n      <td>0</td>\n      <td>0</td>\n      <td>0</td>\n      <td>['O', 'D', 'G', 'E']</td>\n    </tr>\n    <tr>\n      <th>1</th>\n      <td>collateral damage: effects of the japanese ban...</td>\n      <td>120009013045</td>\n      <td>American Economic Review</td>\n      <td>1</td>\n      <td>2000</td>\n      <td>March</td>\n      <td>90</td>\n      <td>1</td>\n      <td>1.200090e+09</td>\n      <td>G21|E44</td>\n      <td>...</td>\n      <td>0</td>\n      <td>0</td>\n      <td>0</td>\n      <td>0</td>\n      <td>0</td>\n      <td>0</td>\n      <td>0</td>\n      <td>0</td>\n      <td>0</td>\n      <td>['G', 'E']</td>\n    </tr>\n    <tr>\n      <th>2</th>\n      <td>endogenous inequality in integrated labor mark...</td>\n      <td>120009014672</td>\n      <td>American Economic Review</td>\n      <td>1</td>\n      <td>2000</td>\n      <td>March</td>\n      <td>90</td>\n      <td>1</td>\n      <td>1.200090e+09</td>\n      <td>J41| J71</td>\n      <td>...</td>\n      <td>0</td>\n      <td>0</td>\n      <td>0</td>\n      <td>0</td>\n      <td>0</td>\n      <td>0</td>\n      <td>0</td>\n      <td>0</td>\n      <td>0</td>\n      <td>['J']</td>\n    </tr>\n    <tr>\n      <th>3</th>\n      <td>labor-market integration, investment in risky ...</td>\n      <td>120009017395</td>\n      <td>American Economic Review</td>\n      <td>1</td>\n      <td>2000</td>\n      <td>March</td>\n      <td>90</td>\n      <td>1</td>\n      <td>1.200090e+09</td>\n      <td>R23|J24|J31|J61</td>\n      <td>...</td>\n      <td>0</td>\n      <td>0</td>\n      <td>0</td>\n      <td>0</td>\n      <td>0</td>\n      <td>0</td>\n      <td>1</td>\n      <td>0</td>\n      <td>0</td>\n      <td>['J', 'R']</td>\n    </tr>\n    <tr>\n      <th>4</th>\n      <td>unequal societies: income distribution and the...</td>\n      <td>1200090196129</td>\n      <td>American Economic Review</td>\n      <td>1</td>\n      <td>2000</td>\n      <td>March</td>\n      <td>90</td>\n      <td>1</td>\n      <td>1.200090e+09</td>\n      <td>D31|P16|I22|E62</td>\n      <td>...</td>\n      <td>0</td>\n      <td>0</td>\n      <td>0</td>\n      <td>0</td>\n      <td>1</td>\n      <td>0</td>\n      <td>0</td>\n      <td>0</td>\n      <td>0</td>\n      <td>['P', 'E', 'I', 'D']</td>\n    </tr>\n  </tbody>\n</table>\n<p>5 rows × 71 columns</p>\n</div>"
     },
     "execution_count": 6,
     "metadata": {},
     "output_type": "execute_result"
    }
   ],
   "source": [
    "print(data.columns)\n",
    "#data.drop(columns=['Column1'], inplace=True)\n",
    "data.head()"
   ],
   "metadata": {
    "collapsed": false,
    "pycharm": {
     "name": "#%%\n"
    }
   }
  },
  {
   "cell_type": "code",
   "execution_count": 7,
   "outputs": [
    {
     "data": {
      "text/plain": "                                             title_x  \\\n0     optimal adoption of complementary technologies   \n1  collateral damage: effects of the japanese ban...   \n2  endogenous inequality in integrated labor mark...   \n3  labor-market integration, investment in risky ...   \n4  unequal societies: income distribution and the...   \n\n                                            abstract                  tags  \\\n0  When a production process requires two extreme...  ['O', 'D', 'G', 'E']   \n1  The Japanese banking crisis provides a natural...            ['G', 'E']   \n2  We consider a market with red and green worker...                 ['J']   \n3  This paper presents a general-equilibrium mode...            ['J', 'R']   \n4  This paper develops a theory of inequality and...  ['P', 'E', 'I', 'D']   \n\n                         idauthor  \n0            ['p00681', 'p01338']  \n1            ['p01546', 'p02544']  \n2  ['p00544', 'p01874', 'p03092']  \n3                      ['p01266']  \n4                      ['p04639']  ",
      "text/html": "<div>\n<style scoped>\n    .dataframe tbody tr th:only-of-type {\n        vertical-align: middle;\n    }\n\n    .dataframe tbody tr th {\n        vertical-align: top;\n    }\n\n    .dataframe thead th {\n        text-align: right;\n    }\n</style>\n<table border=\"1\" class=\"dataframe\">\n  <thead>\n    <tr style=\"text-align: right;\">\n      <th></th>\n      <th>title_x</th>\n      <th>abstract</th>\n      <th>tags</th>\n      <th>idauthor</th>\n    </tr>\n  </thead>\n  <tbody>\n    <tr>\n      <th>0</th>\n      <td>optimal adoption of complementary technologies</td>\n      <td>When a production process requires two extreme...</td>\n      <td>['O', 'D', 'G', 'E']</td>\n      <td>['p00681', 'p01338']</td>\n    </tr>\n    <tr>\n      <th>1</th>\n      <td>collateral damage: effects of the japanese ban...</td>\n      <td>The Japanese banking crisis provides a natural...</td>\n      <td>['G', 'E']</td>\n      <td>['p01546', 'p02544']</td>\n    </tr>\n    <tr>\n      <th>2</th>\n      <td>endogenous inequality in integrated labor mark...</td>\n      <td>We consider a market with red and green worker...</td>\n      <td>['J']</td>\n      <td>['p00544', 'p01874', 'p03092']</td>\n    </tr>\n    <tr>\n      <th>3</th>\n      <td>labor-market integration, investment in risky ...</td>\n      <td>This paper presents a general-equilibrium mode...</td>\n      <td>['J', 'R']</td>\n      <td>['p01266']</td>\n    </tr>\n    <tr>\n      <th>4</th>\n      <td>unequal societies: income distribution and the...</td>\n      <td>This paper develops a theory of inequality and...</td>\n      <td>['P', 'E', 'I', 'D']</td>\n      <td>['p04639']</td>\n    </tr>\n  </tbody>\n</table>\n</div>"
     },
     "execution_count": 7,
     "metadata": {},
     "output_type": "execute_result"
    }
   ],
   "source": [
    "df = data[[\"title_x\", \"abstract\", \"tags\", \"idauthor\"]]\n",
    "df.head()"
   ],
   "metadata": {
    "collapsed": false,
    "pycharm": {
     "name": "#%%\n"
    }
   }
  },
  {
   "cell_type": "code",
   "execution_count": 8,
   "outputs": [
    {
     "name": "stdout",
     "output_type": "stream",
     "text": [
      "<class 'str'>\n"
     ]
    },
    {
     "data": {
      "text/plain": "\"['O', 'D', 'G', 'E']\""
     },
     "execution_count": 8,
     "metadata": {},
     "output_type": "execute_result"
    }
   ],
   "source": [
    "print(type(df['tags'].iloc[0]))\n",
    "df['tags'].iloc[0]"
   ],
   "metadata": {
    "collapsed": false,
    "pycharm": {
     "name": "#%%\n"
    }
   }
  },
  {
   "cell_type": "code",
   "execution_count": 9,
   "outputs": [
    {
     "data": {
      "text/plain": "['O', 'D', 'G', 'E']"
     },
     "execution_count": 9,
     "metadata": {},
     "output_type": "execute_result"
    }
   ],
   "source": [
    "ast.literal_eval(df['tags'].iloc[0])"
   ],
   "metadata": {
    "collapsed": false,
    "pycharm": {
     "name": "#%%\n"
    }
   }
  },
  {
   "cell_type": "markdown",
   "source": [
    "## Text Preprocessing"
   ],
   "metadata": {
    "collapsed": false
   }
  },
  {
   "cell_type": "code",
   "execution_count": 10,
   "outputs": [
    {
     "data": {
      "text/plain": "                                             title_x  \\\n0     optimal adoption of complementary technologies   \n1  collateral damage: effects of the japanese ban...   \n2  endogenous inequality in integrated labor mark...   \n3  labor-market integration, investment in risky ...   \n4  unequal societies: income distribution and the...   \n\n                                            abstract          tags  \\\n0  When a production process requires two extreme...  [O, D, G, E]   \n1  The Japanese banking crisis provides a natural...        [G, E]   \n2  We consider a market with red and green worker...           [J]   \n3  This paper presents a general-equilibrium mode...        [J, R]   \n4  This paper develops a theory of inequality and...  [P, E, I, D]   \n\n                         idauthor  \n0            ['p00681', 'p01338']  \n1            ['p01546', 'p02544']  \n2  ['p00544', 'p01874', 'p03092']  \n3                      ['p01266']  \n4                      ['p04639']  ",
      "text/html": "<div>\n<style scoped>\n    .dataframe tbody tr th:only-of-type {\n        vertical-align: middle;\n    }\n\n    .dataframe tbody tr th {\n        vertical-align: top;\n    }\n\n    .dataframe thead th {\n        text-align: right;\n    }\n</style>\n<table border=\"1\" class=\"dataframe\">\n  <thead>\n    <tr style=\"text-align: right;\">\n      <th></th>\n      <th>title_x</th>\n      <th>abstract</th>\n      <th>tags</th>\n      <th>idauthor</th>\n    </tr>\n  </thead>\n  <tbody>\n    <tr>\n      <th>0</th>\n      <td>optimal adoption of complementary technologies</td>\n      <td>When a production process requires two extreme...</td>\n      <td>[O, D, G, E]</td>\n      <td>['p00681', 'p01338']</td>\n    </tr>\n    <tr>\n      <th>1</th>\n      <td>collateral damage: effects of the japanese ban...</td>\n      <td>The Japanese banking crisis provides a natural...</td>\n      <td>[G, E]</td>\n      <td>['p01546', 'p02544']</td>\n    </tr>\n    <tr>\n      <th>2</th>\n      <td>endogenous inequality in integrated labor mark...</td>\n      <td>We consider a market with red and green worker...</td>\n      <td>[J]</td>\n      <td>['p00544', 'p01874', 'p03092']</td>\n    </tr>\n    <tr>\n      <th>3</th>\n      <td>labor-market integration, investment in risky ...</td>\n      <td>This paper presents a general-equilibrium mode...</td>\n      <td>[J, R]</td>\n      <td>['p01266']</td>\n    </tr>\n    <tr>\n      <th>4</th>\n      <td>unequal societies: income distribution and the...</td>\n      <td>This paper develops a theory of inequality and...</td>\n      <td>[P, E, I, D]</td>\n      <td>['p04639']</td>\n    </tr>\n  </tbody>\n</table>\n</div>"
     },
     "execution_count": 10,
     "metadata": {},
     "output_type": "execute_result"
    }
   ],
   "source": [
    "# change tag's column to a list\n",
    "df['tags'] = df['tags'].apply(lambda x: ast.literal_eval(x))\n",
    "df.head()"
   ],
   "metadata": {
    "collapsed": false,
    "pycharm": {
     "name": "#%%\n"
    }
   }
  },
  {
   "cell_type": "code",
   "execution_count": 11,
   "outputs": [],
   "source": [
    "# joining text from title and abstract in column all_text\n",
    "df['all_text'] = df.title_x.astype(str).str.cat(df.abstract.astype(str), sep=' ')"
   ],
   "metadata": {
    "collapsed": false,
    "pycharm": {
     "name": "#%%\n"
    }
   }
  },
  {
   "cell_type": "code",
   "execution_count": 13,
   "outputs": [
    {
     "data": {
      "text/plain": "                                             title_x  \\\n0     optimal adoption of complementary technologies   \n1  collateral damage: effects of the japanese ban...   \n2  endogenous inequality in integrated labor mark...   \n3  labor-market integration, investment in risky ...   \n4  unequal societies: income distribution and the...   \n\n                                            abstract          tags  \\\n0  When a production process requires two extreme...  [O, D, G, E]   \n1  The Japanese banking crisis provides a natural...        [G, E]   \n2  We consider a market with red and green worker...           [J]   \n3  This paper presents a general-equilibrium mode...        [J, R]   \n4  This paper develops a theory of inequality and...  [P, E, I, D]   \n\n                         idauthor  \\\n0            ['p00681', 'p01338']   \n1            ['p01546', 'p02544']   \n2  ['p00544', 'p01874', 'p03092']   \n3                      ['p01266']   \n4                      ['p04639']   \n\n                                            all_text  \\\n0  optimal adoption of complementary technologies...   \n1  collateral damage: effects of the japanese ban...   \n2  endogenous inequality in integrated labor mark...   \n3  labor-market integration, investment in risky ...   \n4  unequal societies: income distribution and the...   \n\n                                    cleaned_abstract  \\\n0  production process require two extremely compl...   \n1  japanese bank crisis provide natural experimen...   \n2  consider market red green workers  label payof...   \n3  present general-equilibrium human capital inve...   \n4  develop theory inequality social contract aim ...   \n\n                                    cleaned_all_text  \n0  optimal adoption complementary technologies pr...  \n1  collateral damage  effect japanese bank crisis...  \n2  endogenous inequality integrate labor market t...  \n3  labor-market integration  investment risky hum...  \n4  unequal societies  income distribution social ...  ",
      "text/html": "<div>\n<style scoped>\n    .dataframe tbody tr th:only-of-type {\n        vertical-align: middle;\n    }\n\n    .dataframe tbody tr th {\n        vertical-align: top;\n    }\n\n    .dataframe thead th {\n        text-align: right;\n    }\n</style>\n<table border=\"1\" class=\"dataframe\">\n  <thead>\n    <tr style=\"text-align: right;\">\n      <th></th>\n      <th>title_x</th>\n      <th>abstract</th>\n      <th>tags</th>\n      <th>idauthor</th>\n      <th>all_text</th>\n      <th>cleaned_abstract</th>\n      <th>cleaned_all_text</th>\n    </tr>\n  </thead>\n  <tbody>\n    <tr>\n      <th>0</th>\n      <td>optimal adoption of complementary technologies</td>\n      <td>When a production process requires two extreme...</td>\n      <td>[O, D, G, E]</td>\n      <td>['p00681', 'p01338']</td>\n      <td>optimal adoption of complementary technologies...</td>\n      <td>production process require two extremely compl...</td>\n      <td>optimal adoption complementary technologies pr...</td>\n    </tr>\n    <tr>\n      <th>1</th>\n      <td>collateral damage: effects of the japanese ban...</td>\n      <td>The Japanese banking crisis provides a natural...</td>\n      <td>[G, E]</td>\n      <td>['p01546', 'p02544']</td>\n      <td>collateral damage: effects of the japanese ban...</td>\n      <td>japanese bank crisis provide natural experimen...</td>\n      <td>collateral damage  effect japanese bank crisis...</td>\n    </tr>\n    <tr>\n      <th>2</th>\n      <td>endogenous inequality in integrated labor mark...</td>\n      <td>We consider a market with red and green worker...</td>\n      <td>[J]</td>\n      <td>['p00544', 'p01874', 'p03092']</td>\n      <td>endogenous inequality in integrated labor mark...</td>\n      <td>consider market red green workers  label payof...</td>\n      <td>endogenous inequality integrate labor market t...</td>\n    </tr>\n    <tr>\n      <th>3</th>\n      <td>labor-market integration, investment in risky ...</td>\n      <td>This paper presents a general-equilibrium mode...</td>\n      <td>[J, R]</td>\n      <td>['p01266']</td>\n      <td>labor-market integration, investment in risky ...</td>\n      <td>present general-equilibrium human capital inve...</td>\n      <td>labor-market integration  investment risky hum...</td>\n    </tr>\n    <tr>\n      <th>4</th>\n      <td>unequal societies: income distribution and the...</td>\n      <td>This paper develops a theory of inequality and...</td>\n      <td>[P, E, I, D]</td>\n      <td>['p04639']</td>\n      <td>unequal societies: income distribution and the...</td>\n      <td>develop theory inequality social contract aim ...</td>\n      <td>unequal societies  income distribution social ...</td>\n    </tr>\n  </tbody>\n</table>\n</div>"
     },
     "execution_count": 13,
     "metadata": {},
     "output_type": "execute_result"
    }
   ],
   "source": [
    "# text preprocessing\n",
    "df['cleaned_abstract'] = df['abstract'].apply(lambda x: str(x).lower())\n",
    "df['cleaned_all_text'] = df['all_text'].apply(lambda x: str(x).lower())\n",
    "\n",
    "df['cleaned_abstract'] = df['cleaned_abstract'].apply(lambda x: clean_text(x))\n",
    "df['cleaned_all_text'] = df['cleaned_all_text'].apply(lambda x: clean_text(x))\n",
    "df.head()\n"
   ],
   "metadata": {
    "collapsed": false,
    "pycharm": {
     "name": "#%%\n"
    }
   }
  },
  {
   "cell_type": "code",
   "execution_count": 14,
   "outputs": [],
   "source": [
    "#save data for training set\n",
    "df.to_csv(data_path + output_data + version + '.csv', index_label=False)"
   ],
   "metadata": {
    "collapsed": false,
    "pycharm": {
     "name": "#%%\n"
    }
   }
  }
 ],
 "metadata": {
  "kernelspec": {
   "display_name": "Python 3",
   "language": "python",
   "name": "python3"
  },
  "language_info": {
   "codemirror_mode": {
    "name": "ipython",
    "version": 2
   },
   "file_extension": ".py",
   "mimetype": "text/x-python",
   "name": "python",
   "nbconvert_exporter": "python",
   "pygments_lexer": "ipython2",
   "version": "2.7.6"
  }
 },
 "nbformat": 4,
 "nbformat_minor": 0
}