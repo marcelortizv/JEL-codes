{
  "nbformat": 4,
  "nbformat_minor": 0,
  "metadata": {
    "colab": {
      "name": "03_word_embeddings.ipynb",
      "provenance": [],
      "authorship_tag": "ABX9TyPMRxoH+UzI+RkcYdVUYADG",
      "include_colab_link": true
    },
    "kernelspec": {
      "name": "python3",
      "display_name": "Python 3"
    },
    "language_info": {
      "name": "python"
    }
  },
  "cells": [
    {
      "cell_type": "markdown",
      "metadata": {
        "id": "view-in-github",
        "colab_type": "text"
      },
      "source": [
        "<a href=\"https://colab.research.google.com/github/marcelortizv/JELcodes_prediction/blob/main/03_word_embeddings.ipynb\" target=\"_parent\"><img src=\"https://colab.research.google.com/assets/colab-badge.svg\" alt=\"Open In Colab\"/></a>"
      ]
    },
    {
      "cell_type": "code",
      "metadata": {
        "colab": {
          "base_uri": "https://localhost:8080/"
        },
        "id": "gz8HXzN8B34I",
        "outputId": "caf1612f-5552-4cbe-9b43-1c773d058faa"
      },
      "source": [
        "!python -m spacy download en_core_web_lg"
      ],
      "execution_count": 1,
      "outputs": [
        {
          "output_type": "stream",
          "text": [
            "Collecting en_core_web_lg==2.2.5\n",
            "  Downloading https://github.com/explosion/spacy-models/releases/download/en_core_web_lg-2.2.5/en_core_web_lg-2.2.5.tar.gz (827.9 MB)\n",
            "\u001b[K     |████████████████████████████████| 827.9 MB 1.3 MB/s \n",
            "\u001b[?25hRequirement already satisfied: spacy>=2.2.2 in /usr/local/lib/python3.7/dist-packages (from en_core_web_lg==2.2.5) (2.2.4)\n",
            "Requirement already satisfied: cymem<2.1.0,>=2.0.2 in /usr/local/lib/python3.7/dist-packages (from spacy>=2.2.2->en_core_web_lg==2.2.5) (2.0.5)\n",
            "Requirement already satisfied: setuptools in /usr/local/lib/python3.7/dist-packages (from spacy>=2.2.2->en_core_web_lg==2.2.5) (57.2.0)\n",
            "Requirement already satisfied: requests<3.0.0,>=2.13.0 in /usr/local/lib/python3.7/dist-packages (from spacy>=2.2.2->en_core_web_lg==2.2.5) (2.23.0)\n",
            "Requirement already satisfied: plac<1.2.0,>=0.9.6 in /usr/local/lib/python3.7/dist-packages (from spacy>=2.2.2->en_core_web_lg==2.2.5) (1.1.3)\n",
            "Requirement already satisfied: murmurhash<1.1.0,>=0.28.0 in /usr/local/lib/python3.7/dist-packages (from spacy>=2.2.2->en_core_web_lg==2.2.5) (1.0.5)\n",
            "Requirement already satisfied: srsly<1.1.0,>=1.0.2 in /usr/local/lib/python3.7/dist-packages (from spacy>=2.2.2->en_core_web_lg==2.2.5) (1.0.5)\n",
            "Requirement already satisfied: preshed<3.1.0,>=3.0.2 in /usr/local/lib/python3.7/dist-packages (from spacy>=2.2.2->en_core_web_lg==2.2.5) (3.0.5)\n",
            "Requirement already satisfied: blis<0.5.0,>=0.4.0 in /usr/local/lib/python3.7/dist-packages (from spacy>=2.2.2->en_core_web_lg==2.2.5) (0.4.1)\n",
            "Requirement already satisfied: catalogue<1.1.0,>=0.0.7 in /usr/local/lib/python3.7/dist-packages (from spacy>=2.2.2->en_core_web_lg==2.2.5) (1.0.0)\n",
            "Requirement already satisfied: tqdm<5.0.0,>=4.38.0 in /usr/local/lib/python3.7/dist-packages (from spacy>=2.2.2->en_core_web_lg==2.2.5) (4.41.1)\n",
            "Requirement already satisfied: numpy>=1.15.0 in /usr/local/lib/python3.7/dist-packages (from spacy>=2.2.2->en_core_web_lg==2.2.5) (1.19.5)\n",
            "Requirement already satisfied: wasabi<1.1.0,>=0.4.0 in /usr/local/lib/python3.7/dist-packages (from spacy>=2.2.2->en_core_web_lg==2.2.5) (0.8.2)\n",
            "Requirement already satisfied: thinc==7.4.0 in /usr/local/lib/python3.7/dist-packages (from spacy>=2.2.2->en_core_web_lg==2.2.5) (7.4.0)\n",
            "Requirement already satisfied: importlib-metadata>=0.20 in /usr/local/lib/python3.7/dist-packages (from catalogue<1.1.0,>=0.0.7->spacy>=2.2.2->en_core_web_lg==2.2.5) (4.6.1)\n",
            "Requirement already satisfied: typing-extensions>=3.6.4 in /usr/local/lib/python3.7/dist-packages (from importlib-metadata>=0.20->catalogue<1.1.0,>=0.0.7->spacy>=2.2.2->en_core_web_lg==2.2.5) (3.7.4.3)\n",
            "Requirement already satisfied: zipp>=0.5 in /usr/local/lib/python3.7/dist-packages (from importlib-metadata>=0.20->catalogue<1.1.0,>=0.0.7->spacy>=2.2.2->en_core_web_lg==2.2.5) (3.5.0)\n",
            "Requirement already satisfied: urllib3!=1.25.0,!=1.25.1,<1.26,>=1.21.1 in /usr/local/lib/python3.7/dist-packages (from requests<3.0.0,>=2.13.0->spacy>=2.2.2->en_core_web_lg==2.2.5) (1.24.3)\n",
            "Requirement already satisfied: certifi>=2017.4.17 in /usr/local/lib/python3.7/dist-packages (from requests<3.0.0,>=2.13.0->spacy>=2.2.2->en_core_web_lg==2.2.5) (2021.5.30)\n",
            "Requirement already satisfied: idna<3,>=2.5 in /usr/local/lib/python3.7/dist-packages (from requests<3.0.0,>=2.13.0->spacy>=2.2.2->en_core_web_lg==2.2.5) (2.10)\n",
            "Requirement already satisfied: chardet<4,>=3.0.2 in /usr/local/lib/python3.7/dist-packages (from requests<3.0.0,>=2.13.0->spacy>=2.2.2->en_core_web_lg==2.2.5) (3.0.4)\n",
            "Building wheels for collected packages: en-core-web-lg\n",
            "  Building wheel for en-core-web-lg (setup.py) ... \u001b[?25l\u001b[?25hdone\n",
            "  Created wheel for en-core-web-lg: filename=en_core_web_lg-2.2.5-py3-none-any.whl size=829180943 sha256=ee3acfa0f57f9608b5914ad505b028032357ed262136fb3a90178f71c17258f7\n",
            "  Stored in directory: /tmp/pip-ephem-wheel-cache-u50ibprx/wheels/11/95/ba/2c36cc368c0bd339b44a791c2c1881a1fb714b78c29a4cb8f5\n",
            "Successfully built en-core-web-lg\n",
            "Installing collected packages: en-core-web-lg\n",
            "Successfully installed en-core-web-lg-2.2.5\n",
            "\u001b[38;5;2m✔ Download and installation successful\u001b[0m\n",
            "You can now load the model via spacy.load('en_core_web_lg')\n"
          ],
          "name": "stdout"
        }
      ]
    },
    {
      "cell_type": "code",
      "metadata": {
        "colab": {
          "base_uri": "https://localhost:8080/"
        },
        "id": "GOiMIq2XCtzt",
        "outputId": "535c8e90-864e-483a-ad81-9f4119d47b73"
      },
      "source": [
        "!python -m spacy info"
      ],
      "execution_count": 4,
      "outputs": [
        {
          "output_type": "stream",
          "text": [
            "\u001b[1m\n",
            "============================== Info about spaCy ==============================\u001b[0m\n",
            "\n",
            "spaCy version    2.2.4                         \n",
            "Location         /usr/local/lib/python3.7/dist-packages/spacy\n",
            "Platform         Linux-5.4.104+-x86_64-with-Ubuntu-18.04-bionic\n",
            "Python version   3.7.11                        \n",
            "Models           en                            \n",
            "\n"
          ],
          "name": "stdout"
        }
      ]
    },
    {
      "cell_type": "code",
      "metadata": {
        "id": "bInr-9AFCu3B"
      },
      "source": [
        "import spacy \n",
        "import en_core_web_lg\n",
        "nlp = en_core_web_lg.load()"
      ],
      "execution_count": 5,
      "outputs": []
    },
    {
      "cell_type": "code",
      "metadata": {
        "id": "x_-Zr22gDX_J"
      },
      "source": [
        "x = 'king man woman'\n",
        "doc = nlp(x)"
      ],
      "execution_count": 8,
      "outputs": []
    },
    {
      "cell_type": "code",
      "metadata": {
        "colab": {
          "base_uri": "https://localhost:8080/"
        },
        "id": "Z5CvkOB_DdXa",
        "outputId": "6d3be069-9338-4681-b972-a5bb9bc9b8ec"
      },
      "source": [
        "for token1 in doc:\n",
        "  for token2 in doc:\n",
        "    print(token1.text, token2.text, token1.similarity(token2))"
      ],
      "execution_count": 9,
      "outputs": [
        {
          "output_type": "stream",
          "text": [
            "king king 1.0\n",
            "king man 0.4088461\n",
            "king woman 0.26556593\n",
            "man king 0.4088461\n",
            "man man 1.0\n",
            "man woman 0.7401745\n",
            "woman king 0.26556593\n",
            "woman man 0.7401745\n",
            "woman woman 1.0\n"
          ],
          "name": "stdout"
        }
      ]
    },
    {
      "cell_type": "markdown",
      "metadata": {
        "id": "Klc-R2A3FV2m"
      },
      "source": [
        "### Model Building"
      ]
    },
    {
      "cell_type": "code",
      "metadata": {
        "id": "Uzv7lEJyFazo"
      },
      "source": [
        "import numpy as np\n",
        "import pandas as pd\n",
        "\n",
        "from sklearn.metrics import classification_report\n",
        "from sklearn.model_selection import train_test_split\n",
        "from sklearn.model_selection import GridSearchCV, RandomizedSearchCV\n",
        "from sklearn.feature_extraction.text import TfidfVectorizer, CountVectorizer\n",
        "from sklearn.preprocessing import MultiLabelBinarizer\n",
        "\n",
        "from sklearn.linear_model import SGDClassifier\n",
        "from sklearn.linear_model import LogisticRegression\n",
        "from sklearn.ensemble import RandomForestClassifier\n",
        "from sklearn.svm import LinearSVC\n",
        "from sklearn.naive_bayes import MultinomialNB\n",
        "from xgboost import XGBClassifier\n",
        "from sklearn.preprocessing import RobustScaler, StandardScaler\n",
        "from sklearn.multiclass import OneVsRestClassifier\n",
        "\n",
        "import ast"
      ],
      "execution_count": 13,
      "outputs": []
    },
    {
      "cell_type": "code",
      "metadata": {
        "id": "4T25P1b5HeWX"
      },
      "source": [
        "def Accuracy(y_true, y_pred):\n",
        "    \"\"\"\n",
        "    Accuracy based on Jaccard Similarity Score\n",
        "    :param y_true: ground truth\n",
        "    :param y_pred: prediction\n",
        "    :return: Jaccard Similarity Score\n",
        "    \"\"\"\n",
        "    jaccard = np.minimum(y_true, y_pred).sum(axis=1) / np.maximum(y_true, y_pred).sum(axis=1)\n",
        "    return jaccard.mean()\n",
        "\n",
        "\n",
        "def print_ml_score(y_test, y_pred, clf):\n",
        "    print('Classifier: ', clf.__class__.__name__)\n",
        "    print('Accuracy Score: {}'.format(Accuracy(y_test, y_pred)))\n",
        "    print(\"-----------------------------------\")\n",
        "\n",
        "\n",
        "def train_model(classifier, feature_vector_train, label_train, feature_vector_test, label_test):\n",
        "    # fit the training set on the classifier\n",
        "    clf = OneVsRestClassifier(classifier)\n",
        "    clf.fit(feature_vector_train, label_train)\n",
        "\n",
        "    # predict the labels on test set\n",
        "    predictions = clf.predict(feature_vector_test)\n",
        "\n",
        "    return print_ml_score(label_test, predictions, classifier)\n",
        "\n",
        "def get_vec(x):\n",
        "    doc = nlp(x)\n",
        "    vec = doc.vector\n",
        "    return vec"
      ],
      "execution_count": 43,
      "outputs": []
    },
    {
      "cell_type": "code",
      "metadata": {
        "colab": {
          "base_uri": "https://localhost:8080/",
          "height": 306
        },
        "id": "Vb7ruJBQFu5o",
        "outputId": "0f0c53a9-2462-4ec1-bc3c-52e5054ea54e"
      },
      "source": [
        "df = pd.read_csv('/content/traning_data_cleaned_v02.csv')\n",
        "df['tags'] = df['tags'].apply(lambda x: ast.literal_eval(x))\n",
        "print(df.shape)\n",
        "df.head()"
      ],
      "execution_count": 14,
      "outputs": [
        {
          "output_type": "stream",
          "text": [
            "(3126, 6)\n"
          ],
          "name": "stdout"
        },
        {
          "output_type": "execute_result",
          "data": {
            "text/html": [
              "<div>\n",
              "<style scoped>\n",
              "    .dataframe tbody tr th:only-of-type {\n",
              "        vertical-align: middle;\n",
              "    }\n",
              "\n",
              "    .dataframe tbody tr th {\n",
              "        vertical-align: top;\n",
              "    }\n",
              "\n",
              "    .dataframe thead th {\n",
              "        text-align: right;\n",
              "    }\n",
              "</style>\n",
              "<table border=\"1\" class=\"dataframe\">\n",
              "  <thead>\n",
              "    <tr style=\"text-align: right;\">\n",
              "      <th></th>\n",
              "      <th>abstract</th>\n",
              "      <th>tags</th>\n",
              "      <th>title_x</th>\n",
              "      <th>all_text</th>\n",
              "      <th>cleaned_abstract</th>\n",
              "      <th>cleaned_all_text</th>\n",
              "    </tr>\n",
              "  </thead>\n",
              "  <tbody>\n",
              "    <tr>\n",
              "      <th>0</th>\n",
              "      <td>When a production process requires two extreme...</td>\n",
              "      <td>[O, D, G, E]</td>\n",
              "      <td>optimal adoption of complementary technologies</td>\n",
              "      <td>optimal adoption of complementary technologies...</td>\n",
              "      <td>production process require two extremely compl...</td>\n",
              "      <td>optimal adoption complementary technologies pr...</td>\n",
              "    </tr>\n",
              "    <tr>\n",
              "      <th>1</th>\n",
              "      <td>The Japanese banking crisis provides a natural...</td>\n",
              "      <td>[G, E]</td>\n",
              "      <td>collateral damage: effects of the japanese ban...</td>\n",
              "      <td>collateral damage: effects of the japanese ban...</td>\n",
              "      <td>japanese bank crisis provide natural experimen...</td>\n",
              "      <td>collateral damage  effect japanese bank crisis...</td>\n",
              "    </tr>\n",
              "    <tr>\n",
              "      <th>2</th>\n",
              "      <td>We consider a market with red and green worker...</td>\n",
              "      <td>[J]</td>\n",
              "      <td>endogenous inequality in integrated labor mark...</td>\n",
              "      <td>endogenous inequality in integrated labor mark...</td>\n",
              "      <td>consider market red green workers  label payof...</td>\n",
              "      <td>endogenous inequality integrate labor market t...</td>\n",
              "    </tr>\n",
              "    <tr>\n",
              "      <th>3</th>\n",
              "      <td>This paper presents a general-equilibrium mode...</td>\n",
              "      <td>[J, R]</td>\n",
              "      <td>labor-market integration, investment in risky ...</td>\n",
              "      <td>labor-market integration, investment in risky ...</td>\n",
              "      <td>present general-equilibrium human capital inve...</td>\n",
              "      <td>labor-market integration  investment risky hum...</td>\n",
              "    </tr>\n",
              "    <tr>\n",
              "      <th>4</th>\n",
              "      <td>This paper develops a theory of inequality and...</td>\n",
              "      <td>[P, E, I, D]</td>\n",
              "      <td>unequal societies: income distribution and the...</td>\n",
              "      <td>unequal societies: income distribution and the...</td>\n",
              "      <td>develop theory inequality social contract aim ...</td>\n",
              "      <td>unequal societies  income distribution social ...</td>\n",
              "    </tr>\n",
              "  </tbody>\n",
              "</table>\n",
              "</div>"
            ],
            "text/plain": [
              "                                            abstract  ...                                   cleaned_all_text\n",
              "0  When a production process requires two extreme...  ...  optimal adoption complementary technologies pr...\n",
              "1  The Japanese banking crisis provides a natural...  ...  collateral damage  effect japanese bank crisis...\n",
              "2  We consider a market with red and green worker...  ...  endogenous inequality integrate labor market t...\n",
              "3  This paper presents a general-equilibrium mode...  ...  labor-market integration  investment risky hum...\n",
              "4  This paper develops a theory of inequality and...  ...  unequal societies  income distribution social ...\n",
              "\n",
              "[5 rows x 6 columns]"
            ]
          },
          "metadata": {
            "tags": []
          },
          "execution_count": 14
        }
      ]
    },
    {
      "cell_type": "markdown",
      "metadata": {
        "id": "j2jXs4elHpAn"
      },
      "source": [
        "### Word2vec"
      ]
    },
    {
      "cell_type": "code",
      "metadata": {
        "id": "6G65Y4x0HMCo"
      },
      "source": [
        "df['vec'] = df['cleaned_all_text'].apply(lambda x: get_vec(x))"
      ],
      "execution_count": 26,
      "outputs": []
    },
    {
      "cell_type": "code",
      "metadata": {
        "colab": {
          "base_uri": "https://localhost:8080/"
        },
        "id": "xLKKKtWpk7re",
        "outputId": "8316e257-1ad7-4f43-d9aa-8b2e38c75664"
      },
      "source": [
        "# Reshaping\n",
        "X = df['vec'].to_numpy()\n",
        "X = X.reshape(-1,1)\n",
        "\n",
        "X = np.concatenate(np.concatenate(X, axis = 0), axis = 0).reshape(-1, 300)\n",
        "print(X.shape)"
      ],
      "execution_count": 29,
      "outputs": [
        {
          "output_type": "stream",
          "text": [
            "(3126, 300)\n"
          ],
          "name": "stdout"
        }
      ]
    },
    {
      "cell_type": "code",
      "metadata": {
        "id": "1_nH1uv-mF2Z"
      },
      "source": [
        "\n",
        "# Convert outcome variable to one-hot encoding type\n",
        "multilabel = MultiLabelBinarizer()\n",
        "y = multilabel.fit_transform(df['tags'])"
      ],
      "execution_count": 30,
      "outputs": []
    },
    {
      "cell_type": "code",
      "metadata": {
        "id": "l81LM7k_mIV0"
      },
      "source": [
        "xtrain, xtest, ytrain, ytest = train_test_split(X, y, test_size=0.2, random_state=123)"
      ],
      "execution_count": 31,
      "outputs": []
    },
    {
      "cell_type": "markdown",
      "metadata": {
        "id": "UxNamsXmp683"
      },
      "source": [
        "### Training Model"
      ]
    },
    {
      "cell_type": "code",
      "metadata": {
        "id": "e5BoGDp4p9Tt"
      },
      "source": [
        "# set models\n",
        "sgd = SGDClassifier()\n",
        "lr = LogisticRegression(solver = 'lbfgs')\n",
        "svc = LinearSVC()\n",
        "rf = RandomForestClassifier()\n",
        "#naive = MultinomialNB()\n",
        "xgboost = XGBClassifier()"
      ],
      "execution_count": 46,
      "outputs": []
    },
    {
      "cell_type": "code",
      "metadata": {
        "colab": {
          "base_uri": "https://localhost:8080/"
        },
        "id": "d2sw4UZ4qN_V",
        "outputId": "238a624c-620d-44ef-9552-888765e18218"
      },
      "source": [
        "# training using word2vec\n",
        "for classifier in [sgd, lr, svc, rf, xgboost]:\n",
        "    train_model(classifier, xtrain, ytrain, xtest, ytest)"
      ],
      "execution_count": 47,
      "outputs": [
        {
          "output_type": "stream",
          "text": [
            "/usr/local/lib/python3.7/dist-packages/sklearn/multiclass.py:75: UserWarning: Label not 18 is present in all training examples.\n",
            "  str(classes[c]))\n"
          ],
          "name": "stderr"
        },
        {
          "output_type": "stream",
          "text": [
            "Classifier:  SGDClassifier\n",
            "Accuracy Score: 0.48912977331507684\n",
            "-----------------------------------\n"
          ],
          "name": "stdout"
        },
        {
          "output_type": "stream",
          "text": [
            "/usr/local/lib/python3.7/dist-packages/sklearn/multiclass.py:75: UserWarning: Label not 18 is present in all training examples.\n",
            "  str(classes[c]))\n"
          ],
          "name": "stderr"
        },
        {
          "output_type": "stream",
          "text": [
            "Classifier:  LogisticRegression\n",
            "Accuracy Score: 0.48498402555910547\n",
            "-----------------------------------\n"
          ],
          "name": "stdout"
        },
        {
          "output_type": "stream",
          "text": [
            "/usr/local/lib/python3.7/dist-packages/sklearn/multiclass.py:75: UserWarning: Label not 18 is present in all training examples.\n",
            "  str(classes[c]))\n"
          ],
          "name": "stderr"
        },
        {
          "output_type": "stream",
          "text": [
            "Classifier:  LinearSVC\n",
            "Accuracy Score: 0.5210748516659061\n",
            "-----------------------------------\n"
          ],
          "name": "stdout"
        },
        {
          "output_type": "stream",
          "text": [
            "/usr/local/lib/python3.7/dist-packages/sklearn/multiclass.py:75: UserWarning: Label not 18 is present in all training examples.\n",
            "  str(classes[c]))\n"
          ],
          "name": "stderr"
        },
        {
          "output_type": "stream",
          "text": [
            "Classifier:  RandomForestClassifier\n",
            "Accuracy Score: 0.35921192758253456\n",
            "-----------------------------------\n"
          ],
          "name": "stdout"
        },
        {
          "output_type": "stream",
          "text": [
            "/usr/local/lib/python3.7/dist-packages/sklearn/multiclass.py:75: UserWarning: Label not 18 is present in all training examples.\n",
            "  str(classes[c]))\n"
          ],
          "name": "stderr"
        },
        {
          "output_type": "stream",
          "text": [
            "Classifier:  XGBClassifier\n",
            "Accuracy Score: 0.47263045793397224\n",
            "-----------------------------------\n"
          ],
          "name": "stdout"
        }
      ]
    },
    {
      "cell_type": "markdown",
      "metadata": {
        "id": "GSkJCtmNIOBR"
      },
      "source": [
        "#### Tuning Linear SVC Model"
      ]
    },
    {
      "cell_type": "code",
      "metadata": {
        "id": "2murBsdqDlTW"
      },
      "source": [
        "from sklearn import svm\n",
        "svc = svm.SVC()\n",
        "param_grid = {\"estimator__C\": [0.1,1,2], \"estimator__gamma\": [1,0.1,0.01,0.001], \"estimator__kernel\": ['rbf', 'poly', 'sigmoid']}"
      ],
      "execution_count": 59,
      "outputs": []
    },
    {
      "cell_type": "code",
      "metadata": {
        "colab": {
          "base_uri": "https://localhost:8080/"
        },
        "id": "pJbAYVUtImgk",
        "outputId": "63f7a81f-c7af-4a82-c01c-09faa5167500"
      },
      "source": [
        "clf = OneVsRestClassifier(svc)\n",
        "model_tunning = GridSearchCV(clf, param_grid=param_grid, refit=True,verbose=2)\n",
        "model_tunning.fit(xtrain, ytrain)"
      ],
      "execution_count": 60,
      "outputs": [
        {
          "output_type": "stream",
          "text": [
            "Fitting 5 folds for each of 36 candidates, totalling 180 fits\n",
            "[CV] estimator__C=0.1, estimator__gamma=1, estimator__kernel=rbf .....\n"
          ],
          "name": "stdout"
        },
        {
          "output_type": "stream",
          "text": [
            "[Parallel(n_jobs=1)]: Using backend SequentialBackend with 1 concurrent workers.\n",
            "/usr/local/lib/python3.7/dist-packages/sklearn/multiclass.py:75: UserWarning: Label not 18 is present in all training examples.\n",
            "  str(classes[c]))\n"
          ],
          "name": "stderr"
        },
        {
          "output_type": "stream",
          "text": [
            "[CV]  estimator__C=0.1, estimator__gamma=1, estimator__kernel=rbf, total=  16.6s\n",
            "[CV] estimator__C=0.1, estimator__gamma=1, estimator__kernel=rbf .....\n"
          ],
          "name": "stdout"
        },
        {
          "output_type": "stream",
          "text": [
            "[Parallel(n_jobs=1)]: Done   1 out of   1 | elapsed:   16.6s remaining:    0.0s\n",
            "/usr/local/lib/python3.7/dist-packages/sklearn/multiclass.py:75: UserWarning: Label not 18 is present in all training examples.\n",
            "  str(classes[c]))\n"
          ],
          "name": "stderr"
        },
        {
          "output_type": "stream",
          "text": [
            "[CV]  estimator__C=0.1, estimator__gamma=1, estimator__kernel=rbf, total=  16.5s\n",
            "[CV] estimator__C=0.1, estimator__gamma=1, estimator__kernel=rbf .....\n"
          ],
          "name": "stdout"
        },
        {
          "output_type": "stream",
          "text": [
            "/usr/local/lib/python3.7/dist-packages/sklearn/multiclass.py:75: UserWarning: Label not 18 is present in all training examples.\n",
            "  str(classes[c]))\n"
          ],
          "name": "stderr"
        },
        {
          "output_type": "stream",
          "text": [
            "[CV]  estimator__C=0.1, estimator__gamma=1, estimator__kernel=rbf, total=  16.7s\n",
            "[CV] estimator__C=0.1, estimator__gamma=1, estimator__kernel=rbf .....\n"
          ],
          "name": "stdout"
        },
        {
          "output_type": "stream",
          "text": [
            "/usr/local/lib/python3.7/dist-packages/sklearn/multiclass.py:75: UserWarning: Label not 18 is present in all training examples.\n",
            "  str(classes[c]))\n"
          ],
          "name": "stderr"
        },
        {
          "output_type": "stream",
          "text": [
            "[CV]  estimator__C=0.1, estimator__gamma=1, estimator__kernel=rbf, total=  16.8s\n",
            "[CV] estimator__C=0.1, estimator__gamma=1, estimator__kernel=rbf .....\n"
          ],
          "name": "stdout"
        },
        {
          "output_type": "stream",
          "text": [
            "/usr/local/lib/python3.7/dist-packages/sklearn/multiclass.py:75: UserWarning: Label not 18 is present in all training examples.\n",
            "  str(classes[c]))\n"
          ],
          "name": "stderr"
        },
        {
          "output_type": "stream",
          "text": [
            "[CV]  estimator__C=0.1, estimator__gamma=1, estimator__kernel=rbf, total=  16.8s\n",
            "[CV] estimator__C=0.1, estimator__gamma=1, estimator__kernel=poly ....\n"
          ],
          "name": "stdout"
        },
        {
          "output_type": "stream",
          "text": [
            "/usr/local/lib/python3.7/dist-packages/sklearn/multiclass.py:75: UserWarning: Label not 18 is present in all training examples.\n",
            "  str(classes[c]))\n"
          ],
          "name": "stderr"
        },
        {
          "output_type": "stream",
          "text": [
            "[CV]  estimator__C=0.1, estimator__gamma=1, estimator__kernel=poly, total=  13.4s\n",
            "[CV] estimator__C=0.1, estimator__gamma=1, estimator__kernel=poly ....\n"
          ],
          "name": "stdout"
        },
        {
          "output_type": "stream",
          "text": [
            "/usr/local/lib/python3.7/dist-packages/sklearn/multiclass.py:75: UserWarning: Label not 18 is present in all training examples.\n",
            "  str(classes[c]))\n"
          ],
          "name": "stderr"
        },
        {
          "output_type": "stream",
          "text": [
            "[CV]  estimator__C=0.1, estimator__gamma=1, estimator__kernel=poly, total=  13.4s\n",
            "[CV] estimator__C=0.1, estimator__gamma=1, estimator__kernel=poly ....\n"
          ],
          "name": "stdout"
        },
        {
          "output_type": "stream",
          "text": [
            "/usr/local/lib/python3.7/dist-packages/sklearn/multiclass.py:75: UserWarning: Label not 18 is present in all training examples.\n",
            "  str(classes[c]))\n"
          ],
          "name": "stderr"
        },
        {
          "output_type": "stream",
          "text": [
            "[CV]  estimator__C=0.1, estimator__gamma=1, estimator__kernel=poly, total=  13.9s\n",
            "[CV] estimator__C=0.1, estimator__gamma=1, estimator__kernel=poly ....\n"
          ],
          "name": "stdout"
        },
        {
          "output_type": "stream",
          "text": [
            "/usr/local/lib/python3.7/dist-packages/sklearn/multiclass.py:75: UserWarning: Label not 18 is present in all training examples.\n",
            "  str(classes[c]))\n"
          ],
          "name": "stderr"
        },
        {
          "output_type": "stream",
          "text": [
            "[CV]  estimator__C=0.1, estimator__gamma=1, estimator__kernel=poly, total=  13.6s\n",
            "[CV] estimator__C=0.1, estimator__gamma=1, estimator__kernel=poly ....\n"
          ],
          "name": "stdout"
        },
        {
          "output_type": "stream",
          "text": [
            "/usr/local/lib/python3.7/dist-packages/sklearn/multiclass.py:75: UserWarning: Label not 18 is present in all training examples.\n",
            "  str(classes[c]))\n"
          ],
          "name": "stderr"
        },
        {
          "output_type": "stream",
          "text": [
            "[CV]  estimator__C=0.1, estimator__gamma=1, estimator__kernel=poly, total=  13.7s\n",
            "[CV] estimator__C=0.1, estimator__gamma=1, estimator__kernel=sigmoid .\n"
          ],
          "name": "stdout"
        },
        {
          "output_type": "stream",
          "text": [
            "/usr/local/lib/python3.7/dist-packages/sklearn/multiclass.py:75: UserWarning: Label not 18 is present in all training examples.\n",
            "  str(classes[c]))\n"
          ],
          "name": "stderr"
        },
        {
          "output_type": "stream",
          "text": [
            "[CV]  estimator__C=0.1, estimator__gamma=1, estimator__kernel=sigmoid, total=  11.7s\n",
            "[CV] estimator__C=0.1, estimator__gamma=1, estimator__kernel=sigmoid .\n"
          ],
          "name": "stdout"
        },
        {
          "output_type": "stream",
          "text": [
            "/usr/local/lib/python3.7/dist-packages/sklearn/multiclass.py:75: UserWarning: Label not 18 is present in all training examples.\n",
            "  str(classes[c]))\n"
          ],
          "name": "stderr"
        },
        {
          "output_type": "stream",
          "text": [
            "[CV]  estimator__C=0.1, estimator__gamma=1, estimator__kernel=sigmoid, total=  11.7s\n",
            "[CV] estimator__C=0.1, estimator__gamma=1, estimator__kernel=sigmoid .\n"
          ],
          "name": "stdout"
        },
        {
          "output_type": "stream",
          "text": [
            "/usr/local/lib/python3.7/dist-packages/sklearn/multiclass.py:75: UserWarning: Label not 18 is present in all training examples.\n",
            "  str(classes[c]))\n"
          ],
          "name": "stderr"
        },
        {
          "output_type": "stream",
          "text": [
            "[CV]  estimator__C=0.1, estimator__gamma=1, estimator__kernel=sigmoid, total=  11.8s\n",
            "[CV] estimator__C=0.1, estimator__gamma=1, estimator__kernel=sigmoid .\n"
          ],
          "name": "stdout"
        },
        {
          "output_type": "stream",
          "text": [
            "/usr/local/lib/python3.7/dist-packages/sklearn/multiclass.py:75: UserWarning: Label not 18 is present in all training examples.\n",
            "  str(classes[c]))\n"
          ],
          "name": "stderr"
        },
        {
          "output_type": "stream",
          "text": [
            "[CV]  estimator__C=0.1, estimator__gamma=1, estimator__kernel=sigmoid, total=  11.9s\n",
            "[CV] estimator__C=0.1, estimator__gamma=1, estimator__kernel=sigmoid .\n"
          ],
          "name": "stdout"
        },
        {
          "output_type": "stream",
          "text": [
            "/usr/local/lib/python3.7/dist-packages/sklearn/multiclass.py:75: UserWarning: Label not 18 is present in all training examples.\n",
            "  str(classes[c]))\n"
          ],
          "name": "stderr"
        },
        {
          "output_type": "stream",
          "text": [
            "[CV]  estimator__C=0.1, estimator__gamma=1, estimator__kernel=sigmoid, total=  11.8s\n",
            "[CV] estimator__C=0.1, estimator__gamma=0.1, estimator__kernel=rbf ...\n"
          ],
          "name": "stdout"
        },
        {
          "output_type": "stream",
          "text": [
            "/usr/local/lib/python3.7/dist-packages/sklearn/multiclass.py:75: UserWarning: Label not 18 is present in all training examples.\n",
            "  str(classes[c]))\n"
          ],
          "name": "stderr"
        },
        {
          "output_type": "stream",
          "text": [
            "[CV]  estimator__C=0.1, estimator__gamma=0.1, estimator__kernel=rbf, total=  13.5s\n",
            "[CV] estimator__C=0.1, estimator__gamma=0.1, estimator__kernel=rbf ...\n"
          ],
          "name": "stdout"
        },
        {
          "output_type": "stream",
          "text": [
            "/usr/local/lib/python3.7/dist-packages/sklearn/multiclass.py:75: UserWarning: Label not 18 is present in all training examples.\n",
            "  str(classes[c]))\n"
          ],
          "name": "stderr"
        },
        {
          "output_type": "stream",
          "text": [
            "[CV]  estimator__C=0.1, estimator__gamma=0.1, estimator__kernel=rbf, total=  12.9s\n",
            "[CV] estimator__C=0.1, estimator__gamma=0.1, estimator__kernel=rbf ...\n"
          ],
          "name": "stdout"
        },
        {
          "output_type": "stream",
          "text": [
            "/usr/local/lib/python3.7/dist-packages/sklearn/multiclass.py:75: UserWarning: Label not 18 is present in all training examples.\n",
            "  str(classes[c]))\n"
          ],
          "name": "stderr"
        },
        {
          "output_type": "stream",
          "text": [
            "[CV]  estimator__C=0.1, estimator__gamma=0.1, estimator__kernel=rbf, total=  13.0s\n",
            "[CV] estimator__C=0.1, estimator__gamma=0.1, estimator__kernel=rbf ...\n"
          ],
          "name": "stdout"
        },
        {
          "output_type": "stream",
          "text": [
            "/usr/local/lib/python3.7/dist-packages/sklearn/multiclass.py:75: UserWarning: Label not 18 is present in all training examples.\n",
            "  str(classes[c]))\n"
          ],
          "name": "stderr"
        },
        {
          "output_type": "stream",
          "text": [
            "[CV]  estimator__C=0.1, estimator__gamma=0.1, estimator__kernel=rbf, total=  13.0s\n",
            "[CV] estimator__C=0.1, estimator__gamma=0.1, estimator__kernel=rbf ...\n"
          ],
          "name": "stdout"
        },
        {
          "output_type": "stream",
          "text": [
            "/usr/local/lib/python3.7/dist-packages/sklearn/multiclass.py:75: UserWarning: Label not 18 is present in all training examples.\n",
            "  str(classes[c]))\n"
          ],
          "name": "stderr"
        },
        {
          "output_type": "stream",
          "text": [
            "[CV]  estimator__C=0.1, estimator__gamma=0.1, estimator__kernel=rbf, total=  12.9s\n",
            "[CV] estimator__C=0.1, estimator__gamma=0.1, estimator__kernel=poly ..\n"
          ],
          "name": "stdout"
        },
        {
          "output_type": "stream",
          "text": [
            "/usr/local/lib/python3.7/dist-packages/sklearn/multiclass.py:75: UserWarning: Label not 18 is present in all training examples.\n",
            "  str(classes[c]))\n"
          ],
          "name": "stderr"
        },
        {
          "output_type": "stream",
          "text": [
            "[CV]  estimator__C=0.1, estimator__gamma=0.1, estimator__kernel=poly, total=  12.0s\n",
            "[CV] estimator__C=0.1, estimator__gamma=0.1, estimator__kernel=poly ..\n"
          ],
          "name": "stdout"
        },
        {
          "output_type": "stream",
          "text": [
            "/usr/local/lib/python3.7/dist-packages/sklearn/multiclass.py:75: UserWarning: Label not 18 is present in all training examples.\n",
            "  str(classes[c]))\n"
          ],
          "name": "stderr"
        },
        {
          "output_type": "stream",
          "text": [
            "[CV]  estimator__C=0.1, estimator__gamma=0.1, estimator__kernel=poly, total=  11.9s\n",
            "[CV] estimator__C=0.1, estimator__gamma=0.1, estimator__kernel=poly ..\n"
          ],
          "name": "stdout"
        },
        {
          "output_type": "stream",
          "text": [
            "/usr/local/lib/python3.7/dist-packages/sklearn/multiclass.py:75: UserWarning: Label not 18 is present in all training examples.\n",
            "  str(classes[c]))\n"
          ],
          "name": "stderr"
        },
        {
          "output_type": "stream",
          "text": [
            "[CV]  estimator__C=0.1, estimator__gamma=0.1, estimator__kernel=poly, total=  12.0s\n",
            "[CV] estimator__C=0.1, estimator__gamma=0.1, estimator__kernel=poly ..\n"
          ],
          "name": "stdout"
        },
        {
          "output_type": "stream",
          "text": [
            "/usr/local/lib/python3.7/dist-packages/sklearn/multiclass.py:75: UserWarning: Label not 18 is present in all training examples.\n",
            "  str(classes[c]))\n"
          ],
          "name": "stderr"
        },
        {
          "output_type": "stream",
          "text": [
            "[CV]  estimator__C=0.1, estimator__gamma=0.1, estimator__kernel=poly, total=  12.1s\n",
            "[CV] estimator__C=0.1, estimator__gamma=0.1, estimator__kernel=poly ..\n"
          ],
          "name": "stdout"
        },
        {
          "output_type": "stream",
          "text": [
            "/usr/local/lib/python3.7/dist-packages/sklearn/multiclass.py:75: UserWarning: Label not 18 is present in all training examples.\n",
            "  str(classes[c]))\n"
          ],
          "name": "stderr"
        },
        {
          "output_type": "stream",
          "text": [
            "[CV]  estimator__C=0.1, estimator__gamma=0.1, estimator__kernel=poly, total=  12.0s\n",
            "[CV] estimator__C=0.1, estimator__gamma=0.1, estimator__kernel=sigmoid \n"
          ],
          "name": "stdout"
        },
        {
          "output_type": "stream",
          "text": [
            "/usr/local/lib/python3.7/dist-packages/sklearn/multiclass.py:75: UserWarning: Label not 18 is present in all training examples.\n",
            "  str(classes[c]))\n"
          ],
          "name": "stderr"
        },
        {
          "output_type": "stream",
          "text": [
            "[CV]  estimator__C=0.1, estimator__gamma=0.1, estimator__kernel=sigmoid, total=  12.8s\n",
            "[CV] estimator__C=0.1, estimator__gamma=0.1, estimator__kernel=sigmoid \n"
          ],
          "name": "stdout"
        },
        {
          "output_type": "stream",
          "text": [
            "/usr/local/lib/python3.7/dist-packages/sklearn/multiclass.py:75: UserWarning: Label not 18 is present in all training examples.\n",
            "  str(classes[c]))\n"
          ],
          "name": "stderr"
        },
        {
          "output_type": "stream",
          "text": [
            "[CV]  estimator__C=0.1, estimator__gamma=0.1, estimator__kernel=sigmoid, total=  12.9s\n",
            "[CV] estimator__C=0.1, estimator__gamma=0.1, estimator__kernel=sigmoid \n"
          ],
          "name": "stdout"
        },
        {
          "output_type": "stream",
          "text": [
            "/usr/local/lib/python3.7/dist-packages/sklearn/multiclass.py:75: UserWarning: Label not 18 is present in all training examples.\n",
            "  str(classes[c]))\n"
          ],
          "name": "stderr"
        },
        {
          "output_type": "stream",
          "text": [
            "[CV]  estimator__C=0.1, estimator__gamma=0.1, estimator__kernel=sigmoid, total=  12.9s\n",
            "[CV] estimator__C=0.1, estimator__gamma=0.1, estimator__kernel=sigmoid \n"
          ],
          "name": "stdout"
        },
        {
          "output_type": "stream",
          "text": [
            "/usr/local/lib/python3.7/dist-packages/sklearn/multiclass.py:75: UserWarning: Label not 18 is present in all training examples.\n",
            "  str(classes[c]))\n"
          ],
          "name": "stderr"
        },
        {
          "output_type": "stream",
          "text": [
            "[CV]  estimator__C=0.1, estimator__gamma=0.1, estimator__kernel=sigmoid, total=  12.9s\n",
            "[CV] estimator__C=0.1, estimator__gamma=0.1, estimator__kernel=sigmoid \n"
          ],
          "name": "stdout"
        },
        {
          "output_type": "stream",
          "text": [
            "/usr/local/lib/python3.7/dist-packages/sklearn/multiclass.py:75: UserWarning: Label not 18 is present in all training examples.\n",
            "  str(classes[c]))\n"
          ],
          "name": "stderr"
        },
        {
          "output_type": "stream",
          "text": [
            "[CV]  estimator__C=0.1, estimator__gamma=0.1, estimator__kernel=sigmoid, total=  12.8s\n",
            "[CV] estimator__C=0.1, estimator__gamma=0.01, estimator__kernel=rbf ..\n"
          ],
          "name": "stdout"
        },
        {
          "output_type": "stream",
          "text": [
            "/usr/local/lib/python3.7/dist-packages/sklearn/multiclass.py:75: UserWarning: Label not 18 is present in all training examples.\n",
            "  str(classes[c]))\n"
          ],
          "name": "stderr"
        },
        {
          "output_type": "stream",
          "text": [
            "[CV]  estimator__C=0.1, estimator__gamma=0.01, estimator__kernel=rbf, total=  12.1s\n",
            "[CV] estimator__C=0.1, estimator__gamma=0.01, estimator__kernel=rbf ..\n"
          ],
          "name": "stdout"
        },
        {
          "output_type": "stream",
          "text": [
            "/usr/local/lib/python3.7/dist-packages/sklearn/multiclass.py:75: UserWarning: Label not 18 is present in all training examples.\n",
            "  str(classes[c]))\n"
          ],
          "name": "stderr"
        },
        {
          "output_type": "stream",
          "text": [
            "[CV]  estimator__C=0.1, estimator__gamma=0.01, estimator__kernel=rbf, total=  12.3s\n",
            "[CV] estimator__C=0.1, estimator__gamma=0.01, estimator__kernel=rbf ..\n"
          ],
          "name": "stdout"
        },
        {
          "output_type": "stream",
          "text": [
            "/usr/local/lib/python3.7/dist-packages/sklearn/multiclass.py:75: UserWarning: Label not 18 is present in all training examples.\n",
            "  str(classes[c]))\n"
          ],
          "name": "stderr"
        },
        {
          "output_type": "stream",
          "text": [
            "[CV]  estimator__C=0.1, estimator__gamma=0.01, estimator__kernel=rbf, total=  12.3s\n",
            "[CV] estimator__C=0.1, estimator__gamma=0.01, estimator__kernel=rbf ..\n"
          ],
          "name": "stdout"
        },
        {
          "output_type": "stream",
          "text": [
            "/usr/local/lib/python3.7/dist-packages/sklearn/multiclass.py:75: UserWarning: Label not 18 is present in all training examples.\n",
            "  str(classes[c]))\n"
          ],
          "name": "stderr"
        },
        {
          "output_type": "stream",
          "text": [
            "[CV]  estimator__C=0.1, estimator__gamma=0.01, estimator__kernel=rbf, total=  12.4s\n",
            "[CV] estimator__C=0.1, estimator__gamma=0.01, estimator__kernel=rbf ..\n"
          ],
          "name": "stdout"
        },
        {
          "output_type": "stream",
          "text": [
            "/usr/local/lib/python3.7/dist-packages/sklearn/multiclass.py:75: UserWarning: Label not 18 is present in all training examples.\n",
            "  str(classes[c]))\n"
          ],
          "name": "stderr"
        },
        {
          "output_type": "stream",
          "text": [
            "[CV]  estimator__C=0.1, estimator__gamma=0.01, estimator__kernel=rbf, total=  12.6s\n",
            "[CV] estimator__C=0.1, estimator__gamma=0.01, estimator__kernel=poly .\n"
          ],
          "name": "stdout"
        },
        {
          "output_type": "stream",
          "text": [
            "/usr/local/lib/python3.7/dist-packages/sklearn/multiclass.py:75: UserWarning: Label not 18 is present in all training examples.\n",
            "  str(classes[c]))\n"
          ],
          "name": "stderr"
        },
        {
          "output_type": "stream",
          "text": [
            "[CV]  estimator__C=0.1, estimator__gamma=0.01, estimator__kernel=poly, total=  10.4s\n",
            "[CV] estimator__C=0.1, estimator__gamma=0.01, estimator__kernel=poly .\n"
          ],
          "name": "stdout"
        },
        {
          "output_type": "stream",
          "text": [
            "/usr/local/lib/python3.7/dist-packages/sklearn/multiclass.py:75: UserWarning: Label not 18 is present in all training examples.\n",
            "  str(classes[c]))\n"
          ],
          "name": "stderr"
        },
        {
          "output_type": "stream",
          "text": [
            "[CV]  estimator__C=0.1, estimator__gamma=0.01, estimator__kernel=poly, total=  10.4s\n",
            "[CV] estimator__C=0.1, estimator__gamma=0.01, estimator__kernel=poly .\n"
          ],
          "name": "stdout"
        },
        {
          "output_type": "stream",
          "text": [
            "/usr/local/lib/python3.7/dist-packages/sklearn/multiclass.py:75: UserWarning: Label not 18 is present in all training examples.\n",
            "  str(classes[c]))\n"
          ],
          "name": "stderr"
        },
        {
          "output_type": "stream",
          "text": [
            "[CV]  estimator__C=0.1, estimator__gamma=0.01, estimator__kernel=poly, total=  10.5s\n",
            "[CV] estimator__C=0.1, estimator__gamma=0.01, estimator__kernel=poly .\n"
          ],
          "name": "stdout"
        },
        {
          "output_type": "stream",
          "text": [
            "/usr/local/lib/python3.7/dist-packages/sklearn/multiclass.py:75: UserWarning: Label not 18 is present in all training examples.\n",
            "  str(classes[c]))\n"
          ],
          "name": "stderr"
        },
        {
          "output_type": "stream",
          "text": [
            "[CV]  estimator__C=0.1, estimator__gamma=0.01, estimator__kernel=poly, total=  10.5s\n",
            "[CV] estimator__C=0.1, estimator__gamma=0.01, estimator__kernel=poly .\n"
          ],
          "name": "stdout"
        },
        {
          "output_type": "stream",
          "text": [
            "/usr/local/lib/python3.7/dist-packages/sklearn/multiclass.py:75: UserWarning: Label not 18 is present in all training examples.\n",
            "  str(classes[c]))\n"
          ],
          "name": "stderr"
        },
        {
          "output_type": "stream",
          "text": [
            "[CV]  estimator__C=0.1, estimator__gamma=0.01, estimator__kernel=poly, total=  10.4s\n",
            "[CV] estimator__C=0.1, estimator__gamma=0.01, estimator__kernel=sigmoid \n"
          ],
          "name": "stdout"
        },
        {
          "output_type": "stream",
          "text": [
            "/usr/local/lib/python3.7/dist-packages/sklearn/multiclass.py:75: UserWarning: Label not 18 is present in all training examples.\n",
            "  str(classes[c]))\n"
          ],
          "name": "stderr"
        },
        {
          "output_type": "stream",
          "text": [
            "[CV]  estimator__C=0.1, estimator__gamma=0.01, estimator__kernel=sigmoid, total=  11.8s\n",
            "[CV] estimator__C=0.1, estimator__gamma=0.01, estimator__kernel=sigmoid \n"
          ],
          "name": "stdout"
        },
        {
          "output_type": "stream",
          "text": [
            "/usr/local/lib/python3.7/dist-packages/sklearn/multiclass.py:75: UserWarning: Label not 18 is present in all training examples.\n",
            "  str(classes[c]))\n"
          ],
          "name": "stderr"
        },
        {
          "output_type": "stream",
          "text": [
            "[CV]  estimator__C=0.1, estimator__gamma=0.01, estimator__kernel=sigmoid, total=  11.9s\n",
            "[CV] estimator__C=0.1, estimator__gamma=0.01, estimator__kernel=sigmoid \n"
          ],
          "name": "stdout"
        },
        {
          "output_type": "stream",
          "text": [
            "/usr/local/lib/python3.7/dist-packages/sklearn/multiclass.py:75: UserWarning: Label not 18 is present in all training examples.\n",
            "  str(classes[c]))\n"
          ],
          "name": "stderr"
        },
        {
          "output_type": "stream",
          "text": [
            "[CV]  estimator__C=0.1, estimator__gamma=0.01, estimator__kernel=sigmoid, total=  11.8s\n",
            "[CV] estimator__C=0.1, estimator__gamma=0.01, estimator__kernel=sigmoid \n"
          ],
          "name": "stdout"
        },
        {
          "output_type": "stream",
          "text": [
            "/usr/local/lib/python3.7/dist-packages/sklearn/multiclass.py:75: UserWarning: Label not 18 is present in all training examples.\n",
            "  str(classes[c]))\n"
          ],
          "name": "stderr"
        },
        {
          "output_type": "stream",
          "text": [
            "[CV]  estimator__C=0.1, estimator__gamma=0.01, estimator__kernel=sigmoid, total=  11.9s\n",
            "[CV] estimator__C=0.1, estimator__gamma=0.01, estimator__kernel=sigmoid \n"
          ],
          "name": "stdout"
        },
        {
          "output_type": "stream",
          "text": [
            "/usr/local/lib/python3.7/dist-packages/sklearn/multiclass.py:75: UserWarning: Label not 18 is present in all training examples.\n",
            "  str(classes[c]))\n"
          ],
          "name": "stderr"
        },
        {
          "output_type": "stream",
          "text": [
            "[CV]  estimator__C=0.1, estimator__gamma=0.01, estimator__kernel=sigmoid, total=  11.8s\n",
            "[CV] estimator__C=0.1, estimator__gamma=0.001, estimator__kernel=rbf .\n"
          ],
          "name": "stdout"
        },
        {
          "output_type": "stream",
          "text": [
            "/usr/local/lib/python3.7/dist-packages/sklearn/multiclass.py:75: UserWarning: Label not 18 is present in all training examples.\n",
            "  str(classes[c]))\n"
          ],
          "name": "stderr"
        },
        {
          "output_type": "stream",
          "text": [
            "[CV]  estimator__C=0.1, estimator__gamma=0.001, estimator__kernel=rbf, total=  11.5s\n",
            "[CV] estimator__C=0.1, estimator__gamma=0.001, estimator__kernel=rbf .\n"
          ],
          "name": "stdout"
        },
        {
          "output_type": "stream",
          "text": [
            "/usr/local/lib/python3.7/dist-packages/sklearn/multiclass.py:75: UserWarning: Label not 18 is present in all training examples.\n",
            "  str(classes[c]))\n"
          ],
          "name": "stderr"
        },
        {
          "output_type": "stream",
          "text": [
            "[CV]  estimator__C=0.1, estimator__gamma=0.001, estimator__kernel=rbf, total=  11.5s\n",
            "[CV] estimator__C=0.1, estimator__gamma=0.001, estimator__kernel=rbf .\n"
          ],
          "name": "stdout"
        },
        {
          "output_type": "stream",
          "text": [
            "/usr/local/lib/python3.7/dist-packages/sklearn/multiclass.py:75: UserWarning: Label not 18 is present in all training examples.\n",
            "  str(classes[c]))\n"
          ],
          "name": "stderr"
        },
        {
          "output_type": "stream",
          "text": [
            "[CV]  estimator__C=0.1, estimator__gamma=0.001, estimator__kernel=rbf, total=  11.5s\n",
            "[CV] estimator__C=0.1, estimator__gamma=0.001, estimator__kernel=rbf .\n"
          ],
          "name": "stdout"
        },
        {
          "output_type": "stream",
          "text": [
            "/usr/local/lib/python3.7/dist-packages/sklearn/multiclass.py:75: UserWarning: Label not 18 is present in all training examples.\n",
            "  str(classes[c]))\n"
          ],
          "name": "stderr"
        },
        {
          "output_type": "stream",
          "text": [
            "[CV]  estimator__C=0.1, estimator__gamma=0.001, estimator__kernel=rbf, total=  11.6s\n",
            "[CV] estimator__C=0.1, estimator__gamma=0.001, estimator__kernel=rbf .\n"
          ],
          "name": "stdout"
        },
        {
          "output_type": "stream",
          "text": [
            "/usr/local/lib/python3.7/dist-packages/sklearn/multiclass.py:75: UserWarning: Label not 18 is present in all training examples.\n",
            "  str(classes[c]))\n"
          ],
          "name": "stderr"
        },
        {
          "output_type": "stream",
          "text": [
            "[CV]  estimator__C=0.1, estimator__gamma=0.001, estimator__kernel=rbf, total=  11.5s\n",
            "[CV] estimator__C=0.1, estimator__gamma=0.001, estimator__kernel=poly \n"
          ],
          "name": "stdout"
        },
        {
          "output_type": "stream",
          "text": [
            "/usr/local/lib/python3.7/dist-packages/sklearn/multiclass.py:75: UserWarning: Label not 18 is present in all training examples.\n",
            "  str(classes[c]))\n"
          ],
          "name": "stderr"
        },
        {
          "output_type": "stream",
          "text": [
            "[CV]  estimator__C=0.1, estimator__gamma=0.001, estimator__kernel=poly, total=  10.3s\n",
            "[CV] estimator__C=0.1, estimator__gamma=0.001, estimator__kernel=poly \n"
          ],
          "name": "stdout"
        },
        {
          "output_type": "stream",
          "text": [
            "/usr/local/lib/python3.7/dist-packages/sklearn/multiclass.py:75: UserWarning: Label not 18 is present in all training examples.\n",
            "  str(classes[c]))\n"
          ],
          "name": "stderr"
        },
        {
          "output_type": "stream",
          "text": [
            "[CV]  estimator__C=0.1, estimator__gamma=0.001, estimator__kernel=poly, total=  10.4s\n",
            "[CV] estimator__C=0.1, estimator__gamma=0.001, estimator__kernel=poly \n"
          ],
          "name": "stdout"
        },
        {
          "output_type": "stream",
          "text": [
            "/usr/local/lib/python3.7/dist-packages/sklearn/multiclass.py:75: UserWarning: Label not 18 is present in all training examples.\n",
            "  str(classes[c]))\n"
          ],
          "name": "stderr"
        },
        {
          "output_type": "stream",
          "text": [
            "[CV]  estimator__C=0.1, estimator__gamma=0.001, estimator__kernel=poly, total=  10.4s\n",
            "[CV] estimator__C=0.1, estimator__gamma=0.001, estimator__kernel=poly \n"
          ],
          "name": "stdout"
        },
        {
          "output_type": "stream",
          "text": [
            "/usr/local/lib/python3.7/dist-packages/sklearn/multiclass.py:75: UserWarning: Label not 18 is present in all training examples.\n",
            "  str(classes[c]))\n"
          ],
          "name": "stderr"
        },
        {
          "output_type": "stream",
          "text": [
            "[CV]  estimator__C=0.1, estimator__gamma=0.001, estimator__kernel=poly, total=  10.4s\n",
            "[CV] estimator__C=0.1, estimator__gamma=0.001, estimator__kernel=poly \n"
          ],
          "name": "stdout"
        },
        {
          "output_type": "stream",
          "text": [
            "/usr/local/lib/python3.7/dist-packages/sklearn/multiclass.py:75: UserWarning: Label not 18 is present in all training examples.\n",
            "  str(classes[c]))\n"
          ],
          "name": "stderr"
        },
        {
          "output_type": "stream",
          "text": [
            "[CV]  estimator__C=0.1, estimator__gamma=0.001, estimator__kernel=poly, total=  10.4s\n",
            "[CV] estimator__C=0.1, estimator__gamma=0.001, estimator__kernel=sigmoid \n"
          ],
          "name": "stdout"
        },
        {
          "output_type": "stream",
          "text": [
            "/usr/local/lib/python3.7/dist-packages/sklearn/multiclass.py:75: UserWarning: Label not 18 is present in all training examples.\n",
            "  str(classes[c]))\n"
          ],
          "name": "stderr"
        },
        {
          "output_type": "stream",
          "text": [
            "[CV]  estimator__C=0.1, estimator__gamma=0.001, estimator__kernel=sigmoid, total=  11.3s\n",
            "[CV] estimator__C=0.1, estimator__gamma=0.001, estimator__kernel=sigmoid \n"
          ],
          "name": "stdout"
        },
        {
          "output_type": "stream",
          "text": [
            "/usr/local/lib/python3.7/dist-packages/sklearn/multiclass.py:75: UserWarning: Label not 18 is present in all training examples.\n",
            "  str(classes[c]))\n"
          ],
          "name": "stderr"
        },
        {
          "output_type": "stream",
          "text": [
            "[CV]  estimator__C=0.1, estimator__gamma=0.001, estimator__kernel=sigmoid, total=  11.5s\n",
            "[CV] estimator__C=0.1, estimator__gamma=0.001, estimator__kernel=sigmoid \n"
          ],
          "name": "stdout"
        },
        {
          "output_type": "stream",
          "text": [
            "/usr/local/lib/python3.7/dist-packages/sklearn/multiclass.py:75: UserWarning: Label not 18 is present in all training examples.\n",
            "  str(classes[c]))\n"
          ],
          "name": "stderr"
        },
        {
          "output_type": "stream",
          "text": [
            "[CV]  estimator__C=0.1, estimator__gamma=0.001, estimator__kernel=sigmoid, total=  11.5s\n",
            "[CV] estimator__C=0.1, estimator__gamma=0.001, estimator__kernel=sigmoid \n"
          ],
          "name": "stdout"
        },
        {
          "output_type": "stream",
          "text": [
            "/usr/local/lib/python3.7/dist-packages/sklearn/multiclass.py:75: UserWarning: Label not 18 is present in all training examples.\n",
            "  str(classes[c]))\n"
          ],
          "name": "stderr"
        },
        {
          "output_type": "stream",
          "text": [
            "[CV]  estimator__C=0.1, estimator__gamma=0.001, estimator__kernel=sigmoid, total=  11.5s\n",
            "[CV] estimator__C=0.1, estimator__gamma=0.001, estimator__kernel=sigmoid \n"
          ],
          "name": "stdout"
        },
        {
          "output_type": "stream",
          "text": [
            "/usr/local/lib/python3.7/dist-packages/sklearn/multiclass.py:75: UserWarning: Label not 18 is present in all training examples.\n",
            "  str(classes[c]))\n"
          ],
          "name": "stderr"
        },
        {
          "output_type": "stream",
          "text": [
            "[CV]  estimator__C=0.1, estimator__gamma=0.001, estimator__kernel=sigmoid, total=  11.5s\n",
            "[CV] estimator__C=1, estimator__gamma=1, estimator__kernel=rbf .......\n"
          ],
          "name": "stdout"
        },
        {
          "output_type": "stream",
          "text": [
            "/usr/local/lib/python3.7/dist-packages/sklearn/multiclass.py:75: UserWarning: Label not 18 is present in all training examples.\n",
            "  str(classes[c]))\n"
          ],
          "name": "stderr"
        },
        {
          "output_type": "stream",
          "text": [
            "[CV]  estimator__C=1, estimator__gamma=1, estimator__kernel=rbf, total=  17.2s\n",
            "[CV] estimator__C=1, estimator__gamma=1, estimator__kernel=rbf .......\n"
          ],
          "name": "stdout"
        },
        {
          "output_type": "stream",
          "text": [
            "/usr/local/lib/python3.7/dist-packages/sklearn/multiclass.py:75: UserWarning: Label not 18 is present in all training examples.\n",
            "  str(classes[c]))\n"
          ],
          "name": "stderr"
        },
        {
          "output_type": "stream",
          "text": [
            "[CV]  estimator__C=1, estimator__gamma=1, estimator__kernel=rbf, total=  17.4s\n",
            "[CV] estimator__C=1, estimator__gamma=1, estimator__kernel=rbf .......\n"
          ],
          "name": "stdout"
        },
        {
          "output_type": "stream",
          "text": [
            "/usr/local/lib/python3.7/dist-packages/sklearn/multiclass.py:75: UserWarning: Label not 18 is present in all training examples.\n",
            "  str(classes[c]))\n"
          ],
          "name": "stderr"
        },
        {
          "output_type": "stream",
          "text": [
            "[CV]  estimator__C=1, estimator__gamma=1, estimator__kernel=rbf, total=  17.6s\n",
            "[CV] estimator__C=1, estimator__gamma=1, estimator__kernel=rbf .......\n"
          ],
          "name": "stdout"
        },
        {
          "output_type": "stream",
          "text": [
            "/usr/local/lib/python3.7/dist-packages/sklearn/multiclass.py:75: UserWarning: Label not 18 is present in all training examples.\n",
            "  str(classes[c]))\n"
          ],
          "name": "stderr"
        },
        {
          "output_type": "stream",
          "text": [
            "[CV]  estimator__C=1, estimator__gamma=1, estimator__kernel=rbf, total=  17.5s\n",
            "[CV] estimator__C=1, estimator__gamma=1, estimator__kernel=rbf .......\n"
          ],
          "name": "stdout"
        },
        {
          "output_type": "stream",
          "text": [
            "/usr/local/lib/python3.7/dist-packages/sklearn/multiclass.py:75: UserWarning: Label not 18 is present in all training examples.\n",
            "  str(classes[c]))\n"
          ],
          "name": "stderr"
        },
        {
          "output_type": "stream",
          "text": [
            "[CV]  estimator__C=1, estimator__gamma=1, estimator__kernel=rbf, total=  17.6s\n",
            "[CV] estimator__C=1, estimator__gamma=1, estimator__kernel=poly ......\n"
          ],
          "name": "stdout"
        },
        {
          "output_type": "stream",
          "text": [
            "/usr/local/lib/python3.7/dist-packages/sklearn/multiclass.py:75: UserWarning: Label not 18 is present in all training examples.\n",
            "  str(classes[c]))\n"
          ],
          "name": "stderr"
        },
        {
          "output_type": "stream",
          "text": [
            "[CV]  estimator__C=1, estimator__gamma=1, estimator__kernel=poly, total=  14.3s\n",
            "[CV] estimator__C=1, estimator__gamma=1, estimator__kernel=poly ......\n"
          ],
          "name": "stdout"
        },
        {
          "output_type": "stream",
          "text": [
            "/usr/local/lib/python3.7/dist-packages/sklearn/multiclass.py:75: UserWarning: Label not 18 is present in all training examples.\n",
            "  str(classes[c]))\n"
          ],
          "name": "stderr"
        },
        {
          "output_type": "stream",
          "text": [
            "[CV]  estimator__C=1, estimator__gamma=1, estimator__kernel=poly, total=  14.4s\n",
            "[CV] estimator__C=1, estimator__gamma=1, estimator__kernel=poly ......\n"
          ],
          "name": "stdout"
        },
        {
          "output_type": "stream",
          "text": [
            "/usr/local/lib/python3.7/dist-packages/sklearn/multiclass.py:75: UserWarning: Label not 18 is present in all training examples.\n",
            "  str(classes[c]))\n"
          ],
          "name": "stderr"
        },
        {
          "output_type": "stream",
          "text": [
            "[CV]  estimator__C=1, estimator__gamma=1, estimator__kernel=poly, total=  14.7s\n",
            "[CV] estimator__C=1, estimator__gamma=1, estimator__kernel=poly ......\n"
          ],
          "name": "stdout"
        },
        {
          "output_type": "stream",
          "text": [
            "/usr/local/lib/python3.7/dist-packages/sklearn/multiclass.py:75: UserWarning: Label not 18 is present in all training examples.\n",
            "  str(classes[c]))\n"
          ],
          "name": "stderr"
        },
        {
          "output_type": "stream",
          "text": [
            "[CV]  estimator__C=1, estimator__gamma=1, estimator__kernel=poly, total=  14.5s\n",
            "[CV] estimator__C=1, estimator__gamma=1, estimator__kernel=poly ......\n"
          ],
          "name": "stdout"
        },
        {
          "output_type": "stream",
          "text": [
            "/usr/local/lib/python3.7/dist-packages/sklearn/multiclass.py:75: UserWarning: Label not 18 is present in all training examples.\n",
            "  str(classes[c]))\n"
          ],
          "name": "stderr"
        },
        {
          "output_type": "stream",
          "text": [
            "[CV]  estimator__C=1, estimator__gamma=1, estimator__kernel=poly, total=  14.6s\n",
            "[CV] estimator__C=1, estimator__gamma=1, estimator__kernel=sigmoid ...\n"
          ],
          "name": "stdout"
        },
        {
          "output_type": "stream",
          "text": [
            "/usr/local/lib/python3.7/dist-packages/sklearn/multiclass.py:75: UserWarning: Label not 18 is present in all training examples.\n",
            "  str(classes[c]))\n"
          ],
          "name": "stderr"
        },
        {
          "output_type": "stream",
          "text": [
            "[CV]  estimator__C=1, estimator__gamma=1, estimator__kernel=sigmoid, total=  11.7s\n",
            "[CV] estimator__C=1, estimator__gamma=1, estimator__kernel=sigmoid ...\n"
          ],
          "name": "stdout"
        },
        {
          "output_type": "stream",
          "text": [
            "/usr/local/lib/python3.7/dist-packages/sklearn/multiclass.py:75: UserWarning: Label not 18 is present in all training examples.\n",
            "  str(classes[c]))\n"
          ],
          "name": "stderr"
        },
        {
          "output_type": "stream",
          "text": [
            "[CV]  estimator__C=1, estimator__gamma=1, estimator__kernel=sigmoid, total=  11.7s\n",
            "[CV] estimator__C=1, estimator__gamma=1, estimator__kernel=sigmoid ...\n"
          ],
          "name": "stdout"
        },
        {
          "output_type": "stream",
          "text": [
            "/usr/local/lib/python3.7/dist-packages/sklearn/multiclass.py:75: UserWarning: Label not 18 is present in all training examples.\n",
            "  str(classes[c]))\n"
          ],
          "name": "stderr"
        },
        {
          "output_type": "stream",
          "text": [
            "[CV]  estimator__C=1, estimator__gamma=1, estimator__kernel=sigmoid, total=  12.0s\n",
            "[CV] estimator__C=1, estimator__gamma=1, estimator__kernel=sigmoid ...\n"
          ],
          "name": "stdout"
        },
        {
          "output_type": "stream",
          "text": [
            "/usr/local/lib/python3.7/dist-packages/sklearn/multiclass.py:75: UserWarning: Label not 18 is present in all training examples.\n",
            "  str(classes[c]))\n"
          ],
          "name": "stderr"
        },
        {
          "output_type": "stream",
          "text": [
            "[CV]  estimator__C=1, estimator__gamma=1, estimator__kernel=sigmoid, total=  11.9s\n",
            "[CV] estimator__C=1, estimator__gamma=1, estimator__kernel=sigmoid ...\n"
          ],
          "name": "stdout"
        },
        {
          "output_type": "stream",
          "text": [
            "/usr/local/lib/python3.7/dist-packages/sklearn/multiclass.py:75: UserWarning: Label not 18 is present in all training examples.\n",
            "  str(classes[c]))\n"
          ],
          "name": "stderr"
        },
        {
          "output_type": "stream",
          "text": [
            "[CV]  estimator__C=1, estimator__gamma=1, estimator__kernel=sigmoid, total=  11.8s\n",
            "[CV] estimator__C=1, estimator__gamma=0.1, estimator__kernel=rbf .....\n"
          ],
          "name": "stdout"
        },
        {
          "output_type": "stream",
          "text": [
            "/usr/local/lib/python3.7/dist-packages/sklearn/multiclass.py:75: UserWarning: Label not 18 is present in all training examples.\n",
            "  str(classes[c]))\n"
          ],
          "name": "stderr"
        },
        {
          "output_type": "stream",
          "text": [
            "[CV]  estimator__C=1, estimator__gamma=0.1, estimator__kernel=rbf, total=  12.1s\n",
            "[CV] estimator__C=1, estimator__gamma=0.1, estimator__kernel=rbf .....\n"
          ],
          "name": "stdout"
        },
        {
          "output_type": "stream",
          "text": [
            "/usr/local/lib/python3.7/dist-packages/sklearn/multiclass.py:75: UserWarning: Label not 18 is present in all training examples.\n",
            "  str(classes[c]))\n"
          ],
          "name": "stderr"
        },
        {
          "output_type": "stream",
          "text": [
            "[CV]  estimator__C=1, estimator__gamma=0.1, estimator__kernel=rbf, total=  12.2s\n",
            "[CV] estimator__C=1, estimator__gamma=0.1, estimator__kernel=rbf .....\n"
          ],
          "name": "stdout"
        },
        {
          "output_type": "stream",
          "text": [
            "/usr/local/lib/python3.7/dist-packages/sklearn/multiclass.py:75: UserWarning: Label not 18 is present in all training examples.\n",
            "  str(classes[c]))\n"
          ],
          "name": "stderr"
        },
        {
          "output_type": "stream",
          "text": [
            "[CV]  estimator__C=1, estimator__gamma=0.1, estimator__kernel=rbf, total=  12.4s\n",
            "[CV] estimator__C=1, estimator__gamma=0.1, estimator__kernel=rbf .....\n"
          ],
          "name": "stdout"
        },
        {
          "output_type": "stream",
          "text": [
            "/usr/local/lib/python3.7/dist-packages/sklearn/multiclass.py:75: UserWarning: Label not 18 is present in all training examples.\n",
            "  str(classes[c]))\n"
          ],
          "name": "stderr"
        },
        {
          "output_type": "stream",
          "text": [
            "[CV]  estimator__C=1, estimator__gamma=0.1, estimator__kernel=rbf, total=  12.1s\n",
            "[CV] estimator__C=1, estimator__gamma=0.1, estimator__kernel=rbf .....\n"
          ],
          "name": "stdout"
        },
        {
          "output_type": "stream",
          "text": [
            "/usr/local/lib/python3.7/dist-packages/sklearn/multiclass.py:75: UserWarning: Label not 18 is present in all training examples.\n",
            "  str(classes[c]))\n"
          ],
          "name": "stderr"
        },
        {
          "output_type": "stream",
          "text": [
            "[CV]  estimator__C=1, estimator__gamma=0.1, estimator__kernel=rbf, total=  12.2s\n",
            "[CV] estimator__C=1, estimator__gamma=0.1, estimator__kernel=poly ....\n"
          ],
          "name": "stdout"
        },
        {
          "output_type": "stream",
          "text": [
            "/usr/local/lib/python3.7/dist-packages/sklearn/multiclass.py:75: UserWarning: Label not 18 is present in all training examples.\n",
            "  str(classes[c]))\n"
          ],
          "name": "stderr"
        },
        {
          "output_type": "stream",
          "text": [
            "[CV]  estimator__C=1, estimator__gamma=0.1, estimator__kernel=poly, total=  11.2s\n",
            "[CV] estimator__C=1, estimator__gamma=0.1, estimator__kernel=poly ....\n"
          ],
          "name": "stdout"
        },
        {
          "output_type": "stream",
          "text": [
            "/usr/local/lib/python3.7/dist-packages/sklearn/multiclass.py:75: UserWarning: Label not 18 is present in all training examples.\n",
            "  str(classes[c]))\n"
          ],
          "name": "stderr"
        },
        {
          "output_type": "stream",
          "text": [
            "[CV]  estimator__C=1, estimator__gamma=0.1, estimator__kernel=poly, total=  11.3s\n",
            "[CV] estimator__C=1, estimator__gamma=0.1, estimator__kernel=poly ....\n"
          ],
          "name": "stdout"
        },
        {
          "output_type": "stream",
          "text": [
            "/usr/local/lib/python3.7/dist-packages/sklearn/multiclass.py:75: UserWarning: Label not 18 is present in all training examples.\n",
            "  str(classes[c]))\n"
          ],
          "name": "stderr"
        },
        {
          "output_type": "stream",
          "text": [
            "[CV]  estimator__C=1, estimator__gamma=0.1, estimator__kernel=poly, total=  11.4s\n",
            "[CV] estimator__C=1, estimator__gamma=0.1, estimator__kernel=poly ....\n"
          ],
          "name": "stdout"
        },
        {
          "output_type": "stream",
          "text": [
            "/usr/local/lib/python3.7/dist-packages/sklearn/multiclass.py:75: UserWarning: Label not 18 is present in all training examples.\n",
            "  str(classes[c]))\n"
          ],
          "name": "stderr"
        },
        {
          "output_type": "stream",
          "text": [
            "[CV]  estimator__C=1, estimator__gamma=0.1, estimator__kernel=poly, total=  11.3s\n",
            "[CV] estimator__C=1, estimator__gamma=0.1, estimator__kernel=poly ....\n"
          ],
          "name": "stdout"
        },
        {
          "output_type": "stream",
          "text": [
            "/usr/local/lib/python3.7/dist-packages/sklearn/multiclass.py:75: UserWarning: Label not 18 is present in all training examples.\n",
            "  str(classes[c]))\n"
          ],
          "name": "stderr"
        },
        {
          "output_type": "stream",
          "text": [
            "[CV]  estimator__C=1, estimator__gamma=0.1, estimator__kernel=poly, total=  11.5s\n",
            "[CV] estimator__C=1, estimator__gamma=0.1, estimator__kernel=sigmoid .\n"
          ],
          "name": "stdout"
        },
        {
          "output_type": "stream",
          "text": [
            "/usr/local/lib/python3.7/dist-packages/sklearn/multiclass.py:75: UserWarning: Label not 18 is present in all training examples.\n",
            "  str(classes[c]))\n"
          ],
          "name": "stderr"
        },
        {
          "output_type": "stream",
          "text": [
            "[CV]  estimator__C=1, estimator__gamma=0.1, estimator__kernel=sigmoid, total=  12.5s\n",
            "[CV] estimator__C=1, estimator__gamma=0.1, estimator__kernel=sigmoid .\n"
          ],
          "name": "stdout"
        },
        {
          "output_type": "stream",
          "text": [
            "/usr/local/lib/python3.7/dist-packages/sklearn/multiclass.py:75: UserWarning: Label not 18 is present in all training examples.\n",
            "  str(classes[c]))\n"
          ],
          "name": "stderr"
        },
        {
          "output_type": "stream",
          "text": [
            "[CV]  estimator__C=1, estimator__gamma=0.1, estimator__kernel=sigmoid, total=  12.5s\n",
            "[CV] estimator__C=1, estimator__gamma=0.1, estimator__kernel=sigmoid .\n"
          ],
          "name": "stdout"
        },
        {
          "output_type": "stream",
          "text": [
            "/usr/local/lib/python3.7/dist-packages/sklearn/multiclass.py:75: UserWarning: Label not 18 is present in all training examples.\n",
            "  str(classes[c]))\n"
          ],
          "name": "stderr"
        },
        {
          "output_type": "stream",
          "text": [
            "[CV]  estimator__C=1, estimator__gamma=0.1, estimator__kernel=sigmoid, total=  12.5s\n",
            "[CV] estimator__C=1, estimator__gamma=0.1, estimator__kernel=sigmoid .\n"
          ],
          "name": "stdout"
        },
        {
          "output_type": "stream",
          "text": [
            "/usr/local/lib/python3.7/dist-packages/sklearn/multiclass.py:75: UserWarning: Label not 18 is present in all training examples.\n",
            "  str(classes[c]))\n"
          ],
          "name": "stderr"
        },
        {
          "output_type": "stream",
          "text": [
            "[CV]  estimator__C=1, estimator__gamma=0.1, estimator__kernel=sigmoid, total=  12.5s\n",
            "[CV] estimator__C=1, estimator__gamma=0.1, estimator__kernel=sigmoid .\n"
          ],
          "name": "stdout"
        },
        {
          "output_type": "stream",
          "text": [
            "/usr/local/lib/python3.7/dist-packages/sklearn/multiclass.py:75: UserWarning: Label not 18 is present in all training examples.\n",
            "  str(classes[c]))\n"
          ],
          "name": "stderr"
        },
        {
          "output_type": "stream",
          "text": [
            "[CV]  estimator__C=1, estimator__gamma=0.1, estimator__kernel=sigmoid, total=  12.6s\n",
            "[CV] estimator__C=1, estimator__gamma=0.01, estimator__kernel=rbf ....\n"
          ],
          "name": "stdout"
        },
        {
          "output_type": "stream",
          "text": [
            "/usr/local/lib/python3.7/dist-packages/sklearn/multiclass.py:75: UserWarning: Label not 18 is present in all training examples.\n",
            "  str(classes[c]))\n"
          ],
          "name": "stderr"
        },
        {
          "output_type": "stream",
          "text": [
            "[CV]  estimator__C=1, estimator__gamma=0.01, estimator__kernel=rbf, total=  12.7s\n",
            "[CV] estimator__C=1, estimator__gamma=0.01, estimator__kernel=rbf ....\n"
          ],
          "name": "stdout"
        },
        {
          "output_type": "stream",
          "text": [
            "/usr/local/lib/python3.7/dist-packages/sklearn/multiclass.py:75: UserWarning: Label not 18 is present in all training examples.\n",
            "  str(classes[c]))\n"
          ],
          "name": "stderr"
        },
        {
          "output_type": "stream",
          "text": [
            "[CV]  estimator__C=1, estimator__gamma=0.01, estimator__kernel=rbf, total=  12.8s\n",
            "[CV] estimator__C=1, estimator__gamma=0.01, estimator__kernel=rbf ....\n"
          ],
          "name": "stdout"
        },
        {
          "output_type": "stream",
          "text": [
            "/usr/local/lib/python3.7/dist-packages/sklearn/multiclass.py:75: UserWarning: Label not 18 is present in all training examples.\n",
            "  str(classes[c]))\n"
          ],
          "name": "stderr"
        },
        {
          "output_type": "stream",
          "text": [
            "[CV]  estimator__C=1, estimator__gamma=0.01, estimator__kernel=rbf, total=  13.2s\n",
            "[CV] estimator__C=1, estimator__gamma=0.01, estimator__kernel=rbf ....\n"
          ],
          "name": "stdout"
        },
        {
          "output_type": "stream",
          "text": [
            "/usr/local/lib/python3.7/dist-packages/sklearn/multiclass.py:75: UserWarning: Label not 18 is present in all training examples.\n",
            "  str(classes[c]))\n"
          ],
          "name": "stderr"
        },
        {
          "output_type": "stream",
          "text": [
            "[CV]  estimator__C=1, estimator__gamma=0.01, estimator__kernel=rbf, total=  12.9s\n",
            "[CV] estimator__C=1, estimator__gamma=0.01, estimator__kernel=rbf ....\n"
          ],
          "name": "stdout"
        },
        {
          "output_type": "stream",
          "text": [
            "/usr/local/lib/python3.7/dist-packages/sklearn/multiclass.py:75: UserWarning: Label not 18 is present in all training examples.\n",
            "  str(classes[c]))\n"
          ],
          "name": "stderr"
        },
        {
          "output_type": "stream",
          "text": [
            "[CV]  estimator__C=1, estimator__gamma=0.01, estimator__kernel=rbf, total=  12.9s\n",
            "[CV] estimator__C=1, estimator__gamma=0.01, estimator__kernel=poly ...\n"
          ],
          "name": "stdout"
        },
        {
          "output_type": "stream",
          "text": [
            "/usr/local/lib/python3.7/dist-packages/sklearn/multiclass.py:75: UserWarning: Label not 18 is present in all training examples.\n",
            "  str(classes[c]))\n"
          ],
          "name": "stderr"
        },
        {
          "output_type": "stream",
          "text": [
            "[CV]  estimator__C=1, estimator__gamma=0.01, estimator__kernel=poly, total=  10.4s\n",
            "[CV] estimator__C=1, estimator__gamma=0.01, estimator__kernel=poly ...\n"
          ],
          "name": "stdout"
        },
        {
          "output_type": "stream",
          "text": [
            "/usr/local/lib/python3.7/dist-packages/sklearn/multiclass.py:75: UserWarning: Label not 18 is present in all training examples.\n",
            "  str(classes[c]))\n"
          ],
          "name": "stderr"
        },
        {
          "output_type": "stream",
          "text": [
            "[CV]  estimator__C=1, estimator__gamma=0.01, estimator__kernel=poly, total=  10.5s\n",
            "[CV] estimator__C=1, estimator__gamma=0.01, estimator__kernel=poly ...\n"
          ],
          "name": "stdout"
        },
        {
          "output_type": "stream",
          "text": [
            "/usr/local/lib/python3.7/dist-packages/sklearn/multiclass.py:75: UserWarning: Label not 18 is present in all training examples.\n",
            "  str(classes[c]))\n"
          ],
          "name": "stderr"
        },
        {
          "output_type": "stream",
          "text": [
            "[CV]  estimator__C=1, estimator__gamma=0.01, estimator__kernel=poly, total=  10.5s\n",
            "[CV] estimator__C=1, estimator__gamma=0.01, estimator__kernel=poly ...\n"
          ],
          "name": "stdout"
        },
        {
          "output_type": "stream",
          "text": [
            "/usr/local/lib/python3.7/dist-packages/sklearn/multiclass.py:75: UserWarning: Label not 18 is present in all training examples.\n",
            "  str(classes[c]))\n"
          ],
          "name": "stderr"
        },
        {
          "output_type": "stream",
          "text": [
            "[CV]  estimator__C=1, estimator__gamma=0.01, estimator__kernel=poly, total=  10.6s\n",
            "[CV] estimator__C=1, estimator__gamma=0.01, estimator__kernel=poly ...\n"
          ],
          "name": "stdout"
        },
        {
          "output_type": "stream",
          "text": [
            "/usr/local/lib/python3.7/dist-packages/sklearn/multiclass.py:75: UserWarning: Label not 18 is present in all training examples.\n",
            "  str(classes[c]))\n"
          ],
          "name": "stderr"
        },
        {
          "output_type": "stream",
          "text": [
            "[CV]  estimator__C=1, estimator__gamma=0.01, estimator__kernel=poly, total=  10.7s\n",
            "[CV] estimator__C=1, estimator__gamma=0.01, estimator__kernel=sigmoid \n"
          ],
          "name": "stdout"
        },
        {
          "output_type": "stream",
          "text": [
            "/usr/local/lib/python3.7/dist-packages/sklearn/multiclass.py:75: UserWarning: Label not 18 is present in all training examples.\n",
            "  str(classes[c]))\n"
          ],
          "name": "stderr"
        },
        {
          "output_type": "stream",
          "text": [
            "[CV]  estimator__C=1, estimator__gamma=0.01, estimator__kernel=sigmoid, total=  12.8s\n",
            "[CV] estimator__C=1, estimator__gamma=0.01, estimator__kernel=sigmoid \n"
          ],
          "name": "stdout"
        },
        {
          "output_type": "stream",
          "text": [
            "/usr/local/lib/python3.7/dist-packages/sklearn/multiclass.py:75: UserWarning: Label not 18 is present in all training examples.\n",
            "  str(classes[c]))\n"
          ],
          "name": "stderr"
        },
        {
          "output_type": "stream",
          "text": [
            "[CV]  estimator__C=1, estimator__gamma=0.01, estimator__kernel=sigmoid, total=  12.9s\n",
            "[CV] estimator__C=1, estimator__gamma=0.01, estimator__kernel=sigmoid \n"
          ],
          "name": "stdout"
        },
        {
          "output_type": "stream",
          "text": [
            "/usr/local/lib/python3.7/dist-packages/sklearn/multiclass.py:75: UserWarning: Label not 18 is present in all training examples.\n",
            "  str(classes[c]))\n"
          ],
          "name": "stderr"
        },
        {
          "output_type": "stream",
          "text": [
            "[CV]  estimator__C=1, estimator__gamma=0.01, estimator__kernel=sigmoid, total=  12.9s\n",
            "[CV] estimator__C=1, estimator__gamma=0.01, estimator__kernel=sigmoid \n"
          ],
          "name": "stdout"
        },
        {
          "output_type": "stream",
          "text": [
            "/usr/local/lib/python3.7/dist-packages/sklearn/multiclass.py:75: UserWarning: Label not 18 is present in all training examples.\n",
            "  str(classes[c]))\n"
          ],
          "name": "stderr"
        },
        {
          "output_type": "stream",
          "text": [
            "[CV]  estimator__C=1, estimator__gamma=0.01, estimator__kernel=sigmoid, total=  12.8s\n",
            "[CV] estimator__C=1, estimator__gamma=0.01, estimator__kernel=sigmoid \n"
          ],
          "name": "stdout"
        },
        {
          "output_type": "stream",
          "text": [
            "/usr/local/lib/python3.7/dist-packages/sklearn/multiclass.py:75: UserWarning: Label not 18 is present in all training examples.\n",
            "  str(classes[c]))\n"
          ],
          "name": "stderr"
        },
        {
          "output_type": "stream",
          "text": [
            "[CV]  estimator__C=1, estimator__gamma=0.01, estimator__kernel=sigmoid, total=  12.8s\n",
            "[CV] estimator__C=1, estimator__gamma=0.001, estimator__kernel=rbf ...\n"
          ],
          "name": "stdout"
        },
        {
          "output_type": "stream",
          "text": [
            "/usr/local/lib/python3.7/dist-packages/sklearn/multiclass.py:75: UserWarning: Label not 18 is present in all training examples.\n",
            "  str(classes[c]))\n"
          ],
          "name": "stderr"
        },
        {
          "output_type": "stream",
          "text": [
            "[CV]  estimator__C=1, estimator__gamma=0.001, estimator__kernel=rbf, total=  12.2s\n",
            "[CV] estimator__C=1, estimator__gamma=0.001, estimator__kernel=rbf ...\n"
          ],
          "name": "stdout"
        },
        {
          "output_type": "stream",
          "text": [
            "/usr/local/lib/python3.7/dist-packages/sklearn/multiclass.py:75: UserWarning: Label not 18 is present in all training examples.\n",
            "  str(classes[c]))\n"
          ],
          "name": "stderr"
        },
        {
          "output_type": "stream",
          "text": [
            "[CV]  estimator__C=1, estimator__gamma=0.001, estimator__kernel=rbf, total=  12.3s\n",
            "[CV] estimator__C=1, estimator__gamma=0.001, estimator__kernel=rbf ...\n"
          ],
          "name": "stdout"
        },
        {
          "output_type": "stream",
          "text": [
            "/usr/local/lib/python3.7/dist-packages/sklearn/multiclass.py:75: UserWarning: Label not 18 is present in all training examples.\n",
            "  str(classes[c]))\n"
          ],
          "name": "stderr"
        },
        {
          "output_type": "stream",
          "text": [
            "[CV]  estimator__C=1, estimator__gamma=0.001, estimator__kernel=rbf, total=  12.3s\n",
            "[CV] estimator__C=1, estimator__gamma=0.001, estimator__kernel=rbf ...\n"
          ],
          "name": "stdout"
        },
        {
          "output_type": "stream",
          "text": [
            "/usr/local/lib/python3.7/dist-packages/sklearn/multiclass.py:75: UserWarning: Label not 18 is present in all training examples.\n",
            "  str(classes[c]))\n"
          ],
          "name": "stderr"
        },
        {
          "output_type": "stream",
          "text": [
            "[CV]  estimator__C=1, estimator__gamma=0.001, estimator__kernel=rbf, total=  12.4s\n",
            "[CV] estimator__C=1, estimator__gamma=0.001, estimator__kernel=rbf ...\n"
          ],
          "name": "stdout"
        },
        {
          "output_type": "stream",
          "text": [
            "/usr/local/lib/python3.7/dist-packages/sklearn/multiclass.py:75: UserWarning: Label not 18 is present in all training examples.\n",
            "  str(classes[c]))\n"
          ],
          "name": "stderr"
        },
        {
          "output_type": "stream",
          "text": [
            "[CV]  estimator__C=1, estimator__gamma=0.001, estimator__kernel=rbf, total=  12.4s\n",
            "[CV] estimator__C=1, estimator__gamma=0.001, estimator__kernel=poly ..\n"
          ],
          "name": "stdout"
        },
        {
          "output_type": "stream",
          "text": [
            "/usr/local/lib/python3.7/dist-packages/sklearn/multiclass.py:75: UserWarning: Label not 18 is present in all training examples.\n",
            "  str(classes[c]))\n"
          ],
          "name": "stderr"
        },
        {
          "output_type": "stream",
          "text": [
            "[CV]  estimator__C=1, estimator__gamma=0.001, estimator__kernel=poly, total=  10.3s\n",
            "[CV] estimator__C=1, estimator__gamma=0.001, estimator__kernel=poly ..\n"
          ],
          "name": "stdout"
        },
        {
          "output_type": "stream",
          "text": [
            "/usr/local/lib/python3.7/dist-packages/sklearn/multiclass.py:75: UserWarning: Label not 18 is present in all training examples.\n",
            "  str(classes[c]))\n"
          ],
          "name": "stderr"
        },
        {
          "output_type": "stream",
          "text": [
            "[CV]  estimator__C=1, estimator__gamma=0.001, estimator__kernel=poly, total=  10.4s\n",
            "[CV] estimator__C=1, estimator__gamma=0.001, estimator__kernel=poly ..\n"
          ],
          "name": "stdout"
        },
        {
          "output_type": "stream",
          "text": [
            "/usr/local/lib/python3.7/dist-packages/sklearn/multiclass.py:75: UserWarning: Label not 18 is present in all training examples.\n",
            "  str(classes[c]))\n"
          ],
          "name": "stderr"
        },
        {
          "output_type": "stream",
          "text": [
            "[CV]  estimator__C=1, estimator__gamma=0.001, estimator__kernel=poly, total=  10.4s\n",
            "[CV] estimator__C=1, estimator__gamma=0.001, estimator__kernel=poly ..\n"
          ],
          "name": "stdout"
        },
        {
          "output_type": "stream",
          "text": [
            "/usr/local/lib/python3.7/dist-packages/sklearn/multiclass.py:75: UserWarning: Label not 18 is present in all training examples.\n",
            "  str(classes[c]))\n"
          ],
          "name": "stderr"
        },
        {
          "output_type": "stream",
          "text": [
            "[CV]  estimator__C=1, estimator__gamma=0.001, estimator__kernel=poly, total=  10.4s\n",
            "[CV] estimator__C=1, estimator__gamma=0.001, estimator__kernel=poly ..\n"
          ],
          "name": "stdout"
        },
        {
          "output_type": "stream",
          "text": [
            "/usr/local/lib/python3.7/dist-packages/sklearn/multiclass.py:75: UserWarning: Label not 18 is present in all training examples.\n",
            "  str(classes[c]))\n"
          ],
          "name": "stderr"
        },
        {
          "output_type": "stream",
          "text": [
            "[CV]  estimator__C=1, estimator__gamma=0.001, estimator__kernel=poly, total=  10.4s\n",
            "[CV] estimator__C=1, estimator__gamma=0.001, estimator__kernel=sigmoid \n"
          ],
          "name": "stdout"
        },
        {
          "output_type": "stream",
          "text": [
            "/usr/local/lib/python3.7/dist-packages/sklearn/multiclass.py:75: UserWarning: Label not 18 is present in all training examples.\n",
            "  str(classes[c]))\n"
          ],
          "name": "stderr"
        },
        {
          "output_type": "stream",
          "text": [
            "[CV]  estimator__C=1, estimator__gamma=0.001, estimator__kernel=sigmoid, total=  11.8s\n",
            "[CV] estimator__C=1, estimator__gamma=0.001, estimator__kernel=sigmoid \n"
          ],
          "name": "stdout"
        },
        {
          "output_type": "stream",
          "text": [
            "/usr/local/lib/python3.7/dist-packages/sklearn/multiclass.py:75: UserWarning: Label not 18 is present in all training examples.\n",
            "  str(classes[c]))\n"
          ],
          "name": "stderr"
        },
        {
          "output_type": "stream",
          "text": [
            "[CV]  estimator__C=1, estimator__gamma=0.001, estimator__kernel=sigmoid, total=  11.8s\n",
            "[CV] estimator__C=1, estimator__gamma=0.001, estimator__kernel=sigmoid \n"
          ],
          "name": "stdout"
        },
        {
          "output_type": "stream",
          "text": [
            "/usr/local/lib/python3.7/dist-packages/sklearn/multiclass.py:75: UserWarning: Label not 18 is present in all training examples.\n",
            "  str(classes[c]))\n"
          ],
          "name": "stderr"
        },
        {
          "output_type": "stream",
          "text": [
            "[CV]  estimator__C=1, estimator__gamma=0.001, estimator__kernel=sigmoid, total=  11.8s\n",
            "[CV] estimator__C=1, estimator__gamma=0.001, estimator__kernel=sigmoid \n"
          ],
          "name": "stdout"
        },
        {
          "output_type": "stream",
          "text": [
            "/usr/local/lib/python3.7/dist-packages/sklearn/multiclass.py:75: UserWarning: Label not 18 is present in all training examples.\n",
            "  str(classes[c]))\n"
          ],
          "name": "stderr"
        },
        {
          "output_type": "stream",
          "text": [
            "[CV]  estimator__C=1, estimator__gamma=0.001, estimator__kernel=sigmoid, total=  11.9s\n",
            "[CV] estimator__C=1, estimator__gamma=0.001, estimator__kernel=sigmoid \n"
          ],
          "name": "stdout"
        },
        {
          "output_type": "stream",
          "text": [
            "/usr/local/lib/python3.7/dist-packages/sklearn/multiclass.py:75: UserWarning: Label not 18 is present in all training examples.\n",
            "  str(classes[c]))\n"
          ],
          "name": "stderr"
        },
        {
          "output_type": "stream",
          "text": [
            "[CV]  estimator__C=1, estimator__gamma=0.001, estimator__kernel=sigmoid, total=  11.8s\n",
            "[CV] estimator__C=2, estimator__gamma=1, estimator__kernel=rbf .......\n"
          ],
          "name": "stdout"
        },
        {
          "output_type": "stream",
          "text": [
            "/usr/local/lib/python3.7/dist-packages/sklearn/multiclass.py:75: UserWarning: Label not 18 is present in all training examples.\n",
            "  str(classes[c]))\n"
          ],
          "name": "stderr"
        },
        {
          "output_type": "stream",
          "text": [
            "[CV]  estimator__C=2, estimator__gamma=1, estimator__kernel=rbf, total=  18.6s\n",
            "[CV] estimator__C=2, estimator__gamma=1, estimator__kernel=rbf .......\n"
          ],
          "name": "stdout"
        },
        {
          "output_type": "stream",
          "text": [
            "/usr/local/lib/python3.7/dist-packages/sklearn/multiclass.py:75: UserWarning: Label not 18 is present in all training examples.\n",
            "  str(classes[c]))\n"
          ],
          "name": "stderr"
        },
        {
          "output_type": "stream",
          "text": [
            "[CV]  estimator__C=2, estimator__gamma=1, estimator__kernel=rbf, total=  19.2s\n",
            "[CV] estimator__C=2, estimator__gamma=1, estimator__kernel=rbf .......\n"
          ],
          "name": "stdout"
        },
        {
          "output_type": "stream",
          "text": [
            "/usr/local/lib/python3.7/dist-packages/sklearn/multiclass.py:75: UserWarning: Label not 18 is present in all training examples.\n",
            "  str(classes[c]))\n"
          ],
          "name": "stderr"
        },
        {
          "output_type": "stream",
          "text": [
            "[CV]  estimator__C=2, estimator__gamma=1, estimator__kernel=rbf, total=  19.6s\n",
            "[CV] estimator__C=2, estimator__gamma=1, estimator__kernel=rbf .......\n"
          ],
          "name": "stdout"
        },
        {
          "output_type": "stream",
          "text": [
            "/usr/local/lib/python3.7/dist-packages/sklearn/multiclass.py:75: UserWarning: Label not 18 is present in all training examples.\n",
            "  str(classes[c]))\n"
          ],
          "name": "stderr"
        },
        {
          "output_type": "stream",
          "text": [
            "[CV]  estimator__C=2, estimator__gamma=1, estimator__kernel=rbf, total=  19.5s\n",
            "[CV] estimator__C=2, estimator__gamma=1, estimator__kernel=rbf .......\n"
          ],
          "name": "stdout"
        },
        {
          "output_type": "stream",
          "text": [
            "/usr/local/lib/python3.7/dist-packages/sklearn/multiclass.py:75: UserWarning: Label not 18 is present in all training examples.\n",
            "  str(classes[c]))\n"
          ],
          "name": "stderr"
        },
        {
          "output_type": "stream",
          "text": [
            "[CV]  estimator__C=2, estimator__gamma=1, estimator__kernel=rbf, total=  19.6s\n",
            "[CV] estimator__C=2, estimator__gamma=1, estimator__kernel=poly ......\n"
          ],
          "name": "stdout"
        },
        {
          "output_type": "stream",
          "text": [
            "/usr/local/lib/python3.7/dist-packages/sklearn/multiclass.py:75: UserWarning: Label not 18 is present in all training examples.\n",
            "  str(classes[c]))\n"
          ],
          "name": "stderr"
        },
        {
          "output_type": "stream",
          "text": [
            "[CV]  estimator__C=2, estimator__gamma=1, estimator__kernel=poly, total=  14.7s\n",
            "[CV] estimator__C=2, estimator__gamma=1, estimator__kernel=poly ......\n"
          ],
          "name": "stdout"
        },
        {
          "output_type": "stream",
          "text": [
            "/usr/local/lib/python3.7/dist-packages/sklearn/multiclass.py:75: UserWarning: Label not 18 is present in all training examples.\n",
            "  str(classes[c]))\n"
          ],
          "name": "stderr"
        },
        {
          "output_type": "stream",
          "text": [
            "[CV]  estimator__C=2, estimator__gamma=1, estimator__kernel=poly, total=  14.9s\n",
            "[CV] estimator__C=2, estimator__gamma=1, estimator__kernel=poly ......\n"
          ],
          "name": "stdout"
        },
        {
          "output_type": "stream",
          "text": [
            "/usr/local/lib/python3.7/dist-packages/sklearn/multiclass.py:75: UserWarning: Label not 18 is present in all training examples.\n",
            "  str(classes[c]))\n"
          ],
          "name": "stderr"
        },
        {
          "output_type": "stream",
          "text": [
            "[CV]  estimator__C=2, estimator__gamma=1, estimator__kernel=poly, total=  14.8s\n",
            "[CV] estimator__C=2, estimator__gamma=1, estimator__kernel=poly ......\n"
          ],
          "name": "stdout"
        },
        {
          "output_type": "stream",
          "text": [
            "/usr/local/lib/python3.7/dist-packages/sklearn/multiclass.py:75: UserWarning: Label not 18 is present in all training examples.\n",
            "  str(classes[c]))\n"
          ],
          "name": "stderr"
        },
        {
          "output_type": "stream",
          "text": [
            "[CV]  estimator__C=2, estimator__gamma=1, estimator__kernel=poly, total=  14.6s\n",
            "[CV] estimator__C=2, estimator__gamma=1, estimator__kernel=poly ......\n"
          ],
          "name": "stdout"
        },
        {
          "output_type": "stream",
          "text": [
            "/usr/local/lib/python3.7/dist-packages/sklearn/multiclass.py:75: UserWarning: Label not 18 is present in all training examples.\n",
            "  str(classes[c]))\n"
          ],
          "name": "stderr"
        },
        {
          "output_type": "stream",
          "text": [
            "[CV]  estimator__C=2, estimator__gamma=1, estimator__kernel=poly, total=  15.0s\n",
            "[CV] estimator__C=2, estimator__gamma=1, estimator__kernel=sigmoid ...\n"
          ],
          "name": "stdout"
        },
        {
          "output_type": "stream",
          "text": [
            "/usr/local/lib/python3.7/dist-packages/sklearn/multiclass.py:75: UserWarning: Label not 18 is present in all training examples.\n",
            "  str(classes[c]))\n"
          ],
          "name": "stderr"
        },
        {
          "output_type": "stream",
          "text": [
            "[CV]  estimator__C=2, estimator__gamma=1, estimator__kernel=sigmoid, total=  12.4s\n",
            "[CV] estimator__C=2, estimator__gamma=1, estimator__kernel=sigmoid ...\n"
          ],
          "name": "stdout"
        },
        {
          "output_type": "stream",
          "text": [
            "/usr/local/lib/python3.7/dist-packages/sklearn/multiclass.py:75: UserWarning: Label not 18 is present in all training examples.\n",
            "  str(classes[c]))\n"
          ],
          "name": "stderr"
        },
        {
          "output_type": "stream",
          "text": [
            "[CV]  estimator__C=2, estimator__gamma=1, estimator__kernel=sigmoid, total=  12.0s\n",
            "[CV] estimator__C=2, estimator__gamma=1, estimator__kernel=sigmoid ...\n"
          ],
          "name": "stdout"
        },
        {
          "output_type": "stream",
          "text": [
            "/usr/local/lib/python3.7/dist-packages/sklearn/multiclass.py:75: UserWarning: Label not 18 is present in all training examples.\n",
            "  str(classes[c]))\n"
          ],
          "name": "stderr"
        },
        {
          "output_type": "stream",
          "text": [
            "[CV]  estimator__C=2, estimator__gamma=1, estimator__kernel=sigmoid, total=  12.0s\n",
            "[CV] estimator__C=2, estimator__gamma=1, estimator__kernel=sigmoid ...\n"
          ],
          "name": "stdout"
        },
        {
          "output_type": "stream",
          "text": [
            "/usr/local/lib/python3.7/dist-packages/sklearn/multiclass.py:75: UserWarning: Label not 18 is present in all training examples.\n",
            "  str(classes[c]))\n"
          ],
          "name": "stderr"
        },
        {
          "output_type": "stream",
          "text": [
            "[CV]  estimator__C=2, estimator__gamma=1, estimator__kernel=sigmoid, total=  11.8s\n",
            "[CV] estimator__C=2, estimator__gamma=1, estimator__kernel=sigmoid ...\n"
          ],
          "name": "stdout"
        },
        {
          "output_type": "stream",
          "text": [
            "/usr/local/lib/python3.7/dist-packages/sklearn/multiclass.py:75: UserWarning: Label not 18 is present in all training examples.\n",
            "  str(classes[c]))\n"
          ],
          "name": "stderr"
        },
        {
          "output_type": "stream",
          "text": [
            "[CV]  estimator__C=2, estimator__gamma=1, estimator__kernel=sigmoid, total=  11.7s\n",
            "[CV] estimator__C=2, estimator__gamma=0.1, estimator__kernel=rbf .....\n"
          ],
          "name": "stdout"
        },
        {
          "output_type": "stream",
          "text": [
            "/usr/local/lib/python3.7/dist-packages/sklearn/multiclass.py:75: UserWarning: Label not 18 is present in all training examples.\n",
            "  str(classes[c]))\n"
          ],
          "name": "stderr"
        },
        {
          "output_type": "stream",
          "text": [
            "[CV]  estimator__C=2, estimator__gamma=0.1, estimator__kernel=rbf, total=  11.8s\n",
            "[CV] estimator__C=2, estimator__gamma=0.1, estimator__kernel=rbf .....\n"
          ],
          "name": "stdout"
        },
        {
          "output_type": "stream",
          "text": [
            "/usr/local/lib/python3.7/dist-packages/sklearn/multiclass.py:75: UserWarning: Label not 18 is present in all training examples.\n",
            "  str(classes[c]))\n"
          ],
          "name": "stderr"
        },
        {
          "output_type": "stream",
          "text": [
            "[CV]  estimator__C=2, estimator__gamma=0.1, estimator__kernel=rbf, total=  11.8s\n",
            "[CV] estimator__C=2, estimator__gamma=0.1, estimator__kernel=rbf .....\n"
          ],
          "name": "stdout"
        },
        {
          "output_type": "stream",
          "text": [
            "/usr/local/lib/python3.7/dist-packages/sklearn/multiclass.py:75: UserWarning: Label not 18 is present in all training examples.\n",
            "  str(classes[c]))\n"
          ],
          "name": "stderr"
        },
        {
          "output_type": "stream",
          "text": [
            "[CV]  estimator__C=2, estimator__gamma=0.1, estimator__kernel=rbf, total=  12.3s\n",
            "[CV] estimator__C=2, estimator__gamma=0.1, estimator__kernel=rbf .....\n"
          ],
          "name": "stdout"
        },
        {
          "output_type": "stream",
          "text": [
            "/usr/local/lib/python3.7/dist-packages/sklearn/multiclass.py:75: UserWarning: Label not 18 is present in all training examples.\n",
            "  str(classes[c]))\n"
          ],
          "name": "stderr"
        },
        {
          "output_type": "stream",
          "text": [
            "[CV]  estimator__C=2, estimator__gamma=0.1, estimator__kernel=rbf, total=  12.1s\n",
            "[CV] estimator__C=2, estimator__gamma=0.1, estimator__kernel=rbf .....\n"
          ],
          "name": "stdout"
        },
        {
          "output_type": "stream",
          "text": [
            "/usr/local/lib/python3.7/dist-packages/sklearn/multiclass.py:75: UserWarning: Label not 18 is present in all training examples.\n",
            "  str(classes[c]))\n"
          ],
          "name": "stderr"
        },
        {
          "output_type": "stream",
          "text": [
            "[CV]  estimator__C=2, estimator__gamma=0.1, estimator__kernel=rbf, total=  12.1s\n",
            "[CV] estimator__C=2, estimator__gamma=0.1, estimator__kernel=poly ....\n"
          ],
          "name": "stdout"
        },
        {
          "output_type": "stream",
          "text": [
            "/usr/local/lib/python3.7/dist-packages/sklearn/multiclass.py:75: UserWarning: Label not 18 is present in all training examples.\n",
            "  str(classes[c]))\n"
          ],
          "name": "stderr"
        },
        {
          "output_type": "stream",
          "text": [
            "[CV]  estimator__C=2, estimator__gamma=0.1, estimator__kernel=poly, total=  11.1s\n",
            "[CV] estimator__C=2, estimator__gamma=0.1, estimator__kernel=poly ....\n"
          ],
          "name": "stdout"
        },
        {
          "output_type": "stream",
          "text": [
            "/usr/local/lib/python3.7/dist-packages/sklearn/multiclass.py:75: UserWarning: Label not 18 is present in all training examples.\n",
            "  str(classes[c]))\n"
          ],
          "name": "stderr"
        },
        {
          "output_type": "stream",
          "text": [
            "[CV]  estimator__C=2, estimator__gamma=0.1, estimator__kernel=poly, total=  11.1s\n",
            "[CV] estimator__C=2, estimator__gamma=0.1, estimator__kernel=poly ....\n"
          ],
          "name": "stdout"
        },
        {
          "output_type": "stream",
          "text": [
            "/usr/local/lib/python3.7/dist-packages/sklearn/multiclass.py:75: UserWarning: Label not 18 is present in all training examples.\n",
            "  str(classes[c]))\n"
          ],
          "name": "stderr"
        },
        {
          "output_type": "stream",
          "text": [
            "[CV]  estimator__C=2, estimator__gamma=0.1, estimator__kernel=poly, total=  11.3s\n",
            "[CV] estimator__C=2, estimator__gamma=0.1, estimator__kernel=poly ....\n"
          ],
          "name": "stdout"
        },
        {
          "output_type": "stream",
          "text": [
            "/usr/local/lib/python3.7/dist-packages/sklearn/multiclass.py:75: UserWarning: Label not 18 is present in all training examples.\n",
            "  str(classes[c]))\n"
          ],
          "name": "stderr"
        },
        {
          "output_type": "stream",
          "text": [
            "[CV]  estimator__C=2, estimator__gamma=0.1, estimator__kernel=poly, total=  11.2s\n",
            "[CV] estimator__C=2, estimator__gamma=0.1, estimator__kernel=poly ....\n"
          ],
          "name": "stdout"
        },
        {
          "output_type": "stream",
          "text": [
            "/usr/local/lib/python3.7/dist-packages/sklearn/multiclass.py:75: UserWarning: Label not 18 is present in all training examples.\n",
            "  str(classes[c]))\n"
          ],
          "name": "stderr"
        },
        {
          "output_type": "stream",
          "text": [
            "[CV]  estimator__C=2, estimator__gamma=0.1, estimator__kernel=poly, total=  11.3s\n",
            "[CV] estimator__C=2, estimator__gamma=0.1, estimator__kernel=sigmoid .\n"
          ],
          "name": "stdout"
        },
        {
          "output_type": "stream",
          "text": [
            "/usr/local/lib/python3.7/dist-packages/sklearn/multiclass.py:75: UserWarning: Label not 18 is present in all training examples.\n",
            "  str(classes[c]))\n"
          ],
          "name": "stderr"
        },
        {
          "output_type": "stream",
          "text": [
            "[CV]  estimator__C=2, estimator__gamma=0.1, estimator__kernel=sigmoid, total=  12.4s\n",
            "[CV] estimator__C=2, estimator__gamma=0.1, estimator__kernel=sigmoid .\n"
          ],
          "name": "stdout"
        },
        {
          "output_type": "stream",
          "text": [
            "/usr/local/lib/python3.7/dist-packages/sklearn/multiclass.py:75: UserWarning: Label not 18 is present in all training examples.\n",
            "  str(classes[c]))\n"
          ],
          "name": "stderr"
        },
        {
          "output_type": "stream",
          "text": [
            "[CV]  estimator__C=2, estimator__gamma=0.1, estimator__kernel=sigmoid, total=  12.3s\n",
            "[CV] estimator__C=2, estimator__gamma=0.1, estimator__kernel=sigmoid .\n"
          ],
          "name": "stdout"
        },
        {
          "output_type": "stream",
          "text": [
            "/usr/local/lib/python3.7/dist-packages/sklearn/multiclass.py:75: UserWarning: Label not 18 is present in all training examples.\n",
            "  str(classes[c]))\n"
          ],
          "name": "stderr"
        },
        {
          "output_type": "stream",
          "text": [
            "[CV]  estimator__C=2, estimator__gamma=0.1, estimator__kernel=sigmoid, total=  12.4s\n",
            "[CV] estimator__C=2, estimator__gamma=0.1, estimator__kernel=sigmoid .\n"
          ],
          "name": "stdout"
        },
        {
          "output_type": "stream",
          "text": [
            "/usr/local/lib/python3.7/dist-packages/sklearn/multiclass.py:75: UserWarning: Label not 18 is present in all training examples.\n",
            "  str(classes[c]))\n"
          ],
          "name": "stderr"
        },
        {
          "output_type": "stream",
          "text": [
            "[CV]  estimator__C=2, estimator__gamma=0.1, estimator__kernel=sigmoid, total=  12.4s\n",
            "[CV] estimator__C=2, estimator__gamma=0.1, estimator__kernel=sigmoid .\n"
          ],
          "name": "stdout"
        },
        {
          "output_type": "stream",
          "text": [
            "/usr/local/lib/python3.7/dist-packages/sklearn/multiclass.py:75: UserWarning: Label not 18 is present in all training examples.\n",
            "  str(classes[c]))\n"
          ],
          "name": "stderr"
        },
        {
          "output_type": "stream",
          "text": [
            "[CV]  estimator__C=2, estimator__gamma=0.1, estimator__kernel=sigmoid, total=  12.4s\n",
            "[CV] estimator__C=2, estimator__gamma=0.01, estimator__kernel=rbf ....\n"
          ],
          "name": "stdout"
        },
        {
          "output_type": "stream",
          "text": [
            "/usr/local/lib/python3.7/dist-packages/sklearn/multiclass.py:75: UserWarning: Label not 18 is present in all training examples.\n",
            "  str(classes[c]))\n"
          ],
          "name": "stderr"
        },
        {
          "output_type": "stream",
          "text": [
            "[CV]  estimator__C=2, estimator__gamma=0.01, estimator__kernel=rbf, total=  12.8s\n",
            "[CV] estimator__C=2, estimator__gamma=0.01, estimator__kernel=rbf ....\n"
          ],
          "name": "stdout"
        },
        {
          "output_type": "stream",
          "text": [
            "/usr/local/lib/python3.7/dist-packages/sklearn/multiclass.py:75: UserWarning: Label not 18 is present in all training examples.\n",
            "  str(classes[c]))\n"
          ],
          "name": "stderr"
        },
        {
          "output_type": "stream",
          "text": [
            "[CV]  estimator__C=2, estimator__gamma=0.01, estimator__kernel=rbf, total=  12.7s\n",
            "[CV] estimator__C=2, estimator__gamma=0.01, estimator__kernel=rbf ....\n"
          ],
          "name": "stdout"
        },
        {
          "output_type": "stream",
          "text": [
            "/usr/local/lib/python3.7/dist-packages/sklearn/multiclass.py:75: UserWarning: Label not 18 is present in all training examples.\n",
            "  str(classes[c]))\n"
          ],
          "name": "stderr"
        },
        {
          "output_type": "stream",
          "text": [
            "[CV]  estimator__C=2, estimator__gamma=0.01, estimator__kernel=rbf, total=  12.8s\n",
            "[CV] estimator__C=2, estimator__gamma=0.01, estimator__kernel=rbf ....\n"
          ],
          "name": "stdout"
        },
        {
          "output_type": "stream",
          "text": [
            "/usr/local/lib/python3.7/dist-packages/sklearn/multiclass.py:75: UserWarning: Label not 18 is present in all training examples.\n",
            "  str(classes[c]))\n"
          ],
          "name": "stderr"
        },
        {
          "output_type": "stream",
          "text": [
            "[CV]  estimator__C=2, estimator__gamma=0.01, estimator__kernel=rbf, total=  12.7s\n",
            "[CV] estimator__C=2, estimator__gamma=0.01, estimator__kernel=rbf ....\n"
          ],
          "name": "stdout"
        },
        {
          "output_type": "stream",
          "text": [
            "/usr/local/lib/python3.7/dist-packages/sklearn/multiclass.py:75: UserWarning: Label not 18 is present in all training examples.\n",
            "  str(classes[c]))\n"
          ],
          "name": "stderr"
        },
        {
          "output_type": "stream",
          "text": [
            "[CV]  estimator__C=2, estimator__gamma=0.01, estimator__kernel=rbf, total=  12.8s\n",
            "[CV] estimator__C=2, estimator__gamma=0.01, estimator__kernel=poly ...\n"
          ],
          "name": "stdout"
        },
        {
          "output_type": "stream",
          "text": [
            "/usr/local/lib/python3.7/dist-packages/sklearn/multiclass.py:75: UserWarning: Label not 18 is present in all training examples.\n",
            "  str(classes[c]))\n"
          ],
          "name": "stderr"
        },
        {
          "output_type": "stream",
          "text": [
            "[CV]  estimator__C=2, estimator__gamma=0.01, estimator__kernel=poly, total=  10.6s\n",
            "[CV] estimator__C=2, estimator__gamma=0.01, estimator__kernel=poly ...\n"
          ],
          "name": "stdout"
        },
        {
          "output_type": "stream",
          "text": [
            "/usr/local/lib/python3.7/dist-packages/sklearn/multiclass.py:75: UserWarning: Label not 18 is present in all training examples.\n",
            "  str(classes[c]))\n"
          ],
          "name": "stderr"
        },
        {
          "output_type": "stream",
          "text": [
            "[CV]  estimator__C=2, estimator__gamma=0.01, estimator__kernel=poly, total=  10.6s\n",
            "[CV] estimator__C=2, estimator__gamma=0.01, estimator__kernel=poly ...\n"
          ],
          "name": "stdout"
        },
        {
          "output_type": "stream",
          "text": [
            "/usr/local/lib/python3.7/dist-packages/sklearn/multiclass.py:75: UserWarning: Label not 18 is present in all training examples.\n",
            "  str(classes[c]))\n"
          ],
          "name": "stderr"
        },
        {
          "output_type": "stream",
          "text": [
            "[CV]  estimator__C=2, estimator__gamma=0.01, estimator__kernel=poly, total=  10.6s\n",
            "[CV] estimator__C=2, estimator__gamma=0.01, estimator__kernel=poly ...\n"
          ],
          "name": "stdout"
        },
        {
          "output_type": "stream",
          "text": [
            "/usr/local/lib/python3.7/dist-packages/sklearn/multiclass.py:75: UserWarning: Label not 18 is present in all training examples.\n",
            "  str(classes[c]))\n"
          ],
          "name": "stderr"
        },
        {
          "output_type": "stream",
          "text": [
            "[CV]  estimator__C=2, estimator__gamma=0.01, estimator__kernel=poly, total=  10.7s\n",
            "[CV] estimator__C=2, estimator__gamma=0.01, estimator__kernel=poly ...\n"
          ],
          "name": "stdout"
        },
        {
          "output_type": "stream",
          "text": [
            "/usr/local/lib/python3.7/dist-packages/sklearn/multiclass.py:75: UserWarning: Label not 18 is present in all training examples.\n",
            "  str(classes[c]))\n"
          ],
          "name": "stderr"
        },
        {
          "output_type": "stream",
          "text": [
            "[CV]  estimator__C=2, estimator__gamma=0.01, estimator__kernel=poly, total=  10.6s\n",
            "[CV] estimator__C=2, estimator__gamma=0.01, estimator__kernel=sigmoid \n"
          ],
          "name": "stdout"
        },
        {
          "output_type": "stream",
          "text": [
            "/usr/local/lib/python3.7/dist-packages/sklearn/multiclass.py:75: UserWarning: Label not 18 is present in all training examples.\n",
            "  str(classes[c]))\n"
          ],
          "name": "stderr"
        },
        {
          "output_type": "stream",
          "text": [
            "[CV]  estimator__C=2, estimator__gamma=0.01, estimator__kernel=sigmoid, total=  12.6s\n",
            "[CV] estimator__C=2, estimator__gamma=0.01, estimator__kernel=sigmoid \n"
          ],
          "name": "stdout"
        },
        {
          "output_type": "stream",
          "text": [
            "/usr/local/lib/python3.7/dist-packages/sklearn/multiclass.py:75: UserWarning: Label not 18 is present in all training examples.\n",
            "  str(classes[c]))\n"
          ],
          "name": "stderr"
        },
        {
          "output_type": "stream",
          "text": [
            "[CV]  estimator__C=2, estimator__gamma=0.01, estimator__kernel=sigmoid, total=  12.6s\n",
            "[CV] estimator__C=2, estimator__gamma=0.01, estimator__kernel=sigmoid \n"
          ],
          "name": "stdout"
        },
        {
          "output_type": "stream",
          "text": [
            "/usr/local/lib/python3.7/dist-packages/sklearn/multiclass.py:75: UserWarning: Label not 18 is present in all training examples.\n",
            "  str(classes[c]))\n"
          ],
          "name": "stderr"
        },
        {
          "output_type": "stream",
          "text": [
            "[CV]  estimator__C=2, estimator__gamma=0.01, estimator__kernel=sigmoid, total=  12.7s\n",
            "[CV] estimator__C=2, estimator__gamma=0.01, estimator__kernel=sigmoid \n"
          ],
          "name": "stdout"
        },
        {
          "output_type": "stream",
          "text": [
            "/usr/local/lib/python3.7/dist-packages/sklearn/multiclass.py:75: UserWarning: Label not 18 is present in all training examples.\n",
            "  str(classes[c]))\n"
          ],
          "name": "stderr"
        },
        {
          "output_type": "stream",
          "text": [
            "[CV]  estimator__C=2, estimator__gamma=0.01, estimator__kernel=sigmoid, total=  12.7s\n",
            "[CV] estimator__C=2, estimator__gamma=0.01, estimator__kernel=sigmoid \n"
          ],
          "name": "stdout"
        },
        {
          "output_type": "stream",
          "text": [
            "/usr/local/lib/python3.7/dist-packages/sklearn/multiclass.py:75: UserWarning: Label not 18 is present in all training examples.\n",
            "  str(classes[c]))\n"
          ],
          "name": "stderr"
        },
        {
          "output_type": "stream",
          "text": [
            "[CV]  estimator__C=2, estimator__gamma=0.01, estimator__kernel=sigmoid, total=  12.7s\n",
            "[CV] estimator__C=2, estimator__gamma=0.001, estimator__kernel=rbf ...\n"
          ],
          "name": "stdout"
        },
        {
          "output_type": "stream",
          "text": [
            "/usr/local/lib/python3.7/dist-packages/sklearn/multiclass.py:75: UserWarning: Label not 18 is present in all training examples.\n",
            "  str(classes[c]))\n"
          ],
          "name": "stderr"
        },
        {
          "output_type": "stream",
          "text": [
            "[CV]  estimator__C=2, estimator__gamma=0.001, estimator__kernel=rbf, total=  12.5s\n",
            "[CV] estimator__C=2, estimator__gamma=0.001, estimator__kernel=rbf ...\n"
          ],
          "name": "stdout"
        },
        {
          "output_type": "stream",
          "text": [
            "/usr/local/lib/python3.7/dist-packages/sklearn/multiclass.py:75: UserWarning: Label not 18 is present in all training examples.\n",
            "  str(classes[c]))\n"
          ],
          "name": "stderr"
        },
        {
          "output_type": "stream",
          "text": [
            "[CV]  estimator__C=2, estimator__gamma=0.001, estimator__kernel=rbf, total=  12.6s\n",
            "[CV] estimator__C=2, estimator__gamma=0.001, estimator__kernel=rbf ...\n"
          ],
          "name": "stdout"
        },
        {
          "output_type": "stream",
          "text": [
            "/usr/local/lib/python3.7/dist-packages/sklearn/multiclass.py:75: UserWarning: Label not 18 is present in all training examples.\n",
            "  str(classes[c]))\n"
          ],
          "name": "stderr"
        },
        {
          "output_type": "stream",
          "text": [
            "[CV]  estimator__C=2, estimator__gamma=0.001, estimator__kernel=rbf, total=  12.7s\n",
            "[CV] estimator__C=2, estimator__gamma=0.001, estimator__kernel=rbf ...\n"
          ],
          "name": "stdout"
        },
        {
          "output_type": "stream",
          "text": [
            "/usr/local/lib/python3.7/dist-packages/sklearn/multiclass.py:75: UserWarning: Label not 18 is present in all training examples.\n",
            "  str(classes[c]))\n"
          ],
          "name": "stderr"
        },
        {
          "output_type": "stream",
          "text": [
            "[CV]  estimator__C=2, estimator__gamma=0.001, estimator__kernel=rbf, total=  12.7s\n",
            "[CV] estimator__C=2, estimator__gamma=0.001, estimator__kernel=rbf ...\n"
          ],
          "name": "stdout"
        },
        {
          "output_type": "stream",
          "text": [
            "/usr/local/lib/python3.7/dist-packages/sklearn/multiclass.py:75: UserWarning: Label not 18 is present in all training examples.\n",
            "  str(classes[c]))\n"
          ],
          "name": "stderr"
        },
        {
          "output_type": "stream",
          "text": [
            "[CV]  estimator__C=2, estimator__gamma=0.001, estimator__kernel=rbf, total=  13.1s\n",
            "[CV] estimator__C=2, estimator__gamma=0.001, estimator__kernel=poly ..\n"
          ],
          "name": "stdout"
        },
        {
          "output_type": "stream",
          "text": [
            "/usr/local/lib/python3.7/dist-packages/sklearn/multiclass.py:75: UserWarning: Label not 18 is present in all training examples.\n",
            "  str(classes[c]))\n"
          ],
          "name": "stderr"
        },
        {
          "output_type": "stream",
          "text": [
            "[CV]  estimator__C=2, estimator__gamma=0.001, estimator__kernel=poly, total=  10.4s\n",
            "[CV] estimator__C=2, estimator__gamma=0.001, estimator__kernel=poly ..\n"
          ],
          "name": "stdout"
        },
        {
          "output_type": "stream",
          "text": [
            "/usr/local/lib/python3.7/dist-packages/sklearn/multiclass.py:75: UserWarning: Label not 18 is present in all training examples.\n",
            "  str(classes[c]))\n"
          ],
          "name": "stderr"
        },
        {
          "output_type": "stream",
          "text": [
            "[CV]  estimator__C=2, estimator__gamma=0.001, estimator__kernel=poly, total=  10.4s\n",
            "[CV] estimator__C=2, estimator__gamma=0.001, estimator__kernel=poly ..\n"
          ],
          "name": "stdout"
        },
        {
          "output_type": "stream",
          "text": [
            "/usr/local/lib/python3.7/dist-packages/sklearn/multiclass.py:75: UserWarning: Label not 18 is present in all training examples.\n",
            "  str(classes[c]))\n"
          ],
          "name": "stderr"
        },
        {
          "output_type": "stream",
          "text": [
            "[CV]  estimator__C=2, estimator__gamma=0.001, estimator__kernel=poly, total=  10.5s\n",
            "[CV] estimator__C=2, estimator__gamma=0.001, estimator__kernel=poly ..\n"
          ],
          "name": "stdout"
        },
        {
          "output_type": "stream",
          "text": [
            "/usr/local/lib/python3.7/dist-packages/sklearn/multiclass.py:75: UserWarning: Label not 18 is present in all training examples.\n",
            "  str(classes[c]))\n"
          ],
          "name": "stderr"
        },
        {
          "output_type": "stream",
          "text": [
            "[CV]  estimator__C=2, estimator__gamma=0.001, estimator__kernel=poly, total=  10.6s\n",
            "[CV] estimator__C=2, estimator__gamma=0.001, estimator__kernel=poly ..\n"
          ],
          "name": "stdout"
        },
        {
          "output_type": "stream",
          "text": [
            "/usr/local/lib/python3.7/dist-packages/sklearn/multiclass.py:75: UserWarning: Label not 18 is present in all training examples.\n",
            "  str(classes[c]))\n"
          ],
          "name": "stderr"
        },
        {
          "output_type": "stream",
          "text": [
            "[CV]  estimator__C=2, estimator__gamma=0.001, estimator__kernel=poly, total=  10.5s\n",
            "[CV] estimator__C=2, estimator__gamma=0.001, estimator__kernel=sigmoid \n"
          ],
          "name": "stdout"
        },
        {
          "output_type": "stream",
          "text": [
            "/usr/local/lib/python3.7/dist-packages/sklearn/multiclass.py:75: UserWarning: Label not 18 is present in all training examples.\n",
            "  str(classes[c]))\n"
          ],
          "name": "stderr"
        },
        {
          "output_type": "stream",
          "text": [
            "[CV]  estimator__C=2, estimator__gamma=0.001, estimator__kernel=sigmoid, total=  12.2s\n",
            "[CV] estimator__C=2, estimator__gamma=0.001, estimator__kernel=sigmoid \n"
          ],
          "name": "stdout"
        },
        {
          "output_type": "stream",
          "text": [
            "/usr/local/lib/python3.7/dist-packages/sklearn/multiclass.py:75: UserWarning: Label not 18 is present in all training examples.\n",
            "  str(classes[c]))\n"
          ],
          "name": "stderr"
        },
        {
          "output_type": "stream",
          "text": [
            "[CV]  estimator__C=2, estimator__gamma=0.001, estimator__kernel=sigmoid, total=  12.2s\n",
            "[CV] estimator__C=2, estimator__gamma=0.001, estimator__kernel=sigmoid \n"
          ],
          "name": "stdout"
        },
        {
          "output_type": "stream",
          "text": [
            "/usr/local/lib/python3.7/dist-packages/sklearn/multiclass.py:75: UserWarning: Label not 18 is present in all training examples.\n",
            "  str(classes[c]))\n"
          ],
          "name": "stderr"
        },
        {
          "output_type": "stream",
          "text": [
            "[CV]  estimator__C=2, estimator__gamma=0.001, estimator__kernel=sigmoid, total=  12.1s\n",
            "[CV] estimator__C=2, estimator__gamma=0.001, estimator__kernel=sigmoid \n"
          ],
          "name": "stdout"
        },
        {
          "output_type": "stream",
          "text": [
            "/usr/local/lib/python3.7/dist-packages/sklearn/multiclass.py:75: UserWarning: Label not 18 is present in all training examples.\n",
            "  str(classes[c]))\n"
          ],
          "name": "stderr"
        },
        {
          "output_type": "stream",
          "text": [
            "[CV]  estimator__C=2, estimator__gamma=0.001, estimator__kernel=sigmoid, total=  12.2s\n",
            "[CV] estimator__C=2, estimator__gamma=0.001, estimator__kernel=sigmoid \n"
          ],
          "name": "stdout"
        },
        {
          "output_type": "stream",
          "text": [
            "/usr/local/lib/python3.7/dist-packages/sklearn/multiclass.py:75: UserWarning: Label not 18 is present in all training examples.\n",
            "  str(classes[c]))\n"
          ],
          "name": "stderr"
        },
        {
          "output_type": "stream",
          "text": [
            "[CV]  estimator__C=2, estimator__gamma=0.001, estimator__kernel=sigmoid, total=  12.1s\n"
          ],
          "name": "stdout"
        },
        {
          "output_type": "stream",
          "text": [
            "[Parallel(n_jobs=1)]: Done 180 out of 180 | elapsed: 37.6min finished\n",
            "/usr/local/lib/python3.7/dist-packages/sklearn/multiclass.py:75: UserWarning: Label not 18 is present in all training examples.\n",
            "  str(classes[c]))\n"
          ],
          "name": "stderr"
        },
        {
          "output_type": "execute_result",
          "data": {
            "text/plain": [
              "GridSearchCV(cv=None, error_score=nan,\n",
              "             estimator=OneVsRestClassifier(estimator=SVC(C=1.0,\n",
              "                                                         break_ties=False,\n",
              "                                                         cache_size=200,\n",
              "                                                         class_weight=None,\n",
              "                                                         coef0=0.0,\n",
              "                                                         decision_function_shape='ovr',\n",
              "                                                         degree=3,\n",
              "                                                         gamma='scale',\n",
              "                                                         kernel='rbf',\n",
              "                                                         max_iter=-1,\n",
              "                                                         probability=False,\n",
              "                                                         random_state=None,\n",
              "                                                         shrinking=True,\n",
              "                                                         tol=0.001,\n",
              "                                                         verbose=False),\n",
              "                                           n_jobs=None),\n",
              "             iid='deprecated', n_jobs=None,\n",
              "             param_grid={'estimator__C': [0.1, 1, 2],\n",
              "                         'estimator__gamma': [1, 0.1, 0.01, 0.001],\n",
              "                         'estimator__kernel': ['rbf', 'poly', 'sigmoid']},\n",
              "             pre_dispatch='2*n_jobs', refit=True, return_train_score=False,\n",
              "             scoring=None, verbose=2)"
            ]
          },
          "metadata": {
            "tags": []
          },
          "execution_count": 60
        }
      ]
    },
    {
      "cell_type": "code",
      "metadata": {
        "colab": {
          "base_uri": "https://localhost:8080/"
        },
        "id": "l8q-nd31WX4A",
        "outputId": "7067754e-f341-49a0-ddcd-222930df1ef8"
      },
      "source": [
        "print(model_tunning.best_score_)\n",
        "print(model_tunning.best_params_)"
      ],
      "execution_count": 61,
      "outputs": [
        {
          "output_type": "stream",
          "text": [
            "0.2584\n",
            "{'estimator__C': 2, 'estimator__gamma': 1, 'estimator__kernel': 'rbf'}\n"
          ],
          "name": "stdout"
        }
      ]
    },
    {
      "cell_type": "code",
      "metadata": {
        "colab": {
          "base_uri": "https://localhost:8080/"
        },
        "id": "BNiSn1kQWXMD",
        "outputId": "1c34510c-9c11-4ff0-d1ac-c96c1b775a79"
      },
      "source": [
        "predictions = model_tunning.predict(xtest)\n",
        "\n",
        "print_ml_score(ytest, predictions, svc)"
      ],
      "execution_count": 62,
      "outputs": [
        {
          "output_type": "stream",
          "text": [
            "Classifier:  SVC\n",
            "Accuracy Score: 0.5394188346265024\n",
            "-----------------------------------\n"
          ],
          "name": "stdout"
        }
      ]
    },
    {
      "cell_type": "code",
      "metadata": {
        "colab": {
          "base_uri": "https://localhost:8080/"
        },
        "id": "hyWyHNSrX0Sq",
        "outputId": "e6336a63-de62-4268-97f8-e86bc7b795f4"
      },
      "source": [
        "predictions"
      ],
      "execution_count": 67,
      "outputs": [
        {
          "output_type": "execute_result",
          "data": {
            "text/plain": [
              "array([[0, 0, 0, ..., 0, 0, 0],\n",
              "       [0, 0, 0, ..., 0, 0, 0],\n",
              "       [0, 0, 0, ..., 0, 0, 0],\n",
              "       ...,\n",
              "       [0, 0, 0, ..., 0, 0, 0],\n",
              "       [0, 0, 1, ..., 0, 0, 0],\n",
              "       [0, 0, 0, ..., 0, 0, 0]])"
            ]
          },
          "metadata": {
            "tags": []
          },
          "execution_count": 67
        }
      ]
    },
    {
      "cell_type": "code",
      "metadata": {
        "id": "_5aDcKW7Dn8k"
      },
      "source": [
        "# saving model\n",
        "import pickle\n",
        "pickle.dump(model_tunning, open(\"svc_tuned_w2v.pkl\", \"wb\"))"
      ],
      "execution_count": 63,
      "outputs": []
    },
    {
      "cell_type": "code",
      "metadata": {
        "id": "DcxNnorssTkt"
      },
      "source": [
        "from sklearn.ensemble import AdaBoostClassifier\n",
        "from sklearn.ensemble import BaggingClassifier\n",
        "from sklearn.ensemble import ExtraTreesClassifier\n",
        "from sklearn.tree import DecisionTreeClassifier\n",
        "from sklearn.neural_network import MLPClassifier"
      ],
      "execution_count": 37,
      "outputs": []
    },
    {
      "cell_type": "code",
      "metadata": {
        "id": "VMuCneANsS3d"
      },
      "source": [
        "# set models 2\n",
        "adaboost = AdaBoostClassifier()\n",
        "bagging = BaggingClassifier()\n",
        "extra = ExtraTreesClassifier()\n",
        "tree = DecisionTreeClassifier()\n",
        "mlp = MLPClassifier(solver='lbfgs', alpha=1e-5, hidden_layer_sizes=(5, 2), random_state=1)"
      ],
      "execution_count": 38,
      "outputs": []
    },
    {
      "cell_type": "code",
      "metadata": {
        "colab": {
          "base_uri": "https://localhost:8080/"
        },
        "id": "rKhCRV1Kt4bc",
        "outputId": "db997793-f29f-48dc-e639-b17eba637fda"
      },
      "source": [
        "# training using word2vec\n",
        "for classifier in [adaboost, bagging, extra, tree, mlp]:\n",
        "    train_model(classifier, xtrain, ytrain, xtest, ytest)"
      ],
      "execution_count": 39,
      "outputs": [
        {
          "output_type": "stream",
          "text": [
            "/usr/local/lib/python3.7/dist-packages/sklearn/multiclass.py:75: UserWarning: Label not 18 is present in all training examples.\n",
            "  str(classes[c]))\n"
          ],
          "name": "stderr"
        },
        {
          "output_type": "stream",
          "text": [
            "Classifier:  AdaBoostClassifier\n",
            "Accuracy Score: 0.44445839038490786\n",
            "-----------------------------------\n"
          ],
          "name": "stdout"
        },
        {
          "output_type": "stream",
          "text": [
            "/usr/local/lib/python3.7/dist-packages/sklearn/multiclass.py:75: UserWarning: Label not 18 is present in all training examples.\n",
            "  str(classes[c]))\n"
          ],
          "name": "stderr"
        },
        {
          "output_type": "stream",
          "text": [
            "Classifier:  BaggingClassifier\n",
            "Accuracy Score: 0.35958466453674126\n",
            "-----------------------------------\n"
          ],
          "name": "stdout"
        },
        {
          "output_type": "stream",
          "text": [
            "/usr/local/lib/python3.7/dist-packages/sklearn/multiclass.py:75: UserWarning: Label not 18 is present in all training examples.\n",
            "  str(classes[c]))\n"
          ],
          "name": "stderr"
        },
        {
          "output_type": "stream",
          "text": [
            "Classifier:  ExtraTreesClassifier\n",
            "Accuracy Score: 0.3498402555910543\n",
            "-----------------------------------\n"
          ],
          "name": "stdout"
        },
        {
          "output_type": "stream",
          "text": [
            "/usr/local/lib/python3.7/dist-packages/sklearn/multiclass.py:75: UserWarning: Label not 18 is present in all training examples.\n",
            "  str(classes[c]))\n"
          ],
          "name": "stderr"
        },
        {
          "output_type": "stream",
          "text": [
            "Classifier:  DecisionTreeClassifier\n",
            "Accuracy Score: 0.3105412292712612\n",
            "-----------------------------------\n",
            "Classifier:  MLPClassifier\n",
            "Accuracy Score: 0.0\n",
            "-----------------------------------\n"
          ],
          "name": "stdout"
        },
        {
          "output_type": "stream",
          "text": [
            "/usr/local/lib/python3.7/dist-packages/sklearn/multiclass.py:75: UserWarning: Label not 18 is present in all training examples.\n",
            "  str(classes[c]))\n"
          ],
          "name": "stderr"
        }
      ]
    }
  ]
}