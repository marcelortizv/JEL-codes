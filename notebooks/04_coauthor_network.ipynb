{
 "cells": [
  {
   "cell_type": "markdown",
   "metadata": {
    "collapsed": true,
    "pycharm": {
     "name": "#%% md\n"
    }
   },
   "source": [
    "### Import Libraries\n"
   ]
  },
  {
   "cell_type": "code",
   "execution_count": 45,
   "outputs": [],
   "source": [
    "import pandas as pd\n",
    "import numpy as np\n",
    "import matplotlib.pyplot as plt\n",
    "import cufflinks as cf\n",
    "import ast\n",
    "from itertools import chain"
   ],
   "metadata": {
    "collapsed": false,
    "pycharm": {
     "name": "#%%\n"
    }
   }
  },
  {
   "cell_type": "code",
   "execution_count": 63,
   "outputs": [],
   "source": [
    "def split(word):\n",
    "    return [char for char in word]\n",
    "\n",
    "def chainer(s):\n",
    "    \"\"\"\n",
    "    Return list from series of comma-separated string\n",
    "    :param s: string\n",
    "    :return: list\n",
    "    \"\"\"\n",
    "    return list(chain.from_iterable(s.str.split(',')))\n",
    "\n",
    "def cleaner(x):\n",
    "    import re\n",
    "    new = re.sub(r\"'\" , '', x)\n",
    "    new = re.sub(r\"[,@\\'?\\.$%[_]\", '', new)\n",
    "    new = re.sub(r\"]\", '', new)\n",
    "\n",
    "    return new"
   ],
   "metadata": {
    "collapsed": false,
    "pycharm": {
     "name": "#%%\n"
    }
   }
  },
  {
   "cell_type": "code",
   "execution_count": 68,
   "outputs": [],
   "source": [
    "# Notebook parameters\n",
    "data_name = 'papers_w_JELcode.csv'\n",
    "data_path = '../data/'\n",
    "df_out = 'coauthor_list.csv'"
   ],
   "metadata": {
    "collapsed": false,
    "pycharm": {
     "name": "#%%\n"
    }
   }
  },
  {
   "cell_type": "code",
   "execution_count": 69,
   "outputs": [
    {
     "name": "stdout",
     "output_type": "stream",
     "text": [
      "(3126, 71)\n",
      "Index(['title_x', 'idpaper_2', 'journal', 'journal_num', 'year', 'month',\n",
      "       'volume', 'issue', 'idpaper', 'jelcodes', 'keywords', 'abstract',\n",
      "       'start_page', 'end_page', 'num_words', 'num_words_90_flag', 'idauthor',\n",
      "       'author', 'prop_women', 'num_authors', 'gender_group_type',\n",
      "       'sole_or_coauthors', 'num_pages', 'num_pages_dmean',\n",
      "       'flesch_kincaid_grade_level', 'log_flesch_kincaid_grade_level',\n",
      "       'flesch_kincaid_reading_ease', 'log_flesch_kincaid_reading_ease',\n",
      "       'dale_chall', 'log_dale_chall', 'coleman_liau_index',\n",
      "       'log_coleman_liau_index', 'automated_readability_index',\n",
      "       'log_automated_readability_index', 'american_economic_review',\n",
      "       'econometrica', 'journal_of_pol_economy',\n",
      "       'quarterly_journal_of_economics', 'review_of_economic_studies',\n",
      "       'coauthors', 'single_author', 'both_genders', 'only_females',\n",
      "       'only_males', 'num_sentences', 'num_syllables', 'observation',\n",
      "       'authors', 'jelcodes_letter', 'jelcodes_text', 'jel_dummy_A',\n",
      "       'jel_dummy_B', 'jel_dummy_C', 'jel_dummy_D', 'jel_dummy_E',\n",
      "       'jel_dummy_F', 'jel_dummy_G', 'jel_dummy_H', 'jel_dummy_I',\n",
      "       'jel_dummy_J', 'jel_dummy_K', 'jel_dummy_L', 'jel_dummy_M',\n",
      "       'jel_dummy_N', 'jel_dummy_O', 'jel_dummy_P', 'jel_dummy_Q',\n",
      "       'jel_dummy_R', 'jel_dummy_Y', 'jel_dummy_Z', 'tags'],\n",
      "      dtype='object')\n"
     ]
    },
    {
     "data": {
      "text/plain": "                                             title_x      idpaper_2  \\\n0     optimal adoption of complementary technologies   120009011529   \n1  collateral damage: effects of the japanese ban...   120009013045   \n2  endogenous inequality in integrated labor mark...   120009014672   \n3  labor-market integration, investment in risky ...   120009017395   \n4  unequal societies: income distribution and the...  1200090196129   \n\n                    journal  journal_num  year  month  volume  issue  \\\n0  American Economic Review            1  2000  March      90      1   \n1  American Economic Review            1  2000  March      90      1   \n2  American Economic Review            1  2000  March      90      1   \n3  American Economic Review            1  2000  March      90      1   \n4  American Economic Review            1  2000  March      90      1   \n\n        idpaper         jelcodes  ... jel_dummy_L jel_dummy_M  jel_dummy_N  \\\n0  1.200090e+09  E22|G31|O33|D24  ...           0           0            0   \n1  1.200090e+09          G21|E44  ...           0           0            0   \n2  1.200090e+09         J41| J71  ...           0           0            0   \n3  1.200090e+09  R23|J24|J31|J61  ...           0           0            0   \n4  1.200090e+09  D31|P16|I22|E62  ...           0           0            0   \n\n   jel_dummy_O  jel_dummy_P  jel_dummy_Q jel_dummy_R jel_dummy_Y  jel_dummy_Z  \\\n0            1            0            0           0           0            0   \n1            0            0            0           0           0            0   \n2            0            0            0           0           0            0   \n3            0            0            0           1           0            0   \n4            0            1            0           0           0            0   \n\n                   tags  \n0  ['O', 'D', 'G', 'E']  \n1            ['G', 'E']  \n2                 ['J']  \n3            ['J', 'R']  \n4  ['P', 'E', 'I', 'D']  \n\n[5 rows x 71 columns]",
      "text/html": "<div>\n<style scoped>\n    .dataframe tbody tr th:only-of-type {\n        vertical-align: middle;\n    }\n\n    .dataframe tbody tr th {\n        vertical-align: top;\n    }\n\n    .dataframe thead th {\n        text-align: right;\n    }\n</style>\n<table border=\"1\" class=\"dataframe\">\n  <thead>\n    <tr style=\"text-align: right;\">\n      <th></th>\n      <th>title_x</th>\n      <th>idpaper_2</th>\n      <th>journal</th>\n      <th>journal_num</th>\n      <th>year</th>\n      <th>month</th>\n      <th>volume</th>\n      <th>issue</th>\n      <th>idpaper</th>\n      <th>jelcodes</th>\n      <th>...</th>\n      <th>jel_dummy_L</th>\n      <th>jel_dummy_M</th>\n      <th>jel_dummy_N</th>\n      <th>jel_dummy_O</th>\n      <th>jel_dummy_P</th>\n      <th>jel_dummy_Q</th>\n      <th>jel_dummy_R</th>\n      <th>jel_dummy_Y</th>\n      <th>jel_dummy_Z</th>\n      <th>tags</th>\n    </tr>\n  </thead>\n  <tbody>\n    <tr>\n      <th>0</th>\n      <td>optimal adoption of complementary technologies</td>\n      <td>120009011529</td>\n      <td>American Economic Review</td>\n      <td>1</td>\n      <td>2000</td>\n      <td>March</td>\n      <td>90</td>\n      <td>1</td>\n      <td>1.200090e+09</td>\n      <td>E22|G31|O33|D24</td>\n      <td>...</td>\n      <td>0</td>\n      <td>0</td>\n      <td>0</td>\n      <td>1</td>\n      <td>0</td>\n      <td>0</td>\n      <td>0</td>\n      <td>0</td>\n      <td>0</td>\n      <td>['O', 'D', 'G', 'E']</td>\n    </tr>\n    <tr>\n      <th>1</th>\n      <td>collateral damage: effects of the japanese ban...</td>\n      <td>120009013045</td>\n      <td>American Economic Review</td>\n      <td>1</td>\n      <td>2000</td>\n      <td>March</td>\n      <td>90</td>\n      <td>1</td>\n      <td>1.200090e+09</td>\n      <td>G21|E44</td>\n      <td>...</td>\n      <td>0</td>\n      <td>0</td>\n      <td>0</td>\n      <td>0</td>\n      <td>0</td>\n      <td>0</td>\n      <td>0</td>\n      <td>0</td>\n      <td>0</td>\n      <td>['G', 'E']</td>\n    </tr>\n    <tr>\n      <th>2</th>\n      <td>endogenous inequality in integrated labor mark...</td>\n      <td>120009014672</td>\n      <td>American Economic Review</td>\n      <td>1</td>\n      <td>2000</td>\n      <td>March</td>\n      <td>90</td>\n      <td>1</td>\n      <td>1.200090e+09</td>\n      <td>J41| J71</td>\n      <td>...</td>\n      <td>0</td>\n      <td>0</td>\n      <td>0</td>\n      <td>0</td>\n      <td>0</td>\n      <td>0</td>\n      <td>0</td>\n      <td>0</td>\n      <td>0</td>\n      <td>['J']</td>\n    </tr>\n    <tr>\n      <th>3</th>\n      <td>labor-market integration, investment in risky ...</td>\n      <td>120009017395</td>\n      <td>American Economic Review</td>\n      <td>1</td>\n      <td>2000</td>\n      <td>March</td>\n      <td>90</td>\n      <td>1</td>\n      <td>1.200090e+09</td>\n      <td>R23|J24|J31|J61</td>\n      <td>...</td>\n      <td>0</td>\n      <td>0</td>\n      <td>0</td>\n      <td>0</td>\n      <td>0</td>\n      <td>0</td>\n      <td>1</td>\n      <td>0</td>\n      <td>0</td>\n      <td>['J', 'R']</td>\n    </tr>\n    <tr>\n      <th>4</th>\n      <td>unequal societies: income distribution and the...</td>\n      <td>1200090196129</td>\n      <td>American Economic Review</td>\n      <td>1</td>\n      <td>2000</td>\n      <td>March</td>\n      <td>90</td>\n      <td>1</td>\n      <td>1.200090e+09</td>\n      <td>D31|P16|I22|E62</td>\n      <td>...</td>\n      <td>0</td>\n      <td>0</td>\n      <td>0</td>\n      <td>0</td>\n      <td>1</td>\n      <td>0</td>\n      <td>0</td>\n      <td>0</td>\n      <td>0</td>\n      <td>['P', 'E', 'I', 'D']</td>\n    </tr>\n  </tbody>\n</table>\n<p>5 rows × 71 columns</p>\n</div>"
     },
     "execution_count": 69,
     "metadata": {},
     "output_type": "execute_result"
    }
   ],
   "source": [
    "df = pd.read_csv(data_path + data_name)\n",
    "print(df.shape)\n",
    "print(df.columns)\n",
    "df.head()"
   ],
   "metadata": {
    "collapsed": false,
    "pycharm": {
     "name": "#%%\n"
    }
   }
  },
  {
   "cell_type": "code",
   "execution_count": 70,
   "outputs": [],
   "source": [
    "df['tags'] = df['tags'].apply(lambda x: ast.literal_eval(x))"
   ],
   "metadata": {
    "collapsed": false,
    "pycharm": {
     "name": "#%%\n"
    }
   }
  },
  {
   "cell_type": "code",
   "execution_count": 71,
   "outputs": [],
   "source": [
    "lens = df['idauthor'].str.split(',').map(len)\n"
   ],
   "metadata": {
    "collapsed": false,
    "pycharm": {
     "name": "#%%\n"
    }
   }
  },
  {
   "cell_type": "code",
   "execution_count": 88,
   "outputs": [],
   "source": [
    "author_df = pd.DataFrame({'tags': np.repeat(df['tags'], lens),\n",
    "                    'title': np.repeat(df['title_x'], lens),\n",
    "                    'idauthor': chainer(df['idauthor']),\n",
    "                    'author': chainer(df['author'])})\n",
    "\n",
    "author_df['idauthor'] = author_df['idauthor'].apply(lambda x: cleaner(x))\n",
    "author_df['author'] = author_df['author'].apply(lambda x: cleaner(x))"
   ],
   "metadata": {
    "collapsed": false,
    "pycharm": {
     "name": "#%%\n"
    }
   }
  },
  {
   "cell_type": "code",
   "execution_count": 91,
   "outputs": [
    {
     "data": {
      "text/plain": "           tags                                              title idauthor  \\\n0  [O, D, G, E]     optimal adoption of complementary technologies   p00681   \n0  [O, D, G, E]     optimal adoption of complementary technologies   p01338   \n1        [G, E]  collateral damage: effects of the japanese ban...   p01546   \n1        [G, E]  collateral damage: effects of the japanese ban...   p02544   \n2           [J]  endogenous inequality in integrated labor mark...   p00544   \n\n               author  \n0     boyan jovanovic  \n0   dmitriy stolyarov  \n1      eric rosengren  \n1            joe peek  \n2        avner shaked  ",
      "text/html": "<div>\n<style scoped>\n    .dataframe tbody tr th:only-of-type {\n        vertical-align: middle;\n    }\n\n    .dataframe tbody tr th {\n        vertical-align: top;\n    }\n\n    .dataframe thead th {\n        text-align: right;\n    }\n</style>\n<table border=\"1\" class=\"dataframe\">\n  <thead>\n    <tr style=\"text-align: right;\">\n      <th></th>\n      <th>tags</th>\n      <th>title</th>\n      <th>idauthor</th>\n      <th>author</th>\n    </tr>\n  </thead>\n  <tbody>\n    <tr>\n      <th>0</th>\n      <td>[O, D, G, E]</td>\n      <td>optimal adoption of complementary technologies</td>\n      <td>p00681</td>\n      <td>boyan jovanovic</td>\n    </tr>\n    <tr>\n      <th>0</th>\n      <td>[O, D, G, E]</td>\n      <td>optimal adoption of complementary technologies</td>\n      <td>p01338</td>\n      <td>dmitriy stolyarov</td>\n    </tr>\n    <tr>\n      <th>1</th>\n      <td>[G, E]</td>\n      <td>collateral damage: effects of the japanese ban...</td>\n      <td>p01546</td>\n      <td>eric rosengren</td>\n    </tr>\n    <tr>\n      <th>1</th>\n      <td>[G, E]</td>\n      <td>collateral damage: effects of the japanese ban...</td>\n      <td>p02544</td>\n      <td>joe peek</td>\n    </tr>\n    <tr>\n      <th>2</th>\n      <td>[J]</td>\n      <td>endogenous inequality in integrated labor mark...</td>\n      <td>p00544</td>\n      <td>avner shaked</td>\n    </tr>\n  </tbody>\n</table>\n</div>"
     },
     "execution_count": 91,
     "metadata": {},
     "output_type": "execute_result"
    }
   ],
   "source": [
    "author_df.to_csv(data_path + df_out, index_label=False)\n",
    "author_df.head()"
   ],
   "metadata": {
    "collapsed": false,
    "pycharm": {
     "name": "#%%\n"
    }
   }
  },
  {
   "cell_type": "code",
   "execution_count": 100,
   "outputs": [
    {
     "data": {
      "text/plain": "True"
     },
     "execution_count": 100,
     "metadata": {},
     "output_type": "execute_result"
    }
   ],
   "source": [
    "'p01338' in list(author_df['idauthor'].astype(str))"
   ],
   "metadata": {
    "collapsed": false,
    "pycharm": {
     "name": "#%%\n"
    }
   }
  }
 ],
 "metadata": {
  "kernelspec": {
   "display_name": "Python 3",
   "language": "python",
   "name": "python3"
  },
  "language_info": {
   "codemirror_mode": {
    "name": "ipython",
    "version": 2
   },
   "file_extension": ".py",
   "mimetype": "text/x-python",
   "name": "python",
   "nbconvert_exporter": "python",
   "pygments_lexer": "ipython2",
   "version": "2.7.6"
  }
 },
 "nbformat": 4,
 "nbformat_minor": 0
}