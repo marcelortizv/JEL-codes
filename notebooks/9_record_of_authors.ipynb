{
 "cells": [
  {
   "cell_type": "markdown",
   "source": [
    "### Import libraries and functions"
   ],
   "metadata": {
    "collapsed": false,
    "pycharm": {
     "name": "#%% md\n"
    }
   }
  },
  {
   "cell_type": "code",
   "execution_count": 6,
   "source": [
    "import pandas as pd\n",
    "import numpy as np\n",
    "import ast\n",
    "\n",
    "import scipy.stats as stats\n",
    "from sklearn.utils.fixes import loguniform\n",
    "import scipy as sp\n",
    "from scipy.sparse import hstack\n",
    "from collections import Counter\n",
    "\n",
    "from sklearn.metrics import classification_report\n",
    "from sklearn.model_selection import train_test_split\n",
    "from sklearn.model_selection import GridSearchCV, RandomizedSearchCV\n",
    "from sklearn.feature_extraction.text import TfidfVectorizer, CountVectorizer\n",
    "from sklearn.preprocessing import MultiLabelBinarizer\n",
    "\n",
    "from sklearn.linear_model import SGDClassifier\n",
    "from sklearn.linear_model import LogisticRegression\n",
    "from sklearn.ensemble import RandomForestClassifier\n",
    "from sklearn.svm import LinearSVC\n",
    "from sklearn.naive_bayes import MultinomialNB\n",
    "#from xgboost import XGBClassifier\n",
    "from sklearn.preprocessing import RobustScaler, StandardScaler\n",
    "from sklearn.multiclass import OneVsRestClassifier\n",
    "from sklearn.multioutput import MultiOutputClassifier, ClassifierChain\n",
    "from skmultilearn.problem_transform import LabelPowerset"
   ],
   "outputs": [],
   "metadata": {}
  },
  {
   "cell_type": "code",
   "execution_count": 55,
   "outputs": [],
   "source": [
    "def extend_list(tags):\n",
    "    retlist = []\n",
    "    for tag in tags:\n",
    "        retlist.extend(tag)\n",
    "    return set(retlist)\n",
    "\n",
    "def Accuracy(y_true, y_pred):\n",
    "    \"\"\"\n",
    "    Accuracy based on Jaccard Similarity Score\n",
    "    :param y_true: ground truth\n",
    "    :param y_pred: prediction\n",
    "    :return: Jaccard Similarity Score\n",
    "    \"\"\"\n",
    "    jaccard = np.minimum(y_true, y_pred).sum(axis=1) / np.maximum(y_true, y_pred).sum(axis=1)\n",
    "    return jaccard.mean()\n",
    "\n",
    "\n",
    "def print_ml_score(y_test, y_pred, clf):\n",
    "    print('Classifier: ', clf.__class__.__name__)\n",
    "    print('Accuracy Score: {}'.format(Accuracy(y_test, y_pred)))\n",
    "    print(\"-----------------------------------\")\n",
    "\n",
    "\n",
    "def train_model(classifier, feature_vector_train, label_train, feature_vector_test, label_test):\n",
    "    # fit the training set on the classifier\n",
    "    clf = OneVsRestClassifier(classifier)\n",
    "    clf.fit(feature_vector_train, label_train)\n",
    "\n",
    "    # predict the labels on test set\n",
    "    predictions = clf.predict(feature_vector_test)\n",
    "    #print(pd.DataFrame(predictions, columns = multilabel.classes_))\n",
    "    return print_ml_score(label_test, predictions, classifier)"
   ],
   "metadata": {
    "collapsed": false,
    "pycharm": {
     "name": "#%%\n"
    }
   }
  },
  {
   "cell_type": "markdown",
   "source": [
    "### Load Data"
   ],
   "metadata": {
    "collapsed": false,
    "pycharm": {
     "name": "#%% md\n"
    }
   }
  },
  {
   "cell_type": "code",
   "execution_count": 9,
   "source": [
    "authors = pd.read_csv(\"../data/coauthor_list.csv\")\n",
    "authors.tags = authors.tags.apply(lambda tag: ast.literal_eval(tag))\n",
    "authors.idauthor = authors.idauthor.apply(lambda author: author.replace(\" \", \"\"))\n",
    "\n",
    "# keep JEL code different from letter Y\n",
    "authors['keep'] = authors.tags.apply(lambda tags: 'Y' not in tags)\n",
    "authors = authors[authors.keep == True]\n",
    "authors\n",
    "\n"
   ],
   "outputs": [
    {
     "data": {
      "text/plain": "              tags                                              title  \\\n0     [O, D, G, E]     optimal adoption of complementary technologies   \n0     [O, D, G, E]     optimal adoption of complementary technologies   \n1           [G, E]  collateral damage: effects of the japanese ban...   \n1           [G, E]  collateral damage: effects of the japanese ban...   \n2              [J]  endogenous inequality in integrated labor mark...   \n...            ...                                                ...   \n4985     [E, D, C]  discrete actions in information-constrained de...   \n4986        [L, F]                                   extended gravity   \n4986        [L, F]                                   extended gravity   \n4986        [L, F]                                   extended gravity   \n4987        [L, Q]  deforestation in the amazon: a unified framewo...   \n\n     idauthor                   author  keep  \n0      p00681          boyan jovanovic  True  \n0      p01338        dmitriy stolyarov  True  \n1      p01546           eric rosengren  True  \n1      p02544                 joe peek  True  \n2      p00544             avner shaked  True  \n...       ...                      ...   ...  \n4985   p02870            junehyuk jung  True  \n4986   p00323            andres zahler  True  \n4986   p01408          eduardo morales  True  \n4986   p01944              gloria sheu  True  \n4987   p01410  eduardo souza-rodrigues  True  \n\n[7185 rows x 5 columns]",
      "text/html": "<div>\n<style scoped>\n    .dataframe tbody tr th:only-of-type {\n        vertical-align: middle;\n    }\n\n    .dataframe tbody tr th {\n        vertical-align: top;\n    }\n\n    .dataframe thead th {\n        text-align: right;\n    }\n</style>\n<table border=\"1\" class=\"dataframe\">\n  <thead>\n    <tr style=\"text-align: right;\">\n      <th></th>\n      <th>tags</th>\n      <th>title</th>\n      <th>idauthor</th>\n      <th>author</th>\n      <th>keep</th>\n    </tr>\n  </thead>\n  <tbody>\n    <tr>\n      <th>0</th>\n      <td>[O, D, G, E]</td>\n      <td>optimal adoption of complementary technologies</td>\n      <td>p00681</td>\n      <td>boyan jovanovic</td>\n      <td>True</td>\n    </tr>\n    <tr>\n      <th>0</th>\n      <td>[O, D, G, E]</td>\n      <td>optimal adoption of complementary technologies</td>\n      <td>p01338</td>\n      <td>dmitriy stolyarov</td>\n      <td>True</td>\n    </tr>\n    <tr>\n      <th>1</th>\n      <td>[G, E]</td>\n      <td>collateral damage: effects of the japanese ban...</td>\n      <td>p01546</td>\n      <td>eric rosengren</td>\n      <td>True</td>\n    </tr>\n    <tr>\n      <th>1</th>\n      <td>[G, E]</td>\n      <td>collateral damage: effects of the japanese ban...</td>\n      <td>p02544</td>\n      <td>joe peek</td>\n      <td>True</td>\n    </tr>\n    <tr>\n      <th>2</th>\n      <td>[J]</td>\n      <td>endogenous inequality in integrated labor mark...</td>\n      <td>p00544</td>\n      <td>avner shaked</td>\n      <td>True</td>\n    </tr>\n    <tr>\n      <th>...</th>\n      <td>...</td>\n      <td>...</td>\n      <td>...</td>\n      <td>...</td>\n      <td>...</td>\n    </tr>\n    <tr>\n      <th>4985</th>\n      <td>[E, D, C]</td>\n      <td>discrete actions in information-constrained de...</td>\n      <td>p02870</td>\n      <td>junehyuk jung</td>\n      <td>True</td>\n    </tr>\n    <tr>\n      <th>4986</th>\n      <td>[L, F]</td>\n      <td>extended gravity</td>\n      <td>p00323</td>\n      <td>andres zahler</td>\n      <td>True</td>\n    </tr>\n    <tr>\n      <th>4986</th>\n      <td>[L, F]</td>\n      <td>extended gravity</td>\n      <td>p01408</td>\n      <td>eduardo morales</td>\n      <td>True</td>\n    </tr>\n    <tr>\n      <th>4986</th>\n      <td>[L, F]</td>\n      <td>extended gravity</td>\n      <td>p01944</td>\n      <td>gloria sheu</td>\n      <td>True</td>\n    </tr>\n    <tr>\n      <th>4987</th>\n      <td>[L, Q]</td>\n      <td>deforestation in the amazon: a unified framewo...</td>\n      <td>p01410</td>\n      <td>eduardo souza-rodrigues</td>\n      <td>True</td>\n    </tr>\n  </tbody>\n</table>\n<p>7185 rows × 5 columns</p>\n</div>"
     },
     "execution_count": 9,
     "metadata": {},
     "output_type": "execute_result"
    }
   ],
   "metadata": {}
  },
  {
   "cell_type": "code",
   "execution_count": 13,
   "source": [
    "authors_tags = authors.groupby(\"idauthor\").agg({\"tags\": lambda tags: list(extend_list(tags))})\n",
    "authors_tags['idauthor'] = authors_tags.index\n",
    "# keep JEL code different from letter Y\n",
    "\n",
    "authors_tags['keep'] = authors_tags.tags.apply(lambda tags: 'Y' not in tags)\n",
    "authors_tags = authors_tags[authors_tags.keep == True]\n",
    "authors_tags"
   ],
   "outputs": [
    {
     "data": {
      "text/plain": "                  tags idauthor  keep\nidauthor                             \np00001       [I, H, O]   p00001  True\np00003             [H]   p00003  True\np00004       [E, F, O]   p00004  True\np00006    [G, F, P, O]   p00006  True\np00008       [I, J, O]   p00008  True\n...                ...      ...   ...\np05683       [E, L, C]   p05683  True\np05689          [G, H]   p05689  True\np05690       [D, L, C]   p05690  True\np05691          [E, J]   p05691  True\np05692             [D]   p05692  True\n\n[3737 rows x 3 columns]",
      "text/html": "<div>\n<style scoped>\n    .dataframe tbody tr th:only-of-type {\n        vertical-align: middle;\n    }\n\n    .dataframe tbody tr th {\n        vertical-align: top;\n    }\n\n    .dataframe thead th {\n        text-align: right;\n    }\n</style>\n<table border=\"1\" class=\"dataframe\">\n  <thead>\n    <tr style=\"text-align: right;\">\n      <th></th>\n      <th>tags</th>\n      <th>idauthor</th>\n      <th>keep</th>\n    </tr>\n    <tr>\n      <th>idauthor</th>\n      <th></th>\n      <th></th>\n      <th></th>\n    </tr>\n  </thead>\n  <tbody>\n    <tr>\n      <th>p00001</th>\n      <td>[I, H, O]</td>\n      <td>p00001</td>\n      <td>True</td>\n    </tr>\n    <tr>\n      <th>p00003</th>\n      <td>[H]</td>\n      <td>p00003</td>\n      <td>True</td>\n    </tr>\n    <tr>\n      <th>p00004</th>\n      <td>[E, F, O]</td>\n      <td>p00004</td>\n      <td>True</td>\n    </tr>\n    <tr>\n      <th>p00006</th>\n      <td>[G, F, P, O]</td>\n      <td>p00006</td>\n      <td>True</td>\n    </tr>\n    <tr>\n      <th>p00008</th>\n      <td>[I, J, O]</td>\n      <td>p00008</td>\n      <td>True</td>\n    </tr>\n    <tr>\n      <th>...</th>\n      <td>...</td>\n      <td>...</td>\n      <td>...</td>\n    </tr>\n    <tr>\n      <th>p05683</th>\n      <td>[E, L, C]</td>\n      <td>p05683</td>\n      <td>True</td>\n    </tr>\n    <tr>\n      <th>p05689</th>\n      <td>[G, H]</td>\n      <td>p05689</td>\n      <td>True</td>\n    </tr>\n    <tr>\n      <th>p05690</th>\n      <td>[D, L, C]</td>\n      <td>p05690</td>\n      <td>True</td>\n    </tr>\n    <tr>\n      <th>p05691</th>\n      <td>[E, J]</td>\n      <td>p05691</td>\n      <td>True</td>\n    </tr>\n    <tr>\n      <th>p05692</th>\n      <td>[D]</td>\n      <td>p05692</td>\n      <td>True</td>\n    </tr>\n  </tbody>\n</table>\n<p>3737 rows × 3 columns</p>\n</div>"
     },
     "execution_count": 13,
     "metadata": {},
     "output_type": "execute_result"
    }
   ],
   "metadata": {}
  },
  {
   "cell_type": "code",
   "execution_count": 14,
   "source": [
    "# creating  dictionary for the authors and its tags\n",
    "authors_dict = {}\n",
    "for i, row in authors_tags.iterrows():\n",
    "\n",
    "    authors_dict[row.idauthor] = {\"tags\": row.tags, \"hasConnection\": []}\n"
   ],
   "outputs": [],
   "metadata": {}
  },
  {
   "cell_type": "code",
   "execution_count": 15,
   "source": [
    "from sklearn.preprocessing import MultiLabelBinarizer\n",
    "\n",
    "multilabel = MultiLabelBinarizer()\n",
    "y = multilabel.fit_transform(authors['tags'])\n",
    "pd.DataFrame(y, columns = multilabel.classes_)"
   ],
   "outputs": [
    {
     "data": {
      "text/plain": "      A  B  C  D  E  F  G  H  I  J  K  L  M  N  O  P  Q  R  Z\n0     0  0  0  1  1  0  1  0  0  0  0  0  0  0  1  0  0  0  0\n1     0  0  0  1  1  0  1  0  0  0  0  0  0  0  1  0  0  0  0\n2     0  0  0  0  1  0  1  0  0  0  0  0  0  0  0  0  0  0  0\n3     0  0  0  0  1  0  1  0  0  0  0  0  0  0  0  0  0  0  0\n4     0  0  0  0  0  0  0  0  0  1  0  0  0  0  0  0  0  0  0\n...  .. .. .. .. .. .. .. .. .. .. .. .. .. .. .. .. .. .. ..\n7180  0  0  1  1  1  0  0  0  0  0  0  0  0  0  0  0  0  0  0\n7181  0  0  0  0  0  1  0  0  0  0  0  1  0  0  0  0  0  0  0\n7182  0  0  0  0  0  1  0  0  0  0  0  1  0  0  0  0  0  0  0\n7183  0  0  0  0  0  1  0  0  0  0  0  1  0  0  0  0  0  0  0\n7184  0  0  0  0  0  0  0  0  0  0  0  1  0  0  0  0  1  0  0\n\n[7185 rows x 19 columns]",
      "text/html": "<div>\n<style scoped>\n    .dataframe tbody tr th:only-of-type {\n        vertical-align: middle;\n    }\n\n    .dataframe tbody tr th {\n        vertical-align: top;\n    }\n\n    .dataframe thead th {\n        text-align: right;\n    }\n</style>\n<table border=\"1\" class=\"dataframe\">\n  <thead>\n    <tr style=\"text-align: right;\">\n      <th></th>\n      <th>A</th>\n      <th>B</th>\n      <th>C</th>\n      <th>D</th>\n      <th>E</th>\n      <th>F</th>\n      <th>G</th>\n      <th>H</th>\n      <th>I</th>\n      <th>J</th>\n      <th>K</th>\n      <th>L</th>\n      <th>M</th>\n      <th>N</th>\n      <th>O</th>\n      <th>P</th>\n      <th>Q</th>\n      <th>R</th>\n      <th>Z</th>\n    </tr>\n  </thead>\n  <tbody>\n    <tr>\n      <th>0</th>\n      <td>0</td>\n      <td>0</td>\n      <td>0</td>\n      <td>1</td>\n      <td>1</td>\n      <td>0</td>\n      <td>1</td>\n      <td>0</td>\n      <td>0</td>\n      <td>0</td>\n      <td>0</td>\n      <td>0</td>\n      <td>0</td>\n      <td>0</td>\n      <td>1</td>\n      <td>0</td>\n      <td>0</td>\n      <td>0</td>\n      <td>0</td>\n    </tr>\n    <tr>\n      <th>1</th>\n      <td>0</td>\n      <td>0</td>\n      <td>0</td>\n      <td>1</td>\n      <td>1</td>\n      <td>0</td>\n      <td>1</td>\n      <td>0</td>\n      <td>0</td>\n      <td>0</td>\n      <td>0</td>\n      <td>0</td>\n      <td>0</td>\n      <td>0</td>\n      <td>1</td>\n      <td>0</td>\n      <td>0</td>\n      <td>0</td>\n      <td>0</td>\n    </tr>\n    <tr>\n      <th>2</th>\n      <td>0</td>\n      <td>0</td>\n      <td>0</td>\n      <td>0</td>\n      <td>1</td>\n      <td>0</td>\n      <td>1</td>\n      <td>0</td>\n      <td>0</td>\n      <td>0</td>\n      <td>0</td>\n      <td>0</td>\n      <td>0</td>\n      <td>0</td>\n      <td>0</td>\n      <td>0</td>\n      <td>0</td>\n      <td>0</td>\n      <td>0</td>\n    </tr>\n    <tr>\n      <th>3</th>\n      <td>0</td>\n      <td>0</td>\n      <td>0</td>\n      <td>0</td>\n      <td>1</td>\n      <td>0</td>\n      <td>1</td>\n      <td>0</td>\n      <td>0</td>\n      <td>0</td>\n      <td>0</td>\n      <td>0</td>\n      <td>0</td>\n      <td>0</td>\n      <td>0</td>\n      <td>0</td>\n      <td>0</td>\n      <td>0</td>\n      <td>0</td>\n    </tr>\n    <tr>\n      <th>4</th>\n      <td>0</td>\n      <td>0</td>\n      <td>0</td>\n      <td>0</td>\n      <td>0</td>\n      <td>0</td>\n      <td>0</td>\n      <td>0</td>\n      <td>0</td>\n      <td>1</td>\n      <td>0</td>\n      <td>0</td>\n      <td>0</td>\n      <td>0</td>\n      <td>0</td>\n      <td>0</td>\n      <td>0</td>\n      <td>0</td>\n      <td>0</td>\n    </tr>\n    <tr>\n      <th>...</th>\n      <td>...</td>\n      <td>...</td>\n      <td>...</td>\n      <td>...</td>\n      <td>...</td>\n      <td>...</td>\n      <td>...</td>\n      <td>...</td>\n      <td>...</td>\n      <td>...</td>\n      <td>...</td>\n      <td>...</td>\n      <td>...</td>\n      <td>...</td>\n      <td>...</td>\n      <td>...</td>\n      <td>...</td>\n      <td>...</td>\n      <td>...</td>\n    </tr>\n    <tr>\n      <th>7180</th>\n      <td>0</td>\n      <td>0</td>\n      <td>1</td>\n      <td>1</td>\n      <td>1</td>\n      <td>0</td>\n      <td>0</td>\n      <td>0</td>\n      <td>0</td>\n      <td>0</td>\n      <td>0</td>\n      <td>0</td>\n      <td>0</td>\n      <td>0</td>\n      <td>0</td>\n      <td>0</td>\n      <td>0</td>\n      <td>0</td>\n      <td>0</td>\n    </tr>\n    <tr>\n      <th>7181</th>\n      <td>0</td>\n      <td>0</td>\n      <td>0</td>\n      <td>0</td>\n      <td>0</td>\n      <td>1</td>\n      <td>0</td>\n      <td>0</td>\n      <td>0</td>\n      <td>0</td>\n      <td>0</td>\n      <td>1</td>\n      <td>0</td>\n      <td>0</td>\n      <td>0</td>\n      <td>0</td>\n      <td>0</td>\n      <td>0</td>\n      <td>0</td>\n    </tr>\n    <tr>\n      <th>7182</th>\n      <td>0</td>\n      <td>0</td>\n      <td>0</td>\n      <td>0</td>\n      <td>0</td>\n      <td>1</td>\n      <td>0</td>\n      <td>0</td>\n      <td>0</td>\n      <td>0</td>\n      <td>0</td>\n      <td>1</td>\n      <td>0</td>\n      <td>0</td>\n      <td>0</td>\n      <td>0</td>\n      <td>0</td>\n      <td>0</td>\n      <td>0</td>\n    </tr>\n    <tr>\n      <th>7183</th>\n      <td>0</td>\n      <td>0</td>\n      <td>0</td>\n      <td>0</td>\n      <td>0</td>\n      <td>1</td>\n      <td>0</td>\n      <td>0</td>\n      <td>0</td>\n      <td>0</td>\n      <td>0</td>\n      <td>1</td>\n      <td>0</td>\n      <td>0</td>\n      <td>0</td>\n      <td>0</td>\n      <td>0</td>\n      <td>0</td>\n      <td>0</td>\n    </tr>\n    <tr>\n      <th>7184</th>\n      <td>0</td>\n      <td>0</td>\n      <td>0</td>\n      <td>0</td>\n      <td>0</td>\n      <td>0</td>\n      <td>0</td>\n      <td>0</td>\n      <td>0</td>\n      <td>0</td>\n      <td>0</td>\n      <td>1</td>\n      <td>0</td>\n      <td>0</td>\n      <td>0</td>\n      <td>0</td>\n      <td>1</td>\n      <td>0</td>\n      <td>0</td>\n    </tr>\n  </tbody>\n</table>\n<p>7185 rows × 19 columns</p>\n</div>"
     },
     "execution_count": 15,
     "metadata": {},
     "output_type": "execute_result"
    }
   ],
   "metadata": {}
  },
  {
   "cell_type": "code",
   "execution_count": 17,
   "source": [
    "# grouping author by title of paper\n",
    "papers_grouped = authors.groupby(\"title\").agg({\"idauthor\": lambda authors: list(authors)})\n",
    "papers_grouped['title'] = papers_grouped.index\n",
    "papers_grouped.index = range(len(papers_grouped))\n",
    "papers_grouped\n"
   ],
   "outputs": [
    {
     "data": {
      "text/plain": "                      idauthor  \\\n0     [p01714, p02726, p03637]   \n1     [p00226, p03171, p05209]   \n2     [p00198, p02336, p02575]   \n3             [p05429, p05611]   \n4             [p01353, p04127]   \n...                        ...   \n3118                  [p00122]   \n3119  [p00381, p04476, p05132]   \n3120                  [p04412]   \n3121          [p04020, p05368]   \n3122  [p00198, p01842, p04614]   \n\n                                                  title  \n0     $1,000 cash back: the pass-through of auto man...  \n1     'acting wife': marriage market incentives and ...  \n2     (mis)allocation, market power, and global oil ...  \n3           a bayesian approach to uncertainty aversion  \n4     a bias–reduced log–periodogram regression esti...  \n...                                                 ...  \n3118  yours, mine, and ours: do divorce laws affect ...  \n3119  zombie lending and depressed restructuring in ...  \n3120  “data monkeys”: a procedural model of extrapol...  \n3121  “high” achievers? cannabis access and academic...  \n3122  “nash-in-nash” bargaining: a microfoundation f...  \n\n[3123 rows x 2 columns]",
      "text/html": "<div>\n<style scoped>\n    .dataframe tbody tr th:only-of-type {\n        vertical-align: middle;\n    }\n\n    .dataframe tbody tr th {\n        vertical-align: top;\n    }\n\n    .dataframe thead th {\n        text-align: right;\n    }\n</style>\n<table border=\"1\" class=\"dataframe\">\n  <thead>\n    <tr style=\"text-align: right;\">\n      <th></th>\n      <th>idauthor</th>\n      <th>title</th>\n    </tr>\n  </thead>\n  <tbody>\n    <tr>\n      <th>0</th>\n      <td>[p01714, p02726, p03637]</td>\n      <td>$1,000 cash back: the pass-through of auto man...</td>\n    </tr>\n    <tr>\n      <th>1</th>\n      <td>[p00226, p03171, p05209]</td>\n      <td>'acting wife': marriage market incentives and ...</td>\n    </tr>\n    <tr>\n      <th>2</th>\n      <td>[p00198, p02336, p02575]</td>\n      <td>(mis)allocation, market power, and global oil ...</td>\n    </tr>\n    <tr>\n      <th>3</th>\n      <td>[p05429, p05611]</td>\n      <td>a bayesian approach to uncertainty aversion</td>\n    </tr>\n    <tr>\n      <th>4</th>\n      <td>[p01353, p04127]</td>\n      <td>a bias–reduced log–periodogram regression esti...</td>\n    </tr>\n    <tr>\n      <th>...</th>\n      <td>...</td>\n      <td>...</td>\n    </tr>\n    <tr>\n      <th>3118</th>\n      <td>[p00122]</td>\n      <td>yours, mine, and ours: do divorce laws affect ...</td>\n    </tr>\n    <tr>\n      <th>3119</th>\n      <td>[p00381, p04476, p05132]</td>\n      <td>zombie lending and depressed restructuring in ...</td>\n    </tr>\n    <tr>\n      <th>3120</th>\n      <td>[p04412]</td>\n      <td>“data monkeys”: a procedural model of extrapol...</td>\n    </tr>\n    <tr>\n      <th>3121</th>\n      <td>[p04020, p05368]</td>\n      <td>“high” achievers? cannabis access and academic...</td>\n    </tr>\n    <tr>\n      <th>3122</th>\n      <td>[p00198, p01842, p04614]</td>\n      <td>“nash-in-nash” bargaining: a microfoundation f...</td>\n    </tr>\n  </tbody>\n</table>\n<p>3123 rows × 2 columns</p>\n</div>"
     },
     "execution_count": 17,
     "metadata": {},
     "output_type": "execute_result"
    }
   ],
   "metadata": {}
  },
  {
   "cell_type": "code",
   "execution_count": 18,
   "source": [
    "for i, row in papers_grouped.iterrows():\n",
    "    for author in row.idauthor:\n",
    "        authors_dict[author]['hasConnection'].extend(set(row.idauthor).difference({author}))"
   ],
   "outputs": [],
   "metadata": {}
  },
  {
   "cell_type": "code",
   "execution_count": 19,
   "source": [
    "for author in authors_dict:\n",
    "    authors_dict[author]['hasConnection'] = list(set(authors_dict[author]['hasConnection']))"
   ],
   "outputs": [],
   "metadata": {}
  },
  {
   "cell_type": "code",
   "execution_count": 20,
   "source": [
    "# example with author \"p00062\"\n",
    "authors_dict[authors_dict[\"p00062\"][\"hasConnection\"][0]]"
   ],
   "outputs": [
    {
     "data": {
      "text/plain": "{'tags': ['C', 'J', 'D'], 'hasConnection': ['p00062', 'p00141']}"
     },
     "execution_count": 20,
     "metadata": {},
     "output_type": "execute_result"
    }
   ],
   "metadata": {
    "pycharm": {
     "name": "#%%\n"
    }
   }
  },
  {
   "cell_type": "code",
   "execution_count": 21,
   "source": [
    "# found all JELcodes from coauthors\n",
    "for author in authors_dict:\n",
    "    new_tags = []\n",
    "    for connected_author in authors_dict[author]['hasConnection']:\n",
    "        new_tags.extend(authors_dict[connected_author][\"tags\"])\n",
    "    new_tags = list(set(new_tags))\n",
    "    authors_dict[author][\"level1_tags\"] = new_tags\n",
    "    authors_dict[author][\"level1_tags\"].extend(authors_dict[author]['tags'])\n",
    "    authors_dict[author][\"level1_tags\"] = list(set(authors_dict[author][\"level1_tags\"]))"
   ],
   "outputs": [],
   "metadata": {}
  },
  {
   "cell_type": "code",
   "execution_count": 23,
   "source": [
    "# example with author p00062\n",
    "authors_dict[authors_dict[\"p00062\"][\"hasConnection\"][0]]"
   ],
   "outputs": [
    {
     "data": {
      "text/plain": "{'tags': ['C', 'J', 'D'],\n 'hasConnection': ['p00062', 'p00141'],\n 'level1_tags': ['J', 'G', 'D', 'C']}"
     },
     "execution_count": 23,
     "metadata": {},
     "output_type": "execute_result"
    }
   ],
   "metadata": {}
  },
  {
   "cell_type": "code",
   "execution_count": 25,
   "source": [
    "# length of JELcodes by author\n",
    "import matplotlib.pyplot as plt\n",
    "\n",
    "n_tags = []\n",
    "for author in authors_dict:\n",
    "    n_tags.append(len(authors_dict[author][\"level1_tags\"]))\n",
    "\n",
    "_ = plt.hist(n_tags)\n"
   ],
   "outputs": [
    {
     "data": {
      "text/plain": "<Figure size 432x288 with 1 Axes>",
      "image/png": "[encoded data removed]"
     },
     "metadata": {
      "needs_background": "light"
     },
     "output_type": "display_data"
    }
   ],
   "metadata": {}
  },
  {
   "cell_type": "code",
   "execution_count": 27,
   "source": [
    "# converting tags in one-hot encoding\n",
    "for author in authors_dict:\n",
    "    authors_dict[author][\"coded_tags\"] = np.sum(multilabel.transform(authors_dict[author][\"level1_tags\"]), axis=0)"
   ],
   "outputs": [],
   "metadata": {}
  },
  {
   "cell_type": "code",
   "execution_count": 28,
   "source": [
    "# example with author p00062\n",
    "authors_dict[authors_dict[\"p00062\"][\"hasConnection\"][0]]"
   ],
   "outputs": [
    {
     "data": {
      "text/plain": "{'tags': ['C', 'J', 'D'],\n 'hasConnection': ['p00062', 'p00141'],\n 'level1_tags': ['J', 'G', 'D', 'C'],\n 'coded_tags': array([0, 0, 1, 1, 0, 0, 1, 0, 0, 1, 0, 0, 0, 0, 0, 0, 0, 0, 0])}"
     },
     "execution_count": 28,
     "metadata": {},
     "output_type": "execute_result"
    }
   ],
   "metadata": {}
  },
  {
   "cell_type": "code",
   "execution_count": 31,
   "source": [
    "# creating a author dataframe with connections (graphframe)\n",
    "authors_graphframe = pd.DataFrame(authors_dict)\n",
    "authors_graphframe = authors_graphframe.T\n",
    "authors_graphframe['idauthor'] = authors_graphframe.index\n",
    "authors_graphframe.to_csv('../data/couathor_graphframe.csv', index=False)\n",
    "authors_graphframe.head()"
   ],
   "outputs": [
    {
     "data": {
      "text/plain": "                tags             hasConnection                  level1_tags  \\\np00001     [I, H, O]  [p00075, p02923, p02522]        [C, J, M, I, H, D, O]   \np00003           [H]                  [p04319]                          [H]   \np00004     [E, F, O]  [p04645, p03521, p01781]  [E, F, N, O, J, G, D, R, C]   \np00006  [G, F, P, O]                  [p00511]                 [G, F, P, O]   \np00008     [I, J, O]          [p02923, p00110]           [C, J, M, I, H, O]   \n\n                                               coded_tags idauthor  \np00001  [0, 0, 1, 1, 0, 0, 0, 1, 1, 1, 0, 0, 1, 0, 1, ...   p00001  \np00003  [0, 0, 0, 0, 0, 0, 0, 1, 0, 0, 0, 0, 0, 0, 0, ...   p00003  \np00004  [0, 0, 1, 1, 1, 1, 1, 0, 0, 1, 0, 0, 0, 1, 1, ...   p00004  \np00006  [0, 0, 0, 0, 0, 1, 1, 0, 0, 0, 0, 0, 0, 0, 1, ...   p00006  \np00008  [0, 0, 1, 0, 0, 0, 0, 1, 1, 1, 0, 0, 1, 0, 1, ...   p00008  ",
      "text/html": "<div>\n<style scoped>\n    .dataframe tbody tr th:only-of-type {\n        vertical-align: middle;\n    }\n\n    .dataframe tbody tr th {\n        vertical-align: top;\n    }\n\n    .dataframe thead th {\n        text-align: right;\n    }\n</style>\n<table border=\"1\" class=\"dataframe\">\n  <thead>\n    <tr style=\"text-align: right;\">\n      <th></th>\n      <th>tags</th>\n      <th>hasConnection</th>\n      <th>level1_tags</th>\n      <th>coded_tags</th>\n      <th>idauthor</th>\n    </tr>\n  </thead>\n  <tbody>\n    <tr>\n      <th>p00001</th>\n      <td>[I, H, O]</td>\n      <td>[p00075, p02923, p02522]</td>\n      <td>[C, J, M, I, H, D, O]</td>\n      <td>[0, 0, 1, 1, 0, 0, 0, 1, 1, 1, 0, 0, 1, 0, 1, ...</td>\n      <td>p00001</td>\n    </tr>\n    <tr>\n      <th>p00003</th>\n      <td>[H]</td>\n      <td>[p04319]</td>\n      <td>[H]</td>\n      <td>[0, 0, 0, 0, 0, 0, 0, 1, 0, 0, 0, 0, 0, 0, 0, ...</td>\n      <td>p00003</td>\n    </tr>\n    <tr>\n      <th>p00004</th>\n      <td>[E, F, O]</td>\n      <td>[p04645, p03521, p01781]</td>\n      <td>[E, F, N, O, J, G, D, R, C]</td>\n      <td>[0, 0, 1, 1, 1, 1, 1, 0, 0, 1, 0, 0, 0, 1, 1, ...</td>\n      <td>p00004</td>\n    </tr>\n    <tr>\n      <th>p00006</th>\n      <td>[G, F, P, O]</td>\n      <td>[p00511]</td>\n      <td>[G, F, P, O]</td>\n      <td>[0, 0, 0, 0, 0, 1, 1, 0, 0, 0, 0, 0, 0, 0, 1, ...</td>\n      <td>p00006</td>\n    </tr>\n    <tr>\n      <th>p00008</th>\n      <td>[I, J, O]</td>\n      <td>[p02923, p00110]</td>\n      <td>[C, J, M, I, H, O]</td>\n      <td>[0, 0, 1, 0, 0, 0, 0, 1, 1, 1, 0, 0, 1, 0, 1, ...</td>\n      <td>p00008</td>\n    </tr>\n  </tbody>\n</table>\n</div>"
     },
     "execution_count": 31,
     "metadata": {},
     "output_type": "execute_result"
    }
   ],
   "metadata": {}
  },
  {
   "cell_type": "markdown",
   "source": [
    "### Machine Learning + Network Co-authorship"
   ],
   "metadata": {
    "collapsed": false,
    "pycharm": {
     "name": "#%% md\n"
    }
   }
  },
  {
   "cell_type": "code",
   "execution_count": 44,
   "outputs": [],
   "source": [
    "# load data\n",
    "df = pd.read_csv(\"../data/traning_data_cleaned_v03.csv\")"
   ],
   "metadata": {
    "collapsed": false,
    "pycharm": {
     "name": "#%%\n"
    }
   }
  },
  {
   "cell_type": "code",
   "execution_count": 45,
   "source": [
    "#df.author = df.author.apply(lambda author: author.replace(\" \",\"\"))\n",
    "#df = df[[\"title_x\", \"abstract\", \"tags\", \"idauthor\"]]\n",
    "df['tags'] = df['tags'].apply(lambda x: ast.literal_eval(x))\n",
    "\n",
    "df['keep'] = df.tags.apply(lambda tags: 'Y' not in tags)\n",
    "df = df[df.keep == True]\n",
    "df.head()"
   ],
   "outputs": [
    {
     "data": {
      "text/plain": "                                             title_x  \\\n0     optimal adoption of complementary technologies   \n1  collateral damage: effects of the japanese ban...   \n2  endogenous inequality in integrated labor mark...   \n3  labor-market integration, investment in risky ...   \n4  unequal societies: income distribution and the...   \n\n                                            abstract          tags  \\\n0  When a production process requires two extreme...  [O, D, G, E]   \n1  The Japanese banking crisis provides a natural...        [G, E]   \n2  We consider a market with red and green worker...           [J]   \n3  This paper presents a general-equilibrium mode...        [J, R]   \n4  This paper develops a theory of inequality and...  [P, E, I, D]   \n\n                         idauthor  \\\n0            ['p00681', 'p01338']   \n1            ['p01546', 'p02544']   \n2  ['p00544', 'p01874', 'p03092']   \n3                      ['p01266']   \n4                      ['p04639']   \n\n                                            all_text  \\\n0  optimal adoption of complementary technologies...   \n1  collateral damage: effects of the japanese ban...   \n2  endogenous inequality in integrated labor mark...   \n3  labor-market integration, investment in risky ...   \n4  unequal societies: income distribution and the...   \n\n                                    cleaned_abstract  \\\n0  production process require two extremely compl...   \n1  japanese bank crisis provide natural experimen...   \n2  consider market red green workers  label payof...   \n3  present general-equilibrium human capital inve...   \n4  develop theory inequality social contract aim ...   \n\n                                    cleaned_all_text  keep  \n0  optimal adoption complementary technologies pr...  True  \n1  collateral damage  effect japanese bank crisis...  True  \n2  endogenous inequality integrate labor market t...  True  \n3  labor-market integration  investment risky hum...  True  \n4  unequal societies  income distribution social ...  True  ",
      "text/html": "<div>\n<style scoped>\n    .dataframe tbody tr th:only-of-type {\n        vertical-align: middle;\n    }\n\n    .dataframe tbody tr th {\n        vertical-align: top;\n    }\n\n    .dataframe thead th {\n        text-align: right;\n    }\n</style>\n<table border=\"1\" class=\"dataframe\">\n  <thead>\n    <tr style=\"text-align: right;\">\n      <th></th>\n      <th>title_x</th>\n      <th>abstract</th>\n      <th>tags</th>\n      <th>idauthor</th>\n      <th>all_text</th>\n      <th>cleaned_abstract</th>\n      <th>cleaned_all_text</th>\n      <th>keep</th>\n    </tr>\n  </thead>\n  <tbody>\n    <tr>\n      <th>0</th>\n      <td>optimal adoption of complementary technologies</td>\n      <td>When a production process requires two extreme...</td>\n      <td>[O, D, G, E]</td>\n      <td>['p00681', 'p01338']</td>\n      <td>optimal adoption of complementary technologies...</td>\n      <td>production process require two extremely compl...</td>\n      <td>optimal adoption complementary technologies pr...</td>\n      <td>True</td>\n    </tr>\n    <tr>\n      <th>1</th>\n      <td>collateral damage: effects of the japanese ban...</td>\n      <td>The Japanese banking crisis provides a natural...</td>\n      <td>[G, E]</td>\n      <td>['p01546', 'p02544']</td>\n      <td>collateral damage: effects of the japanese ban...</td>\n      <td>japanese bank crisis provide natural experimen...</td>\n      <td>collateral damage  effect japanese bank crisis...</td>\n      <td>True</td>\n    </tr>\n    <tr>\n      <th>2</th>\n      <td>endogenous inequality in integrated labor mark...</td>\n      <td>We consider a market with red and green worker...</td>\n      <td>[J]</td>\n      <td>['p00544', 'p01874', 'p03092']</td>\n      <td>endogenous inequality in integrated labor mark...</td>\n      <td>consider market red green workers  label payof...</td>\n      <td>endogenous inequality integrate labor market t...</td>\n      <td>True</td>\n    </tr>\n    <tr>\n      <th>3</th>\n      <td>labor-market integration, investment in risky ...</td>\n      <td>This paper presents a general-equilibrium mode...</td>\n      <td>[J, R]</td>\n      <td>['p01266']</td>\n      <td>labor-market integration, investment in risky ...</td>\n      <td>present general-equilibrium human capital inve...</td>\n      <td>labor-market integration  investment risky hum...</td>\n      <td>True</td>\n    </tr>\n    <tr>\n      <th>4</th>\n      <td>unequal societies: income distribution and the...</td>\n      <td>This paper develops a theory of inequality and...</td>\n      <td>[P, E, I, D]</td>\n      <td>['p04639']</td>\n      <td>unequal societies: income distribution and the...</td>\n      <td>develop theory inequality social contract aim ...</td>\n      <td>unequal societies  income distribution social ...</td>\n      <td>True</td>\n    </tr>\n  </tbody>\n</table>\n</div>"
     },
     "execution_count": 45,
     "metadata": {},
     "output_type": "execute_result"
    }
   ],
   "metadata": {}
  },
  {
   "cell_type": "code",
   "execution_count": 46,
   "source": [
    "df['idauthor'] = df['idauthor'].apply(lambda authors: ast.literal_eval(authors)[0])\n",
    "df.head()"
   ],
   "outputs": [
    {
     "data": {
      "text/plain": "                                             title_x  \\\n0     optimal adoption of complementary technologies   \n1  collateral damage: effects of the japanese ban...   \n2  endogenous inequality in integrated labor mark...   \n3  labor-market integration, investment in risky ...   \n4  unequal societies: income distribution and the...   \n\n                                            abstract          tags idauthor  \\\n0  When a production process requires two extreme...  [O, D, G, E]   p00681   \n1  The Japanese banking crisis provides a natural...        [G, E]   p01546   \n2  We consider a market with red and green worker...           [J]   p00544   \n3  This paper presents a general-equilibrium mode...        [J, R]   p01266   \n4  This paper develops a theory of inequality and...  [P, E, I, D]   p04639   \n\n                                            all_text  \\\n0  optimal adoption of complementary technologies...   \n1  collateral damage: effects of the japanese ban...   \n2  endogenous inequality in integrated labor mark...   \n3  labor-market integration, investment in risky ...   \n4  unequal societies: income distribution and the...   \n\n                                    cleaned_abstract  \\\n0  production process require two extremely compl...   \n1  japanese bank crisis provide natural experimen...   \n2  consider market red green workers  label payof...   \n3  present general-equilibrium human capital inve...   \n4  develop theory inequality social contract aim ...   \n\n                                    cleaned_all_text  keep  \n0  optimal adoption complementary technologies pr...  True  \n1  collateral damage  effect japanese bank crisis...  True  \n2  endogenous inequality integrate labor market t...  True  \n3  labor-market integration  investment risky hum...  True  \n4  unequal societies  income distribution social ...  True  ",
      "text/html": "<div>\n<style scoped>\n    .dataframe tbody tr th:only-of-type {\n        vertical-align: middle;\n    }\n\n    .dataframe tbody tr th {\n        vertical-align: top;\n    }\n\n    .dataframe thead th {\n        text-align: right;\n    }\n</style>\n<table border=\"1\" class=\"dataframe\">\n  <thead>\n    <tr style=\"text-align: right;\">\n      <th></th>\n      <th>title_x</th>\n      <th>abstract</th>\n      <th>tags</th>\n      <th>idauthor</th>\n      <th>all_text</th>\n      <th>cleaned_abstract</th>\n      <th>cleaned_all_text</th>\n      <th>keep</th>\n    </tr>\n  </thead>\n  <tbody>\n    <tr>\n      <th>0</th>\n      <td>optimal adoption of complementary technologies</td>\n      <td>When a production process requires two extreme...</td>\n      <td>[O, D, G, E]</td>\n      <td>p00681</td>\n      <td>optimal adoption of complementary technologies...</td>\n      <td>production process require two extremely compl...</td>\n      <td>optimal adoption complementary technologies pr...</td>\n      <td>True</td>\n    </tr>\n    <tr>\n      <th>1</th>\n      <td>collateral damage: effects of the japanese ban...</td>\n      <td>The Japanese banking crisis provides a natural...</td>\n      <td>[G, E]</td>\n      <td>p01546</td>\n      <td>collateral damage: effects of the japanese ban...</td>\n      <td>japanese bank crisis provide natural experimen...</td>\n      <td>collateral damage  effect japanese bank crisis...</td>\n      <td>True</td>\n    </tr>\n    <tr>\n      <th>2</th>\n      <td>endogenous inequality in integrated labor mark...</td>\n      <td>We consider a market with red and green worker...</td>\n      <td>[J]</td>\n      <td>p00544</td>\n      <td>endogenous inequality in integrated labor mark...</td>\n      <td>consider market red green workers  label payof...</td>\n      <td>endogenous inequality integrate labor market t...</td>\n      <td>True</td>\n    </tr>\n    <tr>\n      <th>3</th>\n      <td>labor-market integration, investment in risky ...</td>\n      <td>This paper presents a general-equilibrium mode...</td>\n      <td>[J, R]</td>\n      <td>p01266</td>\n      <td>labor-market integration, investment in risky ...</td>\n      <td>present general-equilibrium human capital inve...</td>\n      <td>labor-market integration  investment risky hum...</td>\n      <td>True</td>\n    </tr>\n    <tr>\n      <th>4</th>\n      <td>unequal societies: income distribution and the...</td>\n      <td>This paper develops a theory of inequality and...</td>\n      <td>[P, E, I, D]</td>\n      <td>p04639</td>\n      <td>unequal societies: income distribution and the...</td>\n      <td>develop theory inequality social contract aim ...</td>\n      <td>unequal societies  income distribution social ...</td>\n      <td>True</td>\n    </tr>\n  </tbody>\n</table>\n</div>"
     },
     "execution_count": 46,
     "metadata": {},
     "output_type": "execute_result"
    }
   ],
   "metadata": {}
  },
  {
   "cell_type": "code",
   "execution_count": 35,
   "source": [
    "df_merged = df.merge(authors_graphframe, on='idauthor')\n",
    "df_merged.tail()"
   ],
   "outputs": [
    {
     "data": {
      "text/plain": "                                                title_x  \\\n3120  the effect of product misperception on economi...   \n3121   house price beliefs and mortgage leverage choice   \n3122  the impact of consumer credit access on unempl...   \n3123                                   extended gravity   \n3124  deforestation in the amazon: a unified framewo...   \n\n                                               abstract        tags_x  \\\n3120  Panel and experimental data are used to analys...        [G, D]   \n3121  We study the relationship between homebuyers' ...  [D, R, G, E]   \n3122  Unemployed households' access to unsecured rev...     [J, G, E]   \n3123  Exporting firms often enter foreign markets th...        [L, F]   \n3124  Deforestation is a matter of pressing global c...        [L, Q]   \n\n     idauthor  keep        tags_y                     hasConnection  \\\n3120   p02730  True        [G, D]                          [p05649]   \n3121   p01403  True  [G, E, D, R]  [p03664, p00426, p05182, p02570]   \n3122   p03070  True     [G, E, J]                                []   \n3123   p00323  True        [F, L]                  [p01944, p01408]   \n3124   p01410  True        [L, Q]                                []   \n\n                   level1_tags  \\\n3120                    [G, D]   \n3121           [L, E, G, D, R]   \n3122                 [G, E, J]   \n3123  [L, E, F, J, H, D, R, C]   \n3124                    [L, Q]   \n\n                                             coded_tags  \n3120  [0, 0, 0, 1, 0, 0, 1, 0, 0, 0, 0, 0, 0, 0, 0, ...  \n3121  [0, 0, 0, 1, 1, 0, 1, 0, 0, 0, 0, 1, 0, 0, 0, ...  \n3122  [0, 0, 0, 0, 1, 0, 1, 0, 0, 1, 0, 0, 0, 0, 0, ...  \n3123  [0, 0, 1, 1, 1, 1, 0, 1, 0, 1, 0, 1, 0, 0, 0, ...  \n3124  [0, 0, 0, 0, 0, 0, 0, 0, 0, 0, 0, 1, 0, 0, 0, ...  ",
      "text/html": "<div>\n<style scoped>\n    .dataframe tbody tr th:only-of-type {\n        vertical-align: middle;\n    }\n\n    .dataframe tbody tr th {\n        vertical-align: top;\n    }\n\n    .dataframe thead th {\n        text-align: right;\n    }\n</style>\n<table border=\"1\" class=\"dataframe\">\n  <thead>\n    <tr style=\"text-align: right;\">\n      <th></th>\n      <th>title_x</th>\n      <th>abstract</th>\n      <th>tags_x</th>\n      <th>idauthor</th>\n      <th>keep</th>\n      <th>tags_y</th>\n      <th>hasConnection</th>\n      <th>level1_tags</th>\n      <th>coded_tags</th>\n    </tr>\n  </thead>\n  <tbody>\n    <tr>\n      <th>3120</th>\n      <td>the effect of product misperception on economi...</td>\n      <td>Panel and experimental data are used to analys...</td>\n      <td>[G, D]</td>\n      <td>p02730</td>\n      <td>True</td>\n      <td>[G, D]</td>\n      <td>[p05649]</td>\n      <td>[G, D]</td>\n      <td>[0, 0, 0, 1, 0, 0, 1, 0, 0, 0, 0, 0, 0, 0, 0, ...</td>\n    </tr>\n    <tr>\n      <th>3121</th>\n      <td>house price beliefs and mortgage leverage choice</td>\n      <td>We study the relationship between homebuyers' ...</td>\n      <td>[D, R, G, E]</td>\n      <td>p01403</td>\n      <td>True</td>\n      <td>[G, E, D, R]</td>\n      <td>[p03664, p00426, p05182, p02570]</td>\n      <td>[L, E, G, D, R]</td>\n      <td>[0, 0, 0, 1, 1, 0, 1, 0, 0, 0, 0, 1, 0, 0, 0, ...</td>\n    </tr>\n    <tr>\n      <th>3122</th>\n      <td>the impact of consumer credit access on unempl...</td>\n      <td>Unemployed households' access to unsecured rev...</td>\n      <td>[J, G, E]</td>\n      <td>p03070</td>\n      <td>True</td>\n      <td>[G, E, J]</td>\n      <td>[]</td>\n      <td>[G, E, J]</td>\n      <td>[0, 0, 0, 0, 1, 0, 1, 0, 0, 1, 0, 0, 0, 0, 0, ...</td>\n    </tr>\n    <tr>\n      <th>3123</th>\n      <td>extended gravity</td>\n      <td>Exporting firms often enter foreign markets th...</td>\n      <td>[L, F]</td>\n      <td>p00323</td>\n      <td>True</td>\n      <td>[F, L]</td>\n      <td>[p01944, p01408]</td>\n      <td>[L, E, F, J, H, D, R, C]</td>\n      <td>[0, 0, 1, 1, 1, 1, 0, 1, 0, 1, 0, 1, 0, 0, 0, ...</td>\n    </tr>\n    <tr>\n      <th>3124</th>\n      <td>deforestation in the amazon: a unified framewo...</td>\n      <td>Deforestation is a matter of pressing global c...</td>\n      <td>[L, Q]</td>\n      <td>p01410</td>\n      <td>True</td>\n      <td>[L, Q]</td>\n      <td>[]</td>\n      <td>[L, Q]</td>\n      <td>[0, 0, 0, 0, 0, 0, 0, 0, 0, 0, 0, 1, 0, 0, 0, ...</td>\n    </tr>\n  </tbody>\n</table>\n</div>"
     },
     "execution_count": 35,
     "metadata": {},
     "output_type": "execute_result"
    }
   ],
   "metadata": {}
  },
  {
   "cell_type": "code",
   "execution_count": 47,
   "source": [
    "tfidf_vect_ngram = TfidfVectorizer(analyzer='word', token_pattern=r'\\w{1,}',\n",
    "                                   ngram_range=(1,3), max_features=3000)\n",
    "\n",
    "X_tfidf_ngram = tfidf_vect_ngram.fit_transform(df['cleaned_all_text'])\n",
    "\n",
    "print('X with TfIdf Ngram Vec Shape: ', X_tfidf_ngram.shape)\n"
   ],
   "outputs": [
    {
     "name": "stdout",
     "output_type": "stream",
     "text": [
      "X with TfIdf Ngram Vec Shape:  (3125, 3000)\n"
     ]
    }
   ],
   "metadata": {}
  },
  {
   "cell_type": "code",
   "execution_count": 48,
   "source": [
    "# Auxiliary JEL codes from co-authors\n",
    "aid_tags = df_merged.coded_tags.to_list()\n",
    "aid_tags = np.asarray(aid_tags)\n",
    "aid_tags.shape"
   ],
   "outputs": [
    {
     "data": {
      "text/plain": "(3125, 19)"
     },
     "execution_count": 48,
     "metadata": {},
     "output_type": "execute_result"
    }
   ],
   "metadata": {}
  },
  {
   "cell_type": "code",
   "execution_count": 49,
   "source": [
    "feats = hstack((X_tfidf_ngram, aid_tags))\n",
    "feats.shape"
   ],
   "outputs": [
    {
     "data": {
      "text/plain": "(3125, 3019)"
     },
     "execution_count": 49,
     "metadata": {},
     "output_type": "execute_result"
    }
   ],
   "metadata": {}
  },
  {
   "cell_type": "code",
   "execution_count": 50,
   "source": [
    "# Convert outcome variable to one-hot encoding type\n",
    "multilabel = MultiLabelBinarizer()\n",
    "y = multilabel.fit_transform(df['tags'])\n",
    "pd.DataFrame(y, columns = multilabel.classes_)"
   ],
   "outputs": [
    {
     "data": {
      "text/plain": "      A  B  C  D  E  F  G  H  I  J  K  L  M  N  O  P  Q  R  Z\n0     0  0  0  1  1  0  1  0  0  0  0  0  0  0  1  0  0  0  0\n1     0  0  0  0  1  0  1  0  0  0  0  0  0  0  0  0  0  0  0\n2     0  0  0  0  0  0  0  0  0  1  0  0  0  0  0  0  0  0  0\n3     0  0  0  0  0  0  0  0  0  1  0  0  0  0  0  0  0  1  0\n4     0  0  0  1  1  0  0  0  1  0  0  0  0  0  0  1  0  0  0\n...  .. .. .. .. .. .. .. .. .. .. .. .. .. .. .. .. .. .. ..\n3120  0  0  1  1  0  0  0  0  0  0  0  0  0  0  0  0  0  0  0\n3121  0  0  0  0  1  0  1  0  0  1  0  0  0  0  0  0  0  0  0\n3122  0  0  1  1  1  0  0  0  0  0  0  0  0  0  0  0  0  0  0\n3123  0  0  0  0  0  1  0  0  0  0  0  1  0  0  0  0  0  0  0\n3124  0  0  0  0  0  0  0  0  0  0  0  1  0  0  0  0  1  0  0\n\n[3125 rows x 19 columns]",
      "text/html": "<div>\n<style scoped>\n    .dataframe tbody tr th:only-of-type {\n        vertical-align: middle;\n    }\n\n    .dataframe tbody tr th {\n        vertical-align: top;\n    }\n\n    .dataframe thead th {\n        text-align: right;\n    }\n</style>\n<table border=\"1\" class=\"dataframe\">\n  <thead>\n    <tr style=\"text-align: right;\">\n      <th></th>\n      <th>A</th>\n      <th>B</th>\n      <th>C</th>\n      <th>D</th>\n      <th>E</th>\n      <th>F</th>\n      <th>G</th>\n      <th>H</th>\n      <th>I</th>\n      <th>J</th>\n      <th>K</th>\n      <th>L</th>\n      <th>M</th>\n      <th>N</th>\n      <th>O</th>\n      <th>P</th>\n      <th>Q</th>\n      <th>R</th>\n      <th>Z</th>\n    </tr>\n  </thead>\n  <tbody>\n    <tr>\n      <th>0</th>\n      <td>0</td>\n      <td>0</td>\n      <td>0</td>\n      <td>1</td>\n      <td>1</td>\n      <td>0</td>\n      <td>1</td>\n      <td>0</td>\n      <td>0</td>\n      <td>0</td>\n      <td>0</td>\n      <td>0</td>\n      <td>0</td>\n      <td>0</td>\n      <td>1</td>\n      <td>0</td>\n      <td>0</td>\n      <td>0</td>\n      <td>0</td>\n    </tr>\n    <tr>\n      <th>1</th>\n      <td>0</td>\n      <td>0</td>\n      <td>0</td>\n      <td>0</td>\n      <td>1</td>\n      <td>0</td>\n      <td>1</td>\n      <td>0</td>\n      <td>0</td>\n      <td>0</td>\n      <td>0</td>\n      <td>0</td>\n      <td>0</td>\n      <td>0</td>\n      <td>0</td>\n      <td>0</td>\n      <td>0</td>\n      <td>0</td>\n      <td>0</td>\n    </tr>\n    <tr>\n      <th>2</th>\n      <td>0</td>\n      <td>0</td>\n      <td>0</td>\n      <td>0</td>\n      <td>0</td>\n      <td>0</td>\n      <td>0</td>\n      <td>0</td>\n      <td>0</td>\n      <td>1</td>\n      <td>0</td>\n      <td>0</td>\n      <td>0</td>\n      <td>0</td>\n      <td>0</td>\n      <td>0</td>\n      <td>0</td>\n      <td>0</td>\n      <td>0</td>\n    </tr>\n    <tr>\n      <th>3</th>\n      <td>0</td>\n      <td>0</td>\n      <td>0</td>\n      <td>0</td>\n      <td>0</td>\n      <td>0</td>\n      <td>0</td>\n      <td>0</td>\n      <td>0</td>\n      <td>1</td>\n      <td>0</td>\n      <td>0</td>\n      <td>0</td>\n      <td>0</td>\n      <td>0</td>\n      <td>0</td>\n      <td>0</td>\n      <td>1</td>\n      <td>0</td>\n    </tr>\n    <tr>\n      <th>4</th>\n      <td>0</td>\n      <td>0</td>\n      <td>0</td>\n      <td>1</td>\n      <td>1</td>\n      <td>0</td>\n      <td>0</td>\n      <td>0</td>\n      <td>1</td>\n      <td>0</td>\n      <td>0</td>\n      <td>0</td>\n      <td>0</td>\n      <td>0</td>\n      <td>0</td>\n      <td>1</td>\n      <td>0</td>\n      <td>0</td>\n      <td>0</td>\n    </tr>\n    <tr>\n      <th>...</th>\n      <td>...</td>\n      <td>...</td>\n      <td>...</td>\n      <td>...</td>\n      <td>...</td>\n      <td>...</td>\n      <td>...</td>\n      <td>...</td>\n      <td>...</td>\n      <td>...</td>\n      <td>...</td>\n      <td>...</td>\n      <td>...</td>\n      <td>...</td>\n      <td>...</td>\n      <td>...</td>\n      <td>...</td>\n      <td>...</td>\n      <td>...</td>\n    </tr>\n    <tr>\n      <th>3120</th>\n      <td>0</td>\n      <td>0</td>\n      <td>1</td>\n      <td>1</td>\n      <td>0</td>\n      <td>0</td>\n      <td>0</td>\n      <td>0</td>\n      <td>0</td>\n      <td>0</td>\n      <td>0</td>\n      <td>0</td>\n      <td>0</td>\n      <td>0</td>\n      <td>0</td>\n      <td>0</td>\n      <td>0</td>\n      <td>0</td>\n      <td>0</td>\n    </tr>\n    <tr>\n      <th>3121</th>\n      <td>0</td>\n      <td>0</td>\n      <td>0</td>\n      <td>0</td>\n      <td>1</td>\n      <td>0</td>\n      <td>1</td>\n      <td>0</td>\n      <td>0</td>\n      <td>1</td>\n      <td>0</td>\n      <td>0</td>\n      <td>0</td>\n      <td>0</td>\n      <td>0</td>\n      <td>0</td>\n      <td>0</td>\n      <td>0</td>\n      <td>0</td>\n    </tr>\n    <tr>\n      <th>3122</th>\n      <td>0</td>\n      <td>0</td>\n      <td>1</td>\n      <td>1</td>\n      <td>1</td>\n      <td>0</td>\n      <td>0</td>\n      <td>0</td>\n      <td>0</td>\n      <td>0</td>\n      <td>0</td>\n      <td>0</td>\n      <td>0</td>\n      <td>0</td>\n      <td>0</td>\n      <td>0</td>\n      <td>0</td>\n      <td>0</td>\n      <td>0</td>\n    </tr>\n    <tr>\n      <th>3123</th>\n      <td>0</td>\n      <td>0</td>\n      <td>0</td>\n      <td>0</td>\n      <td>0</td>\n      <td>1</td>\n      <td>0</td>\n      <td>0</td>\n      <td>0</td>\n      <td>0</td>\n      <td>0</td>\n      <td>1</td>\n      <td>0</td>\n      <td>0</td>\n      <td>0</td>\n      <td>0</td>\n      <td>0</td>\n      <td>0</td>\n      <td>0</td>\n    </tr>\n    <tr>\n      <th>3124</th>\n      <td>0</td>\n      <td>0</td>\n      <td>0</td>\n      <td>0</td>\n      <td>0</td>\n      <td>0</td>\n      <td>0</td>\n      <td>0</td>\n      <td>0</td>\n      <td>0</td>\n      <td>0</td>\n      <td>1</td>\n      <td>0</td>\n      <td>0</td>\n      <td>0</td>\n      <td>0</td>\n      <td>1</td>\n      <td>0</td>\n      <td>0</td>\n    </tr>\n  </tbody>\n</table>\n<p>3125 rows × 19 columns</p>\n</div>"
     },
     "execution_count": 50,
     "metadata": {},
     "output_type": "execute_result"
    }
   ],
   "metadata": {}
  },
  {
   "cell_type": "code",
   "execution_count": 53,
   "source": [
    "from sklearn.model_selection import train_test_split\n",
    "\n",
    "X_train, X_test, y_train, y_test = train_test_split(feats, y,\n",
    "                                                    test_size=0.2,\n",
    "                                                    random_state=123)\n",
    "#X_train, X_test = embeddings[train_inds], embeddings[test_inds]\n",
    "#y_aid_train, y_aid_test = aid_tags[train_inds], aid_tags[test_inds]"
   ],
   "outputs": [],
   "metadata": {}
  },
  {
   "cell_type": "code",
   "execution_count": 54,
   "source": [
    "# set models\n",
    "sgd = SGDClassifier(class_weight='balanced')\n",
    "lr = LogisticRegression( class_weight='balanced')\n",
    "svc = LinearSVC(class_weight='balanced')\n",
    "rf = RandomForestClassifier()\n",
    "naive = MultinomialNB()"
   ],
   "outputs": [],
   "metadata": {}
  },
  {
   "cell_type": "code",
   "execution_count": 56,
   "source": [
    "# training using tfidf ngram vectorizer\n",
    "for classifier in [sgd, lr, svc]:\n",
    "    train_model(classifier, X_train, y_train, X_test, y_test)"
   ],
   "outputs": [
    {
     "name": "stdout",
     "output_type": "stream",
     "text": [
      "Classifier:  SGDClassifier\n",
      "Accuracy Score: 0.4637980952380953\n",
      "-----------------------------------\n",
      "Classifier:  LogisticRegression\n",
      "Accuracy Score: 0.5568514285714286\n",
      "-----------------------------------\n",
      "Classifier:  LinearSVC\n",
      "Accuracy Score: 0.5473828571428572\n",
      "-----------------------------------\n"
     ]
    }
   ],
   "metadata": {}
  },
  {
   "cell_type": "code",
   "execution_count": 57,
   "source": [
    "clf = OneVsRestClassifier(LogisticRegression(solver = 'lbfgs', class_weight='balanced'))\n",
    "clf.fit(X_train, y_train)\n",
    "\n",
    "# predict the labels on test set\n",
    "\n",
    "predictions = clf.predict(X_test)"
   ],
   "outputs": [],
   "metadata": {}
  },
  {
   "cell_type": "code",
   "execution_count": 58,
   "source": [
    "print(classification_report(y_test, predictions))\n",
    "\n"
   ],
   "outputs": [
    {
     "name": "stdout",
     "output_type": "stream",
     "text": [
      "              precision    recall  f1-score   support\n",
      "\n",
      "           0       0.00      0.00      0.00         5\n",
      "           1       0.00      0.00      0.00         3\n",
      "           2       0.60      0.66      0.63       123\n",
      "           3       0.78      0.74      0.76       311\n",
      "           4       0.68      0.78      0.73       130\n",
      "           5       0.75      0.77      0.76        82\n",
      "           6       0.68      0.74      0.71       109\n",
      "           7       0.55      0.62      0.58        90\n",
      "           8       0.66      0.71      0.68        70\n",
      "           9       0.71      0.74      0.72       141\n",
      "          10       0.38      0.45      0.41        20\n",
      "          11       0.61      0.75      0.67       122\n",
      "          12       0.24      0.33      0.28        24\n",
      "          13       0.22      0.48      0.31        23\n",
      "          14       0.61      0.73      0.66       104\n",
      "          15       0.47      0.32      0.38        22\n",
      "          16       0.68      0.52      0.59        25\n",
      "          17       0.69      0.64      0.67        42\n",
      "          18       0.28      0.32      0.30        25\n",
      "\n",
      "   micro avg       0.63      0.69      0.66      1471\n",
      "   macro avg       0.50      0.54      0.52      1471\n",
      "weighted avg       0.65      0.69      0.67      1471\n",
      " samples avg       0.68      0.75      0.67      1471\n",
      "\n"
     ]
    },
    {
     "name": "stderr",
     "output_type": "stream",
     "text": [
      "/Users/c02g40n7q05p/opt/anaconda3/envs/JELcodes_prediction/lib/python3.9/site-packages/sklearn/metrics/_classification.py:1248: UndefinedMetricWarning: Precision and F-score are ill-defined and being set to 0.0 in samples with no predicted labels. Use `zero_division` parameter to control this behavior.\n",
      "  _warn_prf(average, modifier, msg_start, len(result))\n"
     ]
    }
   ],
   "metadata": {
    "pycharm": {
     "name": "#%%\n"
    }
   }
  }
 ],
 "metadata": {
  "orig_nbformat": 4,
  "language_info": {
   "name": "python",
   "version": "3.8.8",
   "mimetype": "text/x-python",
   "codemirror_mode": {
    "name": "ipython",
    "version": 3
   },
   "pygments_lexer": "ipython3",
   "nbconvert_exporter": "python",
   "file_extension": ".py"
  },
  "kernelspec": {
   "name": "python3",
   "language": "python",
   "display_name": "Python 3 (ipykernel)"
  },
  "interpreter": {
   "hash": "b3ba2566441a7c06988d0923437866b63cedc61552a5af99d1f4fb67d367b25f"
  }
 },
 "nbformat": 4,
 "nbformat_minor": 2
}