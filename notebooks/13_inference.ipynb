{
 "cells": [
  {
   "cell_type": "markdown",
   "source": [
    "### Import libraries and functions"
   ],
   "metadata": {
    "collapsed": false,
    "pycharm": {
     "name": "#%% md\n"
    }
   }
  },
  {
   "cell_type": "code",
   "execution_count": 2,
   "source": [
    "import pandas as pd\n",
    "import numpy as np\n",
    "import ast\n",
    "\n",
    "import scipy.stats as stats\n",
    "from sklearn.utils.fixes import loguniform\n",
    "import scipy as sp\n",
    "from scipy.sparse import hstack\n",
    "from collections import Counter\n",
    "\n",
    "from sklearn.metrics import classification_report\n",
    "from sklearn.model_selection import train_test_split\n",
    "from sklearn.model_selection import GridSearchCV, RandomizedSearchCV\n",
    "from sklearn.feature_extraction.text import TfidfVectorizer, CountVectorizer\n",
    "from sklearn.preprocessing import MultiLabelBinarizer\n",
    "\n",
    "from sklearn.linear_model import SGDClassifier\n",
    "from sklearn.linear_model import LogisticRegression\n",
    "from sklearn.ensemble import RandomForestClassifier\n",
    "from sklearn.svm import LinearSVC\n",
    "from sklearn.naive_bayes import MultinomialNB\n",
    "#from xgboost import XGBClassifier\n",
    "from sklearn.preprocessing import RobustScaler, StandardScaler\n",
    "from sklearn.multiclass import OneVsRestClassifier\n",
    "from sklearn.multioutput import MultiOutputClassifier, ClassifierChain\n",
    "from skmultilearn.problem_transform import LabelPowerset"
   ],
   "outputs": [],
   "metadata": {}
  },
  {
   "cell_type": "code",
   "execution_count": 3,
   "source": [
    "def extend_list(tags):\n",
    "    retlist = []\n",
    "    for tag in tags:\n",
    "        retlist.extend(tag)\n",
    "    return set(retlist)\n",
    "\n",
    "def Accuracy(y_true, y_pred):\n",
    "    \"\"\"\n",
    "    Accuracy based on Jaccard Similarity Score\n",
    "    :param y_true: ground truth\n",
    "    :param y_pred: prediction\n",
    "    :return: Jaccard Similarity Score\n",
    "    \"\"\"\n",
    "    jaccard = np.minimum(y_true, y_pred).sum(axis=1) / np.maximum(y_true, y_pred).sum(axis=1)\n",
    "    return jaccard.mean()\n",
    "\n",
    "\n",
    "def print_ml_score(y_test, y_pred, clf):\n",
    "    print('Classifier: ', clf.__class__.__name__)\n",
    "    print('Accuracy Score: {}'.format(Accuracy(y_test, y_pred)))\n",
    "    print(\"-----------------------------------\")\n",
    "\n",
    "\n",
    "def train_model(classifier, feature_vector_train, label_train, feature_vector_test, label_test):\n",
    "    # fit the training set on the classifier\n",
    "    clf = OneVsRestClassifier(classifier)\n",
    "    clf.fit(feature_vector_train, label_train)\n",
    "\n",
    "    # predict the labels on test set\n",
    "    predictions = clf.predict(feature_vector_test)\n",
    "    #print(pd.DataFrame(predictions, columns = multilabel.classes_))\n",
    "    return print_ml_score(label_test, predictions, classifier)\n",
    "\n",
    "def get_vec(x):\n",
    "    doc = nlp(x)\n",
    "    vec = doc.vector\n",
    "    return vec"
   ],
   "outputs": [],
   "metadata": {
    "collapsed": false,
    "pycharm": {
     "name": "#%%\n"
    }
   }
  },
  {
   "cell_type": "markdown",
   "source": [
    "### Load Data"
   ],
   "metadata": {
    "collapsed": false,
    "pycharm": {
     "name": "#%% md\n"
    }
   }
  },
  {
   "cell_type": "code",
   "execution_count": 4,
   "source": [
    "authors = pd.read_csv(\"../data/coauthor_list.csv\")\n",
    "authors.tags = authors.tags.apply(lambda tag: ast.literal_eval(tag))\n",
    "authors.idauthor = authors.idauthor.apply(lambda author: author.replace(\" \", \"\"))\n",
    "\n",
    "# keep JEL code different from letter Y, A and B\n",
    "\n",
    "#authors['keep'] = authors.tags.apply(lambda tags: 'Y' not in tags)\n",
    "#authors = authors[authors.keep == True]\n",
    "#authors\n",
    "\n",
    "authors['keep'] = authors.tags.apply(lambda tags: 'Y' not in tags)\n",
    "authors = authors[authors.keep == True]\n",
    "authors['keep'] = authors.tags.apply(lambda tags: 'A' not in tags)\n",
    "authors = authors[authors.keep == True]\n",
    "authors['keep'] = authors.tags.apply(lambda tags: 'B' not in tags)\n",
    "authors = authors[authors.keep == True]\n",
    "authors.head()"
   ],
   "outputs": [
    {
     "data": {
      "text/plain": "           tags                                              title idauthor  \\\n0  [O, D, G, E]     optimal adoption of complementary technologies   p00681   \n0  [O, D, G, E]     optimal adoption of complementary technologies   p01338   \n1        [G, E]  collateral damage: effects of the japanese ban...   p01546   \n1        [G, E]  collateral damage: effects of the japanese ban...   p02544   \n2           [J]  endogenous inequality in integrated labor mark...   p00544   \n\n               author  keep  \n0     boyan jovanovic  True  \n0   dmitriy stolyarov  True  \n1      eric rosengren  True  \n1            joe peek  True  \n2        avner shaked  True  ",
      "text/html": "<div>\n<style scoped>\n    .dataframe tbody tr th:only-of-type {\n        vertical-align: middle;\n    }\n\n    .dataframe tbody tr th {\n        vertical-align: top;\n    }\n\n    .dataframe thead th {\n        text-align: right;\n    }\n</style>\n<table border=\"1\" class=\"dataframe\">\n  <thead>\n    <tr style=\"text-align: right;\">\n      <th></th>\n      <th>tags</th>\n      <th>title</th>\n      <th>idauthor</th>\n      <th>author</th>\n      <th>keep</th>\n    </tr>\n  </thead>\n  <tbody>\n    <tr>\n      <th>0</th>\n      <td>[O, D, G, E]</td>\n      <td>optimal adoption of complementary technologies</td>\n      <td>p00681</td>\n      <td>boyan jovanovic</td>\n      <td>True</td>\n    </tr>\n    <tr>\n      <th>0</th>\n      <td>[O, D, G, E]</td>\n      <td>optimal adoption of complementary technologies</td>\n      <td>p01338</td>\n      <td>dmitriy stolyarov</td>\n      <td>True</td>\n    </tr>\n    <tr>\n      <th>1</th>\n      <td>[G, E]</td>\n      <td>collateral damage: effects of the japanese ban...</td>\n      <td>p01546</td>\n      <td>eric rosengren</td>\n      <td>True</td>\n    </tr>\n    <tr>\n      <th>1</th>\n      <td>[G, E]</td>\n      <td>collateral damage: effects of the japanese ban...</td>\n      <td>p02544</td>\n      <td>joe peek</td>\n      <td>True</td>\n    </tr>\n    <tr>\n      <th>2</th>\n      <td>[J]</td>\n      <td>endogenous inequality in integrated labor mark...</td>\n      <td>p00544</td>\n      <td>avner shaked</td>\n      <td>True</td>\n    </tr>\n  </tbody>\n</table>\n</div>"
     },
     "execution_count": 4,
     "metadata": {},
     "output_type": "execute_result"
    }
   ],
   "metadata": {}
  },
  {
   "cell_type": "code",
   "execution_count": 5,
   "source": [
    "authors_tags = authors.groupby(\"idauthor\").agg({\"tags\": lambda tags: list(extend_list(tags))})\n",
    "authors_tags['idauthor'] = authors_tags.index\n",
    "\n",
    "# keep JEL code different from letter Y, A and B\n",
    "\n",
    "#authors_tags['keep'] = authors_tags.tags.apply(lambda tags: 'Y' not in tags)\n",
    "#authors_tags = authors_tags[authors_tags.keep == True]\n",
    "#authors_tags\n",
    "\n",
    "authors_tags['keep'] = authors_tags.tags.apply(lambda tags: 'Y' not in tags)\n",
    "authors_tags = authors_tags[authors_tags.keep == True]\n",
    "authors_tags['keep'] = authors_tags.tags.apply(lambda tags: 'A' not in tags)\n",
    "authors_tags = authors_tags[authors_tags.keep == True]\n",
    "authors_tags['keep'] = authors_tags.tags.apply(lambda tags: 'B' not in tags)\n",
    "authors_tags = authors_tags[authors_tags.keep == True]\n",
    "authors.head()"
   ],
   "outputs": [
    {
     "data": {
      "text/plain": "           tags                                              title idauthor  \\\n0  [O, D, G, E]     optimal adoption of complementary technologies   p00681   \n0  [O, D, G, E]     optimal adoption of complementary technologies   p01338   \n1        [G, E]  collateral damage: effects of the japanese ban...   p01546   \n1        [G, E]  collateral damage: effects of the japanese ban...   p02544   \n2           [J]  endogenous inequality in integrated labor mark...   p00544   \n\n               author  keep  \n0     boyan jovanovic  True  \n0   dmitriy stolyarov  True  \n1      eric rosengren  True  \n1            joe peek  True  \n2        avner shaked  True  ",
      "text/html": "<div>\n<style scoped>\n    .dataframe tbody tr th:only-of-type {\n        vertical-align: middle;\n    }\n\n    .dataframe tbody tr th {\n        vertical-align: top;\n    }\n\n    .dataframe thead th {\n        text-align: right;\n    }\n</style>\n<table border=\"1\" class=\"dataframe\">\n  <thead>\n    <tr style=\"text-align: right;\">\n      <th></th>\n      <th>tags</th>\n      <th>title</th>\n      <th>idauthor</th>\n      <th>author</th>\n      <th>keep</th>\n    </tr>\n  </thead>\n  <tbody>\n    <tr>\n      <th>0</th>\n      <td>[O, D, G, E]</td>\n      <td>optimal adoption of complementary technologies</td>\n      <td>p00681</td>\n      <td>boyan jovanovic</td>\n      <td>True</td>\n    </tr>\n    <tr>\n      <th>0</th>\n      <td>[O, D, G, E]</td>\n      <td>optimal adoption of complementary technologies</td>\n      <td>p01338</td>\n      <td>dmitriy stolyarov</td>\n      <td>True</td>\n    </tr>\n    <tr>\n      <th>1</th>\n      <td>[G, E]</td>\n      <td>collateral damage: effects of the japanese ban...</td>\n      <td>p01546</td>\n      <td>eric rosengren</td>\n      <td>True</td>\n    </tr>\n    <tr>\n      <th>1</th>\n      <td>[G, E]</td>\n      <td>collateral damage: effects of the japanese ban...</td>\n      <td>p02544</td>\n      <td>joe peek</td>\n      <td>True</td>\n    </tr>\n    <tr>\n      <th>2</th>\n      <td>[J]</td>\n      <td>endogenous inequality in integrated labor mark...</td>\n      <td>p00544</td>\n      <td>avner shaked</td>\n      <td>True</td>\n    </tr>\n  </tbody>\n</table>\n</div>"
     },
     "execution_count": 5,
     "metadata": {},
     "output_type": "execute_result"
    }
   ],
   "metadata": {}
  },
  {
   "cell_type": "code",
   "execution_count": 6,
   "source": [
    "# creating  dictionary for the authors and its tags\n",
    "authors_dict = {}\n",
    "for i, row in authors_tags.iterrows():\n",
    "\n",
    "    authors_dict[row.idauthor] = {\"tags\": row.tags, \"hasConnection\": []}\n"
   ],
   "outputs": [],
   "metadata": {}
  },
  {
   "cell_type": "code",
   "execution_count": 7,
   "source": [
    "from sklearn.preprocessing import MultiLabelBinarizer\n",
    "\n",
    "multilabel = MultiLabelBinarizer()\n",
    "y = multilabel.fit_transform(authors['tags'])\n",
    "pd.DataFrame(y, columns = multilabel.classes_)"
   ],
   "outputs": [
    {
     "data": {
      "text/plain": "      C  D  E  F  G  H  I  J  K  L  M  N  O  P  Q  R  Z\n0     0  1  1  0  1  0  0  0  0  0  0  0  1  0  0  0  0\n1     0  1  1  0  1  0  0  0  0  0  0  0  1  0  0  0  0\n2     0  0  1  0  1  0  0  0  0  0  0  0  0  0  0  0  0\n3     0  0  1  0  1  0  0  0  0  0  0  0  0  0  0  0  0\n4     0  0  0  0  0  0  0  1  0  0  0  0  0  0  0  0  0\n...  .. .. .. .. .. .. .. .. .. .. .. .. .. .. .. .. ..\n7110  1  1  1  0  0  0  0  0  0  0  0  0  0  0  0  0  0\n7111  0  0  0  1  0  0  0  0  0  1  0  0  0  0  0  0  0\n7112  0  0  0  1  0  0  0  0  0  1  0  0  0  0  0  0  0\n7113  0  0  0  1  0  0  0  0  0  1  0  0  0  0  0  0  0\n7114  0  0  0  0  0  0  0  0  0  1  0  0  0  0  1  0  0\n\n[7115 rows x 17 columns]",
      "text/html": "<div>\n<style scoped>\n    .dataframe tbody tr th:only-of-type {\n        vertical-align: middle;\n    }\n\n    .dataframe tbody tr th {\n        vertical-align: top;\n    }\n\n    .dataframe thead th {\n        text-align: right;\n    }\n</style>\n<table border=\"1\" class=\"dataframe\">\n  <thead>\n    <tr style=\"text-align: right;\">\n      <th></th>\n      <th>C</th>\n      <th>D</th>\n      <th>E</th>\n      <th>F</th>\n      <th>G</th>\n      <th>H</th>\n      <th>I</th>\n      <th>J</th>\n      <th>K</th>\n      <th>L</th>\n      <th>M</th>\n      <th>N</th>\n      <th>O</th>\n      <th>P</th>\n      <th>Q</th>\n      <th>R</th>\n      <th>Z</th>\n    </tr>\n  </thead>\n  <tbody>\n    <tr>\n      <th>0</th>\n      <td>0</td>\n      <td>1</td>\n      <td>1</td>\n      <td>0</td>\n      <td>1</td>\n      <td>0</td>\n      <td>0</td>\n      <td>0</td>\n      <td>0</td>\n      <td>0</td>\n      <td>0</td>\n      <td>0</td>\n      <td>1</td>\n      <td>0</td>\n      <td>0</td>\n      <td>0</td>\n      <td>0</td>\n    </tr>\n    <tr>\n      <th>1</th>\n      <td>0</td>\n      <td>1</td>\n      <td>1</td>\n      <td>0</td>\n      <td>1</td>\n      <td>0</td>\n      <td>0</td>\n      <td>0</td>\n      <td>0</td>\n      <td>0</td>\n      <td>0</td>\n      <td>0</td>\n      <td>1</td>\n      <td>0</td>\n      <td>0</td>\n      <td>0</td>\n      <td>0</td>\n    </tr>\n    <tr>\n      <th>2</th>\n      <td>0</td>\n      <td>0</td>\n      <td>1</td>\n      <td>0</td>\n      <td>1</td>\n      <td>0</td>\n      <td>0</td>\n      <td>0</td>\n      <td>0</td>\n      <td>0</td>\n      <td>0</td>\n      <td>0</td>\n      <td>0</td>\n      <td>0</td>\n      <td>0</td>\n      <td>0</td>\n      <td>0</td>\n    </tr>\n    <tr>\n      <th>3</th>\n      <td>0</td>\n      <td>0</td>\n      <td>1</td>\n      <td>0</td>\n      <td>1</td>\n      <td>0</td>\n      <td>0</td>\n      <td>0</td>\n      <td>0</td>\n      <td>0</td>\n      <td>0</td>\n      <td>0</td>\n      <td>0</td>\n      <td>0</td>\n      <td>0</td>\n      <td>0</td>\n      <td>0</td>\n    </tr>\n    <tr>\n      <th>4</th>\n      <td>0</td>\n      <td>0</td>\n      <td>0</td>\n      <td>0</td>\n      <td>0</td>\n      <td>0</td>\n      <td>0</td>\n      <td>1</td>\n      <td>0</td>\n      <td>0</td>\n      <td>0</td>\n      <td>0</td>\n      <td>0</td>\n      <td>0</td>\n      <td>0</td>\n      <td>0</td>\n      <td>0</td>\n    </tr>\n    <tr>\n      <th>...</th>\n      <td>...</td>\n      <td>...</td>\n      <td>...</td>\n      <td>...</td>\n      <td>...</td>\n      <td>...</td>\n      <td>...</td>\n      <td>...</td>\n      <td>...</td>\n      <td>...</td>\n      <td>...</td>\n      <td>...</td>\n      <td>...</td>\n      <td>...</td>\n      <td>...</td>\n      <td>...</td>\n      <td>...</td>\n    </tr>\n    <tr>\n      <th>7110</th>\n      <td>1</td>\n      <td>1</td>\n      <td>1</td>\n      <td>0</td>\n      <td>0</td>\n      <td>0</td>\n      <td>0</td>\n      <td>0</td>\n      <td>0</td>\n      <td>0</td>\n      <td>0</td>\n      <td>0</td>\n      <td>0</td>\n      <td>0</td>\n      <td>0</td>\n      <td>0</td>\n      <td>0</td>\n    </tr>\n    <tr>\n      <th>7111</th>\n      <td>0</td>\n      <td>0</td>\n      <td>0</td>\n      <td>1</td>\n      <td>0</td>\n      <td>0</td>\n      <td>0</td>\n      <td>0</td>\n      <td>0</td>\n      <td>1</td>\n      <td>0</td>\n      <td>0</td>\n      <td>0</td>\n      <td>0</td>\n      <td>0</td>\n      <td>0</td>\n      <td>0</td>\n    </tr>\n    <tr>\n      <th>7112</th>\n      <td>0</td>\n      <td>0</td>\n      <td>0</td>\n      <td>1</td>\n      <td>0</td>\n      <td>0</td>\n      <td>0</td>\n      <td>0</td>\n      <td>0</td>\n      <td>1</td>\n      <td>0</td>\n      <td>0</td>\n      <td>0</td>\n      <td>0</td>\n      <td>0</td>\n      <td>0</td>\n      <td>0</td>\n    </tr>\n    <tr>\n      <th>7113</th>\n      <td>0</td>\n      <td>0</td>\n      <td>0</td>\n      <td>1</td>\n      <td>0</td>\n      <td>0</td>\n      <td>0</td>\n      <td>0</td>\n      <td>0</td>\n      <td>1</td>\n      <td>0</td>\n      <td>0</td>\n      <td>0</td>\n      <td>0</td>\n      <td>0</td>\n      <td>0</td>\n      <td>0</td>\n    </tr>\n    <tr>\n      <th>7114</th>\n      <td>0</td>\n      <td>0</td>\n      <td>0</td>\n      <td>0</td>\n      <td>0</td>\n      <td>0</td>\n      <td>0</td>\n      <td>0</td>\n      <td>0</td>\n      <td>1</td>\n      <td>0</td>\n      <td>0</td>\n      <td>0</td>\n      <td>0</td>\n      <td>1</td>\n      <td>0</td>\n      <td>0</td>\n    </tr>\n  </tbody>\n</table>\n<p>7115 rows × 17 columns</p>\n</div>"
     },
     "execution_count": 7,
     "metadata": {},
     "output_type": "execute_result"
    }
   ],
   "metadata": {}
  },
  {
   "cell_type": "code",
   "execution_count": 8,
   "source": [
    "# grouping author by title of paper\n",
    "papers_grouped = authors.groupby(\"title\").agg({\"idauthor\": lambda authors: list(authors)})\n",
    "papers_grouped['title'] = papers_grouped.index\n",
    "papers_grouped.index = range(len(papers_grouped))\n",
    "papers_grouped\n"
   ],
   "outputs": [
    {
     "data": {
      "text/plain": "                      idauthor  \\\n0     [p01714, p02726, p03637]   \n1     [p00226, p03171, p05209]   \n2     [p00198, p02336, p02575]   \n3             [p05429, p05611]   \n4             [p01353, p04127]   \n...                        ...   \n3085                  [p00122]   \n3086  [p00381, p04476, p05132]   \n3087                  [p04412]   \n3088          [p04020, p05368]   \n3089  [p00198, p01842, p04614]   \n\n                                                  title  \n0     $1,000 cash back: the pass-through of auto man...  \n1     'acting wife': marriage market incentives and ...  \n2     (mis)allocation, market power, and global oil ...  \n3           a bayesian approach to uncertainty aversion  \n4     a bias–reduced log–periodogram regression esti...  \n...                                                 ...  \n3085  yours, mine, and ours: do divorce laws affect ...  \n3086  zombie lending and depressed restructuring in ...  \n3087  “data monkeys”: a procedural model of extrapol...  \n3088  “high” achievers? cannabis access and academic...  \n3089  “nash-in-nash” bargaining: a microfoundation f...  \n\n[3090 rows x 2 columns]",
      "text/html": "<div>\n<style scoped>\n    .dataframe tbody tr th:only-of-type {\n        vertical-align: middle;\n    }\n\n    .dataframe tbody tr th {\n        vertical-align: top;\n    }\n\n    .dataframe thead th {\n        text-align: right;\n    }\n</style>\n<table border=\"1\" class=\"dataframe\">\n  <thead>\n    <tr style=\"text-align: right;\">\n      <th></th>\n      <th>idauthor</th>\n      <th>title</th>\n    </tr>\n  </thead>\n  <tbody>\n    <tr>\n      <th>0</th>\n      <td>[p01714, p02726, p03637]</td>\n      <td>$1,000 cash back: the pass-through of auto man...</td>\n    </tr>\n    <tr>\n      <th>1</th>\n      <td>[p00226, p03171, p05209]</td>\n      <td>'acting wife': marriage market incentives and ...</td>\n    </tr>\n    <tr>\n      <th>2</th>\n      <td>[p00198, p02336, p02575]</td>\n      <td>(mis)allocation, market power, and global oil ...</td>\n    </tr>\n    <tr>\n      <th>3</th>\n      <td>[p05429, p05611]</td>\n      <td>a bayesian approach to uncertainty aversion</td>\n    </tr>\n    <tr>\n      <th>4</th>\n      <td>[p01353, p04127]</td>\n      <td>a bias–reduced log–periodogram regression esti...</td>\n    </tr>\n    <tr>\n      <th>...</th>\n      <td>...</td>\n      <td>...</td>\n    </tr>\n    <tr>\n      <th>3085</th>\n      <td>[p00122]</td>\n      <td>yours, mine, and ours: do divorce laws affect ...</td>\n    </tr>\n    <tr>\n      <th>3086</th>\n      <td>[p00381, p04476, p05132]</td>\n      <td>zombie lending and depressed restructuring in ...</td>\n    </tr>\n    <tr>\n      <th>3087</th>\n      <td>[p04412]</td>\n      <td>“data monkeys”: a procedural model of extrapol...</td>\n    </tr>\n    <tr>\n      <th>3088</th>\n      <td>[p04020, p05368]</td>\n      <td>“high” achievers? cannabis access and academic...</td>\n    </tr>\n    <tr>\n      <th>3089</th>\n      <td>[p00198, p01842, p04614]</td>\n      <td>“nash-in-nash” bargaining: a microfoundation f...</td>\n    </tr>\n  </tbody>\n</table>\n<p>3090 rows × 2 columns</p>\n</div>"
     },
     "execution_count": 8,
     "metadata": {},
     "output_type": "execute_result"
    }
   ],
   "metadata": {}
  },
  {
   "cell_type": "code",
   "execution_count": 9,
   "source": [
    "for i, row in papers_grouped.iterrows():\n",
    "    for author in row.idauthor:\n",
    "        authors_dict[author]['hasConnection'].extend(set(row.idauthor).difference({author}))"
   ],
   "outputs": [],
   "metadata": {}
  },
  {
   "cell_type": "code",
   "execution_count": 10,
   "source": [
    "for author in authors_dict:\n",
    "    authors_dict[author]['hasConnection'] = list(set(authors_dict[author]['hasConnection']))"
   ],
   "outputs": [],
   "metadata": {}
  },
  {
   "cell_type": "code",
   "execution_count": 11,
   "source": [
    "# example with author \"p00062\"\n",
    "authors_dict[authors_dict[\"p00062\"][\"hasConnection\"][0]]"
   ],
   "outputs": [
    {
     "data": {
      "text/plain": "{'tags': ['C', 'J', 'D'], 'hasConnection': ['p00062', 'p00141']}"
     },
     "execution_count": 11,
     "metadata": {},
     "output_type": "execute_result"
    }
   ],
   "metadata": {
    "pycharm": {
     "name": "#%%\n"
    }
   }
  },
  {
   "cell_type": "code",
   "execution_count": 12,
   "source": [
    "# found all JELcodes from coauthors\n",
    "for author in authors_dict:\n",
    "    new_tags = []\n",
    "    for connected_author in authors_dict[author]['hasConnection']:\n",
    "        new_tags.extend(authors_dict[connected_author][\"tags\"])\n",
    "    new_tags = list(set(new_tags))\n",
    "    authors_dict[author][\"level1_tags\"] = new_tags\n",
    "    authors_dict[author][\"level1_tags\"].extend(authors_dict[author]['tags'])\n",
    "    authors_dict[author][\"level1_tags\"] = list(set(authors_dict[author][\"level1_tags\"]))"
   ],
   "outputs": [],
   "metadata": {}
  },
  {
   "cell_type": "code",
   "execution_count": 13,
   "source": [
    "# example with author p00062\n",
    "authors_dict[authors_dict[\"p00062\"][\"hasConnection\"][0]]"
   ],
   "outputs": [
    {
     "data": {
      "text/plain": "{'tags': ['C', 'J', 'D'],\n 'hasConnection': ['p00062', 'p00141'],\n 'level1_tags': ['C', 'D', 'J', 'G']}"
     },
     "execution_count": 13,
     "metadata": {},
     "output_type": "execute_result"
    }
   ],
   "metadata": {}
  },
  {
   "cell_type": "code",
   "execution_count": 14,
   "source": [
    "# length of JELcodes by author\n",
    "import matplotlib.pyplot as plt\n",
    "\n",
    "n_tags = []\n",
    "for author in authors_dict:\n",
    "    n_tags.append(len(authors_dict[author][\"level1_tags\"]))\n",
    "\n",
    "_ = plt.hist(n_tags)\n"
   ],
   "outputs": [
    {
     "data": {
      "text/plain": "<Figure size 432x288 with 1 Axes>",
      "image/png": "[encoded data removed]"
     },
     "metadata": {
      "needs_background": "light"
     },
     "output_type": "display_data"
    }
   ],
   "metadata": {}
  },
  {
   "cell_type": "code",
   "execution_count": 15,
   "source": [
    "# converting tags in one-hot encoding\n",
    "for author in authors_dict:\n",
    "    authors_dict[author][\"coded_tags\"] = np.sum(multilabel.transform(authors_dict[author][\"level1_tags\"]), axis=0)"
   ],
   "outputs": [],
   "metadata": {}
  },
  {
   "cell_type": "code",
   "execution_count": 16,
   "source": [
    "# example with author p00062\n",
    "authors_dict[authors_dict[\"p00062\"][\"hasConnection\"][0]]"
   ],
   "outputs": [
    {
     "data": {
      "text/plain": "{'tags': ['C', 'J', 'D'],\n 'hasConnection': ['p00062', 'p00141'],\n 'level1_tags': ['C', 'D', 'J', 'G'],\n 'coded_tags': array([1, 1, 0, 0, 1, 0, 0, 1, 0, 0, 0, 0, 0, 0, 0, 0, 0])}"
     },
     "execution_count": 16,
     "metadata": {},
     "output_type": "execute_result"
    }
   ],
   "metadata": {}
  },
  {
   "cell_type": "code",
   "execution_count": 17,
   "source": [
    "# creating a author dataframe with connections (graphframe)\n",
    "authors_graphframe = pd.DataFrame(authors_dict)\n",
    "authors_graphframe = authors_graphframe.T\n",
    "authors_graphframe['idauthor'] = authors_graphframe.index\n",
    "authors_graphframe.to_csv('../data/couathor_graphframe_v02.csv', index=False)\n",
    "authors_graphframe.head()"
   ],
   "outputs": [
    {
     "data": {
      "text/plain": "                tags             hasConnection                  level1_tags  \\\np00001     [O, H, I]  [p00075, p02522, p02923]        [O, J, M, H, I, C, D]   \np00003           [H]                  [p04319]                          [H]   \np00004     [F, O, E]  [p01781, p03521, p04645]  [O, J, F, R, G, E, C, N, D]   \np00006  [F, O, G, P]                  [p00511]                 [F, O, G, P]   \np00008     [O, J, I]          [p00110, p02923]           [O, J, M, H, I, C]   \n\n                                               coded_tags idauthor  \np00001  [1, 1, 0, 0, 0, 1, 1, 1, 0, 0, 1, 0, 1, 0, 0, ...   p00001  \np00003  [0, 0, 0, 0, 0, 1, 0, 0, 0, 0, 0, 0, 0, 0, 0, ...   p00003  \np00004  [1, 1, 1, 1, 1, 0, 0, 1, 0, 0, 0, 1, 1, 0, 0, ...   p00004  \np00006  [0, 0, 0, 1, 1, 0, 0, 0, 0, 0, 0, 0, 1, 1, 0, ...   p00006  \np00008  [1, 0, 0, 0, 0, 1, 1, 1, 0, 0, 1, 0, 1, 0, 0, ...   p00008  ",
      "text/html": "<div>\n<style scoped>\n    .dataframe tbody tr th:only-of-type {\n        vertical-align: middle;\n    }\n\n    .dataframe tbody tr th {\n        vertical-align: top;\n    }\n\n    .dataframe thead th {\n        text-align: right;\n    }\n</style>\n<table border=\"1\" class=\"dataframe\">\n  <thead>\n    <tr style=\"text-align: right;\">\n      <th></th>\n      <th>tags</th>\n      <th>hasConnection</th>\n      <th>level1_tags</th>\n      <th>coded_tags</th>\n      <th>idauthor</th>\n    </tr>\n  </thead>\n  <tbody>\n    <tr>\n      <th>p00001</th>\n      <td>[O, H, I]</td>\n      <td>[p00075, p02522, p02923]</td>\n      <td>[O, J, M, H, I, C, D]</td>\n      <td>[1, 1, 0, 0, 0, 1, 1, 1, 0, 0, 1, 0, 1, 0, 0, ...</td>\n      <td>p00001</td>\n    </tr>\n    <tr>\n      <th>p00003</th>\n      <td>[H]</td>\n      <td>[p04319]</td>\n      <td>[H]</td>\n      <td>[0, 0, 0, 0, 0, 1, 0, 0, 0, 0, 0, 0, 0, 0, 0, ...</td>\n      <td>p00003</td>\n    </tr>\n    <tr>\n      <th>p00004</th>\n      <td>[F, O, E]</td>\n      <td>[p01781, p03521, p04645]</td>\n      <td>[O, J, F, R, G, E, C, N, D]</td>\n      <td>[1, 1, 1, 1, 1, 0, 0, 1, 0, 0, 0, 1, 1, 0, 0, ...</td>\n      <td>p00004</td>\n    </tr>\n    <tr>\n      <th>p00006</th>\n      <td>[F, O, G, P]</td>\n      <td>[p00511]</td>\n      <td>[F, O, G, P]</td>\n      <td>[0, 0, 0, 1, 1, 0, 0, 0, 0, 0, 0, 0, 1, 1, 0, ...</td>\n      <td>p00006</td>\n    </tr>\n    <tr>\n      <th>p00008</th>\n      <td>[O, J, I]</td>\n      <td>[p00110, p02923]</td>\n      <td>[O, J, M, H, I, C]</td>\n      <td>[1, 0, 0, 0, 0, 1, 1, 1, 0, 0, 1, 0, 1, 0, 0, ...</td>\n      <td>p00008</td>\n    </tr>\n  </tbody>\n</table>\n</div>"
     },
     "execution_count": 17,
     "metadata": {},
     "output_type": "execute_result"
    }
   ],
   "metadata": {}
  },
  {
   "cell_type": "markdown",
   "source": [
    "### Machine Learning + Network Co-authorship"
   ],
   "metadata": {
    "collapsed": false,
    "pycharm": {
     "name": "#%% md\n"
    }
   }
  },
  {
   "cell_type": "code",
   "execution_count": 18,
   "source": [
    "# load data\n",
    "df = pd.read_csv(\"../data/traning_data_cleaned_v03.csv\")"
   ],
   "outputs": [],
   "metadata": {
    "collapsed": false,
    "pycharm": {
     "name": "#%%\n"
    }
   }
  },
  {
   "cell_type": "code",
   "execution_count": 19,
   "source": [
    "#df.author = df.author.apply(lambda author: author.replace(\" \",\"\"))\n",
    "#df = df[[\"title_x\", \"abstract\", \"tags\", \"idauthor\"]]\n",
    "df['tags'] = df['tags'].apply(lambda x: ast.literal_eval(x))\n",
    "\n",
    "df['keep'] = df.tags.apply(lambda tags: 'Y' not in tags)\n",
    "df = df[df.keep == True]\n",
    "df['keep'] = df.tags.apply(lambda tags: 'A' not in tags)\n",
    "df = df[df.keep == True]\n",
    "df['keep'] = df.tags.apply(lambda tags: 'B' not in tags)\n",
    "df = df[df.keep == True]\n",
    "df.head()"
   ],
   "outputs": [
    {
     "data": {
      "text/plain": "                                             title_x  \\\n0     optimal adoption of complementary technologies   \n1  collateral damage: effects of the japanese ban...   \n2  endogenous inequality in integrated labor mark...   \n3  labor-market integration, investment in risky ...   \n4  unequal societies: income distribution and the...   \n\n                                            abstract          tags  \\\n0  When a production process requires two extreme...  [O, D, G, E]   \n1  The Japanese banking crisis provides a natural...        [G, E]   \n2  We consider a market with red and green worker...           [J]   \n3  This paper presents a general-equilibrium mode...        [J, R]   \n4  This paper develops a theory of inequality and...  [P, E, I, D]   \n\n                         idauthor  \\\n0            ['p00681', 'p01338']   \n1            ['p01546', 'p02544']   \n2  ['p00544', 'p01874', 'p03092']   \n3                      ['p01266']   \n4                      ['p04639']   \n\n                                            all_text  \\\n0  optimal adoption of complementary technologies...   \n1  collateral damage: effects of the japanese ban...   \n2  endogenous inequality in integrated labor mark...   \n3  labor-market integration, investment in risky ...   \n4  unequal societies: income distribution and the...   \n\n                                    cleaned_abstract  \\\n0  production process require two extremely compl...   \n1  japanese bank crisis provide natural experimen...   \n2  consider market red green workers  label payof...   \n3  present general-equilibrium human capital inve...   \n4  develop theory inequality social contract aim ...   \n\n                                    cleaned_all_text  keep  \n0  optimal adoption complementary technologies pr...  True  \n1  collateral damage  effect japanese bank crisis...  True  \n2  endogenous inequality integrate labor market t...  True  \n3  labor-market integration  investment risky hum...  True  \n4  unequal societies  income distribution social ...  True  ",
      "text/html": "<div>\n<style scoped>\n    .dataframe tbody tr th:only-of-type {\n        vertical-align: middle;\n    }\n\n    .dataframe tbody tr th {\n        vertical-align: top;\n    }\n\n    .dataframe thead th {\n        text-align: right;\n    }\n</style>\n<table border=\"1\" class=\"dataframe\">\n  <thead>\n    <tr style=\"text-align: right;\">\n      <th></th>\n      <th>title_x</th>\n      <th>abstract</th>\n      <th>tags</th>\n      <th>idauthor</th>\n      <th>all_text</th>\n      <th>cleaned_abstract</th>\n      <th>cleaned_all_text</th>\n      <th>keep</th>\n    </tr>\n  </thead>\n  <tbody>\n    <tr>\n      <th>0</th>\n      <td>optimal adoption of complementary technologies</td>\n      <td>When a production process requires two extreme...</td>\n      <td>[O, D, G, E]</td>\n      <td>['p00681', 'p01338']</td>\n      <td>optimal adoption of complementary technologies...</td>\n      <td>production process require two extremely compl...</td>\n      <td>optimal adoption complementary technologies pr...</td>\n      <td>True</td>\n    </tr>\n    <tr>\n      <th>1</th>\n      <td>collateral damage: effects of the japanese ban...</td>\n      <td>The Japanese banking crisis provides a natural...</td>\n      <td>[G, E]</td>\n      <td>['p01546', 'p02544']</td>\n      <td>collateral damage: effects of the japanese ban...</td>\n      <td>japanese bank crisis provide natural experimen...</td>\n      <td>collateral damage  effect japanese bank crisis...</td>\n      <td>True</td>\n    </tr>\n    <tr>\n      <th>2</th>\n      <td>endogenous inequality in integrated labor mark...</td>\n      <td>We consider a market with red and green worker...</td>\n      <td>[J]</td>\n      <td>['p00544', 'p01874', 'p03092']</td>\n      <td>endogenous inequality in integrated labor mark...</td>\n      <td>consider market red green workers  label payof...</td>\n      <td>endogenous inequality integrate labor market t...</td>\n      <td>True</td>\n    </tr>\n    <tr>\n      <th>3</th>\n      <td>labor-market integration, investment in risky ...</td>\n      <td>This paper presents a general-equilibrium mode...</td>\n      <td>[J, R]</td>\n      <td>['p01266']</td>\n      <td>labor-market integration, investment in risky ...</td>\n      <td>present general-equilibrium human capital inve...</td>\n      <td>labor-market integration  investment risky hum...</td>\n      <td>True</td>\n    </tr>\n    <tr>\n      <th>4</th>\n      <td>unequal societies: income distribution and the...</td>\n      <td>This paper develops a theory of inequality and...</td>\n      <td>[P, E, I, D]</td>\n      <td>['p04639']</td>\n      <td>unequal societies: income distribution and the...</td>\n      <td>develop theory inequality social contract aim ...</td>\n      <td>unequal societies  income distribution social ...</td>\n      <td>True</td>\n    </tr>\n  </tbody>\n</table>\n</div>"
     },
     "execution_count": 19,
     "metadata": {},
     "output_type": "execute_result"
    }
   ],
   "metadata": {}
  },
  {
   "cell_type": "code",
   "execution_count": 20,
   "source": [
    "df['idauthor'] = df['idauthor'].apply(lambda authors: ast.literal_eval(authors)[0])\n",
    "df.head()"
   ],
   "outputs": [
    {
     "data": {
      "text/plain": "                                             title_x  \\\n0     optimal adoption of complementary technologies   \n1  collateral damage: effects of the japanese ban...   \n2  endogenous inequality in integrated labor mark...   \n3  labor-market integration, investment in risky ...   \n4  unequal societies: income distribution and the...   \n\n                                            abstract          tags idauthor  \\\n0  When a production process requires two extreme...  [O, D, G, E]   p00681   \n1  The Japanese banking crisis provides a natural...        [G, E]   p01546   \n2  We consider a market with red and green worker...           [J]   p00544   \n3  This paper presents a general-equilibrium mode...        [J, R]   p01266   \n4  This paper develops a theory of inequality and...  [P, E, I, D]   p04639   \n\n                                            all_text  \\\n0  optimal adoption of complementary technologies...   \n1  collateral damage: effects of the japanese ban...   \n2  endogenous inequality in integrated labor mark...   \n3  labor-market integration, investment in risky ...   \n4  unequal societies: income distribution and the...   \n\n                                    cleaned_abstract  \\\n0  production process require two extremely compl...   \n1  japanese bank crisis provide natural experimen...   \n2  consider market red green workers  label payof...   \n3  present general-equilibrium human capital inve...   \n4  develop theory inequality social contract aim ...   \n\n                                    cleaned_all_text  keep  \n0  optimal adoption complementary technologies pr...  True  \n1  collateral damage  effect japanese bank crisis...  True  \n2  endogenous inequality integrate labor market t...  True  \n3  labor-market integration  investment risky hum...  True  \n4  unequal societies  income distribution social ...  True  ",
      "text/html": "<div>\n<style scoped>\n    .dataframe tbody tr th:only-of-type {\n        vertical-align: middle;\n    }\n\n    .dataframe tbody tr th {\n        vertical-align: top;\n    }\n\n    .dataframe thead th {\n        text-align: right;\n    }\n</style>\n<table border=\"1\" class=\"dataframe\">\n  <thead>\n    <tr style=\"text-align: right;\">\n      <th></th>\n      <th>title_x</th>\n      <th>abstract</th>\n      <th>tags</th>\n      <th>idauthor</th>\n      <th>all_text</th>\n      <th>cleaned_abstract</th>\n      <th>cleaned_all_text</th>\n      <th>keep</th>\n    </tr>\n  </thead>\n  <tbody>\n    <tr>\n      <th>0</th>\n      <td>optimal adoption of complementary technologies</td>\n      <td>When a production process requires two extreme...</td>\n      <td>[O, D, G, E]</td>\n      <td>p00681</td>\n      <td>optimal adoption of complementary technologies...</td>\n      <td>production process require two extremely compl...</td>\n      <td>optimal adoption complementary technologies pr...</td>\n      <td>True</td>\n    </tr>\n    <tr>\n      <th>1</th>\n      <td>collateral damage: effects of the japanese ban...</td>\n      <td>The Japanese banking crisis provides a natural...</td>\n      <td>[G, E]</td>\n      <td>p01546</td>\n      <td>collateral damage: effects of the japanese ban...</td>\n      <td>japanese bank crisis provide natural experimen...</td>\n      <td>collateral damage  effect japanese bank crisis...</td>\n      <td>True</td>\n    </tr>\n    <tr>\n      <th>2</th>\n      <td>endogenous inequality in integrated labor mark...</td>\n      <td>We consider a market with red and green worker...</td>\n      <td>[J]</td>\n      <td>p00544</td>\n      <td>endogenous inequality in integrated labor mark...</td>\n      <td>consider market red green workers  label payof...</td>\n      <td>endogenous inequality integrate labor market t...</td>\n      <td>True</td>\n    </tr>\n    <tr>\n      <th>3</th>\n      <td>labor-market integration, investment in risky ...</td>\n      <td>This paper presents a general-equilibrium mode...</td>\n      <td>[J, R]</td>\n      <td>p01266</td>\n      <td>labor-market integration, investment in risky ...</td>\n      <td>present general-equilibrium human capital inve...</td>\n      <td>labor-market integration  investment risky hum...</td>\n      <td>True</td>\n    </tr>\n    <tr>\n      <th>4</th>\n      <td>unequal societies: income distribution and the...</td>\n      <td>This paper develops a theory of inequality and...</td>\n      <td>[P, E, I, D]</td>\n      <td>p04639</td>\n      <td>unequal societies: income distribution and the...</td>\n      <td>develop theory inequality social contract aim ...</td>\n      <td>unequal societies  income distribution social ...</td>\n      <td>True</td>\n    </tr>\n  </tbody>\n</table>\n</div>"
     },
     "execution_count": 20,
     "metadata": {},
     "output_type": "execute_result"
    }
   ],
   "metadata": {}
  },
  {
   "cell_type": "code",
   "execution_count": 21,
   "source": [
    "df_merged = df.merge(authors_graphframe, on='idauthor')\n",
    "df_merged.tail()"
   ],
   "outputs": [
    {
     "data": {
      "text/plain": "                                                title_x  \\\n3087  the effect of product misperception on economi...   \n3088   house price beliefs and mortgage leverage choice   \n3089  the impact of consumer credit access on unempl...   \n3090                                   extended gravity   \n3091  deforestation in the amazon: a unified framewo...   \n\n                                               abstract        tags_x  \\\n3087  Panel and experimental data are used to analys...        [G, D]   \n3088  We study the relationship between homebuyers' ...  [D, R, G, E]   \n3089  Unemployed households' access to unsecured rev...     [J, G, E]   \n3090  Exporting firms often enter foreign markets th...        [L, F]   \n3091  Deforestation is a matter of pressing global c...        [L, Q]   \n\n     idauthor                                           all_text  \\\n3087   p02730  the effect of product misperception on economi...   \n3088   p01403  house price beliefs and mortgage leverage choi...   \n3089   p03070  the impact of consumer credit access on unempl...   \n3090   p00323  extended gravity Exporting firms often enter f...   \n3091   p01410  deforestation in the amazon: a unified framewo...   \n\n                                       cleaned_abstract  \\\n3087  panel experimental data use analyse economic o...   \n3088  study relationship homebuyers  beliefs future ...   \n3089  unemployed households  access unsecured revolv...   \n3090  export firm often enter foreign market similar...   \n3091  deforestation matter press global concern  yet...   \n\n                                       cleaned_all_text  keep        tags_y  \\\n3087  effect product misperception economic outcomes...  True        [D, G]   \n3088  house price beliefs mortgage leverage choice s...  True  [R, G, E, D]   \n3089  impact consumer credit access unemployment une...  True     [E, J, G]   \n3090  extend gravity export firm often enter foreign...  True        [F, L]   \n3091  deforestation amazon  unify framework estimati...  True        [Q, L]   \n\n                         hasConnection               level1_tags  \\\n3087                          [p05649]                    [G, D]   \n3088  [p02570, p03664, p05182, p00426]           [R, G, E, L, D]   \n3089                                []                 [E, G, J]   \n3090                  [p01408, p01944]  [J, R, F, E, H, C, L, D]   \n3091                                []                    [Q, L]   \n\n                                             coded_tags  \n3087  [0, 1, 0, 0, 1, 0, 0, 0, 0, 0, 0, 0, 0, 0, 0, ...  \n3088  [0, 1, 1, 0, 1, 0, 0, 0, 0, 1, 0, 0, 0, 0, 0, ...  \n3089  [0, 0, 1, 0, 1, 0, 0, 1, 0, 0, 0, 0, 0, 0, 0, ...  \n3090  [1, 1, 1, 1, 0, 1, 0, 1, 0, 1, 0, 0, 0, 0, 0, ...  \n3091  [0, 0, 0, 0, 0, 0, 0, 0, 0, 1, 0, 0, 0, 0, 1, ...  ",
      "text/html": "<div>\n<style scoped>\n    .dataframe tbody tr th:only-of-type {\n        vertical-align: middle;\n    }\n\n    .dataframe tbody tr th {\n        vertical-align: top;\n    }\n\n    .dataframe thead th {\n        text-align: right;\n    }\n</style>\n<table border=\"1\" class=\"dataframe\">\n  <thead>\n    <tr style=\"text-align: right;\">\n      <th></th>\n      <th>title_x</th>\n      <th>abstract</th>\n      <th>tags_x</th>\n      <th>idauthor</th>\n      <th>all_text</th>\n      <th>cleaned_abstract</th>\n      <th>cleaned_all_text</th>\n      <th>keep</th>\n      <th>tags_y</th>\n      <th>hasConnection</th>\n      <th>level1_tags</th>\n      <th>coded_tags</th>\n    </tr>\n  </thead>\n  <tbody>\n    <tr>\n      <th>3087</th>\n      <td>the effect of product misperception on economi...</td>\n      <td>Panel and experimental data are used to analys...</td>\n      <td>[G, D]</td>\n      <td>p02730</td>\n      <td>the effect of product misperception on economi...</td>\n      <td>panel experimental data use analyse economic o...</td>\n      <td>effect product misperception economic outcomes...</td>\n      <td>True</td>\n      <td>[D, G]</td>\n      <td>[p05649]</td>\n      <td>[G, D]</td>\n      <td>[0, 1, 0, 0, 1, 0, 0, 0, 0, 0, 0, 0, 0, 0, 0, ...</td>\n    </tr>\n    <tr>\n      <th>3088</th>\n      <td>house price beliefs and mortgage leverage choice</td>\n      <td>We study the relationship between homebuyers' ...</td>\n      <td>[D, R, G, E]</td>\n      <td>p01403</td>\n      <td>house price beliefs and mortgage leverage choi...</td>\n      <td>study relationship homebuyers  beliefs future ...</td>\n      <td>house price beliefs mortgage leverage choice s...</td>\n      <td>True</td>\n      <td>[R, G, E, D]</td>\n      <td>[p02570, p03664, p05182, p00426]</td>\n      <td>[R, G, E, L, D]</td>\n      <td>[0, 1, 1, 0, 1, 0, 0, 0, 0, 1, 0, 0, 0, 0, 0, ...</td>\n    </tr>\n    <tr>\n      <th>3089</th>\n      <td>the impact of consumer credit access on unempl...</td>\n      <td>Unemployed households' access to unsecured rev...</td>\n      <td>[J, G, E]</td>\n      <td>p03070</td>\n      <td>the impact of consumer credit access on unempl...</td>\n      <td>unemployed households  access unsecured revolv...</td>\n      <td>impact consumer credit access unemployment une...</td>\n      <td>True</td>\n      <td>[E, J, G]</td>\n      <td>[]</td>\n      <td>[E, G, J]</td>\n      <td>[0, 0, 1, 0, 1, 0, 0, 1, 0, 0, 0, 0, 0, 0, 0, ...</td>\n    </tr>\n    <tr>\n      <th>3090</th>\n      <td>extended gravity</td>\n      <td>Exporting firms often enter foreign markets th...</td>\n      <td>[L, F]</td>\n      <td>p00323</td>\n      <td>extended gravity Exporting firms often enter f...</td>\n      <td>export firm often enter foreign market similar...</td>\n      <td>extend gravity export firm often enter foreign...</td>\n      <td>True</td>\n      <td>[F, L]</td>\n      <td>[p01408, p01944]</td>\n      <td>[J, R, F, E, H, C, L, D]</td>\n      <td>[1, 1, 1, 1, 0, 1, 0, 1, 0, 1, 0, 0, 0, 0, 0, ...</td>\n    </tr>\n    <tr>\n      <th>3091</th>\n      <td>deforestation in the amazon: a unified framewo...</td>\n      <td>Deforestation is a matter of pressing global c...</td>\n      <td>[L, Q]</td>\n      <td>p01410</td>\n      <td>deforestation in the amazon: a unified framewo...</td>\n      <td>deforestation matter press global concern  yet...</td>\n      <td>deforestation amazon  unify framework estimati...</td>\n      <td>True</td>\n      <td>[Q, L]</td>\n      <td>[]</td>\n      <td>[Q, L]</td>\n      <td>[0, 0, 0, 0, 0, 0, 0, 0, 0, 1, 0, 0, 0, 0, 1, ...</td>\n    </tr>\n  </tbody>\n</table>\n</div>"
     },
     "execution_count": 21,
     "metadata": {},
     "output_type": "execute_result"
    }
   ],
   "metadata": {}
  },
  {
   "cell_type": "code",
   "execution_count": 22,
   "source": [
    "tfidf_vect_ngram = TfidfVectorizer(analyzer='word', token_pattern=r'\\w{1,}',\n",
    "                                   ngram_range=(1,3), max_features=3000)\n",
    "\n",
    "X_tfidf_ngram = tfidf_vect_ngram.fit_transform(df['cleaned_all_text'])\n",
    "\n",
    "print('X with TfIdf Ngram Vec Shape: ', X_tfidf_ngram.shape)\n"
   ],
   "outputs": [
    {
     "name": "stdout",
     "output_type": "stream",
     "text": [
      "X with TfIdf Ngram Vec Shape:  (3092, 3000)\n"
     ]
    }
   ],
   "metadata": {}
  },
  {
   "cell_type": "code",
   "execution_count": 23,
   "source": [
    "# Auxiliary JEL codes from co-authors\n",
    "aid_tags = df_merged.coded_tags.to_list()\n",
    "aid_tags = np.asarray(aid_tags)\n",
    "aid_tags.shape"
   ],
   "outputs": [
    {
     "data": {
      "text/plain": "(3092, 17)"
     },
     "execution_count": 23,
     "metadata": {},
     "output_type": "execute_result"
    }
   ],
   "metadata": {}
  },
  {
   "cell_type": "code",
   "execution_count": 24,
   "source": [
    "feats = hstack((X_tfidf_ngram, aid_tags))\n",
    "feats.shape"
   ],
   "outputs": [
    {
     "data": {
      "text/plain": "(3092, 3017)"
     },
     "execution_count": 24,
     "metadata": {},
     "output_type": "execute_result"
    }
   ],
   "metadata": {}
  },
  {
   "cell_type": "code",
   "execution_count": 25,
   "source": [
    "# Convert outcome variable to one-hot encoding type\n",
    "multilabel = MultiLabelBinarizer()\n",
    "y = multilabel.fit_transform(df['tags'])\n",
    "pd.DataFrame(y, columns = multilabel.classes_)"
   ],
   "outputs": [
    {
     "data": {
      "text/plain": "      C  D  E  F  G  H  I  J  K  L  M  N  O  P  Q  R  Z\n0     0  1  1  0  1  0  0  0  0  0  0  0  1  0  0  0  0\n1     0  0  1  0  1  0  0  0  0  0  0  0  0  0  0  0  0\n2     0  0  0  0  0  0  0  1  0  0  0  0  0  0  0  0  0\n3     0  0  0  0  0  0  0  1  0  0  0  0  0  0  0  1  0\n4     0  1  1  0  0  0  1  0  0  0  0  0  0  1  0  0  0\n...  .. .. .. .. .. .. .. .. .. .. .. .. .. .. .. .. ..\n3087  1  1  0  0  0  0  0  0  0  0  0  0  0  0  0  0  0\n3088  0  0  1  0  1  0  0  1  0  0  0  0  0  0  0  0  0\n3089  1  1  1  0  0  0  0  0  0  0  0  0  0  0  0  0  0\n3090  0  0  0  1  0  0  0  0  0  1  0  0  0  0  0  0  0\n3091  0  0  0  0  0  0  0  0  0  1  0  0  0  0  1  0  0\n\n[3092 rows x 17 columns]",
      "text/html": "<div>\n<style scoped>\n    .dataframe tbody tr th:only-of-type {\n        vertical-align: middle;\n    }\n\n    .dataframe tbody tr th {\n        vertical-align: top;\n    }\n\n    .dataframe thead th {\n        text-align: right;\n    }\n</style>\n<table border=\"1\" class=\"dataframe\">\n  <thead>\n    <tr style=\"text-align: right;\">\n      <th></th>\n      <th>C</th>\n      <th>D</th>\n      <th>E</th>\n      <th>F</th>\n      <th>G</th>\n      <th>H</th>\n      <th>I</th>\n      <th>J</th>\n      <th>K</th>\n      <th>L</th>\n      <th>M</th>\n      <th>N</th>\n      <th>O</th>\n      <th>P</th>\n      <th>Q</th>\n      <th>R</th>\n      <th>Z</th>\n    </tr>\n  </thead>\n  <tbody>\n    <tr>\n      <th>0</th>\n      <td>0</td>\n      <td>1</td>\n      <td>1</td>\n      <td>0</td>\n      <td>1</td>\n      <td>0</td>\n      <td>0</td>\n      <td>0</td>\n      <td>0</td>\n      <td>0</td>\n      <td>0</td>\n      <td>0</td>\n      <td>1</td>\n      <td>0</td>\n      <td>0</td>\n      <td>0</td>\n      <td>0</td>\n    </tr>\n    <tr>\n      <th>1</th>\n      <td>0</td>\n      <td>0</td>\n      <td>1</td>\n      <td>0</td>\n      <td>1</td>\n      <td>0</td>\n      <td>0</td>\n      <td>0</td>\n      <td>0</td>\n      <td>0</td>\n      <td>0</td>\n      <td>0</td>\n      <td>0</td>\n      <td>0</td>\n      <td>0</td>\n      <td>0</td>\n      <td>0</td>\n    </tr>\n    <tr>\n      <th>2</th>\n      <td>0</td>\n      <td>0</td>\n      <td>0</td>\n      <td>0</td>\n      <td>0</td>\n      <td>0</td>\n      <td>0</td>\n      <td>1</td>\n      <td>0</td>\n      <td>0</td>\n      <td>0</td>\n      <td>0</td>\n      <td>0</td>\n      <td>0</td>\n      <td>0</td>\n      <td>0</td>\n      <td>0</td>\n    </tr>\n    <tr>\n      <th>3</th>\n      <td>0</td>\n      <td>0</td>\n      <td>0</td>\n      <td>0</td>\n      <td>0</td>\n      <td>0</td>\n      <td>0</td>\n      <td>1</td>\n      <td>0</td>\n      <td>0</td>\n      <td>0</td>\n      <td>0</td>\n      <td>0</td>\n      <td>0</td>\n      <td>0</td>\n      <td>1</td>\n      <td>0</td>\n    </tr>\n    <tr>\n      <th>4</th>\n      <td>0</td>\n      <td>1</td>\n      <td>1</td>\n      <td>0</td>\n      <td>0</td>\n      <td>0</td>\n      <td>1</td>\n      <td>0</td>\n      <td>0</td>\n      <td>0</td>\n      <td>0</td>\n      <td>0</td>\n      <td>0</td>\n      <td>1</td>\n      <td>0</td>\n      <td>0</td>\n      <td>0</td>\n    </tr>\n    <tr>\n      <th>...</th>\n      <td>...</td>\n      <td>...</td>\n      <td>...</td>\n      <td>...</td>\n      <td>...</td>\n      <td>...</td>\n      <td>...</td>\n      <td>...</td>\n      <td>...</td>\n      <td>...</td>\n      <td>...</td>\n      <td>...</td>\n      <td>...</td>\n      <td>...</td>\n      <td>...</td>\n      <td>...</td>\n      <td>...</td>\n    </tr>\n    <tr>\n      <th>3087</th>\n      <td>1</td>\n      <td>1</td>\n      <td>0</td>\n      <td>0</td>\n      <td>0</td>\n      <td>0</td>\n      <td>0</td>\n      <td>0</td>\n      <td>0</td>\n      <td>0</td>\n      <td>0</td>\n      <td>0</td>\n      <td>0</td>\n      <td>0</td>\n      <td>0</td>\n      <td>0</td>\n      <td>0</td>\n    </tr>\n    <tr>\n      <th>3088</th>\n      <td>0</td>\n      <td>0</td>\n      <td>1</td>\n      <td>0</td>\n      <td>1</td>\n      <td>0</td>\n      <td>0</td>\n      <td>1</td>\n      <td>0</td>\n      <td>0</td>\n      <td>0</td>\n      <td>0</td>\n      <td>0</td>\n      <td>0</td>\n      <td>0</td>\n      <td>0</td>\n      <td>0</td>\n    </tr>\n    <tr>\n      <th>3089</th>\n      <td>1</td>\n      <td>1</td>\n      <td>1</td>\n      <td>0</td>\n      <td>0</td>\n      <td>0</td>\n      <td>0</td>\n      <td>0</td>\n      <td>0</td>\n      <td>0</td>\n      <td>0</td>\n      <td>0</td>\n      <td>0</td>\n      <td>0</td>\n      <td>0</td>\n      <td>0</td>\n      <td>0</td>\n    </tr>\n    <tr>\n      <th>3090</th>\n      <td>0</td>\n      <td>0</td>\n      <td>0</td>\n      <td>1</td>\n      <td>0</td>\n      <td>0</td>\n      <td>0</td>\n      <td>0</td>\n      <td>0</td>\n      <td>1</td>\n      <td>0</td>\n      <td>0</td>\n      <td>0</td>\n      <td>0</td>\n      <td>0</td>\n      <td>0</td>\n      <td>0</td>\n    </tr>\n    <tr>\n      <th>3091</th>\n      <td>0</td>\n      <td>0</td>\n      <td>0</td>\n      <td>0</td>\n      <td>0</td>\n      <td>0</td>\n      <td>0</td>\n      <td>0</td>\n      <td>0</td>\n      <td>1</td>\n      <td>0</td>\n      <td>0</td>\n      <td>0</td>\n      <td>0</td>\n      <td>1</td>\n      <td>0</td>\n      <td>0</td>\n    </tr>\n  </tbody>\n</table>\n<p>3092 rows × 17 columns</p>\n</div>"
     },
     "execution_count": 25,
     "metadata": {},
     "output_type": "execute_result"
    }
   ],
   "metadata": {}
  },
  {
   "cell_type": "code",
   "execution_count": 26,
   "source": [
    "from sklearn.model_selection import train_test_split\n",
    "\n",
    "X_train, X_test, y_train, y_test = train_test_split(feats, y,\n",
    "                                                    test_size=0.2,\n",
    "                                                    random_state=123)\n",
    "#X_train, X_test = embeddings[train_inds], embeddings[test_inds]\n",
    "#y_aid_train, y_aid_test = aid_tags[train_inds], aid_tags[test_inds]"
   ],
   "outputs": [],
   "metadata": {}
  },
  {
   "cell_type": "code",
   "execution_count": 27,
   "source": [
    "# set models\n",
    "sgd = SGDClassifier(class_weight='balanced')\n",
    "lr = LogisticRegression( class_weight='balanced')\n",
    "svc = LinearSVC(class_weight='balanced')\n",
    "rf = RandomForestClassifier()\n",
    "naive = MultinomialNB()"
   ],
   "outputs": [],
   "metadata": {}
  },
  {
   "cell_type": "code",
   "execution_count": 28,
   "source": [
    "# training using tfidf ngram vectorizer\n",
    "for classifier in [sgd, lr, svc]:\n",
    "    train_model(classifier, X_train, y_train, X_test, y_test)"
   ],
   "outputs": [
    {
     "name": "stdout",
     "output_type": "stream",
     "text": [
      "Classifier:  SGDClassifier\n",
      "Accuracy Score: 0.5062158627586737\n",
      "-----------------------------------\n",
      "Classifier:  LogisticRegression\n",
      "Accuracy Score: 0.5630202323255634\n",
      "-----------------------------------\n",
      "Classifier:  LinearSVC\n",
      "Accuracy Score: 0.5491114701130856\n",
      "-----------------------------------\n"
     ]
    }
   ],
   "metadata": {}
  },
  {
   "cell_type": "markdown",
   "source": [
    "# Inference over examples without tags"
   ],
   "metadata": {}
  },
  {
   "cell_type": "code",
   "execution_count": 29,
   "source": [
    "df_inference = pd.read_csv(\"../data/test_data_cleaned_v01.csv\")\n",
    "df_inference['idauthor'] = df_inference['idauthor'].apply(lambda authors: ast.literal_eval(authors)[0])\n",
    "df_inference.head()"
   ],
   "outputs": [
    {
     "data": {
      "text/plain": "                                                title_x         idpaper_2  \\\n1012  the cyclically of sales, regular and effective...  1201510539931029   \n1500      the econometrics of ultra-high-frequency data       22000681122   \n1501  a three-step method for choosing the number of...      220006812351   \n1502  latent separability: grouping goods without we...      220006815384   \n1503                          bargaining and reputation     2200068185117   \n\n                       journal  journal_num  year  month  volume  issue  \\\n1012  American Economic Review            1  2015  March     105      3   \n1500              Econometrica            2  2000    NaN      68      1   \n1501              Econometrica            2  2000    NaN      68      1   \n1502              Econometrica            2  2000    NaN      68      1   \n1503              Econometrica            2  2000    NaN      68      1   \n\n           idpaper  jelcodes  ... jel_dummy_N jel_dummy_O  jel_dummy_P  \\\n1012  1.200000e+11       NaN  ...           0           0            0   \n1500  2.200068e+08       NaN  ...           0           0            0   \n1501  2.200068e+09       NaN  ...           0           0            0   \n1502  2.200068e+09       NaN  ...           0           0            0   \n1503  2.200068e+09       NaN  ...           0           0            0   \n\n      jel_dummy_Q  jel_dummy_R  jel_dummy_Y jel_dummy_Z  \\\n1012            0            0            0           0   \n1500            0            0            0           0   \n1501            0            0            0           0   \n1502            0            0            0           0   \n1503            0            0            0           0   \n\n                                               all_text  \\\n1012  the cyclically of sales, regular and effective...   \n1500  the econometrics of ultra-high-frequency data ...   \n1501  a three-step method for choosing the number of...   \n1502  latent separability: grouping goods without we...   \n1503  bargaining and reputation The paper develops a...   \n\n                                       cleaned_abstract  \\\n1012  study cyclical properties sales  regular price...   \n1500  ultra-high-frequency data define full record t...   \n1501  consider problem choose number bootstrap repet...   \n1502  develop new concept separability overlap group...   \n1503  develop reputation base theory bargain  idea i...   \n\n                                       cleaned_all_text  \n1012  cyclically sales  regular effective price  bus...  \n1500  econometrics ultra-high-frequency data ultra-h...  \n1501  three-step method choose number bootstrap repe...  \n1502  latent separability  group goods without weak ...  \n1503  bargain reputation develop reputation base the...  \n\n[5 rows x 73 columns]",
      "text/html": "<div>\n<style scoped>\n    .dataframe tbody tr th:only-of-type {\n        vertical-align: middle;\n    }\n\n    .dataframe tbody tr th {\n        vertical-align: top;\n    }\n\n    .dataframe thead th {\n        text-align: right;\n    }\n</style>\n<table border=\"1\" class=\"dataframe\">\n  <thead>\n    <tr style=\"text-align: right;\">\n      <th></th>\n      <th>title_x</th>\n      <th>idpaper_2</th>\n      <th>journal</th>\n      <th>journal_num</th>\n      <th>year</th>\n      <th>month</th>\n      <th>volume</th>\n      <th>issue</th>\n      <th>idpaper</th>\n      <th>jelcodes</th>\n      <th>...</th>\n      <th>jel_dummy_N</th>\n      <th>jel_dummy_O</th>\n      <th>jel_dummy_P</th>\n      <th>jel_dummy_Q</th>\n      <th>jel_dummy_R</th>\n      <th>jel_dummy_Y</th>\n      <th>jel_dummy_Z</th>\n      <th>all_text</th>\n      <th>cleaned_abstract</th>\n      <th>cleaned_all_text</th>\n    </tr>\n  </thead>\n  <tbody>\n    <tr>\n      <th>1012</th>\n      <td>the cyclically of sales, regular and effective...</td>\n      <td>1201510539931029</td>\n      <td>American Economic Review</td>\n      <td>1</td>\n      <td>2015</td>\n      <td>March</td>\n      <td>105</td>\n      <td>3</td>\n      <td>1.200000e+11</td>\n      <td>NaN</td>\n      <td>...</td>\n      <td>0</td>\n      <td>0</td>\n      <td>0</td>\n      <td>0</td>\n      <td>0</td>\n      <td>0</td>\n      <td>0</td>\n      <td>the cyclically of sales, regular and effective...</td>\n      <td>study cyclical properties sales  regular price...</td>\n      <td>cyclically sales  regular effective price  bus...</td>\n    </tr>\n    <tr>\n      <th>1500</th>\n      <td>the econometrics of ultra-high-frequency data</td>\n      <td>22000681122</td>\n      <td>Econometrica</td>\n      <td>2</td>\n      <td>2000</td>\n      <td>NaN</td>\n      <td>68</td>\n      <td>1</td>\n      <td>2.200068e+08</td>\n      <td>NaN</td>\n      <td>...</td>\n      <td>0</td>\n      <td>0</td>\n      <td>0</td>\n      <td>0</td>\n      <td>0</td>\n      <td>0</td>\n      <td>0</td>\n      <td>the econometrics of ultra-high-frequency data ...</td>\n      <td>ultra-high-frequency data define full record t...</td>\n      <td>econometrics ultra-high-frequency data ultra-h...</td>\n    </tr>\n    <tr>\n      <th>1501</th>\n      <td>a three-step method for choosing the number of...</td>\n      <td>220006812351</td>\n      <td>Econometrica</td>\n      <td>2</td>\n      <td>2000</td>\n      <td>NaN</td>\n      <td>68</td>\n      <td>1</td>\n      <td>2.200068e+09</td>\n      <td>NaN</td>\n      <td>...</td>\n      <td>0</td>\n      <td>0</td>\n      <td>0</td>\n      <td>0</td>\n      <td>0</td>\n      <td>0</td>\n      <td>0</td>\n      <td>a three-step method for choosing the number of...</td>\n      <td>consider problem choose number bootstrap repet...</td>\n      <td>three-step method choose number bootstrap repe...</td>\n    </tr>\n    <tr>\n      <th>1502</th>\n      <td>latent separability: grouping goods without we...</td>\n      <td>220006815384</td>\n      <td>Econometrica</td>\n      <td>2</td>\n      <td>2000</td>\n      <td>NaN</td>\n      <td>68</td>\n      <td>1</td>\n      <td>2.200068e+09</td>\n      <td>NaN</td>\n      <td>...</td>\n      <td>0</td>\n      <td>0</td>\n      <td>0</td>\n      <td>0</td>\n      <td>0</td>\n      <td>0</td>\n      <td>0</td>\n      <td>latent separability: grouping goods without we...</td>\n      <td>develop new concept separability overlap group...</td>\n      <td>latent separability  group goods without weak ...</td>\n    </tr>\n    <tr>\n      <th>1503</th>\n      <td>bargaining and reputation</td>\n      <td>2200068185117</td>\n      <td>Econometrica</td>\n      <td>2</td>\n      <td>2000</td>\n      <td>NaN</td>\n      <td>68</td>\n      <td>1</td>\n      <td>2.200068e+09</td>\n      <td>NaN</td>\n      <td>...</td>\n      <td>0</td>\n      <td>0</td>\n      <td>0</td>\n      <td>0</td>\n      <td>0</td>\n      <td>0</td>\n      <td>0</td>\n      <td>bargaining and reputation The paper develops a...</td>\n      <td>develop reputation base theory bargain  idea i...</td>\n      <td>bargain reputation develop reputation base the...</td>\n    </tr>\n  </tbody>\n</table>\n<p>5 rows × 73 columns</p>\n</div>"
     },
     "execution_count": 29,
     "metadata": {},
     "output_type": "execute_result"
    }
   ],
   "metadata": {}
  },
  {
   "cell_type": "code",
   "execution_count": 30,
   "source": [
    "df_inference_merged = df_inference.merge(authors_graphframe, on='idauthor', how='left')\n",
    "df_inference_merge_non_connected = df_inference_merged[df_inference_merged.hasConnection.astype(str) == 'nan']\n",
    "df_inference_merged_connected = df_inference_merged[df_inference_merged.hasConnection.astype(str) != 'nan']\n",
    "df_inference_merged_connected.tail()"
   ],
   "outputs": [
    {
     "data": {
      "text/plain": "                                                title_x         idpaper_2  \\\n1852  taxation and labour supply of married couples ...  5201885315431576   \n1855   social networks and the process of globalization  5201885317161751   \n1858            moral hazard and the optimality of debt  5201885422142252   \n1860  international shocks, variable markups, and do...  5201986623562402   \n1861  government debt management: the long and the s...  5201986625542604   \n\n                             journal  journal_num  year     month  volume  \\\n1852  The Review of Economic Studies            5  2018      July      85   \n1855  The Review of Economic Studies            5  2018      July      85   \n1858  The Review of Economic Studies            5  2018   October      85   \n1860  The Review of Economic Studies            5  2019  November      86   \n1861  The Review of Economic Studies            5  2019  November      86   \n\n      issue       idpaper  jelcodes  ... jel_dummy_R jel_dummy_Y  jel_dummy_Z  \\\n1852      3  5.200000e+11       NaN  ...           0           0            0   \n1855      3  5.200000e+11       NaN  ...           0           0            0   \n1858      4  5.200000e+11       NaN  ...           0           0            0   \n1860      6  5.200000e+11       NaN  ...           0           0            0   \n1861      6  5.200000e+11       NaN  ...           0           0            0   \n\n                                               all_text  \\\n1852  taxation and labour supply of married couples ...   \n1855  social networks and the process of globalizati...   \n1858  moral hazard and the optimality of debt I show...   \n1860  international shocks, variable markups, and do...   \n1861  government debt management: the long and the s...   \n\n                                       cleaned_abstract  \\\n1852  document contemporaneous differences aggregate...   \n1855  propose stylize dynamic understand role social...   \n1858  show  benchmark  debt securities minimize welf...   \n1860  strong strategic complementarities price set a...   \n1861  standard optimal debt management ( dm ) model ...   \n\n                                       cleaned_all_text                tags  \\\n1852  taxation labour supply marry couple across cou...           [O, E, J]   \n1855  social network process globalization propose s...        [Z, C, L, D]   \n1858  hazard optimality debt show  benchmark  debt s...        [F, O, G, D]   \n1860  international shock  variable markups  domesti...        [F, O, L, D]   \n1861  government debt management  long short standar...  [G, K, E, C, L, D]   \n\n                                          hasConnection  \\\n1852                                   [p01208, p03919]   \n1855                   [p00279, p03578, p04744, p03157]   \n1858                                           [p02477]   \n1860                                   [p03531, p03995]   \n1861  [p04410, p03033, p02561, p02845, p02826, p0442...   \n\n                            level1_tags  \\\n1852                    [O, J, R, E, D]   \n1855  [P, O, J, F, Z, G, K, H, C, L, D]   \n1858                       [F, O, G, D]   \n1860              [O, J, F, G, E, L, D]   \n1861     [O, J, L, G, K, E, H, C, N, D]   \n\n                                             coded_tags  \n1852  [0, 1, 1, 0, 0, 0, 0, 1, 0, 0, 0, 0, 1, 0, 0, ...  \n1855  [1, 1, 0, 1, 1, 1, 0, 1, 1, 1, 0, 0, 1, 1, 0, ...  \n1858  [0, 1, 0, 1, 1, 0, 0, 0, 0, 0, 0, 0, 1, 0, 0, ...  \n1860  [0, 1, 1, 1, 1, 0, 0, 1, 0, 1, 0, 0, 1, 0, 0, ...  \n1861  [1, 1, 1, 0, 1, 1, 0, 1, 1, 1, 0, 1, 1, 0, 0, ...  \n\n[5 rows x 77 columns]",
      "text/html": "<div>\n<style scoped>\n    .dataframe tbody tr th:only-of-type {\n        vertical-align: middle;\n    }\n\n    .dataframe tbody tr th {\n        vertical-align: top;\n    }\n\n    .dataframe thead th {\n        text-align: right;\n    }\n</style>\n<table border=\"1\" class=\"dataframe\">\n  <thead>\n    <tr style=\"text-align: right;\">\n      <th></th>\n      <th>title_x</th>\n      <th>idpaper_2</th>\n      <th>journal</th>\n      <th>journal_num</th>\n      <th>year</th>\n      <th>month</th>\n      <th>volume</th>\n      <th>issue</th>\n      <th>idpaper</th>\n      <th>jelcodes</th>\n      <th>...</th>\n      <th>jel_dummy_R</th>\n      <th>jel_dummy_Y</th>\n      <th>jel_dummy_Z</th>\n      <th>all_text</th>\n      <th>cleaned_abstract</th>\n      <th>cleaned_all_text</th>\n      <th>tags</th>\n      <th>hasConnection</th>\n      <th>level1_tags</th>\n      <th>coded_tags</th>\n    </tr>\n  </thead>\n  <tbody>\n    <tr>\n      <th>1852</th>\n      <td>taxation and labour supply of married couples ...</td>\n      <td>5201885315431576</td>\n      <td>The Review of Economic Studies</td>\n      <td>5</td>\n      <td>2018</td>\n      <td>July</td>\n      <td>85</td>\n      <td>3</td>\n      <td>5.200000e+11</td>\n      <td>NaN</td>\n      <td>...</td>\n      <td>0</td>\n      <td>0</td>\n      <td>0</td>\n      <td>taxation and labour supply of married couples ...</td>\n      <td>document contemporaneous differences aggregate...</td>\n      <td>taxation labour supply marry couple across cou...</td>\n      <td>[O, E, J]</td>\n      <td>[p01208, p03919]</td>\n      <td>[O, J, R, E, D]</td>\n      <td>[0, 1, 1, 0, 0, 0, 0, 1, 0, 0, 0, 0, 1, 0, 0, ...</td>\n    </tr>\n    <tr>\n      <th>1855</th>\n      <td>social networks and the process of globalization</td>\n      <td>5201885317161751</td>\n      <td>The Review of Economic Studies</td>\n      <td>5</td>\n      <td>2018</td>\n      <td>July</td>\n      <td>85</td>\n      <td>3</td>\n      <td>5.200000e+11</td>\n      <td>NaN</td>\n      <td>...</td>\n      <td>0</td>\n      <td>0</td>\n      <td>0</td>\n      <td>social networks and the process of globalizati...</td>\n      <td>propose stylize dynamic understand role social...</td>\n      <td>social network process globalization propose s...</td>\n      <td>[Z, C, L, D]</td>\n      <td>[p00279, p03578, p04744, p03157]</td>\n      <td>[P, O, J, F, Z, G, K, H, C, L, D]</td>\n      <td>[1, 1, 0, 1, 1, 1, 0, 1, 1, 1, 0, 0, 1, 1, 0, ...</td>\n    </tr>\n    <tr>\n      <th>1858</th>\n      <td>moral hazard and the optimality of debt</td>\n      <td>5201885422142252</td>\n      <td>The Review of Economic Studies</td>\n      <td>5</td>\n      <td>2018</td>\n      <td>October</td>\n      <td>85</td>\n      <td>4</td>\n      <td>5.200000e+11</td>\n      <td>NaN</td>\n      <td>...</td>\n      <td>0</td>\n      <td>0</td>\n      <td>0</td>\n      <td>moral hazard and the optimality of debt I show...</td>\n      <td>show  benchmark  debt securities minimize welf...</td>\n      <td>hazard optimality debt show  benchmark  debt s...</td>\n      <td>[F, O, G, D]</td>\n      <td>[p02477]</td>\n      <td>[F, O, G, D]</td>\n      <td>[0, 1, 0, 1, 1, 0, 0, 0, 0, 0, 0, 0, 1, 0, 0, ...</td>\n    </tr>\n    <tr>\n      <th>1860</th>\n      <td>international shocks, variable markups, and do...</td>\n      <td>5201986623562402</td>\n      <td>The Review of Economic Studies</td>\n      <td>5</td>\n      <td>2019</td>\n      <td>November</td>\n      <td>86</td>\n      <td>6</td>\n      <td>5.200000e+11</td>\n      <td>NaN</td>\n      <td>...</td>\n      <td>0</td>\n      <td>0</td>\n      <td>0</td>\n      <td>international shocks, variable markups, and do...</td>\n      <td>strong strategic complementarities price set a...</td>\n      <td>international shock  variable markups  domesti...</td>\n      <td>[F, O, L, D]</td>\n      <td>[p03531, p03995]</td>\n      <td>[O, J, F, G, E, L, D]</td>\n      <td>[0, 1, 1, 1, 1, 0, 0, 1, 0, 1, 0, 0, 1, 0, 0, ...</td>\n    </tr>\n    <tr>\n      <th>1861</th>\n      <td>government debt management: the long and the s...</td>\n      <td>5201986625542604</td>\n      <td>The Review of Economic Studies</td>\n      <td>5</td>\n      <td>2019</td>\n      <td>November</td>\n      <td>86</td>\n      <td>6</td>\n      <td>5.200000e+11</td>\n      <td>NaN</td>\n      <td>...</td>\n      <td>0</td>\n      <td>0</td>\n      <td>0</td>\n      <td>government debt management: the long and the s...</td>\n      <td>standard optimal debt management ( dm ) model ...</td>\n      <td>government debt management  long short standar...</td>\n      <td>[G, K, E, C, L, D]</td>\n      <td>[p04410, p03033, p02561, p02845, p02826, p0442...</td>\n      <td>[O, J, L, G, K, E, H, C, N, D]</td>\n      <td>[1, 1, 1, 0, 1, 1, 0, 1, 1, 1, 0, 1, 1, 0, 0, ...</td>\n    </tr>\n  </tbody>\n</table>\n<p>5 rows × 77 columns</p>\n</div>"
     },
     "execution_count": 30,
     "metadata": {},
     "output_type": "execute_result"
    }
   ],
   "metadata": {}
  },
  {
   "cell_type": "code",
   "execution_count": 31,
   "source": [
    "# Auxiliary JEL codes from co-authors\n",
    "aid_tags_inference = df_inference_merged_connected.coded_tags.to_list()\n",
    "aid_tags_inference = np.asarray(aid_tags_inference)\n",
    "aid_tags_inference.shape"
   ],
   "outputs": [
    {
     "data": {
      "text/plain": "(1196, 17)"
     },
     "execution_count": 31,
     "metadata": {},
     "output_type": "execute_result"
    }
   ],
   "metadata": {}
  },
  {
   "cell_type": "code",
   "execution_count": 32,
   "source": [
    "inference_data = tfidf_vect_ngram.transform(df_inference_merged_connected['cleaned_all_text'].values)\n",
    "inference_data_not_connected = tfidf_vect_ngram.transform(df_inference_merge_non_connected['cleaned_all_text'].values)\n",
    "inference_data = hstack((inference_data,  aid_tags_inference))"
   ],
   "outputs": [],
   "metadata": {}
  },
  {
   "cell_type": "code",
   "execution_count": 33,
   "source": [
    "\n",
    "clf = ClassifierChain(LogisticRegression(class_weight='balanced'))\n",
    "clf2 = ClassifierChain(LogisticRegression(class_weight='balanced'))\n",
    "\n",
    "clf.fit(X_train, y_train)\n",
    "clf2.fit(X_train[:,:-17], y_train)\n",
    "# predict the labels on test set\n",
    "\n",
    "predictions = clf.predict(inference_data)\n",
    "predictions_not_connected = clf2.predict(inference_data_not_connected)"
   ],
   "outputs": [
    {
     "name": "stderr",
     "output_type": "stream",
     "text": [
      "C:\\Users\\marce\\Anaconda3\\lib\\site-packages\\sklearn\\linear_model\\_logistic.py:762: ConvergenceWarning: lbfgs failed to converge (status=1):\n",
      "STOP: TOTAL NO. of ITERATIONS REACHED LIMIT.\n",
      "\n",
      "Increase the number of iterations (max_iter) or scale the data as shown in:\n",
      "    https://scikit-learn.org/stable/modules/preprocessing.html\n",
      "Please also refer to the documentation for alternative solver options:\n",
      "    https://scikit-learn.org/stable/modules/linear_model.html#logistic-regression\n",
      "  n_iter_i = _check_optimize_result(\n"
     ]
    }
   ],
   "metadata": {}
  },
  {
   "cell_type": "code",
   "execution_count": 34,
   "source": [
    "predictions[:4]"
   ],
   "outputs": [
    {
     "data": {
      "text/plain": "array([[1., 0., 0., 0., 0., 0., 0., 0., 0., 0., 0., 0., 0., 0., 0., 0.,\n        0.],\n       [1., 1., 0., 0., 0., 0., 0., 0., 0., 0., 0., 0., 0., 0., 0., 0.,\n        1.],\n       [1., 1., 0., 0., 0., 0., 0., 0., 0., 0., 0., 0., 0., 0., 0., 0.,\n        0.],\n       [0., 0., 1., 0., 0., 1., 0., 0., 0., 0., 0., 0., 0., 0., 0., 0.,\n        0.]])"
     },
     "execution_count": 34,
     "metadata": {},
     "output_type": "execute_result"
    }
   ],
   "metadata": {}
  },
  {
   "cell_type": "code",
   "execution_count": 35,
   "source": [
    "pred_tags = multilabel.inverse_transform(predictions)\n",
    "pred_tags_not_connected = multilabel.inverse_transform(predictions_not_connected)\n",
    "pred_tags = list(map(lambda tup: list(tup), pred_tags))\n",
    "pred_tags_not_connected = list(map(lambda tup: list(tup), pred_tags_not_connected))\n",
    "pred_tags[:4]"
   ],
   "outputs": [
    {
     "data": {
      "text/plain": "[['C'], ['C', 'D', 'Z'], ['C', 'D'], ['E', 'H']]"
     },
     "execution_count": 35,
     "metadata": {},
     "output_type": "execute_result"
    }
   ],
   "metadata": {}
  },
  {
   "cell_type": "code",
   "execution_count": 36,
   "source": [
    "df_inference_merged_connected['tags'] = pred_tags\n",
    "df_inference_merge_non_connected['tags'] = pred_tags_not_connected"
   ],
   "outputs": [
    {
     "name": "stderr",
     "output_type": "stream",
     "text": [
      "<ipython-input-36-901cea228f90>:1: SettingWithCopyWarning: \n",
      "A value is trying to be set on a copy of a slice from a DataFrame.\n",
      "Try using .loc[row_indexer,col_indexer] = value instead\n",
      "\n",
      "See the caveats in the documentation: https://pandas.pydata.org/pandas-docs/stable/user_guide/indexing.html#returning-a-view-versus-a-copy\n",
      "  df_inference_merged_connected['tags'] = pred_tags\n",
      "<ipython-input-36-901cea228f90>:2: SettingWithCopyWarning: \n",
      "A value is trying to be set on a copy of a slice from a DataFrame.\n",
      "Try using .loc[row_indexer,col_indexer] = value instead\n",
      "\n",
      "See the caveats in the documentation: https://pandas.pydata.org/pandas-docs/stable/user_guide/indexing.html#returning-a-view-versus-a-copy\n",
      "  df_inference_merge_non_connected['tags'] = pred_tags_not_connected\n"
     ]
    }
   ],
   "metadata": {}
  },
  {
   "cell_type": "code",
   "execution_count": 37,
   "source": [
    "df_final_preds = pd.concat((df_inference_merged_connected, df_inference_merge_non_connected), axis=0)\n",
    "df_final_preds['JEL_flag'] = [0]*len(df_final_preds)\n",
    "\n",
    "df = pd.read_csv(\"../data/traning_data_cleaned_v03.csv\")\n",
    "df['JEL_flag'] = [1]*len(df)\n",
    "\n",
    "df_final_preds = df_final_preds[df.columns]\n",
    "print(len(df_final_preds))\n",
    "df_final_preds.head()"
   ],
   "outputs": [
    {
     "name": "stdout",
     "output_type": "stream",
     "text": [
      "1862\n"
     ]
    },
    {
     "data": {
      "text/plain": "                                             title_x  \\\n2  a three-step method for choosing the number of...   \n3  latent separability: grouping goods without we...   \n4                          bargaining and reputation   \n6                              inflation and welfare   \n8    mechanism design with collusion and correlation   \n\n                                            abstract       tags idauthor  \\\n2  This paper considers the problem of choosing t...        [C]   p01353   \n3  This paper develops a new concept of separabil...  [C, D, Z]   p02402   \n4  The paper develops a reputation based theory o...     [C, D]   p01321   \n6  This paper surveys research on the welfare cos...     [E, H]   p04556   \n8  In a public good environment with positively c...        [D]   p01219   \n\n                                            all_text  \\\n2  a three-step method for choosing the number of...   \n3  latent separability: grouping goods without we...   \n4  bargaining and reputation The paper develops a...   \n6  inflation and welfare This paper surveys resea...   \n8  mechanism design with collusion and correlatio...   \n\n                                    cleaned_abstract  \\\n2  consider problem choose number bootstrap repet...   \n3  develop new concept separability overlap group...   \n4  develop reputation base theory bargain  idea i...   \n6  survey research welfare cost inflation  new es...   \n8  public good environment positively correlate t...   \n\n                                    cleaned_all_text  JEL_flag  \n2  three-step method choose number bootstrap repe...         0  \n3  latent separability  group goods without weak ...         0  \n4  bargain reputation develop reputation base the...         0  \n6  inflation welfare survey research welfare cost...         0  \n8  mechanism design collusion correlation public ...         0  ",
      "text/html": "<div>\n<style scoped>\n    .dataframe tbody tr th:only-of-type {\n        vertical-align: middle;\n    }\n\n    .dataframe tbody tr th {\n        vertical-align: top;\n    }\n\n    .dataframe thead th {\n        text-align: right;\n    }\n</style>\n<table border=\"1\" class=\"dataframe\">\n  <thead>\n    <tr style=\"text-align: right;\">\n      <th></th>\n      <th>title_x</th>\n      <th>abstract</th>\n      <th>tags</th>\n      <th>idauthor</th>\n      <th>all_text</th>\n      <th>cleaned_abstract</th>\n      <th>cleaned_all_text</th>\n      <th>JEL_flag</th>\n    </tr>\n  </thead>\n  <tbody>\n    <tr>\n      <th>2</th>\n      <td>a three-step method for choosing the number of...</td>\n      <td>This paper considers the problem of choosing t...</td>\n      <td>[C]</td>\n      <td>p01353</td>\n      <td>a three-step method for choosing the number of...</td>\n      <td>consider problem choose number bootstrap repet...</td>\n      <td>three-step method choose number bootstrap repe...</td>\n      <td>0</td>\n    </tr>\n    <tr>\n      <th>3</th>\n      <td>latent separability: grouping goods without we...</td>\n      <td>This paper develops a new concept of separabil...</td>\n      <td>[C, D, Z]</td>\n      <td>p02402</td>\n      <td>latent separability: grouping goods without we...</td>\n      <td>develop new concept separability overlap group...</td>\n      <td>latent separability  group goods without weak ...</td>\n      <td>0</td>\n    </tr>\n    <tr>\n      <th>4</th>\n      <td>bargaining and reputation</td>\n      <td>The paper develops a reputation based theory o...</td>\n      <td>[C, D]</td>\n      <td>p01321</td>\n      <td>bargaining and reputation The paper develops a...</td>\n      <td>develop reputation base theory bargain  idea i...</td>\n      <td>bargain reputation develop reputation base the...</td>\n      <td>0</td>\n    </tr>\n    <tr>\n      <th>6</th>\n      <td>inflation and welfare</td>\n      <td>This paper surveys research on the welfare cos...</td>\n      <td>[E, H]</td>\n      <td>p04556</td>\n      <td>inflation and welfare This paper surveys resea...</td>\n      <td>survey research welfare cost inflation  new es...</td>\n      <td>inflation welfare survey research welfare cost...</td>\n      <td>0</td>\n    </tr>\n    <tr>\n      <th>8</th>\n      <td>mechanism design with collusion and correlation</td>\n      <td>In a public good environment with positively c...</td>\n      <td>[D]</td>\n      <td>p01219</td>\n      <td>mechanism design with collusion and correlatio...</td>\n      <td>public good environment positively correlate t...</td>\n      <td>mechanism design collusion correlation public ...</td>\n      <td>0</td>\n    </tr>\n  </tbody>\n</table>\n</div>"
     },
     "execution_count": 37,
     "metadata": {},
     "output_type": "execute_result"
    }
   ],
   "metadata": {}
  },
  {
   "cell_type": "code",
   "execution_count": 38,
   "source": [
    "df_whole = pd.concat((df, df_final_preds), axis=0)\n",
    "print(len(df_whole))\n",
    "df_whole.head()"
   ],
   "outputs": [
    {
     "name": "stdout",
     "output_type": "stream",
     "text": [
      "4988\n"
     ]
    },
    {
     "data": {
      "text/plain": "                                             title_x  \\\n0     optimal adoption of complementary technologies   \n1  collateral damage: effects of the japanese ban...   \n2  endogenous inequality in integrated labor mark...   \n3  labor-market integration, investment in risky ...   \n4  unequal societies: income distribution and the...   \n\n                                            abstract                  tags  \\\n0  When a production process requires two extreme...  ['O', 'D', 'G', 'E']   \n1  The Japanese banking crisis provides a natural...            ['G', 'E']   \n2  We consider a market with red and green worker...                 ['J']   \n3  This paper presents a general-equilibrium mode...            ['J', 'R']   \n4  This paper develops a theory of inequality and...  ['P', 'E', 'I', 'D']   \n\n                         idauthor  \\\n0            ['p00681', 'p01338']   \n1            ['p01546', 'p02544']   \n2  ['p00544', 'p01874', 'p03092']   \n3                      ['p01266']   \n4                      ['p04639']   \n\n                                            all_text  \\\n0  optimal adoption of complementary technologies...   \n1  collateral damage: effects of the japanese ban...   \n2  endogenous inequality in integrated labor mark...   \n3  labor-market integration, investment in risky ...   \n4  unequal societies: income distribution and the...   \n\n                                    cleaned_abstract  \\\n0  production process require two extremely compl...   \n1  japanese bank crisis provide natural experimen...   \n2  consider market red green workers  label payof...   \n3  present general-equilibrium human capital inve...   \n4  develop theory inequality social contract aim ...   \n\n                                    cleaned_all_text  JEL_flag  \n0  optimal adoption complementary technologies pr...         1  \n1  collateral damage  effect japanese bank crisis...         1  \n2  endogenous inequality integrate labor market t...         1  \n3  labor-market integration  investment risky hum...         1  \n4  unequal societies  income distribution social ...         1  ",
      "text/html": "<div>\n<style scoped>\n    .dataframe tbody tr th:only-of-type {\n        vertical-align: middle;\n    }\n\n    .dataframe tbody tr th {\n        vertical-align: top;\n    }\n\n    .dataframe thead th {\n        text-align: right;\n    }\n</style>\n<table border=\"1\" class=\"dataframe\">\n  <thead>\n    <tr style=\"text-align: right;\">\n      <th></th>\n      <th>title_x</th>\n      <th>abstract</th>\n      <th>tags</th>\n      <th>idauthor</th>\n      <th>all_text</th>\n      <th>cleaned_abstract</th>\n      <th>cleaned_all_text</th>\n      <th>JEL_flag</th>\n    </tr>\n  </thead>\n  <tbody>\n    <tr>\n      <th>0</th>\n      <td>optimal adoption of complementary technologies</td>\n      <td>When a production process requires two extreme...</td>\n      <td>['O', 'D', 'G', 'E']</td>\n      <td>['p00681', 'p01338']</td>\n      <td>optimal adoption of complementary technologies...</td>\n      <td>production process require two extremely compl...</td>\n      <td>optimal adoption complementary technologies pr...</td>\n      <td>1</td>\n    </tr>\n    <tr>\n      <th>1</th>\n      <td>collateral damage: effects of the japanese ban...</td>\n      <td>The Japanese banking crisis provides a natural...</td>\n      <td>['G', 'E']</td>\n      <td>['p01546', 'p02544']</td>\n      <td>collateral damage: effects of the japanese ban...</td>\n      <td>japanese bank crisis provide natural experimen...</td>\n      <td>collateral damage  effect japanese bank crisis...</td>\n      <td>1</td>\n    </tr>\n    <tr>\n      <th>2</th>\n      <td>endogenous inequality in integrated labor mark...</td>\n      <td>We consider a market with red and green worker...</td>\n      <td>['J']</td>\n      <td>['p00544', 'p01874', 'p03092']</td>\n      <td>endogenous inequality in integrated labor mark...</td>\n      <td>consider market red green workers  label payof...</td>\n      <td>endogenous inequality integrate labor market t...</td>\n      <td>1</td>\n    </tr>\n    <tr>\n      <th>3</th>\n      <td>labor-market integration, investment in risky ...</td>\n      <td>This paper presents a general-equilibrium mode...</td>\n      <td>['J', 'R']</td>\n      <td>['p01266']</td>\n      <td>labor-market integration, investment in risky ...</td>\n      <td>present general-equilibrium human capital inve...</td>\n      <td>labor-market integration  investment risky hum...</td>\n      <td>1</td>\n    </tr>\n    <tr>\n      <th>4</th>\n      <td>unequal societies: income distribution and the...</td>\n      <td>This paper develops a theory of inequality and...</td>\n      <td>['P', 'E', 'I', 'D']</td>\n      <td>['p04639']</td>\n      <td>unequal societies: income distribution and the...</td>\n      <td>develop theory inequality social contract aim ...</td>\n      <td>unequal societies  income distribution social ...</td>\n      <td>1</td>\n    </tr>\n  </tbody>\n</table>\n</div>"
     },
     "execution_count": 38,
     "metadata": {},
     "output_type": "execute_result"
    }
   ],
   "metadata": {}
  },
  {
   "cell_type": "code",
   "execution_count": 39,
   "source": [
    "df_whole.to_csv(\"../data/all_papers.csv\")\n"
   ],
   "outputs": [],
   "metadata": {
    "pycharm": {
     "name": "#%%\n"
    }
   }
  },
  {
   "cell_type": "code",
   "execution_count": 40,
   "outputs": [
    {
     "data": {
      "text/plain": "   Column1                                            title_x      idpaper_2  \\\n0        0     optimal adoption of complementary technologies   120009011529   \n1        1  collateral damage: effects of the japanese ban...   120009013045   \n2        2  endogenous inequality in integrated labor mark...   120009014672   \n3        3  labor-market integration, investment in risky ...   120009017395   \n4        4  unequal societies: income distribution and the...  1200090196129   \n\n                    journal  journal_num  year  month  volume  issue  \\\n0  American Economic Review            1  2000  March      90      1   \n1  American Economic Review            1  2000  March      90      1   \n2  American Economic Review            1  2000  March      90      1   \n3  American Economic Review            1  2000  March      90      1   \n4  American Economic Review            1  2000  March      90      1   \n\n        idpaper  ... jel_dummy_K jel_dummy_L jel_dummy_M  jel_dummy_N  \\\n0  1.200090e+09  ...           0           0           0            0   \n1  1.200090e+09  ...           0           0           0            0   \n2  1.200090e+09  ...           0           0           0            0   \n3  1.200090e+09  ...           0           0           0            0   \n4  1.200090e+09  ...           0           0           0            0   \n\n   jel_dummy_O  jel_dummy_P  jel_dummy_Q jel_dummy_R jel_dummy_Y  jel_dummy_Z  \n0            1            0            0           0           0            0  \n1            0            0            0           0           0            0  \n2            0            0            0           0           0            0  \n3            0            0            0           1           0            0  \n4            0            1            0           0           0            0  \n\n[5 rows x 71 columns]",
      "text/html": "<div>\n<style scoped>\n    .dataframe tbody tr th:only-of-type {\n        vertical-align: middle;\n    }\n\n    .dataframe tbody tr th {\n        vertical-align: top;\n    }\n\n    .dataframe thead th {\n        text-align: right;\n    }\n</style>\n<table border=\"1\" class=\"dataframe\">\n  <thead>\n    <tr style=\"text-align: right;\">\n      <th></th>\n      <th>Column1</th>\n      <th>title_x</th>\n      <th>idpaper_2</th>\n      <th>journal</th>\n      <th>journal_num</th>\n      <th>year</th>\n      <th>month</th>\n      <th>volume</th>\n      <th>issue</th>\n      <th>idpaper</th>\n      <th>...</th>\n      <th>jel_dummy_K</th>\n      <th>jel_dummy_L</th>\n      <th>jel_dummy_M</th>\n      <th>jel_dummy_N</th>\n      <th>jel_dummy_O</th>\n      <th>jel_dummy_P</th>\n      <th>jel_dummy_Q</th>\n      <th>jel_dummy_R</th>\n      <th>jel_dummy_Y</th>\n      <th>jel_dummy_Z</th>\n    </tr>\n  </thead>\n  <tbody>\n    <tr>\n      <th>0</th>\n      <td>0</td>\n      <td>optimal adoption of complementary technologies</td>\n      <td>120009011529</td>\n      <td>American Economic Review</td>\n      <td>1</td>\n      <td>2000</td>\n      <td>March</td>\n      <td>90</td>\n      <td>1</td>\n      <td>1.200090e+09</td>\n      <td>...</td>\n      <td>0</td>\n      <td>0</td>\n      <td>0</td>\n      <td>0</td>\n      <td>1</td>\n      <td>0</td>\n      <td>0</td>\n      <td>0</td>\n      <td>0</td>\n      <td>0</td>\n    </tr>\n    <tr>\n      <th>1</th>\n      <td>1</td>\n      <td>collateral damage: effects of the japanese ban...</td>\n      <td>120009013045</td>\n      <td>American Economic Review</td>\n      <td>1</td>\n      <td>2000</td>\n      <td>March</td>\n      <td>90</td>\n      <td>1</td>\n      <td>1.200090e+09</td>\n      <td>...</td>\n      <td>0</td>\n      <td>0</td>\n      <td>0</td>\n      <td>0</td>\n      <td>0</td>\n      <td>0</td>\n      <td>0</td>\n      <td>0</td>\n      <td>0</td>\n      <td>0</td>\n    </tr>\n    <tr>\n      <th>2</th>\n      <td>2</td>\n      <td>endogenous inequality in integrated labor mark...</td>\n      <td>120009014672</td>\n      <td>American Economic Review</td>\n      <td>1</td>\n      <td>2000</td>\n      <td>March</td>\n      <td>90</td>\n      <td>1</td>\n      <td>1.200090e+09</td>\n      <td>...</td>\n      <td>0</td>\n      <td>0</td>\n      <td>0</td>\n      <td>0</td>\n      <td>0</td>\n      <td>0</td>\n      <td>0</td>\n      <td>0</td>\n      <td>0</td>\n      <td>0</td>\n    </tr>\n    <tr>\n      <th>3</th>\n      <td>3</td>\n      <td>labor-market integration, investment in risky ...</td>\n      <td>120009017395</td>\n      <td>American Economic Review</td>\n      <td>1</td>\n      <td>2000</td>\n      <td>March</td>\n      <td>90</td>\n      <td>1</td>\n      <td>1.200090e+09</td>\n      <td>...</td>\n      <td>0</td>\n      <td>0</td>\n      <td>0</td>\n      <td>0</td>\n      <td>0</td>\n      <td>0</td>\n      <td>0</td>\n      <td>1</td>\n      <td>0</td>\n      <td>0</td>\n    </tr>\n    <tr>\n      <th>4</th>\n      <td>4</td>\n      <td>unequal societies: income distribution and the...</td>\n      <td>1200090196129</td>\n      <td>American Economic Review</td>\n      <td>1</td>\n      <td>2000</td>\n      <td>March</td>\n      <td>90</td>\n      <td>1</td>\n      <td>1.200090e+09</td>\n      <td>...</td>\n      <td>0</td>\n      <td>0</td>\n      <td>0</td>\n      <td>0</td>\n      <td>0</td>\n      <td>1</td>\n      <td>0</td>\n      <td>0</td>\n      <td>0</td>\n      <td>0</td>\n    </tr>\n  </tbody>\n</table>\n<p>5 rows × 71 columns</p>\n</div>"
     },
     "execution_count": 40,
     "metadata": {},
     "output_type": "execute_result"
    }
   ],
   "source": [
    "actual_data = pd.read_csv('../data/readpapers_up2.csv')\n",
    "actual_data.head()"
   ],
   "metadata": {
    "collapsed": false,
    "pycharm": {
     "name": "#%%\n"
    }
   }
  },
  {
   "cell_type": "code",
   "execution_count": 50,
   "outputs": [],
   "source": [
    "final_data = actual_data.merge(df_whole, how = \"left\", on = ['title_x', 'abstract'])"
   ],
   "metadata": {
    "collapsed": false,
    "pycharm": {
     "name": "#%%\n"
    }
   }
  },
  {
   "cell_type": "code",
   "execution_count": 51,
   "outputs": [
    {
     "name": "stdout",
     "output_type": "stream",
     "text": [
      "(4990, 77)\n"
     ]
    },
    {
     "data": {
      "text/plain": "   Column1                                            title_x      idpaper_2  \\\n0        0     optimal adoption of complementary technologies   120009011529   \n1        1  collateral damage: effects of the japanese ban...   120009013045   \n2        2  endogenous inequality in integrated labor mark...   120009014672   \n3        3  labor-market integration, investment in risky ...   120009017395   \n4        4  unequal societies: income distribution and the...  1200090196129   \n\n                    journal  journal_num  year  month  volume  issue  \\\n0  American Economic Review            1  2000  March      90      1   \n1  American Economic Review            1  2000  March      90      1   \n2  American Economic Review            1  2000  March      90      1   \n3  American Economic Review            1  2000  March      90      1   \n4  American Economic Review            1  2000  March      90      1   \n\n        idpaper  ... jel_dummy_Q jel_dummy_R jel_dummy_Y  jel_dummy_Z  \\\n0  1.200090e+09  ...           0           0           0            0   \n1  1.200090e+09  ...           0           0           0            0   \n2  1.200090e+09  ...           0           0           0            0   \n3  1.200090e+09  ...           0           1           0            0   \n4  1.200090e+09  ...           0           0           0            0   \n\n                   tags                      idauthor_y  \\\n0  ['O', 'D', 'G', 'E']            ['p00681', 'p01338']   \n1            ['G', 'E']            ['p01546', 'p02544']   \n2                 ['J']  ['p00544', 'p01874', 'p03092']   \n3            ['J', 'R']                      ['p01266']   \n4  ['P', 'E', 'I', 'D']                      ['p04639']   \n\n                                            all_text  \\\n0  optimal adoption of complementary technologies...   \n1  collateral damage: effects of the japanese ban...   \n2  endogenous inequality in integrated labor mark...   \n3  labor-market integration, investment in risky ...   \n4  unequal societies: income distribution and the...   \n\n                                    cleaned_abstract  \\\n0  production process require two extremely compl...   \n1  japanese bank crisis provide natural experimen...   \n2  consider market red green workers  label payof...   \n3  present general-equilibrium human capital inve...   \n4  develop theory inequality social contract aim ...   \n\n                                    cleaned_all_text  JEL_flag  \n0  optimal adoption complementary technologies pr...         1  \n1  collateral damage  effect japanese bank crisis...         1  \n2  endogenous inequality integrate labor market t...         1  \n3  labor-market integration  investment risky hum...         1  \n4  unequal societies  income distribution social ...         1  \n\n[5 rows x 77 columns]",
      "text/html": "<div>\n<style scoped>\n    .dataframe tbody tr th:only-of-type {\n        vertical-align: middle;\n    }\n\n    .dataframe tbody tr th {\n        vertical-align: top;\n    }\n\n    .dataframe thead th {\n        text-align: right;\n    }\n</style>\n<table border=\"1\" class=\"dataframe\">\n  <thead>\n    <tr style=\"text-align: right;\">\n      <th></th>\n      <th>Column1</th>\n      <th>title_x</th>\n      <th>idpaper_2</th>\n      <th>journal</th>\n      <th>journal_num</th>\n      <th>year</th>\n      <th>month</th>\n      <th>volume</th>\n      <th>issue</th>\n      <th>idpaper</th>\n      <th>...</th>\n      <th>jel_dummy_Q</th>\n      <th>jel_dummy_R</th>\n      <th>jel_dummy_Y</th>\n      <th>jel_dummy_Z</th>\n      <th>tags</th>\n      <th>idauthor_y</th>\n      <th>all_text</th>\n      <th>cleaned_abstract</th>\n      <th>cleaned_all_text</th>\n      <th>JEL_flag</th>\n    </tr>\n  </thead>\n  <tbody>\n    <tr>\n      <th>0</th>\n      <td>0</td>\n      <td>optimal adoption of complementary technologies</td>\n      <td>120009011529</td>\n      <td>American Economic Review</td>\n      <td>1</td>\n      <td>2000</td>\n      <td>March</td>\n      <td>90</td>\n      <td>1</td>\n      <td>1.200090e+09</td>\n      <td>...</td>\n      <td>0</td>\n      <td>0</td>\n      <td>0</td>\n      <td>0</td>\n      <td>['O', 'D', 'G', 'E']</td>\n      <td>['p00681', 'p01338']</td>\n      <td>optimal adoption of complementary technologies...</td>\n      <td>production process require two extremely compl...</td>\n      <td>optimal adoption complementary technologies pr...</td>\n      <td>1</td>\n    </tr>\n    <tr>\n      <th>1</th>\n      <td>1</td>\n      <td>collateral damage: effects of the japanese ban...</td>\n      <td>120009013045</td>\n      <td>American Economic Review</td>\n      <td>1</td>\n      <td>2000</td>\n      <td>March</td>\n      <td>90</td>\n      <td>1</td>\n      <td>1.200090e+09</td>\n      <td>...</td>\n      <td>0</td>\n      <td>0</td>\n      <td>0</td>\n      <td>0</td>\n      <td>['G', 'E']</td>\n      <td>['p01546', 'p02544']</td>\n      <td>collateral damage: effects of the japanese ban...</td>\n      <td>japanese bank crisis provide natural experimen...</td>\n      <td>collateral damage  effect japanese bank crisis...</td>\n      <td>1</td>\n    </tr>\n    <tr>\n      <th>2</th>\n      <td>2</td>\n      <td>endogenous inequality in integrated labor mark...</td>\n      <td>120009014672</td>\n      <td>American Economic Review</td>\n      <td>1</td>\n      <td>2000</td>\n      <td>March</td>\n      <td>90</td>\n      <td>1</td>\n      <td>1.200090e+09</td>\n      <td>...</td>\n      <td>0</td>\n      <td>0</td>\n      <td>0</td>\n      <td>0</td>\n      <td>['J']</td>\n      <td>['p00544', 'p01874', 'p03092']</td>\n      <td>endogenous inequality in integrated labor mark...</td>\n      <td>consider market red green workers  label payof...</td>\n      <td>endogenous inequality integrate labor market t...</td>\n      <td>1</td>\n    </tr>\n    <tr>\n      <th>3</th>\n      <td>3</td>\n      <td>labor-market integration, investment in risky ...</td>\n      <td>120009017395</td>\n      <td>American Economic Review</td>\n      <td>1</td>\n      <td>2000</td>\n      <td>March</td>\n      <td>90</td>\n      <td>1</td>\n      <td>1.200090e+09</td>\n      <td>...</td>\n      <td>0</td>\n      <td>1</td>\n      <td>0</td>\n      <td>0</td>\n      <td>['J', 'R']</td>\n      <td>['p01266']</td>\n      <td>labor-market integration, investment in risky ...</td>\n      <td>present general-equilibrium human capital inve...</td>\n      <td>labor-market integration  investment risky hum...</td>\n      <td>1</td>\n    </tr>\n    <tr>\n      <th>4</th>\n      <td>4</td>\n      <td>unequal societies: income distribution and the...</td>\n      <td>1200090196129</td>\n      <td>American Economic Review</td>\n      <td>1</td>\n      <td>2000</td>\n      <td>March</td>\n      <td>90</td>\n      <td>1</td>\n      <td>1.200090e+09</td>\n      <td>...</td>\n      <td>0</td>\n      <td>0</td>\n      <td>0</td>\n      <td>0</td>\n      <td>['P', 'E', 'I', 'D']</td>\n      <td>['p04639']</td>\n      <td>unequal societies: income distribution and the...</td>\n      <td>develop theory inequality social contract aim ...</td>\n      <td>unequal societies  income distribution social ...</td>\n      <td>1</td>\n    </tr>\n  </tbody>\n</table>\n<p>5 rows × 77 columns</p>\n</div>"
     },
     "execution_count": 51,
     "metadata": {},
     "output_type": "execute_result"
    }
   ],
   "source": [
    "print(final_data.shape)\n",
    "final_data.head()"
   ],
   "metadata": {
    "collapsed": false,
    "pycharm": {
     "name": "#%%\n"
    }
   }
  },
  {
   "cell_type": "code",
   "execution_count": 53,
   "outputs": [],
   "source": [
    "final_data.to_csv(\"../data/readpapers_up3.csv\", index=False)"
   ],
   "metadata": {
    "collapsed": false,
    "pycharm": {
     "name": "#%%\n"
    }
   }
  }
 ],
 "metadata": {
  "orig_nbformat": 4,
  "language_info": {
   "name": "python",
   "version": "3.8.8",
   "mimetype": "text/x-python",
   "codemirror_mode": {
    "name": "ipython",
    "version": 3
   },
   "pygments_lexer": "ipython3",
   "nbconvert_exporter": "python",
   "file_extension": ".py"
  },
  "kernelspec": {
   "name": "python3",
   "language": "python",
   "display_name": "Python 3"
  },
  "interpreter": {
   "hash": "b3ba2566441a7c06988d0923437866b63cedc61552a5af99d1f4fb67d367b25f"
  }
 },
 "nbformat": 4,
 "nbformat_minor": 2
}